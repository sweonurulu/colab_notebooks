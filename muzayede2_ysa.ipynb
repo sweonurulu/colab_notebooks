{
  "nbformat": 4,
  "nbformat_minor": 0,
  "metadata": {
    "colab": {
      "provenance": [],
      "include_colab_link": true
    },
    "kernelspec": {
      "name": "python3",
      "display_name": "Python 3"
    },
    "language_info": {
      "name": "python"
    }
  },
  "cells": [
    {
      "cell_type": "markdown",
      "metadata": {
        "id": "view-in-github",
        "colab_type": "text"
      },
      "source": [
        "<a href=\"https://colab.research.google.com/github/sweonurulu/colab_notebooks/blob/main/muzayede2_ysa.ipynb\" target=\"_parent\"><img src=\"https://colab.research.google.com/assets/colab-badge.svg\" alt=\"Open In Colab\"/></a>"
      ]
    },
    {
      "cell_type": "code",
      "execution_count": null,
      "metadata": {
        "id": "qo304PlVLs_K"
      },
      "outputs": [],
      "source": [
        "import requests\n",
        "import pandas as pd\n",
        "import numpy as np\n",
        "import re\n",
        "import datetime\n",
        "import string\n",
        "from nltk.corpus import stopwords\n",
        "import nltk\n",
        "from nltk.tokenize import word_tokenize\n",
        "from snowballstemmer import TurkishStemmer\n",
        "from gensim.models import Word2Vec\n",
        "from sklearn.model_selection import train_test_split\n",
        "from PIL import Image\n",
        "from io import BytesIO\n",
        "import tensorflow as tf\n",
        "\n",
        "\n",
        "#pd.set_option('display.max_colwidth', None)\n",
        "#pd.reset_option('display.max_colwidth')"
      ]
    },
    {
      "cell_type": "markdown",
      "source": [
        "## GET DATASET"
      ],
      "metadata": {
        "id": "ObOhy_4vv5vG"
      }
    },
    {
      "cell_type": "code",
      "source": [
        "no_of_day = 7"
      ],
      "metadata": {
        "id": "c1QsRT4NbOSn"
      },
      "execution_count": null,
      "outputs": []
    },
    {
      "cell_type": "code",
      "source": [
        "# Verileri al\n",
        "response = requests.get(\"http://95.70.184.79:3066/data/get_item_data/{0}\".format(no_of_day))"
      ],
      "metadata": {
        "id": "K9FA5xKOgDla"
      },
      "execution_count": null,
      "outputs": []
    },
    {
      "cell_type": "code",
      "source": [
        "# Yanıtın JSON verisini al\n",
        "data = response.json()"
      ],
      "metadata": {
        "id": "z-nZ-8YdhHmD"
      },
      "execution_count": null,
      "outputs": []
    },
    {
      "cell_type": "code",
      "source": [
        "# JSON verisinden item_data ve auction_data'yı DataFrame'lere dönüştür\n",
        "item_data = pd.DataFrame(data[\"item_data\"])\n",
        "auction_data = pd.DataFrame(data[\"auction_data\"])"
      ],
      "metadata": {
        "id": "fKrbuODBgNAn"
      },
      "execution_count": null,
      "outputs": []
    },
    {
      "cell_type": "code",
      "source": [
        "item_df = item_data.copy()\n",
        "auction_df = auction_data.copy()"
      ],
      "metadata": {
        "id": "RbqjrXpVit_M"
      },
      "execution_count": null,
      "outputs": []
    },
    {
      "cell_type": "code",
      "source": [
        "dataset=pd.merge(left=auction_df,right=item_df,how=\"outer\",on=\"auction_id\")"
      ],
      "metadata": {
        "id": "sL1bvhRLi2mm"
      },
      "execution_count": null,
      "outputs": []
    },
    {
      "cell_type": "code",
      "source": [
        "df=dataset.copy()"
      ],
      "metadata": {
        "id": "6jzqCqk21FGm"
      },
      "execution_count": null,
      "outputs": []
    },
    {
      "cell_type": "code",
      "source": [
        "# Değiştirme işlemi yapılmayacak sütunlar listesi\n",
        "excluded_columns = [\"item_description\", \"item_subdescription\"]"
      ],
      "metadata": {
        "collapsed": true,
        "id": "vtUpgodN17Dl"
      },
      "execution_count": null,
      "outputs": []
    },
    {
      "cell_type": "code",
      "source": [
        "# Belirtilen sütunlar hariç tüm sütunlarda boş string ve tek boşlukları np.nan ile değiştir\n",
        "df.loc[:, ~df.columns.isin(excluded_columns)] = df.loc[:, ~df.columns.isin(excluded_columns)].replace({\"\": np.nan, \" \": np.nan})"
      ],
      "metadata": {
        "id": "syQNfw3tOGVZ"
      },
      "execution_count": null,
      "outputs": []
    },
    {
      "cell_type": "markdown",
      "source": [
        "## CATEGORIZATION"
      ],
      "metadata": {
        "id": "hk-KuHL0L2up"
      }
    },
    {
      "cell_type": "markdown",
      "source": [
        " ### item_name' a göre kategorilendirme"
      ],
      "metadata": {
        "id": "ha-wGvtMTi_w"
      }
    },
    {
      "cell_type": "code",
      "source": [
        "# Müzayede açıklamaları için Kategorileri belirleyen kelimeler ve bu kelimelere karşılık gelen kategoriler\n",
        "categories_item_name = {\n",
        "    'obje': 'obje',\n",
        "\n",
        "    'efemera' : 'efemera',\n",
        "    'kartpostal' : 'efemera',\n",
        "    'pul' : 'efemera',\n",
        "    'mnh' : 'efemera',\n",
        "    'fdc' : 'efemera',\n",
        "    'filateli' : \"efemera\",\n",
        "    'fi̇lateli̇' : \"efemera\",\n",
        "\n",
        "    'tablo' : 'eser',\n",
        "    'resim' : 'eser',\n",
        "    'heykel' : 'eser',\n",
        "\n",
        "    'para': 'nümismatik',\n",
        "    'banknot': 'nümismatik',\n",
        "\n",
        "    'kitap' : 'kitap',\n",
        "    'dergi' : 'kitap',\n",
        "    'çizgi roman' : 'kitap'\n",
        "}"
      ],
      "metadata": {
        "id": "zaCvYCfrTi_w"
      },
      "execution_count": null,
      "outputs": []
    },
    {
      "cell_type": "code",
      "source": [
        "def categorize_item_name(description):\n",
        "    description = description.lower()  # Küçük harfe dönüştürme\n",
        "    for keyword, category in categories_item_name.items():\n",
        "        if keyword in description:\n",
        "            return category\n",
        "        else:\n",
        "            return np.nan"
      ],
      "metadata": {
        "id": "LkKC-RkfTi_w"
      },
      "execution_count": null,
      "outputs": []
    },
    {
      "cell_type": "code",
      "source": [
        "df['item_category'] = df['item_name'].apply(categorize_item_name)"
      ],
      "metadata": {
        "id": "DbaTFuJ8Ti_x"
      },
      "execution_count": null,
      "outputs": []
    },
    {
      "cell_type": "markdown",
      "source": [
        " ### auction_description'a göre kategorilendirme"
      ],
      "metadata": {
        "id": "SU6pcYPmMyxn"
      }
    },
    {
      "cell_type": "code",
      "source": [
        "# Müzayede açıklamaları için Kategorileri belirleyen kelimeler ve bu kelimelere karşılık gelen kategoriler\n",
        "categories = {\n",
        "    'para': 'nümismatik',\n",
        "    'banknot': 'nümismatik',\n",
        "    'nümismatik': 'nümismatik',\n",
        "    'nümi̇smati̇k' : \"nümismatik\",\n",
        "    'numismatik' : 'nümismatik',\n",
        "    'numi̇smati̇k' : 'nümismatik',\n",
        "    'nümizmatik' : 'nümismatik',\n",
        "    'kağit' : 'nümismatik',\n",
        "\n",
        "    'fdc' : 'efemera',\n",
        "    'pul' : 'efemera',\n",
        "    'kartpostal' : 'efemera',\n",
        "    'filateli' : \"efemera\",\n",
        "    'fi̇lateli̇' : \"efemera\",\n",
        "    'efemera' : 'efemera',\n",
        "    'fila' : 'efemera',\n",
        "\n",
        "    'obje': 'obje',\n",
        "\n",
        "    'resim' : 'eser',\n",
        "    'heykel' : 'eser',\n",
        "    'tablo' : 'eser',\n",
        "    'eser' : 'eser',\n",
        "    'sanat' : 'eser',\n",
        "    'resi̇m' : 'eser',\n",
        "    'antika' : 'eser',\n",
        "    'art' : 'eser',\n",
        "\n",
        "    'kitap' : 'kitap',\n",
        "    'kitabhane' : 'kitap',\n",
        "    'çi̇zgi̇ roman' : 'kitap',\n",
        "    'çizgi roman' : 'kitap',\n",
        "    'çi̇zgi roman' : 'kitap',\n",
        "    'çizgi roman' : 'kitap',\n",
        "    'dergi' : 'kitap',\n",
        "    'ki̇tap' : 'kitap'\n",
        "}"
      ],
      "metadata": {
        "id": "ro96GMivMZpB"
      },
      "execution_count": null,
      "outputs": []
    },
    {
      "cell_type": "code",
      "source": [
        "def categorize_auctions(description):\n",
        "    description = description.lower()  # Küçük harfe dönüştürme\n",
        "    for keyword, category in categories.items():\n",
        "        if keyword in description:\n",
        "            return category\n",
        "    return 'diğer'"
      ],
      "metadata": {
        "id": "PpPtWgPcM3XO"
      },
      "execution_count": null,
      "outputs": []
    },
    {
      "cell_type": "code",
      "source": [
        "df['item_category'].fillna(df['auction_description'].apply(categorize_auctions), inplace=True)"
      ],
      "metadata": {
        "id": "HrVTRZq6M4qV"
      },
      "execution_count": null,
      "outputs": []
    },
    {
      "cell_type": "code",
      "source": [
        "df[\"item_category\"].value_counts()"
      ],
      "metadata": {
        "colab": {
          "base_uri": "https://localhost:8080/"
        },
        "id": "7MhuKM87NAL7",
        "outputId": "70f19807-86fa-4c95-81a9-dbcba0769605"
      },
      "execution_count": null,
      "outputs": [
        {
          "output_type": "execute_result",
          "data": {
            "text/plain": [
              "item_category\n",
              "nümismatik    4791\n",
              "efemera       4246\n",
              "eser          3358\n",
              "diğer         3298\n",
              "obje          1731\n",
              "kitap          388\n",
              "Name: count, dtype: int64"
            ]
          },
          "metadata": {},
          "execution_count": 22
        }
      ]
    },
    {
      "cell_type": "code",
      "source": [
        "pd.crosstab(df[\"item_category\"], df[\"item_sold\"])"
      ],
      "metadata": {
        "colab": {
          "base_uri": "https://localhost:8080/"
        },
        "id": "FK5PWdgqU46h",
        "outputId": "8b04eafd-9633-4b2b-ac0e-4eb6177e2f19"
      },
      "execution_count": null,
      "outputs": [
        {
          "output_type": "execute_result",
          "data": {
            "text/plain": [
              "item_sold         0     1\n",
              "item_category            \n",
              "diğer          1772  1526\n",
              "efemera        2318  1928\n",
              "eser           1765  1593\n",
              "kitap            56   332\n",
              "nümismatik     1695  3096\n",
              "obje            916   815"
            ],
            "text/html": [
              "\n",
              "  <div id=\"df-62aa166a-3a81-4f61-9a8a-d224336f459a\" class=\"colab-df-container\">\n",
              "    <div>\n",
              "<style scoped>\n",
              "    .dataframe tbody tr th:only-of-type {\n",
              "        vertical-align: middle;\n",
              "    }\n",
              "\n",
              "    .dataframe tbody tr th {\n",
              "        vertical-align: top;\n",
              "    }\n",
              "\n",
              "    .dataframe thead th {\n",
              "        text-align: right;\n",
              "    }\n",
              "</style>\n",
              "<table border=\"1\" class=\"dataframe\">\n",
              "  <thead>\n",
              "    <tr style=\"text-align: right;\">\n",
              "      <th>item_sold</th>\n",
              "      <th>0</th>\n",
              "      <th>1</th>\n",
              "    </tr>\n",
              "    <tr>\n",
              "      <th>item_category</th>\n",
              "      <th></th>\n",
              "      <th></th>\n",
              "    </tr>\n",
              "  </thead>\n",
              "  <tbody>\n",
              "    <tr>\n",
              "      <th>diğer</th>\n",
              "      <td>1772</td>\n",
              "      <td>1526</td>\n",
              "    </tr>\n",
              "    <tr>\n",
              "      <th>efemera</th>\n",
              "      <td>2318</td>\n",
              "      <td>1928</td>\n",
              "    </tr>\n",
              "    <tr>\n",
              "      <th>eser</th>\n",
              "      <td>1765</td>\n",
              "      <td>1593</td>\n",
              "    </tr>\n",
              "    <tr>\n",
              "      <th>kitap</th>\n",
              "      <td>56</td>\n",
              "      <td>332</td>\n",
              "    </tr>\n",
              "    <tr>\n",
              "      <th>nümismatik</th>\n",
              "      <td>1695</td>\n",
              "      <td>3096</td>\n",
              "    </tr>\n",
              "    <tr>\n",
              "      <th>obje</th>\n",
              "      <td>916</td>\n",
              "      <td>815</td>\n",
              "    </tr>\n",
              "  </tbody>\n",
              "</table>\n",
              "</div>\n",
              "    <div class=\"colab-df-buttons\">\n",
              "\n",
              "  <div class=\"colab-df-container\">\n",
              "    <button class=\"colab-df-convert\" onclick=\"convertToInteractive('df-62aa166a-3a81-4f61-9a8a-d224336f459a')\"\n",
              "            title=\"Convert this dataframe to an interactive table.\"\n",
              "            style=\"display:none;\">\n",
              "\n",
              "  <svg xmlns=\"http://www.w3.org/2000/svg\" height=\"24px\" viewBox=\"0 -960 960 960\">\n",
              "    <path d=\"M120-120v-720h720v720H120Zm60-500h600v-160H180v160Zm220 220h160v-160H400v160Zm0 220h160v-160H400v160ZM180-400h160v-160H180v160Zm440 0h160v-160H620v160ZM180-180h160v-160H180v160Zm440 0h160v-160H620v160Z\"/>\n",
              "  </svg>\n",
              "    </button>\n",
              "\n",
              "  <style>\n",
              "    .colab-df-container {\n",
              "      display:flex;\n",
              "      gap: 12px;\n",
              "    }\n",
              "\n",
              "    .colab-df-convert {\n",
              "      background-color: #E8F0FE;\n",
              "      border: none;\n",
              "      border-radius: 50%;\n",
              "      cursor: pointer;\n",
              "      display: none;\n",
              "      fill: #1967D2;\n",
              "      height: 32px;\n",
              "      padding: 0 0 0 0;\n",
              "      width: 32px;\n",
              "    }\n",
              "\n",
              "    .colab-df-convert:hover {\n",
              "      background-color: #E2EBFA;\n",
              "      box-shadow: 0px 1px 2px rgba(60, 64, 67, 0.3), 0px 1px 3px 1px rgba(60, 64, 67, 0.15);\n",
              "      fill: #174EA6;\n",
              "    }\n",
              "\n",
              "    .colab-df-buttons div {\n",
              "      margin-bottom: 4px;\n",
              "    }\n",
              "\n",
              "    [theme=dark] .colab-df-convert {\n",
              "      background-color: #3B4455;\n",
              "      fill: #D2E3FC;\n",
              "    }\n",
              "\n",
              "    [theme=dark] .colab-df-convert:hover {\n",
              "      background-color: #434B5C;\n",
              "      box-shadow: 0px 1px 3px 1px rgba(0, 0, 0, 0.15);\n",
              "      filter: drop-shadow(0px 1px 2px rgba(0, 0, 0, 0.3));\n",
              "      fill: #FFFFFF;\n",
              "    }\n",
              "  </style>\n",
              "\n",
              "    <script>\n",
              "      const buttonEl =\n",
              "        document.querySelector('#df-62aa166a-3a81-4f61-9a8a-d224336f459a button.colab-df-convert');\n",
              "      buttonEl.style.display =\n",
              "        google.colab.kernel.accessAllowed ? 'block' : 'none';\n",
              "\n",
              "      async function convertToInteractive(key) {\n",
              "        const element = document.querySelector('#df-62aa166a-3a81-4f61-9a8a-d224336f459a');\n",
              "        const dataTable =\n",
              "          await google.colab.kernel.invokeFunction('convertToInteractive',\n",
              "                                                    [key], {});\n",
              "        if (!dataTable) return;\n",
              "\n",
              "        const docLinkHtml = 'Like what you see? Visit the ' +\n",
              "          '<a target=\"_blank\" href=https://colab.research.google.com/notebooks/data_table.ipynb>data table notebook</a>'\n",
              "          + ' to learn more about interactive tables.';\n",
              "        element.innerHTML = '';\n",
              "        dataTable['output_type'] = 'display_data';\n",
              "        await google.colab.output.renderOutput(dataTable, element);\n",
              "        const docLink = document.createElement('div');\n",
              "        docLink.innerHTML = docLinkHtml;\n",
              "        element.appendChild(docLink);\n",
              "      }\n",
              "    </script>\n",
              "  </div>\n",
              "\n",
              "\n",
              "<div id=\"df-bd44a43d-b220-4064-bcc9-5d927722c701\">\n",
              "  <button class=\"colab-df-quickchart\" onclick=\"quickchart('df-bd44a43d-b220-4064-bcc9-5d927722c701')\"\n",
              "            title=\"Suggest charts\"\n",
              "            style=\"display:none;\">\n",
              "\n",
              "<svg xmlns=\"http://www.w3.org/2000/svg\" height=\"24px\"viewBox=\"0 0 24 24\"\n",
              "     width=\"24px\">\n",
              "    <g>\n",
              "        <path d=\"M19 3H5c-1.1 0-2 .9-2 2v14c0 1.1.9 2 2 2h14c1.1 0 2-.9 2-2V5c0-1.1-.9-2-2-2zM9 17H7v-7h2v7zm4 0h-2V7h2v10zm4 0h-2v-4h2v4z\"/>\n",
              "    </g>\n",
              "</svg>\n",
              "  </button>\n",
              "\n",
              "<style>\n",
              "  .colab-df-quickchart {\n",
              "      --bg-color: #E8F0FE;\n",
              "      --fill-color: #1967D2;\n",
              "      --hover-bg-color: #E2EBFA;\n",
              "      --hover-fill-color: #174EA6;\n",
              "      --disabled-fill-color: #AAA;\n",
              "      --disabled-bg-color: #DDD;\n",
              "  }\n",
              "\n",
              "  [theme=dark] .colab-df-quickchart {\n",
              "      --bg-color: #3B4455;\n",
              "      --fill-color: #D2E3FC;\n",
              "      --hover-bg-color: #434B5C;\n",
              "      --hover-fill-color: #FFFFFF;\n",
              "      --disabled-bg-color: #3B4455;\n",
              "      --disabled-fill-color: #666;\n",
              "  }\n",
              "\n",
              "  .colab-df-quickchart {\n",
              "    background-color: var(--bg-color);\n",
              "    border: none;\n",
              "    border-radius: 50%;\n",
              "    cursor: pointer;\n",
              "    display: none;\n",
              "    fill: var(--fill-color);\n",
              "    height: 32px;\n",
              "    padding: 0;\n",
              "    width: 32px;\n",
              "  }\n",
              "\n",
              "  .colab-df-quickchart:hover {\n",
              "    background-color: var(--hover-bg-color);\n",
              "    box-shadow: 0 1px 2px rgba(60, 64, 67, 0.3), 0 1px 3px 1px rgba(60, 64, 67, 0.15);\n",
              "    fill: var(--button-hover-fill-color);\n",
              "  }\n",
              "\n",
              "  .colab-df-quickchart-complete:disabled,\n",
              "  .colab-df-quickchart-complete:disabled:hover {\n",
              "    background-color: var(--disabled-bg-color);\n",
              "    fill: var(--disabled-fill-color);\n",
              "    box-shadow: none;\n",
              "  }\n",
              "\n",
              "  .colab-df-spinner {\n",
              "    border: 2px solid var(--fill-color);\n",
              "    border-color: transparent;\n",
              "    border-bottom-color: var(--fill-color);\n",
              "    animation:\n",
              "      spin 1s steps(1) infinite;\n",
              "  }\n",
              "\n",
              "  @keyframes spin {\n",
              "    0% {\n",
              "      border-color: transparent;\n",
              "      border-bottom-color: var(--fill-color);\n",
              "      border-left-color: var(--fill-color);\n",
              "    }\n",
              "    20% {\n",
              "      border-color: transparent;\n",
              "      border-left-color: var(--fill-color);\n",
              "      border-top-color: var(--fill-color);\n",
              "    }\n",
              "    30% {\n",
              "      border-color: transparent;\n",
              "      border-left-color: var(--fill-color);\n",
              "      border-top-color: var(--fill-color);\n",
              "      border-right-color: var(--fill-color);\n",
              "    }\n",
              "    40% {\n",
              "      border-color: transparent;\n",
              "      border-right-color: var(--fill-color);\n",
              "      border-top-color: var(--fill-color);\n",
              "    }\n",
              "    60% {\n",
              "      border-color: transparent;\n",
              "      border-right-color: var(--fill-color);\n",
              "    }\n",
              "    80% {\n",
              "      border-color: transparent;\n",
              "      border-right-color: var(--fill-color);\n",
              "      border-bottom-color: var(--fill-color);\n",
              "    }\n",
              "    90% {\n",
              "      border-color: transparent;\n",
              "      border-bottom-color: var(--fill-color);\n",
              "    }\n",
              "  }\n",
              "</style>\n",
              "\n",
              "  <script>\n",
              "    async function quickchart(key) {\n",
              "      const quickchartButtonEl =\n",
              "        document.querySelector('#' + key + ' button');\n",
              "      quickchartButtonEl.disabled = true;  // To prevent multiple clicks.\n",
              "      quickchartButtonEl.classList.add('colab-df-spinner');\n",
              "      try {\n",
              "        const charts = await google.colab.kernel.invokeFunction(\n",
              "            'suggestCharts', [key], {});\n",
              "      } catch (error) {\n",
              "        console.error('Error during call to suggestCharts:', error);\n",
              "      }\n",
              "      quickchartButtonEl.classList.remove('colab-df-spinner');\n",
              "      quickchartButtonEl.classList.add('colab-df-quickchart-complete');\n",
              "    }\n",
              "    (() => {\n",
              "      let quickchartButtonEl =\n",
              "        document.querySelector('#df-bd44a43d-b220-4064-bcc9-5d927722c701 button');\n",
              "      quickchartButtonEl.style.display =\n",
              "        google.colab.kernel.accessAllowed ? 'block' : 'none';\n",
              "    })();\n",
              "  </script>\n",
              "</div>\n",
              "\n",
              "    </div>\n",
              "  </div>\n"
            ],
            "application/vnd.google.colaboratory.intrinsic+json": {
              "type": "dataframe",
              "summary": "{\n  \"name\": \"pd\",\n  \"rows\": 6,\n  \"fields\": [\n    {\n      \"column\": \"item_category\",\n      \"properties\": {\n        \"dtype\": \"string\",\n        \"num_unique_values\": 6,\n        \"samples\": [\n          \"di\\u011fer\",\n          \"efemera\",\n          \"obje\"\n        ],\n        \"semantic_type\": \"\",\n        \"description\": \"\"\n      }\n    },\n    {\n      \"column\": 0,\n      \"properties\": {\n        \"dtype\": \"number\",\n        \"std\": 804,\n        \"min\": 56,\n        \"max\": 2318,\n        \"num_unique_values\": 6,\n        \"samples\": [\n          1772,\n          2318,\n          916\n        ],\n        \"semantic_type\": \"\",\n        \"description\": \"\"\n      }\n    },\n    {\n      \"column\": 1,\n      \"properties\": {\n        \"dtype\": \"number\",\n        \"std\": 954,\n        \"min\": 332,\n        \"max\": 3096,\n        \"num_unique_values\": 6,\n        \"samples\": [\n          1526,\n          1928,\n          815\n        ],\n        \"semantic_type\": \"\",\n        \"description\": \"\"\n      }\n    }\n  ]\n}"
            }
          },
          "metadata": {},
          "execution_count": 23
        }
      ]
    },
    {
      "cell_type": "markdown",
      "source": [
        "### CATEGORY TO INT"
      ],
      "metadata": {
        "id": "KKs_1Lav0KNk"
      }
    },
    {
      "cell_type": "code",
      "source": [
        "dummy_cols = pd.get_dummies(df[\"item_category\"], drop_first=True)"
      ],
      "metadata": {
        "id": "C-z23mts0S_i"
      },
      "execution_count": null,
      "outputs": []
    },
    {
      "cell_type": "code",
      "source": [
        "#df = pd.concat([df, dummy_cols], axis=1)"
      ],
      "metadata": {
        "id": "SR8qglTC1H7F"
      },
      "execution_count": null,
      "outputs": []
    },
    {
      "cell_type": "code",
      "source": [
        "#df.drop(\"item_category\",axis=1,inplace=True)"
      ],
      "metadata": {
        "id": "SBn_9_tL1R81"
      },
      "execution_count": null,
      "outputs": []
    },
    {
      "cell_type": "markdown",
      "source": [
        "## PREPROCESSING"
      ],
      "metadata": {
        "id": "K5gL7ujPZ-ra"
      }
    },
    {
      "cell_type": "markdown",
      "source": [
        "**takip sayısı sütunundaki boş değerleri 0 ile dolduralım.**"
      ],
      "metadata": {
        "id": "s3AvA4y9cwNC"
      }
    },
    {
      "cell_type": "code",
      "source": [
        "df[\"item_tracking_no\"] = df[\"item_tracking_no\"].replace(np.nan,0)"
      ],
      "metadata": {
        "id": "5WckgFJmUfMw"
      },
      "execution_count": null,
      "outputs": []
    },
    {
      "cell_type": "markdown",
      "source": [
        "**veritiplerini düzenleyelim.**"
      ],
      "metadata": {
        "id": "9TKWn1U0cywR"
      }
    },
    {
      "cell_type": "code",
      "source": [
        "df[\"auction_account\"]=df[\"auction_account\"].astype(\"string\")\n",
        "df[\"auction_datetime\"] = pd.to_datetime(df[\"auction_datetime\"])\n",
        "df[\"auction_description\"]=df[\"auction_description\"].astype(\"string\")\n",
        "df[\"item_name\"]=df[\"item_name\"].astype(\"string\")\n",
        "df[\"item_img\"]=df[\"item_img\"].astype(\"string\")\n",
        "df[\"item_description\"]=df[\"item_description\"].astype(\"string\")\n",
        "df[\"item_reserve_price\"]=df[\"item_reserve_price\"].astype(\"string\")\n",
        "df[\"item_sold\"]=df[\"item_sold\"].astype(\"int16\")\n",
        "df[\"item_tracking_no\"]=df[\"item_tracking_no\"].astype(\"uint\")\n",
        "df[\"item_subdescription\"]=df[\"item_subdescription\"].astype(\"string\")"
      ],
      "metadata": {
        "id": "WhMRQSzHUfKx"
      },
      "execution_count": null,
      "outputs": []
    },
    {
      "cell_type": "markdown",
      "source": [
        "**Tarih sütununu parçalara ayıralım.**"
      ],
      "metadata": {
        "id": "6Y57sibvc1EB"
      }
    },
    {
      "cell_type": "code",
      "source": [
        "df[[\"auction_datetime_day\", \"auction_datetime_month\", \"auction_datetime_year\",\n",
        "    \"auction_datetime_hour\", \"auction_datetime_minute\"]] = df[\"auction_datetime\"].apply(\n",
        "        lambda dt: pd.Series([dt.day, dt.month, dt.year, dt.hour, dt.minute]))"
      ],
      "metadata": {
        "id": "UfTrrJSLaXLU"
      },
      "execution_count": null,
      "outputs": []
    },
    {
      "cell_type": "markdown",
      "source": [
        "**USD verileri TL birimine dönüştürelim.**"
      ],
      "metadata": {
        "id": "yNRuflgAc3WC"
      }
    },
    {
      "cell_type": "code",
      "source": [
        "for i in range(df.shape[0]):\n",
        "    if df[\"item_reserve_price\"][i].endswith(\"TL\")==False:\n",
        "        df = df.drop(i)"
      ],
      "metadata": {
        "id": "eQpCi_krapcF"
      },
      "execution_count": null,
      "outputs": []
    },
    {
      "cell_type": "markdown",
      "source": [
        "**Açılış fiyatı kısmındaki TL ibaresini silelim ve Açılış fiyatı verilerini integer formate çevirelim.**"
      ],
      "metadata": {
        "id": "zm92xa6Wc6Yh"
      }
    },
    {
      "cell_type": "code",
      "source": [
        "df[\"item_reserve_price\"] = df[\"item_reserve_price\"].str.replace(\".\", \"\").str.replace(\" TL\", \"\").astype(int)"
      ],
      "metadata": {
        "id": "kAigf7p1atvh"
      },
      "execution_count": null,
      "outputs": []
    },
    {
      "cell_type": "markdown",
      "source": [
        "**İhtiyaç duymayacağımız sütunları silelim.**"
      ],
      "metadata": {
        "id": "m-oG6Sl1c_DT"
      }
    },
    {
      "cell_type": "code",
      "source": [
        "df.drop([\"auction_url\",\"auction_id\",\"item_id\",\"estimate_price\",\"item_price\",\"auction_datetime\",\"auction_account\",\"item_name\"],axis=1,inplace=True)"
      ],
      "metadata": {
        "id": "IPMayW2Ja2-o"
      },
      "execution_count": null,
      "outputs": []
    },
    {
      "cell_type": "markdown",
      "source": [
        "**İki DataFrame'deki açıklama ve alt açıklama sütunlarını birleştirerek tek bir sütun oluşturalım.**"
      ],
      "metadata": {
        "id": "tsaGXVWTdBb6"
      }
    },
    {
      "cell_type": "code",
      "source": [
        "df[\"item_merged_description\"] = df['item_description'].str.cat(df['item_subdescription'], sep=' ')"
      ],
      "metadata": {
        "id": "UuquTbfia5Mk"
      },
      "execution_count": null,
      "outputs": []
    },
    {
      "cell_type": "markdown",
      "source": [
        "**açıklama ve alt açıklama sütunları ile işimiz kalmadı. onları silelim.**"
      ],
      "metadata": {
        "id": "NBNyWlh1dI56"
      }
    },
    {
      "cell_type": "code",
      "source": [
        "df.drop([\"item_description\",\"item_subdescription\"],axis=1,inplace=True)"
      ],
      "metadata": {
        "id": "xqqlqkYja8WS"
      },
      "execution_count": null,
      "outputs": []
    },
    {
      "cell_type": "markdown",
      "source": [
        "## NLP"
      ],
      "metadata": {
        "id": "MVsPCxnb_5_-"
      }
    },
    {
      "cell_type": "code",
      "source": [
        "str_cols =[\"auction_description\",\"item_merged_description\"]"
      ],
      "metadata": {
        "id": "oTInGnRrAHrl"
      },
      "execution_count": null,
      "outputs": []
    },
    {
      "cell_type": "markdown",
      "source": [
        "**Tüm metinsel verileri küçük harfe dönüştürelim.**"
      ],
      "metadata": {
        "id": "fWPqf963A-SP"
      }
    },
    {
      "cell_type": "code",
      "source": [
        "for col in str_cols:\n",
        "  df[col] = df[col].str.lower()"
      ],
      "metadata": {
        "id": "FaMcto_L_7lt"
      },
      "execution_count": null,
      "outputs": []
    },
    {
      "cell_type": "markdown",
      "source": [
        "**Sütunların içindeki noktalama işaretlerini silme işlemi**"
      ],
      "metadata": {
        "id": "bYgRKsoJNO7P"
      }
    },
    {
      "cell_type": "code",
      "source": [
        "punctutations = string.punctuation"
      ],
      "metadata": {
        "id": "M2qa-CGzO3fn"
      },
      "execution_count": null,
      "outputs": []
    },
    {
      "cell_type": "code",
      "source": [
        "for col in str_cols:\n",
        "    df[col] = df[col].apply(lambda x: ''.join(char if char not in punctutations else ' ' for char in x))"
      ],
      "metadata": {
        "id": "ln5AtbJAJefB"
      },
      "execution_count": null,
      "outputs": []
    },
    {
      "cell_type": "markdown",
      "source": [
        "**Türkçe stopwordsleri indirelim.**"
      ],
      "metadata": {
        "id": "jPuD0cbbNd0p"
      }
    },
    {
      "cell_type": "code",
      "source": [
        "nltk.download(\"stopwords\")"
      ],
      "metadata": {
        "id": "A7N2N__kNSBG",
        "colab": {
          "base_uri": "https://localhost:8080/"
        },
        "outputId": "0216264c-fbee-41a1-b048-4913cba1b806"
      },
      "execution_count": null,
      "outputs": [
        {
          "output_type": "stream",
          "name": "stderr",
          "text": [
            "[nltk_data] Downloading package stopwords to /root/nltk_data...\n",
            "[nltk_data]   Unzipping corpora/stopwords.zip.\n"
          ]
        },
        {
          "output_type": "execute_result",
          "data": {
            "text/plain": [
              "True"
            ]
          },
          "metadata": {},
          "execution_count": 39
        }
      ]
    },
    {
      "cell_type": "code",
      "source": [
        "sw = stopwords.words(\"turkish\")"
      ],
      "metadata": {
        "id": "nRwbmOqHNR-_"
      },
      "execution_count": null,
      "outputs": []
    },
    {
      "cell_type": "markdown",
      "source": [
        "**Stopwordsleri silelim.**"
      ],
      "metadata": {
        "id": "05kWwUuaN43W"
      }
    },
    {
      "cell_type": "code",
      "source": [
        "for col in str_cols:\n",
        "  df[col] = df[col].apply(lambda x: \" \".join(x for x in str(x).split() if x not in sw))"
      ],
      "metadata": {
        "id": "4AQlogOJNqXf"
      },
      "execution_count": null,
      "outputs": []
    },
    {
      "cell_type": "markdown",
      "source": [
        "**Tokenization**"
      ],
      "metadata": {
        "id": "P9y9hdcTPQ7X"
      }
    },
    {
      "cell_type": "code",
      "source": [
        "nltk.download('punkt')"
      ],
      "metadata": {
        "id": "TlQUP52SN8S4",
        "colab": {
          "base_uri": "https://localhost:8080/"
        },
        "outputId": "e7243460-b96f-4c56-c597-855d2dbfece7"
      },
      "execution_count": null,
      "outputs": [
        {
          "output_type": "stream",
          "name": "stderr",
          "text": [
            "[nltk_data] Downloading package punkt to /root/nltk_data...\n",
            "[nltk_data]   Unzipping tokenizers/punkt.zip.\n"
          ]
        },
        {
          "output_type": "execute_result",
          "data": {
            "text/plain": [
              "True"
            ]
          },
          "metadata": {},
          "execution_count": 42
        }
      ]
    },
    {
      "cell_type": "code",
      "source": [
        "for col in str_cols:\n",
        "  df[col] = df[col].apply(word_tokenize)"
      ],
      "metadata": {
        "id": "iXZeA5bmN8Q4"
      },
      "execution_count": null,
      "outputs": []
    },
    {
      "cell_type": "markdown",
      "source": [
        "**Stemming**"
      ],
      "metadata": {
        "id": "xX7nmIBLPgnX"
      }
    },
    {
      "cell_type": "code",
      "source": [
        "stemmer=TurkishStemmer()"
      ],
      "metadata": {
        "id": "fcD2Xo24PaAX"
      },
      "execution_count": null,
      "outputs": []
    },
    {
      "cell_type": "code",
      "source": [
        "for col in str_cols:\n",
        "  df[col] = df[col].apply(lambda x: [stemmer.stemWord(word) for word in x])"
      ],
      "metadata": {
        "id": "KOEv4BiDPZ3_"
      },
      "execution_count": null,
      "outputs": []
    },
    {
      "cell_type": "markdown",
      "source": [
        "**Vectorization - Word2Vec**"
      ],
      "metadata": {
        "id": "VmEHMYpITaci"
      }
    },
    {
      "cell_type": "code",
      "source": [
        "# Word2Vec modelini eğitme\n",
        "word2vec_model_auction = Word2Vec(df['auction_description'], vector_size=100, window=5, min_count=1, workers=4)\n",
        "word2vec_model_item = Word2Vec(df['item_merged_description'], vector_size=100, window=5, min_count=1, workers=4)\n",
        "\n",
        "# Her kelimenin vektörünü almak için bir fonksiyon tanımlama\n",
        "def get_word_vector(model, word):\n",
        "    try:\n",
        "        return model.wv[word]\n",
        "    except KeyError:\n",
        "        # Eğer kelime modelde bulunmuyorsa rastgele bir vektör döndür\n",
        "        return [0] * model.vector_size\n",
        "\n",
        "# Her kelimenin vektörünü içeren bir sütun oluşturma\n",
        "df['auction_description_word2vec'] = df['auction_description'].apply(lambda x: [get_word_vector(word2vec_model_auction, word) for word in x])\n",
        "df['item_description_word2vec'] = df['item_merged_description'].apply(lambda x: [get_word_vector(word2vec_model_item, word) for word in x])"
      ],
      "metadata": {
        "id": "hE3_xwwmPr9v"
      },
      "execution_count": null,
      "outputs": []
    },
    {
      "cell_type": "markdown",
      "source": [
        "**vektörize ettiğimiz sütunları veriden silelim.**"
      ],
      "metadata": {
        "id": "LBoBDu3oYJVI"
      }
    },
    {
      "cell_type": "code",
      "source": [
        "df.drop([\"auction_description\",\"item_merged_description\"],axis=1,inplace=True)"
      ],
      "metadata": {
        "id": "RgcvUyOUYI7I"
      },
      "execution_count": null,
      "outputs": []
    },
    {
      "cell_type": "markdown",
      "source": [
        "## IMAGE PROCESSING"
      ],
      "metadata": {
        "id": "7FeqakmvzmYc"
      }
    },
    {
      "cell_type": "code",
      "source": [
        "df[\"item_category\"].unique()"
      ],
      "metadata": {
        "colab": {
          "base_uri": "https://localhost:8080/"
        },
        "id": "IyebuUE67AYc",
        "outputId": "aba52b60-4905-4366-f4e8-df864358e9fe"
      },
      "execution_count": null,
      "outputs": [
        {
          "output_type": "execute_result",
          "data": {
            "text/plain": [
              "array(['eser', 'obje', 'nümismatik', 'kitap', 'diğer', 'efemera'],\n",
              "      dtype=object)"
            ]
          },
          "metadata": {},
          "execution_count": 50
        }
      ]
    },
    {
      "cell_type": "code",
      "source": [
        "df_eser = df[df[\"item_category\"]==\"eser\"]\n",
        "df_obje = df[df[\"item_category\"]==\"obje\"]\n",
        "df_numismatik = df[df[\"item_category\"]==\"nümismatik\"]\n",
        "df_kitap = df[df[\"item_category\"]==\"kitap\"]\n",
        "df_efemera = df[df[\"item_category\"]==\"efemera\"]\n",
        "df_diger = df[df[\"item_category\"]==\"diğer\"]"
      ],
      "metadata": {
        "colab": {
          "base_uri": "https://localhost:8080/",
          "height": 478
        },
        "collapsed": true,
        "id": "yUvkuw-d62pM",
        "outputId": "f378d952-0cb0-422a-a65c-232517ee2559"
      },
      "execution_count": null,
      "outputs": [
        {
          "output_type": "error",
          "ename": "KeyError",
          "evalue": "'item_category'",
          "traceback": [
            "\u001b[0;31m---------------------------------------------------------------------------\u001b[0m",
            "\u001b[0;31mKeyError\u001b[0m                                  Traceback (most recent call last)",
            "\u001b[0;32m/usr/local/lib/python3.10/dist-packages/pandas/core/indexes/base.py\u001b[0m in \u001b[0;36mget_loc\u001b[0;34m(self, key)\u001b[0m\n\u001b[1;32m   3652\u001b[0m         \u001b[0;32mtry\u001b[0m\u001b[0;34m:\u001b[0m\u001b[0;34m\u001b[0m\u001b[0;34m\u001b[0m\u001b[0m\n\u001b[0;32m-> 3653\u001b[0;31m             \u001b[0;32mreturn\u001b[0m \u001b[0mself\u001b[0m\u001b[0;34m.\u001b[0m\u001b[0m_engine\u001b[0m\u001b[0;34m.\u001b[0m\u001b[0mget_loc\u001b[0m\u001b[0;34m(\u001b[0m\u001b[0mcasted_key\u001b[0m\u001b[0;34m)\u001b[0m\u001b[0;34m\u001b[0m\u001b[0;34m\u001b[0m\u001b[0m\n\u001b[0m\u001b[1;32m   3654\u001b[0m         \u001b[0;32mexcept\u001b[0m \u001b[0mKeyError\u001b[0m \u001b[0;32mas\u001b[0m \u001b[0merr\u001b[0m\u001b[0;34m:\u001b[0m\u001b[0;34m\u001b[0m\u001b[0;34m\u001b[0m\u001b[0m\n",
            "\u001b[0;32m/usr/local/lib/python3.10/dist-packages/pandas/_libs/index.pyx\u001b[0m in \u001b[0;36mpandas._libs.index.IndexEngine.get_loc\u001b[0;34m()\u001b[0m\n",
            "\u001b[0;32m/usr/local/lib/python3.10/dist-packages/pandas/_libs/index.pyx\u001b[0m in \u001b[0;36mpandas._libs.index.IndexEngine.get_loc\u001b[0;34m()\u001b[0m\n",
            "\u001b[0;32mpandas/_libs/hashtable_class_helper.pxi\u001b[0m in \u001b[0;36mpandas._libs.hashtable.PyObjectHashTable.get_item\u001b[0;34m()\u001b[0m\n",
            "\u001b[0;32mpandas/_libs/hashtable_class_helper.pxi\u001b[0m in \u001b[0;36mpandas._libs.hashtable.PyObjectHashTable.get_item\u001b[0;34m()\u001b[0m\n",
            "\u001b[0;31mKeyError\u001b[0m: 'item_category'",
            "\nThe above exception was the direct cause of the following exception:\n",
            "\u001b[0;31mKeyError\u001b[0m                                  Traceback (most recent call last)",
            "\u001b[0;32m<ipython-input-54-e57875f44db8>\u001b[0m in \u001b[0;36m<cell line: 1>\u001b[0;34m()\u001b[0m\n\u001b[0;32m----> 1\u001b[0;31m \u001b[0mdf_eser\u001b[0m \u001b[0;34m=\u001b[0m \u001b[0mdf\u001b[0m\u001b[0;34m[\u001b[0m\u001b[0mdf\u001b[0m\u001b[0;34m[\u001b[0m\u001b[0;34m\"item_category\"\u001b[0m\u001b[0;34m]\u001b[0m\u001b[0;34m==\u001b[0m\u001b[0;34m\"eser\"\u001b[0m\u001b[0;34m]\u001b[0m\u001b[0;34m\u001b[0m\u001b[0;34m\u001b[0m\u001b[0m\n\u001b[0m\u001b[1;32m      2\u001b[0m \u001b[0mdf_obje\u001b[0m \u001b[0;34m=\u001b[0m \u001b[0mdf\u001b[0m\u001b[0;34m[\u001b[0m\u001b[0mdf\u001b[0m\u001b[0;34m[\u001b[0m\u001b[0;34m\"item_category\"\u001b[0m\u001b[0;34m]\u001b[0m\u001b[0;34m==\u001b[0m\u001b[0;34m\"obje\"\u001b[0m\u001b[0;34m]\u001b[0m\u001b[0;34m\u001b[0m\u001b[0;34m\u001b[0m\u001b[0m\n\u001b[1;32m      3\u001b[0m \u001b[0mdf_numismatik\u001b[0m \u001b[0;34m=\u001b[0m \u001b[0mdf\u001b[0m\u001b[0;34m[\u001b[0m\u001b[0mdf\u001b[0m\u001b[0;34m[\u001b[0m\u001b[0;34m\"item_category\"\u001b[0m\u001b[0;34m]\u001b[0m\u001b[0;34m==\u001b[0m\u001b[0;34m\"nümismatik\"\u001b[0m\u001b[0;34m]\u001b[0m\u001b[0;34m\u001b[0m\u001b[0;34m\u001b[0m\u001b[0m\n\u001b[1;32m      4\u001b[0m \u001b[0mdf_kitap\u001b[0m \u001b[0;34m=\u001b[0m \u001b[0mdf\u001b[0m\u001b[0;34m[\u001b[0m\u001b[0mdf\u001b[0m\u001b[0;34m[\u001b[0m\u001b[0;34m\"item_category\"\u001b[0m\u001b[0;34m]\u001b[0m\u001b[0;34m==\u001b[0m\u001b[0;34m\"kitap\"\u001b[0m\u001b[0;34m]\u001b[0m\u001b[0;34m\u001b[0m\u001b[0;34m\u001b[0m\u001b[0m\n\u001b[1;32m      5\u001b[0m \u001b[0mdf_efemera\u001b[0m \u001b[0;34m=\u001b[0m \u001b[0mdf\u001b[0m\u001b[0;34m[\u001b[0m\u001b[0mdf\u001b[0m\u001b[0;34m[\u001b[0m\u001b[0;34m\"item_category\"\u001b[0m\u001b[0;34m]\u001b[0m\u001b[0;34m==\u001b[0m\u001b[0;34m\"efemera\"\u001b[0m\u001b[0;34m]\u001b[0m\u001b[0;34m\u001b[0m\u001b[0;34m\u001b[0m\u001b[0m\n",
            "\u001b[0;32m/usr/local/lib/python3.10/dist-packages/pandas/core/frame.py\u001b[0m in \u001b[0;36m__getitem__\u001b[0;34m(self, key)\u001b[0m\n\u001b[1;32m   3759\u001b[0m             \u001b[0;32mif\u001b[0m \u001b[0mself\u001b[0m\u001b[0;34m.\u001b[0m\u001b[0mcolumns\u001b[0m\u001b[0;34m.\u001b[0m\u001b[0mnlevels\u001b[0m \u001b[0;34m>\u001b[0m \u001b[0;36m1\u001b[0m\u001b[0;34m:\u001b[0m\u001b[0;34m\u001b[0m\u001b[0;34m\u001b[0m\u001b[0m\n\u001b[1;32m   3760\u001b[0m                 \u001b[0;32mreturn\u001b[0m \u001b[0mself\u001b[0m\u001b[0;34m.\u001b[0m\u001b[0m_getitem_multilevel\u001b[0m\u001b[0;34m(\u001b[0m\u001b[0mkey\u001b[0m\u001b[0;34m)\u001b[0m\u001b[0;34m\u001b[0m\u001b[0;34m\u001b[0m\u001b[0m\n\u001b[0;32m-> 3761\u001b[0;31m             \u001b[0mindexer\u001b[0m \u001b[0;34m=\u001b[0m \u001b[0mself\u001b[0m\u001b[0;34m.\u001b[0m\u001b[0mcolumns\u001b[0m\u001b[0;34m.\u001b[0m\u001b[0mget_loc\u001b[0m\u001b[0;34m(\u001b[0m\u001b[0mkey\u001b[0m\u001b[0;34m)\u001b[0m\u001b[0;34m\u001b[0m\u001b[0;34m\u001b[0m\u001b[0m\n\u001b[0m\u001b[1;32m   3762\u001b[0m             \u001b[0;32mif\u001b[0m \u001b[0mis_integer\u001b[0m\u001b[0;34m(\u001b[0m\u001b[0mindexer\u001b[0m\u001b[0;34m)\u001b[0m\u001b[0;34m:\u001b[0m\u001b[0;34m\u001b[0m\u001b[0;34m\u001b[0m\u001b[0m\n\u001b[1;32m   3763\u001b[0m                 \u001b[0mindexer\u001b[0m \u001b[0;34m=\u001b[0m \u001b[0;34m[\u001b[0m\u001b[0mindexer\u001b[0m\u001b[0;34m]\u001b[0m\u001b[0;34m\u001b[0m\u001b[0;34m\u001b[0m\u001b[0m\n",
            "\u001b[0;32m/usr/local/lib/python3.10/dist-packages/pandas/core/indexes/base.py\u001b[0m in \u001b[0;36mget_loc\u001b[0;34m(self, key)\u001b[0m\n\u001b[1;32m   3653\u001b[0m             \u001b[0;32mreturn\u001b[0m \u001b[0mself\u001b[0m\u001b[0;34m.\u001b[0m\u001b[0m_engine\u001b[0m\u001b[0;34m.\u001b[0m\u001b[0mget_loc\u001b[0m\u001b[0;34m(\u001b[0m\u001b[0mcasted_key\u001b[0m\u001b[0;34m)\u001b[0m\u001b[0;34m\u001b[0m\u001b[0;34m\u001b[0m\u001b[0m\n\u001b[1;32m   3654\u001b[0m         \u001b[0;32mexcept\u001b[0m \u001b[0mKeyError\u001b[0m \u001b[0;32mas\u001b[0m \u001b[0merr\u001b[0m\u001b[0;34m:\u001b[0m\u001b[0;34m\u001b[0m\u001b[0;34m\u001b[0m\u001b[0m\n\u001b[0;32m-> 3655\u001b[0;31m             \u001b[0;32mraise\u001b[0m \u001b[0mKeyError\u001b[0m\u001b[0;34m(\u001b[0m\u001b[0mkey\u001b[0m\u001b[0;34m)\u001b[0m \u001b[0;32mfrom\u001b[0m \u001b[0merr\u001b[0m\u001b[0;34m\u001b[0m\u001b[0;34m\u001b[0m\u001b[0m\n\u001b[0m\u001b[1;32m   3656\u001b[0m         \u001b[0;32mexcept\u001b[0m \u001b[0mTypeError\u001b[0m\u001b[0;34m:\u001b[0m\u001b[0;34m\u001b[0m\u001b[0;34m\u001b[0m\u001b[0m\n\u001b[1;32m   3657\u001b[0m             \u001b[0;31m# If we have a listlike key, _check_indexing_error will raise\u001b[0m\u001b[0;34m\u001b[0m\u001b[0;34m\u001b[0m\u001b[0m\n",
            "\u001b[0;31mKeyError\u001b[0m: 'item_category'"
          ]
        }
      ]
    },
    {
      "cell_type": "code",
      "source": [
        "df_eser.drop([\"item_img\",\"item_category\"],axis=1,inplace=True)\n",
        "df_obje.drop([\"item_img\",\"item_category\"],axis=1,inplace=True)\n",
        "df_numismatik.drop([\"item_img\",\"item_category\"],axis=1,inplace=True)\n",
        "df_kitap.drop([\"item_img\",\"item_category\"],axis=1,inplace=True)\n",
        "df_efemera.drop([\"item_img\",\"item_category\"],axis=1,inplace=True)\n",
        "df_diger.drop([\"item_img\",\"item_category\"],axis=1,inplace=True)"
      ],
      "metadata": {
        "colab": {
          "base_uri": "https://localhost:8080/"
        },
        "id": "XKUA9AVC6Lcc",
        "outputId": "fd051ac5-fd09-4e03-8d74-e00002fa5872"
      },
      "execution_count": null,
      "outputs": [
        {
          "output_type": "stream",
          "name": "stderr",
          "text": [
            "<ipython-input-55-c4c963951ae8>:1: SettingWithCopyWarning: \n",
            "A value is trying to be set on a copy of a slice from a DataFrame\n",
            "\n",
            "See the caveats in the documentation: https://pandas.pydata.org/pandas-docs/stable/user_guide/indexing.html#returning-a-view-versus-a-copy\n",
            "  df_eser.drop([\"item_img\",\"item_category\"],axis=1,inplace=True)\n",
            "<ipython-input-55-c4c963951ae8>:2: SettingWithCopyWarning: \n",
            "A value is trying to be set on a copy of a slice from a DataFrame\n",
            "\n",
            "See the caveats in the documentation: https://pandas.pydata.org/pandas-docs/stable/user_guide/indexing.html#returning-a-view-versus-a-copy\n",
            "  df_obje.drop([\"item_img\",\"item_category\"],axis=1,inplace=True)\n",
            "<ipython-input-55-c4c963951ae8>:3: SettingWithCopyWarning: \n",
            "A value is trying to be set on a copy of a slice from a DataFrame\n",
            "\n",
            "See the caveats in the documentation: https://pandas.pydata.org/pandas-docs/stable/user_guide/indexing.html#returning-a-view-versus-a-copy\n",
            "  df_numismatik.drop([\"item_img\",\"item_category\"],axis=1,inplace=True)\n",
            "<ipython-input-55-c4c963951ae8>:4: SettingWithCopyWarning: \n",
            "A value is trying to be set on a copy of a slice from a DataFrame\n",
            "\n",
            "See the caveats in the documentation: https://pandas.pydata.org/pandas-docs/stable/user_guide/indexing.html#returning-a-view-versus-a-copy\n",
            "  df_kitap.drop([\"item_img\",\"item_category\"],axis=1,inplace=True)\n",
            "<ipython-input-55-c4c963951ae8>:5: SettingWithCopyWarning: \n",
            "A value is trying to be set on a copy of a slice from a DataFrame\n",
            "\n",
            "See the caveats in the documentation: https://pandas.pydata.org/pandas-docs/stable/user_guide/indexing.html#returning-a-view-versus-a-copy\n",
            "  df_efemera.drop([\"item_img\",\"item_category\"],axis=1,inplace=True)\n",
            "<ipython-input-55-c4c963951ae8>:6: SettingWithCopyWarning: \n",
            "A value is trying to be set on a copy of a slice from a DataFrame\n",
            "\n",
            "See the caveats in the documentation: https://pandas.pydata.org/pandas-docs/stable/user_guide/indexing.html#returning-a-view-versus-a-copy\n",
            "  df_diger.drop([\"item_img\",\"item_category\"],axis=1,inplace=True)\n"
          ]
        }
      ]
    },
    {
      "cell_type": "code",
      "source": [
        "#df_eser = df[df[\"eser\"]==True]"
      ],
      "metadata": {
        "id": "5lruZl1HbDdX"
      },
      "execution_count": null,
      "outputs": []
    },
    {
      "cell_type": "code",
      "source": [
        "def download_and_convert_image(url):\n",
        "  # URL'den görüntüyü indirme\n",
        "  response = requests.get(url)\n",
        "  # İndirilen görüntüyü açma\n",
        "  img = Image.open(BytesIO(response.content))\n",
        "  # Görüntüyü NumPy dizisine dönüştürme\n",
        "  img_array = np.array(img)\n",
        "  return img_array"
      ],
      "metadata": {
        "id": "Hev-lBLPz_fj"
      },
      "execution_count": null,
      "outputs": []
    },
    {
      "cell_type": "code",
      "source": [
        "# Verileri işlemeden önce görüntülerin boyutunu optimize etme\n",
        "#df_eser['item_img_data'] = df_eser['item_img'].apply(download_and_convert_image)"
      ],
      "metadata": {
        "id": "vBK1kKTO3LuQ"
      },
      "execution_count": null,
      "outputs": []
    },
    {
      "cell_type": "markdown",
      "source": [
        "## YSA"
      ],
      "metadata": {
        "id": "e1QMA0zW6Ixk"
      }
    },
    {
      "cell_type": "code",
      "source": [
        "df_eser.head()"
      ],
      "metadata": {
        "id": "hATKyzxc3TLe",
        "colab": {
          "base_uri": "https://localhost:8080/",
          "height": 313
        },
        "outputId": "59f2c878-9cd4-4599-adad-3619ca2f14e9"
      },
      "execution_count": null,
      "outputs": [
        {
          "output_type": "execute_result",
          "data": {
            "text/plain": [
              "   item_lot_no  item_reserve_price  item_sold  item_tracking_no  item_bid_no  \\\n",
              "0            1                6500          0                17            0   \n",
              "1            2                7000          0                13            0   \n",
              "2            3                5000          0                 6            0   \n",
              "3            4                5000          0                 6            0   \n",
              "4            5                5000          0                 4            0   \n",
              "\n",
              "   auction_datetime_day  auction_datetime_month  auction_datetime_year  \\\n",
              "0                    19                       5                   2024   \n",
              "1                    19                       5                   2024   \n",
              "2                    19                       5                   2024   \n",
              "3                    19                       5                   2024   \n",
              "4                    19                       5                   2024   \n",
              "\n",
              "   auction_datetime_hour  auction_datetime_minute  \\\n",
              "0                     20                        2   \n",
              "1                     20                        2   \n",
              "2                     20                        2   \n",
              "3                     20                        2   \n",
              "4                     20                        2   \n",
              "\n",
              "                        auction_description_word2vec  \\\n",
              "0  [[0.16169731, 0.04864459, -0.3438917, -0.35814...   \n",
              "1  [[0.16169731, 0.04864459, -0.3438917, -0.35814...   \n",
              "2  [[0.16169731, 0.04864459, -0.3438917, -0.35814...   \n",
              "3  [[0.16169731, 0.04864459, -0.3438917, -0.35814...   \n",
              "4  [[0.16169731, 0.04864459, -0.3438917, -0.35814...   \n",
              "\n",
              "                           item_description_word2vec  \n",
              "0  [[0.018508967, 0.030341908, -0.009048991, -0.0...  \n",
              "1  [[0.044633817, 0.05498405, -0.010951872, -0.05...  \n",
              "2  [[0.044628568, 0.059887193, 0.004412044, -0.08...  \n",
              "3  [[0.073178135, 0.09534733, -0.016787391, -0.09...  \n",
              "4  [[0.23480542, 0.47016644, -0.062148158, -0.613...  "
            ],
            "text/html": [
              "\n",
              "  <div id=\"df-5aee6029-493a-4fb3-87c1-6bec0bf41df1\" class=\"colab-df-container\">\n",
              "    <div>\n",
              "<style scoped>\n",
              "    .dataframe tbody tr th:only-of-type {\n",
              "        vertical-align: middle;\n",
              "    }\n",
              "\n",
              "    .dataframe tbody tr th {\n",
              "        vertical-align: top;\n",
              "    }\n",
              "\n",
              "    .dataframe thead th {\n",
              "        text-align: right;\n",
              "    }\n",
              "</style>\n",
              "<table border=\"1\" class=\"dataframe\">\n",
              "  <thead>\n",
              "    <tr style=\"text-align: right;\">\n",
              "      <th></th>\n",
              "      <th>item_lot_no</th>\n",
              "      <th>item_reserve_price</th>\n",
              "      <th>item_sold</th>\n",
              "      <th>item_tracking_no</th>\n",
              "      <th>item_bid_no</th>\n",
              "      <th>auction_datetime_day</th>\n",
              "      <th>auction_datetime_month</th>\n",
              "      <th>auction_datetime_year</th>\n",
              "      <th>auction_datetime_hour</th>\n",
              "      <th>auction_datetime_minute</th>\n",
              "      <th>auction_description_word2vec</th>\n",
              "      <th>item_description_word2vec</th>\n",
              "    </tr>\n",
              "  </thead>\n",
              "  <tbody>\n",
              "    <tr>\n",
              "      <th>0</th>\n",
              "      <td>1</td>\n",
              "      <td>6500</td>\n",
              "      <td>0</td>\n",
              "      <td>17</td>\n",
              "      <td>0</td>\n",
              "      <td>19</td>\n",
              "      <td>5</td>\n",
              "      <td>2024</td>\n",
              "      <td>20</td>\n",
              "      <td>2</td>\n",
              "      <td>[[0.16169731, 0.04864459, -0.3438917, -0.35814...</td>\n",
              "      <td>[[0.018508967, 0.030341908, -0.009048991, -0.0...</td>\n",
              "    </tr>\n",
              "    <tr>\n",
              "      <th>1</th>\n",
              "      <td>2</td>\n",
              "      <td>7000</td>\n",
              "      <td>0</td>\n",
              "      <td>13</td>\n",
              "      <td>0</td>\n",
              "      <td>19</td>\n",
              "      <td>5</td>\n",
              "      <td>2024</td>\n",
              "      <td>20</td>\n",
              "      <td>2</td>\n",
              "      <td>[[0.16169731, 0.04864459, -0.3438917, -0.35814...</td>\n",
              "      <td>[[0.044633817, 0.05498405, -0.010951872, -0.05...</td>\n",
              "    </tr>\n",
              "    <tr>\n",
              "      <th>2</th>\n",
              "      <td>3</td>\n",
              "      <td>5000</td>\n",
              "      <td>0</td>\n",
              "      <td>6</td>\n",
              "      <td>0</td>\n",
              "      <td>19</td>\n",
              "      <td>5</td>\n",
              "      <td>2024</td>\n",
              "      <td>20</td>\n",
              "      <td>2</td>\n",
              "      <td>[[0.16169731, 0.04864459, -0.3438917, -0.35814...</td>\n",
              "      <td>[[0.044628568, 0.059887193, 0.004412044, -0.08...</td>\n",
              "    </tr>\n",
              "    <tr>\n",
              "      <th>3</th>\n",
              "      <td>4</td>\n",
              "      <td>5000</td>\n",
              "      <td>0</td>\n",
              "      <td>6</td>\n",
              "      <td>0</td>\n",
              "      <td>19</td>\n",
              "      <td>5</td>\n",
              "      <td>2024</td>\n",
              "      <td>20</td>\n",
              "      <td>2</td>\n",
              "      <td>[[0.16169731, 0.04864459, -0.3438917, -0.35814...</td>\n",
              "      <td>[[0.073178135, 0.09534733, -0.016787391, -0.09...</td>\n",
              "    </tr>\n",
              "    <tr>\n",
              "      <th>4</th>\n",
              "      <td>5</td>\n",
              "      <td>5000</td>\n",
              "      <td>0</td>\n",
              "      <td>4</td>\n",
              "      <td>0</td>\n",
              "      <td>19</td>\n",
              "      <td>5</td>\n",
              "      <td>2024</td>\n",
              "      <td>20</td>\n",
              "      <td>2</td>\n",
              "      <td>[[0.16169731, 0.04864459, -0.3438917, -0.35814...</td>\n",
              "      <td>[[0.23480542, 0.47016644, -0.062148158, -0.613...</td>\n",
              "    </tr>\n",
              "  </tbody>\n",
              "</table>\n",
              "</div>\n",
              "    <div class=\"colab-df-buttons\">\n",
              "\n",
              "  <div class=\"colab-df-container\">\n",
              "    <button class=\"colab-df-convert\" onclick=\"convertToInteractive('df-5aee6029-493a-4fb3-87c1-6bec0bf41df1')\"\n",
              "            title=\"Convert this dataframe to an interactive table.\"\n",
              "            style=\"display:none;\">\n",
              "\n",
              "  <svg xmlns=\"http://www.w3.org/2000/svg\" height=\"24px\" viewBox=\"0 -960 960 960\">\n",
              "    <path d=\"M120-120v-720h720v720H120Zm60-500h600v-160H180v160Zm220 220h160v-160H400v160Zm0 220h160v-160H400v160ZM180-400h160v-160H180v160Zm440 0h160v-160H620v160ZM180-180h160v-160H180v160Zm440 0h160v-160H620v160Z\"/>\n",
              "  </svg>\n",
              "    </button>\n",
              "\n",
              "  <style>\n",
              "    .colab-df-container {\n",
              "      display:flex;\n",
              "      gap: 12px;\n",
              "    }\n",
              "\n",
              "    .colab-df-convert {\n",
              "      background-color: #E8F0FE;\n",
              "      border: none;\n",
              "      border-radius: 50%;\n",
              "      cursor: pointer;\n",
              "      display: none;\n",
              "      fill: #1967D2;\n",
              "      height: 32px;\n",
              "      padding: 0 0 0 0;\n",
              "      width: 32px;\n",
              "    }\n",
              "\n",
              "    .colab-df-convert:hover {\n",
              "      background-color: #E2EBFA;\n",
              "      box-shadow: 0px 1px 2px rgba(60, 64, 67, 0.3), 0px 1px 3px 1px rgba(60, 64, 67, 0.15);\n",
              "      fill: #174EA6;\n",
              "    }\n",
              "\n",
              "    .colab-df-buttons div {\n",
              "      margin-bottom: 4px;\n",
              "    }\n",
              "\n",
              "    [theme=dark] .colab-df-convert {\n",
              "      background-color: #3B4455;\n",
              "      fill: #D2E3FC;\n",
              "    }\n",
              "\n",
              "    [theme=dark] .colab-df-convert:hover {\n",
              "      background-color: #434B5C;\n",
              "      box-shadow: 0px 1px 3px 1px rgba(0, 0, 0, 0.15);\n",
              "      filter: drop-shadow(0px 1px 2px rgba(0, 0, 0, 0.3));\n",
              "      fill: #FFFFFF;\n",
              "    }\n",
              "  </style>\n",
              "\n",
              "    <script>\n",
              "      const buttonEl =\n",
              "        document.querySelector('#df-5aee6029-493a-4fb3-87c1-6bec0bf41df1 button.colab-df-convert');\n",
              "      buttonEl.style.display =\n",
              "        google.colab.kernel.accessAllowed ? 'block' : 'none';\n",
              "\n",
              "      async function convertToInteractive(key) {\n",
              "        const element = document.querySelector('#df-5aee6029-493a-4fb3-87c1-6bec0bf41df1');\n",
              "        const dataTable =\n",
              "          await google.colab.kernel.invokeFunction('convertToInteractive',\n",
              "                                                    [key], {});\n",
              "        if (!dataTable) return;\n",
              "\n",
              "        const docLinkHtml = 'Like what you see? Visit the ' +\n",
              "          '<a target=\"_blank\" href=https://colab.research.google.com/notebooks/data_table.ipynb>data table notebook</a>'\n",
              "          + ' to learn more about interactive tables.';\n",
              "        element.innerHTML = '';\n",
              "        dataTable['output_type'] = 'display_data';\n",
              "        await google.colab.output.renderOutput(dataTable, element);\n",
              "        const docLink = document.createElement('div');\n",
              "        docLink.innerHTML = docLinkHtml;\n",
              "        element.appendChild(docLink);\n",
              "      }\n",
              "    </script>\n",
              "  </div>\n",
              "\n",
              "\n",
              "<div id=\"df-d17dbfb2-6daf-42d9-a64b-71031d7ca21d\">\n",
              "  <button class=\"colab-df-quickchart\" onclick=\"quickchart('df-d17dbfb2-6daf-42d9-a64b-71031d7ca21d')\"\n",
              "            title=\"Suggest charts\"\n",
              "            style=\"display:none;\">\n",
              "\n",
              "<svg xmlns=\"http://www.w3.org/2000/svg\" height=\"24px\"viewBox=\"0 0 24 24\"\n",
              "     width=\"24px\">\n",
              "    <g>\n",
              "        <path d=\"M19 3H5c-1.1 0-2 .9-2 2v14c0 1.1.9 2 2 2h14c1.1 0 2-.9 2-2V5c0-1.1-.9-2-2-2zM9 17H7v-7h2v7zm4 0h-2V7h2v10zm4 0h-2v-4h2v4z\"/>\n",
              "    </g>\n",
              "</svg>\n",
              "  </button>\n",
              "\n",
              "<style>\n",
              "  .colab-df-quickchart {\n",
              "      --bg-color: #E8F0FE;\n",
              "      --fill-color: #1967D2;\n",
              "      --hover-bg-color: #E2EBFA;\n",
              "      --hover-fill-color: #174EA6;\n",
              "      --disabled-fill-color: #AAA;\n",
              "      --disabled-bg-color: #DDD;\n",
              "  }\n",
              "\n",
              "  [theme=dark] .colab-df-quickchart {\n",
              "      --bg-color: #3B4455;\n",
              "      --fill-color: #D2E3FC;\n",
              "      --hover-bg-color: #434B5C;\n",
              "      --hover-fill-color: #FFFFFF;\n",
              "      --disabled-bg-color: #3B4455;\n",
              "      --disabled-fill-color: #666;\n",
              "  }\n",
              "\n",
              "  .colab-df-quickchart {\n",
              "    background-color: var(--bg-color);\n",
              "    border: none;\n",
              "    border-radius: 50%;\n",
              "    cursor: pointer;\n",
              "    display: none;\n",
              "    fill: var(--fill-color);\n",
              "    height: 32px;\n",
              "    padding: 0;\n",
              "    width: 32px;\n",
              "  }\n",
              "\n",
              "  .colab-df-quickchart:hover {\n",
              "    background-color: var(--hover-bg-color);\n",
              "    box-shadow: 0 1px 2px rgba(60, 64, 67, 0.3), 0 1px 3px 1px rgba(60, 64, 67, 0.15);\n",
              "    fill: var(--button-hover-fill-color);\n",
              "  }\n",
              "\n",
              "  .colab-df-quickchart-complete:disabled,\n",
              "  .colab-df-quickchart-complete:disabled:hover {\n",
              "    background-color: var(--disabled-bg-color);\n",
              "    fill: var(--disabled-fill-color);\n",
              "    box-shadow: none;\n",
              "  }\n",
              "\n",
              "  .colab-df-spinner {\n",
              "    border: 2px solid var(--fill-color);\n",
              "    border-color: transparent;\n",
              "    border-bottom-color: var(--fill-color);\n",
              "    animation:\n",
              "      spin 1s steps(1) infinite;\n",
              "  }\n",
              "\n",
              "  @keyframes spin {\n",
              "    0% {\n",
              "      border-color: transparent;\n",
              "      border-bottom-color: var(--fill-color);\n",
              "      border-left-color: var(--fill-color);\n",
              "    }\n",
              "    20% {\n",
              "      border-color: transparent;\n",
              "      border-left-color: var(--fill-color);\n",
              "      border-top-color: var(--fill-color);\n",
              "    }\n",
              "    30% {\n",
              "      border-color: transparent;\n",
              "      border-left-color: var(--fill-color);\n",
              "      border-top-color: var(--fill-color);\n",
              "      border-right-color: var(--fill-color);\n",
              "    }\n",
              "    40% {\n",
              "      border-color: transparent;\n",
              "      border-right-color: var(--fill-color);\n",
              "      border-top-color: var(--fill-color);\n",
              "    }\n",
              "    60% {\n",
              "      border-color: transparent;\n",
              "      border-right-color: var(--fill-color);\n",
              "    }\n",
              "    80% {\n",
              "      border-color: transparent;\n",
              "      border-right-color: var(--fill-color);\n",
              "      border-bottom-color: var(--fill-color);\n",
              "    }\n",
              "    90% {\n",
              "      border-color: transparent;\n",
              "      border-bottom-color: var(--fill-color);\n",
              "    }\n",
              "  }\n",
              "</style>\n",
              "\n",
              "  <script>\n",
              "    async function quickchart(key) {\n",
              "      const quickchartButtonEl =\n",
              "        document.querySelector('#' + key + ' button');\n",
              "      quickchartButtonEl.disabled = true;  // To prevent multiple clicks.\n",
              "      quickchartButtonEl.classList.add('colab-df-spinner');\n",
              "      try {\n",
              "        const charts = await google.colab.kernel.invokeFunction(\n",
              "            'suggestCharts', [key], {});\n",
              "      } catch (error) {\n",
              "        console.error('Error during call to suggestCharts:', error);\n",
              "      }\n",
              "      quickchartButtonEl.classList.remove('colab-df-spinner');\n",
              "      quickchartButtonEl.classList.add('colab-df-quickchart-complete');\n",
              "    }\n",
              "    (() => {\n",
              "      let quickchartButtonEl =\n",
              "        document.querySelector('#df-d17dbfb2-6daf-42d9-a64b-71031d7ca21d button');\n",
              "      quickchartButtonEl.style.display =\n",
              "        google.colab.kernel.accessAllowed ? 'block' : 'none';\n",
              "    })();\n",
              "  </script>\n",
              "</div>\n",
              "\n",
              "    </div>\n",
              "  </div>\n"
            ],
            "application/vnd.google.colaboratory.intrinsic+json": {
              "type": "dataframe",
              "variable_name": "df_eser",
              "summary": "{\n  \"name\": \"df_eser\",\n  \"rows\": 3358,\n  \"fields\": [\n    {\n      \"column\": \"item_lot_no\",\n      \"properties\": {\n        \"dtype\": \"number\",\n        \"std\": 172,\n        \"min\": 1,\n        \"max\": 799,\n        \"num_unique_values\": 733,\n        \"samples\": [\n          728,\n          38,\n          260\n        ],\n        \"semantic_type\": \"\",\n        \"description\": \"\"\n      }\n    },\n    {\n      \"column\": \"item_reserve_price\",\n      \"properties\": {\n        \"dtype\": \"number\",\n        \"std\": 82805,\n        \"min\": 1,\n        \"max\": 2000000,\n        \"num_unique_values\": 161,\n        \"samples\": [\n          9800,\n          38000,\n          890\n        ],\n        \"semantic_type\": \"\",\n        \"description\": \"\"\n      }\n    },\n    {\n      \"column\": \"item_sold\",\n      \"properties\": {\n        \"dtype\": \"int16\",\n        \"num_unique_values\": 2,\n        \"samples\": [\n          1,\n          0\n        ],\n        \"semantic_type\": \"\",\n        \"description\": \"\"\n      }\n    },\n    {\n      \"column\": \"item_tracking_no\",\n      \"properties\": {\n        \"dtype\": \"uint64\",\n        \"num_unique_values\": 63,\n        \"samples\": [\n          27,\n          36\n        ],\n        \"semantic_type\": \"\",\n        \"description\": \"\"\n      }\n    },\n    {\n      \"column\": \"item_bid_no\",\n      \"properties\": {\n        \"dtype\": \"number\",\n        \"std\": 6,\n        \"min\": 0,\n        \"max\": 54,\n        \"num_unique_values\": 39,\n        \"samples\": [\n          3,\n          54\n        ],\n        \"semantic_type\": \"\",\n        \"description\": \"\"\n      }\n    },\n    {\n      \"column\": \"auction_datetime_day\",\n      \"properties\": {\n        \"dtype\": \"number\",\n        \"std\": 1,\n        \"min\": 16,\n        \"max\": 20,\n        \"num_unique_values\": 5,\n        \"samples\": [\n          18,\n          16\n        ],\n        \"semantic_type\": \"\",\n        \"description\": \"\"\n      }\n    },\n    {\n      \"column\": \"auction_datetime_month\",\n      \"properties\": {\n        \"dtype\": \"number\",\n        \"std\": 0,\n        \"min\": 5,\n        \"max\": 5,\n        \"num_unique_values\": 1,\n        \"samples\": [\n          5\n        ],\n        \"semantic_type\": \"\",\n        \"description\": \"\"\n      }\n    },\n    {\n      \"column\": \"auction_datetime_year\",\n      \"properties\": {\n        \"dtype\": \"number\",\n        \"std\": 0,\n        \"min\": 2024,\n        \"max\": 2024,\n        \"num_unique_values\": 1,\n        \"samples\": [\n          2024\n        ],\n        \"semantic_type\": \"\",\n        \"description\": \"\"\n      }\n    },\n    {\n      \"column\": \"auction_datetime_hour\",\n      \"properties\": {\n        \"dtype\": \"number\",\n        \"std\": 1,\n        \"min\": 15,\n        \"max\": 22,\n        \"num_unique_values\": 6,\n        \"samples\": [\n          20\n        ],\n        \"semantic_type\": \"\",\n        \"description\": \"\"\n      }\n    },\n    {\n      \"column\": \"auction_datetime_minute\",\n      \"properties\": {\n        \"dtype\": \"number\",\n        \"std\": 9,\n        \"min\": 0,\n        \"max\": 32,\n        \"num_unique_values\": 5,\n        \"samples\": [\n          1\n        ],\n        \"semantic_type\": \"\",\n        \"description\": \"\"\n      }\n    },\n    {\n      \"column\": \"auction_description_word2vec\",\n      \"properties\": {\n        \"dtype\": \"object\",\n        \"semantic_type\": \"\",\n        \"description\": \"\"\n      }\n    },\n    {\n      \"column\": \"item_description_word2vec\",\n      \"properties\": {\n        \"dtype\": \"object\",\n        \"semantic_type\": \"\",\n        \"description\": \"\"\n      }\n    }\n  ]\n}"
            }
          },
          "metadata": {},
          "execution_count": 59
        }
      ]
    },
    {
      "cell_type": "code",
      "source": [
        "X = df_eser.drop(\"item_sold\",axis=1)\n",
        "y = df_eser[\"item_sold\"]"
      ],
      "metadata": {
        "id": "NT1HakPM8GKk"
      },
      "execution_count": null,
      "outputs": []
    },
    {
      "cell_type": "code",
      "source": [
        "X_train, X_val, y_train, y_val = train_test_split(X, y, test_size=0.2)"
      ],
      "metadata": {
        "id": "4RGNfjU_3TAN"
      },
      "execution_count": null,
      "outputs": []
    },
    {
      "cell_type": "code",
      "source": [
        "y_train.shape"
      ],
      "metadata": {
        "colab": {
          "base_uri": "https://localhost:8080/"
        },
        "id": "0W3yCf748_Mc",
        "outputId": "e3ae6ed1-d777-42b8-d586-b1d0b6f3c067"
      },
      "execution_count": null,
      "outputs": [
        {
          "output_type": "execute_result",
          "data": {
            "text/plain": [
              "(2686,)"
            ]
          },
          "metadata": {},
          "execution_count": 68
        }
      ]
    },
    {
      "cell_type": "code",
      "source": [
        "# Model oluşturma\n",
        "model = tf.keras.Sequential([\n",
        "    tf.keras.layers.Reshape((-1, 1, X_train.shape[1])),  # Add a timestep dimension of 1\n",
        "    tf.keras.layers.LSTM(64, return_sequences=True, input_shape=(X_train.shape[1],)),\n",
        "    tf.keras.layers.Dense(128, activation='relu'),\n",
        "    tf.keras.layers.Dense(1, activation='sigmoid')\n",
        "])"
      ],
      "metadata": {
        "id": "49VcMtgw8gec"
      },
      "execution_count": null,
      "outputs": []
    },
    {
      "cell_type": "code",
      "source": [
        "# Model derleme\n",
        "model.compile(optimizer='adam',\n",
        "              loss='binary_crossentropy',  # İki sınıflı çapraz entropi kayıp fonksiyonu\n",
        "              metrics=['accuracy'])"
      ],
      "metadata": {
        "id": "_uCbnU1y8gcE"
      },
      "execution_count": null,
      "outputs": []
    },
    {
      "cell_type": "code",
      "source": [
        "import numpy as np\n",
        "\n",
        "def convert_to_np_array(word2vec_column):\n",
        "    return np.array([np.array(vec) for vec in word2vec_column])\n",
        "\n",
        "X_train['auction_description_word2vec'] = convert_to_np_array(X_train['auction_description_word2vec'])\n",
        "X_train['item_description_word2vec'] = convert_to_np_array(X_train['item_description_word2vec'])"
      ],
      "metadata": {
        "id": "aJ7ioi2b_n-8",
        "outputId": "7e1db840-e902-43e5-b7b0-e65b4368b2c6",
        "colab": {
          "base_uri": "https://localhost:8080/",
          "height": 332
        }
      },
      "execution_count": null,
      "outputs": [
        {
          "output_type": "error",
          "ename": "ValueError",
          "evalue": "setting an array element with a sequence. The requested array has an inhomogeneous shape after 1 dimensions. The detected shape was (2686,) + inhomogeneous part.",
          "traceback": [
            "\u001b[0;31m---------------------------------------------------------------------------\u001b[0m",
            "\u001b[0;31mValueError\u001b[0m                                Traceback (most recent call last)",
            "\u001b[0;32m<ipython-input-78-f23633fff7fa>\u001b[0m in \u001b[0;36m<cell line: 6>\u001b[0;34m()\u001b[0m\n\u001b[1;32m      4\u001b[0m     \u001b[0;32mreturn\u001b[0m \u001b[0mnp\u001b[0m\u001b[0;34m.\u001b[0m\u001b[0marray\u001b[0m\u001b[0;34m(\u001b[0m\u001b[0;34m[\u001b[0m\u001b[0mnp\u001b[0m\u001b[0;34m.\u001b[0m\u001b[0marray\u001b[0m\u001b[0;34m(\u001b[0m\u001b[0mvec\u001b[0m\u001b[0;34m)\u001b[0m \u001b[0;32mfor\u001b[0m \u001b[0mvec\u001b[0m \u001b[0;32min\u001b[0m \u001b[0mword2vec_column\u001b[0m\u001b[0;34m]\u001b[0m\u001b[0;34m)\u001b[0m\u001b[0;34m\u001b[0m\u001b[0;34m\u001b[0m\u001b[0m\n\u001b[1;32m      5\u001b[0m \u001b[0;34m\u001b[0m\u001b[0m\n\u001b[0;32m----> 6\u001b[0;31m \u001b[0mX_train\u001b[0m\u001b[0;34m[\u001b[0m\u001b[0;34m'auction_description_word2vec'\u001b[0m\u001b[0;34m]\u001b[0m \u001b[0;34m=\u001b[0m \u001b[0mconvert_to_np_array\u001b[0m\u001b[0;34m(\u001b[0m\u001b[0mX_train\u001b[0m\u001b[0;34m[\u001b[0m\u001b[0;34m'auction_description_word2vec'\u001b[0m\u001b[0;34m]\u001b[0m\u001b[0;34m)\u001b[0m\u001b[0;34m\u001b[0m\u001b[0;34m\u001b[0m\u001b[0m\n\u001b[0m\u001b[1;32m      7\u001b[0m \u001b[0mX_train\u001b[0m\u001b[0;34m[\u001b[0m\u001b[0;34m'item_description_word2vec'\u001b[0m\u001b[0;34m]\u001b[0m \u001b[0;34m=\u001b[0m \u001b[0mconvert_to_np_array\u001b[0m\u001b[0;34m(\u001b[0m\u001b[0mX_train\u001b[0m\u001b[0;34m[\u001b[0m\u001b[0;34m'item_description_word2vec'\u001b[0m\u001b[0;34m]\u001b[0m\u001b[0;34m)\u001b[0m\u001b[0;34m\u001b[0m\u001b[0;34m\u001b[0m\u001b[0m\n",
            "\u001b[0;32m<ipython-input-78-f23633fff7fa>\u001b[0m in \u001b[0;36mconvert_to_np_array\u001b[0;34m(word2vec_column)\u001b[0m\n\u001b[1;32m      2\u001b[0m \u001b[0;34m\u001b[0m\u001b[0m\n\u001b[1;32m      3\u001b[0m \u001b[0;32mdef\u001b[0m \u001b[0mconvert_to_np_array\u001b[0m\u001b[0;34m(\u001b[0m\u001b[0mword2vec_column\u001b[0m\u001b[0;34m)\u001b[0m\u001b[0;34m:\u001b[0m\u001b[0;34m\u001b[0m\u001b[0;34m\u001b[0m\u001b[0m\n\u001b[0;32m----> 4\u001b[0;31m     \u001b[0;32mreturn\u001b[0m \u001b[0mnp\u001b[0m\u001b[0;34m.\u001b[0m\u001b[0marray\u001b[0m\u001b[0;34m(\u001b[0m\u001b[0;34m[\u001b[0m\u001b[0mnp\u001b[0m\u001b[0;34m.\u001b[0m\u001b[0marray\u001b[0m\u001b[0;34m(\u001b[0m\u001b[0mvec\u001b[0m\u001b[0;34m)\u001b[0m \u001b[0;32mfor\u001b[0m \u001b[0mvec\u001b[0m \u001b[0;32min\u001b[0m \u001b[0mword2vec_column\u001b[0m\u001b[0;34m]\u001b[0m\u001b[0;34m)\u001b[0m\u001b[0;34m\u001b[0m\u001b[0;34m\u001b[0m\u001b[0m\n\u001b[0m\u001b[1;32m      5\u001b[0m \u001b[0;34m\u001b[0m\u001b[0m\n\u001b[1;32m      6\u001b[0m \u001b[0mX_train\u001b[0m\u001b[0;34m[\u001b[0m\u001b[0;34m'auction_description_word2vec'\u001b[0m\u001b[0;34m]\u001b[0m \u001b[0;34m=\u001b[0m \u001b[0mconvert_to_np_array\u001b[0m\u001b[0;34m(\u001b[0m\u001b[0mX_train\u001b[0m\u001b[0;34m[\u001b[0m\u001b[0;34m'auction_description_word2vec'\u001b[0m\u001b[0;34m]\u001b[0m\u001b[0;34m)\u001b[0m\u001b[0;34m\u001b[0m\u001b[0;34m\u001b[0m\u001b[0m\n",
            "\u001b[0;31mValueError\u001b[0m: setting an array element with a sequence. The requested array has an inhomogeneous shape after 1 dimensions. The detected shape was (2686,) + inhomogeneous part."
          ]
        }
      ]
    },
    {
      "cell_type": "code",
      "source": [
        "# Model eğitimi\n",
        "model.fit(X_train, y_train, epochs=10, validation_data=(X_val, y_val))"
      ],
      "metadata": {
        "colab": {
          "base_uri": "https://localhost:8080/",
          "height": 304
        },
        "id": "y9s_eg_w9qr6",
        "outputId": "ab01680f-cba9-4729-8d08-2a651deedf72"
      },
      "execution_count": null,
      "outputs": [
        {
          "output_type": "error",
          "ename": "ValueError",
          "evalue": "Failed to convert a NumPy array to a Tensor (Unsupported object type int).",
          "traceback": [
            "\u001b[0;31m---------------------------------------------------------------------------\u001b[0m",
            "\u001b[0;31mValueError\u001b[0m                                Traceback (most recent call last)",
            "\u001b[0;32m<ipython-input-74-7672290e8835>\u001b[0m in \u001b[0;36m<cell line: 2>\u001b[0;34m()\u001b[0m\n\u001b[1;32m      1\u001b[0m \u001b[0;31m# Model eğitimi\u001b[0m\u001b[0;34m\u001b[0m\u001b[0;34m\u001b[0m\u001b[0m\n\u001b[0;32m----> 2\u001b[0;31m \u001b[0mmodel\u001b[0m\u001b[0;34m.\u001b[0m\u001b[0mfit\u001b[0m\u001b[0;34m(\u001b[0m\u001b[0mX_train\u001b[0m\u001b[0;34m,\u001b[0m \u001b[0my_train\u001b[0m\u001b[0;34m,\u001b[0m \u001b[0mepochs\u001b[0m\u001b[0;34m=\u001b[0m\u001b[0;36m10\u001b[0m\u001b[0;34m,\u001b[0m \u001b[0mvalidation_data\u001b[0m\u001b[0;34m=\u001b[0m\u001b[0;34m(\u001b[0m\u001b[0mX_val\u001b[0m\u001b[0;34m,\u001b[0m \u001b[0my_val\u001b[0m\u001b[0;34m)\u001b[0m\u001b[0;34m)\u001b[0m\u001b[0;34m\u001b[0m\u001b[0;34m\u001b[0m\u001b[0m\n\u001b[0m",
            "\u001b[0;32m/usr/local/lib/python3.10/dist-packages/keras/src/utils/traceback_utils.py\u001b[0m in \u001b[0;36merror_handler\u001b[0;34m(*args, **kwargs)\u001b[0m\n\u001b[1;32m     68\u001b[0m             \u001b[0;31m# To get the full stack trace, call:\u001b[0m\u001b[0;34m\u001b[0m\u001b[0;34m\u001b[0m\u001b[0m\n\u001b[1;32m     69\u001b[0m             \u001b[0;31m# `tf.debugging.disable_traceback_filtering()`\u001b[0m\u001b[0;34m\u001b[0m\u001b[0;34m\u001b[0m\u001b[0m\n\u001b[0;32m---> 70\u001b[0;31m             \u001b[0;32mraise\u001b[0m \u001b[0me\u001b[0m\u001b[0;34m.\u001b[0m\u001b[0mwith_traceback\u001b[0m\u001b[0;34m(\u001b[0m\u001b[0mfiltered_tb\u001b[0m\u001b[0;34m)\u001b[0m \u001b[0;32mfrom\u001b[0m \u001b[0;32mNone\u001b[0m\u001b[0;34m\u001b[0m\u001b[0;34m\u001b[0m\u001b[0m\n\u001b[0m\u001b[1;32m     71\u001b[0m         \u001b[0;32mfinally\u001b[0m\u001b[0;34m:\u001b[0m\u001b[0;34m\u001b[0m\u001b[0;34m\u001b[0m\u001b[0m\n\u001b[1;32m     72\u001b[0m             \u001b[0;32mdel\u001b[0m \u001b[0mfiltered_tb\u001b[0m\u001b[0;34m\u001b[0m\u001b[0;34m\u001b[0m\u001b[0m\n",
            "\u001b[0;32m/usr/local/lib/python3.10/dist-packages/tensorflow/python/framework/constant_op.py\u001b[0m in \u001b[0;36mconvert_to_eager_tensor\u001b[0;34m(value, ctx, dtype)\u001b[0m\n\u001b[1;32m    101\u001b[0m       \u001b[0mdtype\u001b[0m \u001b[0;34m=\u001b[0m \u001b[0mdtypes\u001b[0m\u001b[0;34m.\u001b[0m\u001b[0mas_dtype\u001b[0m\u001b[0;34m(\u001b[0m\u001b[0mdtype\u001b[0m\u001b[0;34m)\u001b[0m\u001b[0;34m.\u001b[0m\u001b[0mas_datatype_enum\u001b[0m\u001b[0;34m\u001b[0m\u001b[0;34m\u001b[0m\u001b[0m\n\u001b[1;32m    102\u001b[0m   \u001b[0mctx\u001b[0m\u001b[0;34m.\u001b[0m\u001b[0mensure_initialized\u001b[0m\u001b[0;34m(\u001b[0m\u001b[0;34m)\u001b[0m\u001b[0;34m\u001b[0m\u001b[0;34m\u001b[0m\u001b[0m\n\u001b[0;32m--> 103\u001b[0;31m   \u001b[0;32mreturn\u001b[0m \u001b[0mops\u001b[0m\u001b[0;34m.\u001b[0m\u001b[0mEagerTensor\u001b[0m\u001b[0;34m(\u001b[0m\u001b[0mvalue\u001b[0m\u001b[0;34m,\u001b[0m \u001b[0mctx\u001b[0m\u001b[0;34m.\u001b[0m\u001b[0mdevice_name\u001b[0m\u001b[0;34m,\u001b[0m \u001b[0mdtype\u001b[0m\u001b[0;34m)\u001b[0m\u001b[0;34m\u001b[0m\u001b[0;34m\u001b[0m\u001b[0m\n\u001b[0m\u001b[1;32m    104\u001b[0m \u001b[0;34m\u001b[0m\u001b[0m\n\u001b[1;32m    105\u001b[0m \u001b[0;34m\u001b[0m\u001b[0m\n",
            "\u001b[0;31mValueError\u001b[0m: Failed to convert a NumPy array to a Tensor (Unsupported object type int)."
          ]
        }
      ]
    },
    {
      "cell_type": "code",
      "source": [
        "X_train.info()"
      ],
      "metadata": {
        "colab": {
          "base_uri": "https://localhost:8080/"
        },
        "id": "L474MPD8-Uj8",
        "outputId": "6911c904-1c56-4728-bb8b-0afccbf654ba"
      },
      "execution_count": null,
      "outputs": [
        {
          "output_type": "stream",
          "name": "stdout",
          "text": [
            "<class 'pandas.core.frame.DataFrame'>\n",
            "Index: 2686 entries, 17323 to 5924\n",
            "Data columns (total 11 columns):\n",
            " #   Column                        Non-Null Count  Dtype \n",
            "---  ------                        --------------  ----- \n",
            " 0   item_lot_no                   2686 non-null   int64 \n",
            " 1   item_reserve_price            2686 non-null   int64 \n",
            " 2   item_tracking_no              2686 non-null   uint64\n",
            " 3   item_bid_no                   2686 non-null   int64 \n",
            " 4   auction_datetime_day          2686 non-null   int64 \n",
            " 5   auction_datetime_month        2686 non-null   int64 \n",
            " 6   auction_datetime_year         2686 non-null   int64 \n",
            " 7   auction_datetime_hour         2686 non-null   int64 \n",
            " 8   auction_datetime_minute       2686 non-null   int64 \n",
            " 9   auction_description_word2vec  2686 non-null   object\n",
            " 10  item_description_word2vec     2686 non-null   object\n",
            "dtypes: int64(8), object(2), uint64(1)\n",
            "memory usage: 251.8+ KB\n"
          ]
        }
      ]
    },
    {
      "cell_type": "code",
      "source": [],
      "metadata": {
        "id": "ibJ4lUGz-VLK"
      },
      "execution_count": null,
      "outputs": []
    }
  ]
}