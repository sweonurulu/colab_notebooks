{
  "nbformat": 4,
  "nbformat_minor": 0,
  "metadata": {
    "colab": {
      "provenance": [],
      "include_colab_link": true
    },
    "kernelspec": {
      "name": "python3",
      "display_name": "Python 3"
    },
    "language_info": {
      "name": "python"
    }
  },
  "cells": [
    {
      "cell_type": "markdown",
      "metadata": {
        "id": "view-in-github",
        "colab_type": "text"
      },
      "source": [
        "<a href=\"https://colab.research.google.com/github/sweonurulu/colab_notebooks/blob/main/petrol_EVDS.ipynb\" target=\"_parent\"><img src=\"https://colab.research.google.com/assets/colab-badge.svg\" alt=\"Open In Colab\"/></a>"
      ]
    },
    {
      "cell_type": "markdown",
      "source": [
        "## IMPORT MODULS"
      ],
      "metadata": {
        "id": "38WpXG6Q3f1q"
      }
    },
    {
      "cell_type": "code",
      "source": [
        "!pip install evds"
      ],
      "metadata": {
        "colab": {
          "base_uri": "https://localhost:8080/"
        },
        "outputId": "e0b647e3-3263-44c2-ebec-0df3037ee72a",
        "id": "97RFWp5x3f16"
      },
      "execution_count": null,
      "outputs": [
        {
          "output_type": "stream",
          "name": "stdout",
          "text": [
            "Requirement already satisfied: evds in /usr/local/lib/python3.10/dist-packages (0.3.1)\n",
            "Requirement already satisfied: pandas in /usr/local/lib/python3.10/dist-packages (from evds) (2.0.3)\n",
            "Requirement already satisfied: requests in /usr/local/lib/python3.10/dist-packages (from evds) (2.31.0)\n",
            "Requirement already satisfied: urllib3 in /usr/local/lib/python3.10/dist-packages (from evds) (2.0.7)\n",
            "Requirement already satisfied: python-dateutil>=2.8.2 in /usr/local/lib/python3.10/dist-packages (from pandas->evds) (2.8.2)\n",
            "Requirement already satisfied: pytz>=2020.1 in /usr/local/lib/python3.10/dist-packages (from pandas->evds) (2023.4)\n",
            "Requirement already satisfied: tzdata>=2022.1 in /usr/local/lib/python3.10/dist-packages (from pandas->evds) (2024.1)\n",
            "Requirement already satisfied: numpy>=1.21.0 in /usr/local/lib/python3.10/dist-packages (from pandas->evds) (1.25.2)\n",
            "Requirement already satisfied: charset-normalizer<4,>=2 in /usr/local/lib/python3.10/dist-packages (from requests->evds) (3.3.2)\n",
            "Requirement already satisfied: idna<4,>=2.5 in /usr/local/lib/python3.10/dist-packages (from requests->evds) (3.6)\n",
            "Requirement already satisfied: certifi>=2017.4.17 in /usr/local/lib/python3.10/dist-packages (from requests->evds) (2024.2.2)\n",
            "Requirement already satisfied: six>=1.5 in /usr/local/lib/python3.10/dist-packages (from python-dateutil>=2.8.2->pandas->evds) (1.16.0)\n"
          ]
        }
      ]
    },
    {
      "cell_type": "code",
      "source": [],
      "metadata": {
        "id": "MWbS7K_mWI6v"
      },
      "execution_count": null,
      "outputs": []
    },
    {
      "cell_type": "code",
      "source": [],
      "metadata": {
        "id": "a1k3EoTfWJG-"
      },
      "execution_count": null,
      "outputs": []
    },
    {
      "cell_type": "code",
      "source": [
        "!pip install pymannkendall"
      ],
      "metadata": {
        "id": "jxYxLXmLhkBQ",
        "outputId": "b0eeca3a-1827-4b8a-bc3d-60d218b79777",
        "colab": {
          "base_uri": "https://localhost:8080/"
        }
      },
      "execution_count": null,
      "outputs": [
        {
          "output_type": "stream",
          "name": "stdout",
          "text": [
            "Requirement already satisfied: pymannkendall in /usr/local/lib/python3.10/dist-packages (1.4.3)\n",
            "Requirement already satisfied: numpy in /usr/local/lib/python3.10/dist-packages (from pymannkendall) (1.25.2)\n",
            "Requirement already satisfied: scipy in /usr/local/lib/python3.10/dist-packages (from pymannkendall) (1.11.4)\n"
          ]
        }
      ]
    },
    {
      "cell_type": "code",
      "source": [
        "!pip install pmdarima"
      ],
      "metadata": {
        "colab": {
          "base_uri": "https://localhost:8080/"
        },
        "id": "PjQx4yo_5ZAQ",
        "outputId": "b4a35983-68c1-4d36-87a8-1eeaa42e6fcb"
      },
      "execution_count": null,
      "outputs": [
        {
          "output_type": "stream",
          "name": "stdout",
          "text": [
            "Collecting pmdarima\n",
            "  Downloading pmdarima-2.0.4-cp310-cp310-manylinux_2_17_x86_64.manylinux2014_x86_64.manylinux_2_28_x86_64.whl (2.1 MB)\n",
            "\u001b[2K     \u001b[90m━━━━━━━━━━━━━━━━━━━━━━━━━━━━━━━━━━━━━━━━\u001b[0m \u001b[32m2.1/2.1 MB\u001b[0m \u001b[31m6.5 MB/s\u001b[0m eta \u001b[36m0:00:00\u001b[0m\n",
            "\u001b[?25hRequirement already satisfied: joblib>=0.11 in /usr/local/lib/python3.10/dist-packages (from pmdarima) (1.3.2)\n",
            "Requirement already satisfied: Cython!=0.29.18,!=0.29.31,>=0.29 in /usr/local/lib/python3.10/dist-packages (from pmdarima) (3.0.10)\n",
            "Requirement already satisfied: numpy>=1.21.2 in /usr/local/lib/python3.10/dist-packages (from pmdarima) (1.25.2)\n",
            "Requirement already satisfied: pandas>=0.19 in /usr/local/lib/python3.10/dist-packages (from pmdarima) (2.0.3)\n",
            "Requirement already satisfied: scikit-learn>=0.22 in /usr/local/lib/python3.10/dist-packages (from pmdarima) (1.2.2)\n",
            "Requirement already satisfied: scipy>=1.3.2 in /usr/local/lib/python3.10/dist-packages (from pmdarima) (1.11.4)\n",
            "Requirement already satisfied: statsmodels>=0.13.2 in /usr/local/lib/python3.10/dist-packages (from pmdarima) (0.14.1)\n",
            "Requirement already satisfied: urllib3 in /usr/local/lib/python3.10/dist-packages (from pmdarima) (2.0.7)\n",
            "Requirement already satisfied: setuptools!=50.0.0,>=38.6.0 in /usr/local/lib/python3.10/dist-packages (from pmdarima) (67.7.2)\n",
            "Requirement already satisfied: packaging>=17.1 in /usr/local/lib/python3.10/dist-packages (from pmdarima) (24.0)\n",
            "Requirement already satisfied: python-dateutil>=2.8.2 in /usr/local/lib/python3.10/dist-packages (from pandas>=0.19->pmdarima) (2.8.2)\n",
            "Requirement already satisfied: pytz>=2020.1 in /usr/local/lib/python3.10/dist-packages (from pandas>=0.19->pmdarima) (2023.4)\n",
            "Requirement already satisfied: tzdata>=2022.1 in /usr/local/lib/python3.10/dist-packages (from pandas>=0.19->pmdarima) (2024.1)\n",
            "Requirement already satisfied: threadpoolctl>=2.0.0 in /usr/local/lib/python3.10/dist-packages (from scikit-learn>=0.22->pmdarima) (3.4.0)\n",
            "Requirement already satisfied: patsy>=0.5.4 in /usr/local/lib/python3.10/dist-packages (from statsmodels>=0.13.2->pmdarima) (0.5.6)\n",
            "Requirement already satisfied: six in /usr/local/lib/python3.10/dist-packages (from patsy>=0.5.4->statsmodels>=0.13.2->pmdarima) (1.16.0)\n",
            "Installing collected packages: pmdarima\n",
            "Successfully installed pmdarima-2.0.4\n"
          ]
        }
      ]
    },
    {
      "cell_type": "code",
      "source": [
        "# dataset\n",
        "from evds import evdsAPI\n",
        "import pandas as pd\n",
        "import numpy as np\n",
        "\n",
        "# time series analysis\n",
        "from statsmodels.tsa.seasonal import seasonal_decompose\n",
        "from statsmodels.tsa.stattools import acf,pacf,adfuller,kpss\n",
        "from statsmodels.graphics.tsaplots import plot_acf,plot_pacf\n",
        "import pymannkendall\n",
        "from sklearn.metrics import mean_absolute_percentage_error\n",
        "\n",
        "# models\n",
        "from statsmodels.tsa.holtwinters import ExponentialSmoothing\n",
        "from statsmodels.tsa.holtwinters import SimpleExpSmoothing\n",
        "import pmdarima as pmd\n",
        "from statsmodels.tsa.statespace.sarimax import SARIMAX\n",
        "\n",
        "# data visualization\n",
        "import plotly.express as px\n",
        "import plotly.graph_objects as go\n",
        "from plotly.subplots import make_subplots\n",
        "import plotly.io as pio\n",
        "import matplotlib.pyplot as plt\n",
        "\n",
        "from warnings import filterwarnings\n",
        "filterwarnings(\"ignore\")"
      ],
      "metadata": {
        "id": "njdnrt0z3f17"
      },
      "execution_count": null,
      "outputs": []
    },
    {
      "cell_type": "markdown",
      "source": [
        "## EVDS API & GET DATASET"
      ],
      "metadata": {
        "id": "inTIAvSGzJVE"
      }
    },
    {
      "cell_type": "markdown",
      "source": [
        "**EVDS Sisteminden veri çekebilmek için https://evds2.tcmb.gov.tr/ sitesine giriş yapıp profil kısmından API anahtarını almamız gerekiyor.**\n",
        "\n",
        "---\n",
        "**EVDS API kullanım kılavuzu ve Python dökümantasyonu için: https://evdsf5.tcmb.gov.tr/index.php?/evds/userDocs**\n"
      ],
      "metadata": {
        "id": "s-RrdaD1Tf1i"
      }
    },
    {
      "cell_type": "code",
      "source": [
        "evds = evdsAPI(\"ZOlbbrnBi8\")"
      ],
      "metadata": {
        "id": "WiO22PDyx_xF"
      },
      "execution_count": null,
      "outputs": []
    },
    {
      "cell_type": "code",
      "source": [
        "evds.main_categories # ana kategoriler"
      ],
      "metadata": {
        "id": "8NGnj_h_yQJ1",
        "colab": {
          "base_uri": "https://localhost:8080/"
        },
        "outputId": "43a27e68-acd3-487d-f0b1-8f79d64a9f76"
      },
      "execution_count": null,
      "outputs": [
        {
          "output_type": "execute_result",
          "data": {
            "text/plain": [
              "    CATEGORY_ID                                     TOPIC_TITLE_TR\n",
              "0             1                             PİYASA VERİLERİ (TCMB)\n",
              "1             2                                      KURLAR (TCMB)\n",
              "2             3                         FAİZ İSTATİSTİKLERİ (TCMB)\n",
              "3             4          AYLIK PARA VE BANKA İSTATİSTİKLERİ (TCMB)\n",
              "4             5                MENKUL KIYMET İSTATİSTİKLERİ (TCMB)\n",
              "5            12                   FİNANSAL HİZMETLER ANKETİ (TCMB)\n",
              "6            13             MERKEZ BANKASI BİLANÇO VERİLERİ (TCMB)\n",
              "7            14                                   FİYAT ENDEKSLERİ\n",
              "8            15                     İKTİSADİ YÖNELİM ANKETİ (TCMB)\n",
              "9            18              ULUSLARARASI YATIRIM POZİSYONU (TCMB)\n",
              "10           19                  DIŞ TİCARET İSTATİSTİKLERİ (TÜİK)\n",
              "11           20             KAMU MALİYESİ İSTATİSTİKLERİ (HMB,SBB)\n",
              "12           21                      ÜRETİME İLİŞKİN DİĞER VERİLER\n",
              "13           22             ÖDEME SİSTEMLERİ İSTATİSTİKLERİ (TCMB)\n",
              "14           23                       İŞGÜCÜ İSTATİSTİKLERİ (TÜİK)\n",
              "15            6                  TÜRKİYE BRÜT DIŞ BORÇ STOKU (HMB)\n",
              "16            7  ZORUNLU KARŞILIKLARA TABİ MEVDUAT VE KATILIM F...\n",
              "17           24                KARŞILAŞTIRMALI ÜLKE İSTATİSTİKLERİ\n",
              "18           26                         KONUT FİYAT ENDEKSİ (TCMB)\n",
              "19           27                           FİNANSAL HESAPLAR (TCMB)\n",
              "20           28              KONUT VE İNŞAAT İSTATİSTİKLERİ (TÜİK)\n",
              "21           95                EVDS KULLANIM İSTATİSTİKLERİ (TCMB)\n",
              "22            9  BANKA DIŞI FİNANSAL KURULUŞLAR İSTATİSTİKLERİ ...\n",
              "23           10               BANKA KREDİLERİ EĞİLİM ANKETİ (TCMB)\n",
              "24           11  BANKA VE KREDİ KARTI SEKTÖREL HARCAMA İSTATİST...\n",
              "25           16            BİLEŞİK ÖNCÜ GÖSTERGELER ENDEKSİ (TCMB)\n",
              "26           29                      DIŞ TİCARET ENDEKSLERİ (TÜİK)\n",
              "27           30  DIŞ TİCARET NAKLİYE ARAÇLARI İSTATİSTİKLERİ (UND)\n",
              "28           31                             DİĞER FİNANSAL VERİLER\n",
              "29           32  FİNANSAL KESİM DIŞINDAKİ FİRMALARIN DÖVİZ VARL...\n",
              "30           33       HAFTALIK PARA VE BANKA İSTATİSTİKLERİ (TCMB)\n",
              "31           34       İMALAT SANAYİ KAPASİTE KULLANIM ORANI (TCMB)\n",
              "32           35         KISA VADELİ DIŞ BORÇ İSTATİSTİKLERİ (TCMB)\n",
              "33           36             ÖDEMELER DENGESİ İSTATİSTİKLERİ (TCMB)\n",
              "34           37  ÖZEL SEKTÖRÜN YURT DIŞINDAN SAĞLADIĞI KREDİ BO...\n",
              "35           38                 PİYASA KATILIMCILARI ANKETİ (TCMB)\n",
              "36           39     TEDAVÜLDEKİ BANKNOTLARIN KUPÜR DAĞILIMI (TCMB)\n",
              "37           40                TÜKETİCİ EĞİLİM ANKETİ (TÜİK, TCMB)\n",
              "38           41                             ULUSAL HESAPLAR (TÜİK)\n",
              "39           42  ULUSLARARASI REZERVLER VE DÖVİZ LİKİDİTESİ (TCMB)\n",
              "40           45            TİCARİ GAYRİMENKUL FİYAT ENDEKSİ (TCMB)\n",
              "41           44                                 SEKTÖR BİLANÇOLARI"
            ],
            "text/html": [
              "\n",
              "  <div id=\"df-599216fc-57b4-4847-b0d8-d23ad1916cb7\" class=\"colab-df-container\">\n",
              "    <div>\n",
              "<style scoped>\n",
              "    .dataframe tbody tr th:only-of-type {\n",
              "        vertical-align: middle;\n",
              "    }\n",
              "\n",
              "    .dataframe tbody tr th {\n",
              "        vertical-align: top;\n",
              "    }\n",
              "\n",
              "    .dataframe thead th {\n",
              "        text-align: right;\n",
              "    }\n",
              "</style>\n",
              "<table border=\"1\" class=\"dataframe\">\n",
              "  <thead>\n",
              "    <tr style=\"text-align: right;\">\n",
              "      <th></th>\n",
              "      <th>CATEGORY_ID</th>\n",
              "      <th>TOPIC_TITLE_TR</th>\n",
              "    </tr>\n",
              "  </thead>\n",
              "  <tbody>\n",
              "    <tr>\n",
              "      <th>0</th>\n",
              "      <td>1</td>\n",
              "      <td>PİYASA VERİLERİ (TCMB)</td>\n",
              "    </tr>\n",
              "    <tr>\n",
              "      <th>1</th>\n",
              "      <td>2</td>\n",
              "      <td>KURLAR (TCMB)</td>\n",
              "    </tr>\n",
              "    <tr>\n",
              "      <th>2</th>\n",
              "      <td>3</td>\n",
              "      <td>FAİZ İSTATİSTİKLERİ (TCMB)</td>\n",
              "    </tr>\n",
              "    <tr>\n",
              "      <th>3</th>\n",
              "      <td>4</td>\n",
              "      <td>AYLIK PARA VE BANKA İSTATİSTİKLERİ (TCMB)</td>\n",
              "    </tr>\n",
              "    <tr>\n",
              "      <th>4</th>\n",
              "      <td>5</td>\n",
              "      <td>MENKUL KIYMET İSTATİSTİKLERİ (TCMB)</td>\n",
              "    </tr>\n",
              "    <tr>\n",
              "      <th>5</th>\n",
              "      <td>12</td>\n",
              "      <td>FİNANSAL HİZMETLER ANKETİ (TCMB)</td>\n",
              "    </tr>\n",
              "    <tr>\n",
              "      <th>6</th>\n",
              "      <td>13</td>\n",
              "      <td>MERKEZ BANKASI BİLANÇO VERİLERİ (TCMB)</td>\n",
              "    </tr>\n",
              "    <tr>\n",
              "      <th>7</th>\n",
              "      <td>14</td>\n",
              "      <td>FİYAT ENDEKSLERİ</td>\n",
              "    </tr>\n",
              "    <tr>\n",
              "      <th>8</th>\n",
              "      <td>15</td>\n",
              "      <td>İKTİSADİ YÖNELİM ANKETİ (TCMB)</td>\n",
              "    </tr>\n",
              "    <tr>\n",
              "      <th>9</th>\n",
              "      <td>18</td>\n",
              "      <td>ULUSLARARASI YATIRIM POZİSYONU (TCMB)</td>\n",
              "    </tr>\n",
              "    <tr>\n",
              "      <th>10</th>\n",
              "      <td>19</td>\n",
              "      <td>DIŞ TİCARET İSTATİSTİKLERİ (TÜİK)</td>\n",
              "    </tr>\n",
              "    <tr>\n",
              "      <th>11</th>\n",
              "      <td>20</td>\n",
              "      <td>KAMU MALİYESİ İSTATİSTİKLERİ (HMB,SBB)</td>\n",
              "    </tr>\n",
              "    <tr>\n",
              "      <th>12</th>\n",
              "      <td>21</td>\n",
              "      <td>ÜRETİME İLİŞKİN DİĞER VERİLER</td>\n",
              "    </tr>\n",
              "    <tr>\n",
              "      <th>13</th>\n",
              "      <td>22</td>\n",
              "      <td>ÖDEME SİSTEMLERİ İSTATİSTİKLERİ (TCMB)</td>\n",
              "    </tr>\n",
              "    <tr>\n",
              "      <th>14</th>\n",
              "      <td>23</td>\n",
              "      <td>İŞGÜCÜ İSTATİSTİKLERİ (TÜİK)</td>\n",
              "    </tr>\n",
              "    <tr>\n",
              "      <th>15</th>\n",
              "      <td>6</td>\n",
              "      <td>TÜRKİYE BRÜT DIŞ BORÇ STOKU (HMB)</td>\n",
              "    </tr>\n",
              "    <tr>\n",
              "      <th>16</th>\n",
              "      <td>7</td>\n",
              "      <td>ZORUNLU KARŞILIKLARA TABİ MEVDUAT VE KATILIM F...</td>\n",
              "    </tr>\n",
              "    <tr>\n",
              "      <th>17</th>\n",
              "      <td>24</td>\n",
              "      <td>KARŞILAŞTIRMALI ÜLKE İSTATİSTİKLERİ</td>\n",
              "    </tr>\n",
              "    <tr>\n",
              "      <th>18</th>\n",
              "      <td>26</td>\n",
              "      <td>KONUT FİYAT ENDEKSİ (TCMB)</td>\n",
              "    </tr>\n",
              "    <tr>\n",
              "      <th>19</th>\n",
              "      <td>27</td>\n",
              "      <td>FİNANSAL HESAPLAR (TCMB)</td>\n",
              "    </tr>\n",
              "    <tr>\n",
              "      <th>20</th>\n",
              "      <td>28</td>\n",
              "      <td>KONUT VE İNŞAAT İSTATİSTİKLERİ (TÜİK)</td>\n",
              "    </tr>\n",
              "    <tr>\n",
              "      <th>21</th>\n",
              "      <td>95</td>\n",
              "      <td>EVDS KULLANIM İSTATİSTİKLERİ (TCMB)</td>\n",
              "    </tr>\n",
              "    <tr>\n",
              "      <th>22</th>\n",
              "      <td>9</td>\n",
              "      <td>BANKA DIŞI FİNANSAL KURULUŞLAR İSTATİSTİKLERİ ...</td>\n",
              "    </tr>\n",
              "    <tr>\n",
              "      <th>23</th>\n",
              "      <td>10</td>\n",
              "      <td>BANKA KREDİLERİ EĞİLİM ANKETİ (TCMB)</td>\n",
              "    </tr>\n",
              "    <tr>\n",
              "      <th>24</th>\n",
              "      <td>11</td>\n",
              "      <td>BANKA VE KREDİ KARTI SEKTÖREL HARCAMA İSTATİST...</td>\n",
              "    </tr>\n",
              "    <tr>\n",
              "      <th>25</th>\n",
              "      <td>16</td>\n",
              "      <td>BİLEŞİK ÖNCÜ GÖSTERGELER ENDEKSİ (TCMB)</td>\n",
              "    </tr>\n",
              "    <tr>\n",
              "      <th>26</th>\n",
              "      <td>29</td>\n",
              "      <td>DIŞ TİCARET ENDEKSLERİ (TÜİK)</td>\n",
              "    </tr>\n",
              "    <tr>\n",
              "      <th>27</th>\n",
              "      <td>30</td>\n",
              "      <td>DIŞ TİCARET NAKLİYE ARAÇLARI İSTATİSTİKLERİ (UND)</td>\n",
              "    </tr>\n",
              "    <tr>\n",
              "      <th>28</th>\n",
              "      <td>31</td>\n",
              "      <td>DİĞER FİNANSAL VERİLER</td>\n",
              "    </tr>\n",
              "    <tr>\n",
              "      <th>29</th>\n",
              "      <td>32</td>\n",
              "      <td>FİNANSAL KESİM DIŞINDAKİ FİRMALARIN DÖVİZ VARL...</td>\n",
              "    </tr>\n",
              "    <tr>\n",
              "      <th>30</th>\n",
              "      <td>33</td>\n",
              "      <td>HAFTALIK PARA VE BANKA İSTATİSTİKLERİ (TCMB)</td>\n",
              "    </tr>\n",
              "    <tr>\n",
              "      <th>31</th>\n",
              "      <td>34</td>\n",
              "      <td>İMALAT SANAYİ KAPASİTE KULLANIM ORANI (TCMB)</td>\n",
              "    </tr>\n",
              "    <tr>\n",
              "      <th>32</th>\n",
              "      <td>35</td>\n",
              "      <td>KISA VADELİ DIŞ BORÇ İSTATİSTİKLERİ (TCMB)</td>\n",
              "    </tr>\n",
              "    <tr>\n",
              "      <th>33</th>\n",
              "      <td>36</td>\n",
              "      <td>ÖDEMELER DENGESİ İSTATİSTİKLERİ (TCMB)</td>\n",
              "    </tr>\n",
              "    <tr>\n",
              "      <th>34</th>\n",
              "      <td>37</td>\n",
              "      <td>ÖZEL SEKTÖRÜN YURT DIŞINDAN SAĞLADIĞI KREDİ BO...</td>\n",
              "    </tr>\n",
              "    <tr>\n",
              "      <th>35</th>\n",
              "      <td>38</td>\n",
              "      <td>PİYASA KATILIMCILARI ANKETİ (TCMB)</td>\n",
              "    </tr>\n",
              "    <tr>\n",
              "      <th>36</th>\n",
              "      <td>39</td>\n",
              "      <td>TEDAVÜLDEKİ BANKNOTLARIN KUPÜR DAĞILIMI (TCMB)</td>\n",
              "    </tr>\n",
              "    <tr>\n",
              "      <th>37</th>\n",
              "      <td>40</td>\n",
              "      <td>TÜKETİCİ EĞİLİM ANKETİ (TÜİK, TCMB)</td>\n",
              "    </tr>\n",
              "    <tr>\n",
              "      <th>38</th>\n",
              "      <td>41</td>\n",
              "      <td>ULUSAL HESAPLAR (TÜİK)</td>\n",
              "    </tr>\n",
              "    <tr>\n",
              "      <th>39</th>\n",
              "      <td>42</td>\n",
              "      <td>ULUSLARARASI REZERVLER VE DÖVİZ LİKİDİTESİ (TCMB)</td>\n",
              "    </tr>\n",
              "    <tr>\n",
              "      <th>40</th>\n",
              "      <td>45</td>\n",
              "      <td>TİCARİ GAYRİMENKUL FİYAT ENDEKSİ (TCMB)</td>\n",
              "    </tr>\n",
              "    <tr>\n",
              "      <th>41</th>\n",
              "      <td>44</td>\n",
              "      <td>SEKTÖR BİLANÇOLARI</td>\n",
              "    </tr>\n",
              "  </tbody>\n",
              "</table>\n",
              "</div>\n",
              "    <div class=\"colab-df-buttons\">\n",
              "\n",
              "  <div class=\"colab-df-container\">\n",
              "    <button class=\"colab-df-convert\" onclick=\"convertToInteractive('df-599216fc-57b4-4847-b0d8-d23ad1916cb7')\"\n",
              "            title=\"Convert this dataframe to an interactive table.\"\n",
              "            style=\"display:none;\">\n",
              "\n",
              "  <svg xmlns=\"http://www.w3.org/2000/svg\" height=\"24px\" viewBox=\"0 -960 960 960\">\n",
              "    <path d=\"M120-120v-720h720v720H120Zm60-500h600v-160H180v160Zm220 220h160v-160H400v160Zm0 220h160v-160H400v160ZM180-400h160v-160H180v160Zm440 0h160v-160H620v160ZM180-180h160v-160H180v160Zm440 0h160v-160H620v160Z\"/>\n",
              "  </svg>\n",
              "    </button>\n",
              "\n",
              "  <style>\n",
              "    .colab-df-container {\n",
              "      display:flex;\n",
              "      gap: 12px;\n",
              "    }\n",
              "\n",
              "    .colab-df-convert {\n",
              "      background-color: #E8F0FE;\n",
              "      border: none;\n",
              "      border-radius: 50%;\n",
              "      cursor: pointer;\n",
              "      display: none;\n",
              "      fill: #1967D2;\n",
              "      height: 32px;\n",
              "      padding: 0 0 0 0;\n",
              "      width: 32px;\n",
              "    }\n",
              "\n",
              "    .colab-df-convert:hover {\n",
              "      background-color: #E2EBFA;\n",
              "      box-shadow: 0px 1px 2px rgba(60, 64, 67, 0.3), 0px 1px 3px 1px rgba(60, 64, 67, 0.15);\n",
              "      fill: #174EA6;\n",
              "    }\n",
              "\n",
              "    .colab-df-buttons div {\n",
              "      margin-bottom: 4px;\n",
              "    }\n",
              "\n",
              "    [theme=dark] .colab-df-convert {\n",
              "      background-color: #3B4455;\n",
              "      fill: #D2E3FC;\n",
              "    }\n",
              "\n",
              "    [theme=dark] .colab-df-convert:hover {\n",
              "      background-color: #434B5C;\n",
              "      box-shadow: 0px 1px 3px 1px rgba(0, 0, 0, 0.15);\n",
              "      filter: drop-shadow(0px 1px 2px rgba(0, 0, 0, 0.3));\n",
              "      fill: #FFFFFF;\n",
              "    }\n",
              "  </style>\n",
              "\n",
              "    <script>\n",
              "      const buttonEl =\n",
              "        document.querySelector('#df-599216fc-57b4-4847-b0d8-d23ad1916cb7 button.colab-df-convert');\n",
              "      buttonEl.style.display =\n",
              "        google.colab.kernel.accessAllowed ? 'block' : 'none';\n",
              "\n",
              "      async function convertToInteractive(key) {\n",
              "        const element = document.querySelector('#df-599216fc-57b4-4847-b0d8-d23ad1916cb7');\n",
              "        const dataTable =\n",
              "          await google.colab.kernel.invokeFunction('convertToInteractive',\n",
              "                                                    [key], {});\n",
              "        if (!dataTable) return;\n",
              "\n",
              "        const docLinkHtml = 'Like what you see? Visit the ' +\n",
              "          '<a target=\"_blank\" href=https://colab.research.google.com/notebooks/data_table.ipynb>data table notebook</a>'\n",
              "          + ' to learn more about interactive tables.';\n",
              "        element.innerHTML = '';\n",
              "        dataTable['output_type'] = 'display_data';\n",
              "        await google.colab.output.renderOutput(dataTable, element);\n",
              "        const docLink = document.createElement('div');\n",
              "        docLink.innerHTML = docLinkHtml;\n",
              "        element.appendChild(docLink);\n",
              "      }\n",
              "    </script>\n",
              "  </div>\n",
              "\n",
              "\n",
              "<div id=\"df-40912f2c-9e14-4159-8299-eb7cc5cd0f80\">\n",
              "  <button class=\"colab-df-quickchart\" onclick=\"quickchart('df-40912f2c-9e14-4159-8299-eb7cc5cd0f80')\"\n",
              "            title=\"Suggest charts\"\n",
              "            style=\"display:none;\">\n",
              "\n",
              "<svg xmlns=\"http://www.w3.org/2000/svg\" height=\"24px\"viewBox=\"0 0 24 24\"\n",
              "     width=\"24px\">\n",
              "    <g>\n",
              "        <path d=\"M19 3H5c-1.1 0-2 .9-2 2v14c0 1.1.9 2 2 2h14c1.1 0 2-.9 2-2V5c0-1.1-.9-2-2-2zM9 17H7v-7h2v7zm4 0h-2V7h2v10zm4 0h-2v-4h2v4z\"/>\n",
              "    </g>\n",
              "</svg>\n",
              "  </button>\n",
              "\n",
              "<style>\n",
              "  .colab-df-quickchart {\n",
              "      --bg-color: #E8F0FE;\n",
              "      --fill-color: #1967D2;\n",
              "      --hover-bg-color: #E2EBFA;\n",
              "      --hover-fill-color: #174EA6;\n",
              "      --disabled-fill-color: #AAA;\n",
              "      --disabled-bg-color: #DDD;\n",
              "  }\n",
              "\n",
              "  [theme=dark] .colab-df-quickchart {\n",
              "      --bg-color: #3B4455;\n",
              "      --fill-color: #D2E3FC;\n",
              "      --hover-bg-color: #434B5C;\n",
              "      --hover-fill-color: #FFFFFF;\n",
              "      --disabled-bg-color: #3B4455;\n",
              "      --disabled-fill-color: #666;\n",
              "  }\n",
              "\n",
              "  .colab-df-quickchart {\n",
              "    background-color: var(--bg-color);\n",
              "    border: none;\n",
              "    border-radius: 50%;\n",
              "    cursor: pointer;\n",
              "    display: none;\n",
              "    fill: var(--fill-color);\n",
              "    height: 32px;\n",
              "    padding: 0;\n",
              "    width: 32px;\n",
              "  }\n",
              "\n",
              "  .colab-df-quickchart:hover {\n",
              "    background-color: var(--hover-bg-color);\n",
              "    box-shadow: 0 1px 2px rgba(60, 64, 67, 0.3), 0 1px 3px 1px rgba(60, 64, 67, 0.15);\n",
              "    fill: var(--button-hover-fill-color);\n",
              "  }\n",
              "\n",
              "  .colab-df-quickchart-complete:disabled,\n",
              "  .colab-df-quickchart-complete:disabled:hover {\n",
              "    background-color: var(--disabled-bg-color);\n",
              "    fill: var(--disabled-fill-color);\n",
              "    box-shadow: none;\n",
              "  }\n",
              "\n",
              "  .colab-df-spinner {\n",
              "    border: 2px solid var(--fill-color);\n",
              "    border-color: transparent;\n",
              "    border-bottom-color: var(--fill-color);\n",
              "    animation:\n",
              "      spin 1s steps(1) infinite;\n",
              "  }\n",
              "\n",
              "  @keyframes spin {\n",
              "    0% {\n",
              "      border-color: transparent;\n",
              "      border-bottom-color: var(--fill-color);\n",
              "      border-left-color: var(--fill-color);\n",
              "    }\n",
              "    20% {\n",
              "      border-color: transparent;\n",
              "      border-left-color: var(--fill-color);\n",
              "      border-top-color: var(--fill-color);\n",
              "    }\n",
              "    30% {\n",
              "      border-color: transparent;\n",
              "      border-left-color: var(--fill-color);\n",
              "      border-top-color: var(--fill-color);\n",
              "      border-right-color: var(--fill-color);\n",
              "    }\n",
              "    40% {\n",
              "      border-color: transparent;\n",
              "      border-right-color: var(--fill-color);\n",
              "      border-top-color: var(--fill-color);\n",
              "    }\n",
              "    60% {\n",
              "      border-color: transparent;\n",
              "      border-right-color: var(--fill-color);\n",
              "    }\n",
              "    80% {\n",
              "      border-color: transparent;\n",
              "      border-right-color: var(--fill-color);\n",
              "      border-bottom-color: var(--fill-color);\n",
              "    }\n",
              "    90% {\n",
              "      border-color: transparent;\n",
              "      border-bottom-color: var(--fill-color);\n",
              "    }\n",
              "  }\n",
              "</style>\n",
              "\n",
              "  <script>\n",
              "    async function quickchart(key) {\n",
              "      const quickchartButtonEl =\n",
              "        document.querySelector('#' + key + ' button');\n",
              "      quickchartButtonEl.disabled = true;  // To prevent multiple clicks.\n",
              "      quickchartButtonEl.classList.add('colab-df-spinner');\n",
              "      try {\n",
              "        const charts = await google.colab.kernel.invokeFunction(\n",
              "            'suggestCharts', [key], {});\n",
              "      } catch (error) {\n",
              "        console.error('Error during call to suggestCharts:', error);\n",
              "      }\n",
              "      quickchartButtonEl.classList.remove('colab-df-spinner');\n",
              "      quickchartButtonEl.classList.add('colab-df-quickchart-complete');\n",
              "    }\n",
              "    (() => {\n",
              "      let quickchartButtonEl =\n",
              "        document.querySelector('#df-40912f2c-9e14-4159-8299-eb7cc5cd0f80 button');\n",
              "      quickchartButtonEl.style.display =\n",
              "        google.colab.kernel.accessAllowed ? 'block' : 'none';\n",
              "    })();\n",
              "  </script>\n",
              "</div>\n",
              "\n",
              "    </div>\n",
              "  </div>\n"
            ],
            "application/vnd.google.colaboratory.intrinsic+json": {
              "type": "dataframe",
              "summary": "{\n  \"name\": \"evds\",\n  \"rows\": 42,\n  \"fields\": [\n    {\n      \"column\": \"CATEGORY_ID\",\n      \"properties\": {\n        \"dtype\": \"number\",\n        \"std\": 17,\n        \"min\": 1,\n        \"max\": 95,\n        \"num_unique_values\": 42,\n        \"samples\": [\n          16,\n          22,\n          15\n        ],\n        \"semantic_type\": \"\",\n        \"description\": \"\"\n      }\n    },\n    {\n      \"column\": \"TOPIC_TITLE_TR\",\n      \"properties\": {\n        \"dtype\": \"string\",\n        \"num_unique_values\": 42,\n        \"samples\": [\n          \"B\\u0130LE\\u015e\\u0130K \\u00d6NC\\u00dc G\\u00d6STERGELER ENDEKS\\u0130 (TCMB)\",\n          \"\\u00d6DEME S\\u0130STEMLER\\u0130 \\u0130STAT\\u0130ST\\u0130KLER\\u0130 (TCMB)\",\n          \"\\u0130KT\\u0130SAD\\u0130 Y\\u00d6NEL\\u0130M ANKET\\u0130 (TCMB)\"\n        ],\n        \"semantic_type\": \"\",\n        \"description\": \"\"\n      }\n    }\n  ]\n}"
            }
          },
          "metadata": {},
          "execution_count": 134
        }
      ]
    },
    {
      "cell_type": "code",
      "source": [
        "evds.get_sub_categories(14) # 14. kategorinin(Fiyat Endeksleri) alt kategorileri"
      ],
      "metadata": {
        "id": "joA4bmZrznpK",
        "colab": {
          "base_uri": "https://localhost:8080/"
        },
        "outputId": "96056aa4-4df5-4fe4-8ff9-8a836dcebc5e"
      },
      "execution_count": null,
      "outputs": [
        {
          "output_type": "execute_result",
          "data": {
            "text/plain": [
              "    CATEGORY_ID   DATAGROUP_CODE  \\\n",
              "0            14      bie_tukfiy4   \n",
              "1            14       bie_feoktg   \n",
              "2            14      bie_tufe1yi   \n",
              "3            14        bie_ufeyd   \n",
              "4            14        bie_ito68   \n",
              "5            14        bie_ito95   \n",
              "6            14     bie_itouge85   \n",
              "7            14      bie_itotefe   \n",
              "8            14      bie_itoteuc   \n",
              "9            14  bie_brentpetrol   \n",
              "10           14     bie_tarimufe   \n",
              "\n",
              "                                       DATAGROUP_NAME  \n",
              "0          TÜİK - Fiyat Endeksi (Tüketici) (2003=100)  \n",
              "1   TÜİK - Fiyat Endeksi-Özel Kapsamlı TÜFE Göster...  \n",
              "2   TÜİK - Fiyat Endeksi (Yurt İçi Üretici Fiyatla...  \n",
              "3   TÜİK - Fiyat Endeksi (Yurt Dışı Üretici Fiyatl...  \n",
              "4       İTO - Geçinme Endeksi (Ücretliler) (1968=100)  \n",
              "5       İTO - Geçinme Endeksi (Ücretliler) (1995=100)  \n",
              "6   İTO - Geçinme Endeksi (Ücretliler)-İstanbul (1...  \n",
              "7        İTO - Fiyat Endeksi (Toptan Eşya) (1968=100)  \n",
              "8   İTO - Fiyat (Toptan Eşya) ve Geçinme (Ücretlil...  \n",
              "9   Avrupa Brent Petrol Spot FOB Fiyatı (Varil Baş...  \n",
              "10  TÜİK - Tarım Ürünleri Üretici Fiyat Endeksi (2...  "
            ],
            "text/html": [
              "\n",
              "  <div id=\"df-695e0383-e383-4a64-92a9-7aed49156094\" class=\"colab-df-container\">\n",
              "    <div>\n",
              "<style scoped>\n",
              "    .dataframe tbody tr th:only-of-type {\n",
              "        vertical-align: middle;\n",
              "    }\n",
              "\n",
              "    .dataframe tbody tr th {\n",
              "        vertical-align: top;\n",
              "    }\n",
              "\n",
              "    .dataframe thead th {\n",
              "        text-align: right;\n",
              "    }\n",
              "</style>\n",
              "<table border=\"1\" class=\"dataframe\">\n",
              "  <thead>\n",
              "    <tr style=\"text-align: right;\">\n",
              "      <th></th>\n",
              "      <th>CATEGORY_ID</th>\n",
              "      <th>DATAGROUP_CODE</th>\n",
              "      <th>DATAGROUP_NAME</th>\n",
              "    </tr>\n",
              "  </thead>\n",
              "  <tbody>\n",
              "    <tr>\n",
              "      <th>0</th>\n",
              "      <td>14</td>\n",
              "      <td>bie_tukfiy4</td>\n",
              "      <td>TÜİK - Fiyat Endeksi (Tüketici) (2003=100)</td>\n",
              "    </tr>\n",
              "    <tr>\n",
              "      <th>1</th>\n",
              "      <td>14</td>\n",
              "      <td>bie_feoktg</td>\n",
              "      <td>TÜİK - Fiyat Endeksi-Özel Kapsamlı TÜFE Göster...</td>\n",
              "    </tr>\n",
              "    <tr>\n",
              "      <th>2</th>\n",
              "      <td>14</td>\n",
              "      <td>bie_tufe1yi</td>\n",
              "      <td>TÜİK - Fiyat Endeksi (Yurt İçi Üretici Fiyatla...</td>\n",
              "    </tr>\n",
              "    <tr>\n",
              "      <th>3</th>\n",
              "      <td>14</td>\n",
              "      <td>bie_ufeyd</td>\n",
              "      <td>TÜİK - Fiyat Endeksi (Yurt Dışı Üretici Fiyatl...</td>\n",
              "    </tr>\n",
              "    <tr>\n",
              "      <th>4</th>\n",
              "      <td>14</td>\n",
              "      <td>bie_ito68</td>\n",
              "      <td>İTO - Geçinme Endeksi (Ücretliler) (1968=100)</td>\n",
              "    </tr>\n",
              "    <tr>\n",
              "      <th>5</th>\n",
              "      <td>14</td>\n",
              "      <td>bie_ito95</td>\n",
              "      <td>İTO - Geçinme Endeksi (Ücretliler) (1995=100)</td>\n",
              "    </tr>\n",
              "    <tr>\n",
              "      <th>6</th>\n",
              "      <td>14</td>\n",
              "      <td>bie_itouge85</td>\n",
              "      <td>İTO - Geçinme Endeksi (Ücretliler)-İstanbul (1...</td>\n",
              "    </tr>\n",
              "    <tr>\n",
              "      <th>7</th>\n",
              "      <td>14</td>\n",
              "      <td>bie_itotefe</td>\n",
              "      <td>İTO - Fiyat Endeksi (Toptan Eşya) (1968=100)</td>\n",
              "    </tr>\n",
              "    <tr>\n",
              "      <th>8</th>\n",
              "      <td>14</td>\n",
              "      <td>bie_itoteuc</td>\n",
              "      <td>İTO - Fiyat (Toptan Eşya) ve Geçinme (Ücretlil...</td>\n",
              "    </tr>\n",
              "    <tr>\n",
              "      <th>9</th>\n",
              "      <td>14</td>\n",
              "      <td>bie_brentpetrol</td>\n",
              "      <td>Avrupa Brent Petrol Spot FOB Fiyatı (Varil Baş...</td>\n",
              "    </tr>\n",
              "    <tr>\n",
              "      <th>10</th>\n",
              "      <td>14</td>\n",
              "      <td>bie_tarimufe</td>\n",
              "      <td>TÜİK - Tarım Ürünleri Üretici Fiyat Endeksi (2...</td>\n",
              "    </tr>\n",
              "  </tbody>\n",
              "</table>\n",
              "</div>\n",
              "    <div class=\"colab-df-buttons\">\n",
              "\n",
              "  <div class=\"colab-df-container\">\n",
              "    <button class=\"colab-df-convert\" onclick=\"convertToInteractive('df-695e0383-e383-4a64-92a9-7aed49156094')\"\n",
              "            title=\"Convert this dataframe to an interactive table.\"\n",
              "            style=\"display:none;\">\n",
              "\n",
              "  <svg xmlns=\"http://www.w3.org/2000/svg\" height=\"24px\" viewBox=\"0 -960 960 960\">\n",
              "    <path d=\"M120-120v-720h720v720H120Zm60-500h600v-160H180v160Zm220 220h160v-160H400v160Zm0 220h160v-160H400v160ZM180-400h160v-160H180v160Zm440 0h160v-160H620v160ZM180-180h160v-160H180v160Zm440 0h160v-160H620v160Z\"/>\n",
              "  </svg>\n",
              "    </button>\n",
              "\n",
              "  <style>\n",
              "    .colab-df-container {\n",
              "      display:flex;\n",
              "      gap: 12px;\n",
              "    }\n",
              "\n",
              "    .colab-df-convert {\n",
              "      background-color: #E8F0FE;\n",
              "      border: none;\n",
              "      border-radius: 50%;\n",
              "      cursor: pointer;\n",
              "      display: none;\n",
              "      fill: #1967D2;\n",
              "      height: 32px;\n",
              "      padding: 0 0 0 0;\n",
              "      width: 32px;\n",
              "    }\n",
              "\n",
              "    .colab-df-convert:hover {\n",
              "      background-color: #E2EBFA;\n",
              "      box-shadow: 0px 1px 2px rgba(60, 64, 67, 0.3), 0px 1px 3px 1px rgba(60, 64, 67, 0.15);\n",
              "      fill: #174EA6;\n",
              "    }\n",
              "\n",
              "    .colab-df-buttons div {\n",
              "      margin-bottom: 4px;\n",
              "    }\n",
              "\n",
              "    [theme=dark] .colab-df-convert {\n",
              "      background-color: #3B4455;\n",
              "      fill: #D2E3FC;\n",
              "    }\n",
              "\n",
              "    [theme=dark] .colab-df-convert:hover {\n",
              "      background-color: #434B5C;\n",
              "      box-shadow: 0px 1px 3px 1px rgba(0, 0, 0, 0.15);\n",
              "      filter: drop-shadow(0px 1px 2px rgba(0, 0, 0, 0.3));\n",
              "      fill: #FFFFFF;\n",
              "    }\n",
              "  </style>\n",
              "\n",
              "    <script>\n",
              "      const buttonEl =\n",
              "        document.querySelector('#df-695e0383-e383-4a64-92a9-7aed49156094 button.colab-df-convert');\n",
              "      buttonEl.style.display =\n",
              "        google.colab.kernel.accessAllowed ? 'block' : 'none';\n",
              "\n",
              "      async function convertToInteractive(key) {\n",
              "        const element = document.querySelector('#df-695e0383-e383-4a64-92a9-7aed49156094');\n",
              "        const dataTable =\n",
              "          await google.colab.kernel.invokeFunction('convertToInteractive',\n",
              "                                                    [key], {});\n",
              "        if (!dataTable) return;\n",
              "\n",
              "        const docLinkHtml = 'Like what you see? Visit the ' +\n",
              "          '<a target=\"_blank\" href=https://colab.research.google.com/notebooks/data_table.ipynb>data table notebook</a>'\n",
              "          + ' to learn more about interactive tables.';\n",
              "        element.innerHTML = '';\n",
              "        dataTable['output_type'] = 'display_data';\n",
              "        await google.colab.output.renderOutput(dataTable, element);\n",
              "        const docLink = document.createElement('div');\n",
              "        docLink.innerHTML = docLinkHtml;\n",
              "        element.appendChild(docLink);\n",
              "      }\n",
              "    </script>\n",
              "  </div>\n",
              "\n",
              "\n",
              "<div id=\"df-835d0944-f5f6-4849-bd1c-b0a5e278da62\">\n",
              "  <button class=\"colab-df-quickchart\" onclick=\"quickchart('df-835d0944-f5f6-4849-bd1c-b0a5e278da62')\"\n",
              "            title=\"Suggest charts\"\n",
              "            style=\"display:none;\">\n",
              "\n",
              "<svg xmlns=\"http://www.w3.org/2000/svg\" height=\"24px\"viewBox=\"0 0 24 24\"\n",
              "     width=\"24px\">\n",
              "    <g>\n",
              "        <path d=\"M19 3H5c-1.1 0-2 .9-2 2v14c0 1.1.9 2 2 2h14c1.1 0 2-.9 2-2V5c0-1.1-.9-2-2-2zM9 17H7v-7h2v7zm4 0h-2V7h2v10zm4 0h-2v-4h2v4z\"/>\n",
              "    </g>\n",
              "</svg>\n",
              "  </button>\n",
              "\n",
              "<style>\n",
              "  .colab-df-quickchart {\n",
              "      --bg-color: #E8F0FE;\n",
              "      --fill-color: #1967D2;\n",
              "      --hover-bg-color: #E2EBFA;\n",
              "      --hover-fill-color: #174EA6;\n",
              "      --disabled-fill-color: #AAA;\n",
              "      --disabled-bg-color: #DDD;\n",
              "  }\n",
              "\n",
              "  [theme=dark] .colab-df-quickchart {\n",
              "      --bg-color: #3B4455;\n",
              "      --fill-color: #D2E3FC;\n",
              "      --hover-bg-color: #434B5C;\n",
              "      --hover-fill-color: #FFFFFF;\n",
              "      --disabled-bg-color: #3B4455;\n",
              "      --disabled-fill-color: #666;\n",
              "  }\n",
              "\n",
              "  .colab-df-quickchart {\n",
              "    background-color: var(--bg-color);\n",
              "    border: none;\n",
              "    border-radius: 50%;\n",
              "    cursor: pointer;\n",
              "    display: none;\n",
              "    fill: var(--fill-color);\n",
              "    height: 32px;\n",
              "    padding: 0;\n",
              "    width: 32px;\n",
              "  }\n",
              "\n",
              "  .colab-df-quickchart:hover {\n",
              "    background-color: var(--hover-bg-color);\n",
              "    box-shadow: 0 1px 2px rgba(60, 64, 67, 0.3), 0 1px 3px 1px rgba(60, 64, 67, 0.15);\n",
              "    fill: var(--button-hover-fill-color);\n",
              "  }\n",
              "\n",
              "  .colab-df-quickchart-complete:disabled,\n",
              "  .colab-df-quickchart-complete:disabled:hover {\n",
              "    background-color: var(--disabled-bg-color);\n",
              "    fill: var(--disabled-fill-color);\n",
              "    box-shadow: none;\n",
              "  }\n",
              "\n",
              "  .colab-df-spinner {\n",
              "    border: 2px solid var(--fill-color);\n",
              "    border-color: transparent;\n",
              "    border-bottom-color: var(--fill-color);\n",
              "    animation:\n",
              "      spin 1s steps(1) infinite;\n",
              "  }\n",
              "\n",
              "  @keyframes spin {\n",
              "    0% {\n",
              "      border-color: transparent;\n",
              "      border-bottom-color: var(--fill-color);\n",
              "      border-left-color: var(--fill-color);\n",
              "    }\n",
              "    20% {\n",
              "      border-color: transparent;\n",
              "      border-left-color: var(--fill-color);\n",
              "      border-top-color: var(--fill-color);\n",
              "    }\n",
              "    30% {\n",
              "      border-color: transparent;\n",
              "      border-left-color: var(--fill-color);\n",
              "      border-top-color: var(--fill-color);\n",
              "      border-right-color: var(--fill-color);\n",
              "    }\n",
              "    40% {\n",
              "      border-color: transparent;\n",
              "      border-right-color: var(--fill-color);\n",
              "      border-top-color: var(--fill-color);\n",
              "    }\n",
              "    60% {\n",
              "      border-color: transparent;\n",
              "      border-right-color: var(--fill-color);\n",
              "    }\n",
              "    80% {\n",
              "      border-color: transparent;\n",
              "      border-right-color: var(--fill-color);\n",
              "      border-bottom-color: var(--fill-color);\n",
              "    }\n",
              "    90% {\n",
              "      border-color: transparent;\n",
              "      border-bottom-color: var(--fill-color);\n",
              "    }\n",
              "  }\n",
              "</style>\n",
              "\n",
              "  <script>\n",
              "    async function quickchart(key) {\n",
              "      const quickchartButtonEl =\n",
              "        document.querySelector('#' + key + ' button');\n",
              "      quickchartButtonEl.disabled = true;  // To prevent multiple clicks.\n",
              "      quickchartButtonEl.classList.add('colab-df-spinner');\n",
              "      try {\n",
              "        const charts = await google.colab.kernel.invokeFunction(\n",
              "            'suggestCharts', [key], {});\n",
              "      } catch (error) {\n",
              "        console.error('Error during call to suggestCharts:', error);\n",
              "      }\n",
              "      quickchartButtonEl.classList.remove('colab-df-spinner');\n",
              "      quickchartButtonEl.classList.add('colab-df-quickchart-complete');\n",
              "    }\n",
              "    (() => {\n",
              "      let quickchartButtonEl =\n",
              "        document.querySelector('#df-835d0944-f5f6-4849-bd1c-b0a5e278da62 button');\n",
              "      quickchartButtonEl.style.display =\n",
              "        google.colab.kernel.accessAllowed ? 'block' : 'none';\n",
              "    })();\n",
              "  </script>\n",
              "</div>\n",
              "\n",
              "    </div>\n",
              "  </div>\n"
            ],
            "application/vnd.google.colaboratory.intrinsic+json": {
              "type": "dataframe",
              "summary": "{\n  \"name\": \"evds\",\n  \"rows\": 11,\n  \"fields\": [\n    {\n      \"column\": \"CATEGORY_ID\",\n      \"properties\": {\n        \"dtype\": \"number\",\n        \"std\": 0,\n        \"min\": 14,\n        \"max\": 14,\n        \"num_unique_values\": 1,\n        \"samples\": [\n          14\n        ],\n        \"semantic_type\": \"\",\n        \"description\": \"\"\n      }\n    },\n    {\n      \"column\": \"DATAGROUP_CODE\",\n      \"properties\": {\n        \"dtype\": \"string\",\n        \"num_unique_values\": 11,\n        \"samples\": [\n          \"bie_ito95\"\n        ],\n        \"semantic_type\": \"\",\n        \"description\": \"\"\n      }\n    },\n    {\n      \"column\": \"DATAGROUP_NAME\",\n      \"properties\": {\n        \"dtype\": \"string\",\n        \"num_unique_values\": 11,\n        \"samples\": [\n          \"\\u0130TO - Ge\\u00e7inme Endeksi (\\u00dccretliler) (1995=100)\"\n        ],\n        \"semantic_type\": \"\",\n        \"description\": \"\"\n      }\n    }\n  ]\n}"
            }
          },
          "metadata": {},
          "execution_count": 135
        }
      ]
    },
    {
      "cell_type": "markdown",
      "source": [
        "**EVDS’de “Fiyat Endeksleri” konu başlığı altında yer alan Avrupa Brent Petrol Spot FOB Fiyatı (Varil Başına Dolar) alt başlığından\n",
        "Brent Petrol Fiyatı ve Enerji İthalatı verisini seçtim.**"
      ],
      "metadata": {
        "id": "J6Lr7kp-sqWg"
      }
    },
    {
      "cell_type": "code",
      "source": [
        "evds.get_series(\"bie_brentpetrol\")"
      ],
      "metadata": {
        "id": "JXUv99mUz3QF",
        "colab": {
          "base_uri": "https://localhost:8080/"
        },
        "outputId": "7152bf5c-8648-4fb2-c931-a4d00147562c"
      },
      "execution_count": null,
      "outputs": [
        {
          "output_type": "execute_result",
          "data": {
            "text/plain": [
              "            SERIE_CODE                                         SERIE_NAME  \\\n",
              "0  TP.BRENTPETROL.EUBP  Avrupa Brent Petrol Spot FOB Fiyatı (Varil Baş...   \n",
              "\n",
              "   START_DATE  \n",
              "0  20-05-1987  "
            ],
            "text/html": [
              "\n",
              "  <div id=\"df-ea31699e-e900-4342-888f-649afb45efcc\" class=\"colab-df-container\">\n",
              "    <div>\n",
              "<style scoped>\n",
              "    .dataframe tbody tr th:only-of-type {\n",
              "        vertical-align: middle;\n",
              "    }\n",
              "\n",
              "    .dataframe tbody tr th {\n",
              "        vertical-align: top;\n",
              "    }\n",
              "\n",
              "    .dataframe thead th {\n",
              "        text-align: right;\n",
              "    }\n",
              "</style>\n",
              "<table border=\"1\" class=\"dataframe\">\n",
              "  <thead>\n",
              "    <tr style=\"text-align: right;\">\n",
              "      <th></th>\n",
              "      <th>SERIE_CODE</th>\n",
              "      <th>SERIE_NAME</th>\n",
              "      <th>START_DATE</th>\n",
              "    </tr>\n",
              "  </thead>\n",
              "  <tbody>\n",
              "    <tr>\n",
              "      <th>0</th>\n",
              "      <td>TP.BRENTPETROL.EUBP</td>\n",
              "      <td>Avrupa Brent Petrol Spot FOB Fiyatı (Varil Baş...</td>\n",
              "      <td>20-05-1987</td>\n",
              "    </tr>\n",
              "  </tbody>\n",
              "</table>\n",
              "</div>\n",
              "    <div class=\"colab-df-buttons\">\n",
              "\n",
              "  <div class=\"colab-df-container\">\n",
              "    <button class=\"colab-df-convert\" onclick=\"convertToInteractive('df-ea31699e-e900-4342-888f-649afb45efcc')\"\n",
              "            title=\"Convert this dataframe to an interactive table.\"\n",
              "            style=\"display:none;\">\n",
              "\n",
              "  <svg xmlns=\"http://www.w3.org/2000/svg\" height=\"24px\" viewBox=\"0 -960 960 960\">\n",
              "    <path d=\"M120-120v-720h720v720H120Zm60-500h600v-160H180v160Zm220 220h160v-160H400v160Zm0 220h160v-160H400v160ZM180-400h160v-160H180v160Zm440 0h160v-160H620v160ZM180-180h160v-160H180v160Zm440 0h160v-160H620v160Z\"/>\n",
              "  </svg>\n",
              "    </button>\n",
              "\n",
              "  <style>\n",
              "    .colab-df-container {\n",
              "      display:flex;\n",
              "      gap: 12px;\n",
              "    }\n",
              "\n",
              "    .colab-df-convert {\n",
              "      background-color: #E8F0FE;\n",
              "      border: none;\n",
              "      border-radius: 50%;\n",
              "      cursor: pointer;\n",
              "      display: none;\n",
              "      fill: #1967D2;\n",
              "      height: 32px;\n",
              "      padding: 0 0 0 0;\n",
              "      width: 32px;\n",
              "    }\n",
              "\n",
              "    .colab-df-convert:hover {\n",
              "      background-color: #E2EBFA;\n",
              "      box-shadow: 0px 1px 2px rgba(60, 64, 67, 0.3), 0px 1px 3px 1px rgba(60, 64, 67, 0.15);\n",
              "      fill: #174EA6;\n",
              "    }\n",
              "\n",
              "    .colab-df-buttons div {\n",
              "      margin-bottom: 4px;\n",
              "    }\n",
              "\n",
              "    [theme=dark] .colab-df-convert {\n",
              "      background-color: #3B4455;\n",
              "      fill: #D2E3FC;\n",
              "    }\n",
              "\n",
              "    [theme=dark] .colab-df-convert:hover {\n",
              "      background-color: #434B5C;\n",
              "      box-shadow: 0px 1px 3px 1px rgba(0, 0, 0, 0.15);\n",
              "      filter: drop-shadow(0px 1px 2px rgba(0, 0, 0, 0.3));\n",
              "      fill: #FFFFFF;\n",
              "    }\n",
              "  </style>\n",
              "\n",
              "    <script>\n",
              "      const buttonEl =\n",
              "        document.querySelector('#df-ea31699e-e900-4342-888f-649afb45efcc button.colab-df-convert');\n",
              "      buttonEl.style.display =\n",
              "        google.colab.kernel.accessAllowed ? 'block' : 'none';\n",
              "\n",
              "      async function convertToInteractive(key) {\n",
              "        const element = document.querySelector('#df-ea31699e-e900-4342-888f-649afb45efcc');\n",
              "        const dataTable =\n",
              "          await google.colab.kernel.invokeFunction('convertToInteractive',\n",
              "                                                    [key], {});\n",
              "        if (!dataTable) return;\n",
              "\n",
              "        const docLinkHtml = 'Like what you see? Visit the ' +\n",
              "          '<a target=\"_blank\" href=https://colab.research.google.com/notebooks/data_table.ipynb>data table notebook</a>'\n",
              "          + ' to learn more about interactive tables.';\n",
              "        element.innerHTML = '';\n",
              "        dataTable['output_type'] = 'display_data';\n",
              "        await google.colab.output.renderOutput(dataTable, element);\n",
              "        const docLink = document.createElement('div');\n",
              "        docLink.innerHTML = docLinkHtml;\n",
              "        element.appendChild(docLink);\n",
              "      }\n",
              "    </script>\n",
              "  </div>\n",
              "\n",
              "\n",
              "    </div>\n",
              "  </div>\n"
            ],
            "application/vnd.google.colaboratory.intrinsic+json": {
              "type": "dataframe",
              "summary": "{\n  \"name\": \"evds\",\n  \"rows\": 1,\n  \"fields\": [\n    {\n      \"column\": \"SERIE_CODE\",\n      \"properties\": {\n        \"dtype\": \"string\",\n        \"num_unique_values\": 1,\n        \"samples\": [\n          \"TP.BRENTPETROL.EUBP\"\n        ],\n        \"semantic_type\": \"\",\n        \"description\": \"\"\n      }\n    },\n    {\n      \"column\": \"SERIE_NAME\",\n      \"properties\": {\n        \"dtype\": \"string\",\n        \"num_unique_values\": 1,\n        \"samples\": [\n          \"Avrupa Brent Petrol Spot FOB Fiyat\\u0131 (Varil Ba\\u015f\\u0131na Dolar)\"\n        ],\n        \"semantic_type\": \"\",\n        \"description\": \"\"\n      }\n    },\n    {\n      \"column\": \"START_DATE\",\n      \"properties\": {\n        \"dtype\": \"object\",\n        \"num_unique_values\": 1,\n        \"samples\": [\n          \"20-05-1987\"\n        ],\n        \"semantic_type\": \"\",\n        \"description\": \"\"\n      }\n    }\n  ]\n}"
            }
          },
          "metadata": {},
          "execution_count": 136
        }
      ]
    },
    {
      "cell_type": "markdown",
      "source": [
        "**Brent Petrol Fiyatı ve Enerji İthalatı verilerini indirdik.**"
      ],
      "metadata": {
        "id": "8Ab1OGrf66P2"
      }
    },
    {
      "cell_type": "code",
      "source": [
        "dataset = evds.get_data([\"TP.BRENTPETROL.EUBP\"],startdate=\"01-06-1987\",enddate=\"01-02-2024\", frequency=5) # frekans=5 : aylık bazda"
      ],
      "metadata": {
        "id": "1jirB87608yh"
      },
      "execution_count": null,
      "outputs": []
    },
    {
      "cell_type": "markdown",
      "source": [
        "## EDA - Exploratory Data Analysis"
      ],
      "metadata": {
        "id": "Bluwnn5h5nNc"
      }
    },
    {
      "cell_type": "code",
      "source": [
        "df=dataset.copy()"
      ],
      "metadata": {
        "id": "yVnbTU7K5h2P"
      },
      "execution_count": null,
      "outputs": []
    },
    {
      "cell_type": "code",
      "source": [
        "df.head() # ilk 5 veri"
      ],
      "metadata": {
        "colab": {
          "base_uri": "https://localhost:8080/",
          "height": 206
        },
        "id": "fBSju6kJ5p-G",
        "outputId": "84fc696d-18c4-424c-ef81-fa5cccd13cb2"
      },
      "execution_count": null,
      "outputs": [
        {
          "output_type": "execute_result",
          "data": {
            "text/plain": [
              "     Tarih  TP_BRENTPETROL_EUBP\n",
              "0   1987-6                19.08\n",
              "1   1987-7                20.03\n",
              "2   1987-8                18.63\n",
              "3   1987-9                18.48\n",
              "4  1987-10                18.80"
            ],
            "text/html": [
              "\n",
              "  <div id=\"df-10791405-0997-4183-ae8c-f1477e452d69\" class=\"colab-df-container\">\n",
              "    <div>\n",
              "<style scoped>\n",
              "    .dataframe tbody tr th:only-of-type {\n",
              "        vertical-align: middle;\n",
              "    }\n",
              "\n",
              "    .dataframe tbody tr th {\n",
              "        vertical-align: top;\n",
              "    }\n",
              "\n",
              "    .dataframe thead th {\n",
              "        text-align: right;\n",
              "    }\n",
              "</style>\n",
              "<table border=\"1\" class=\"dataframe\">\n",
              "  <thead>\n",
              "    <tr style=\"text-align: right;\">\n",
              "      <th></th>\n",
              "      <th>Tarih</th>\n",
              "      <th>TP_BRENTPETROL_EUBP</th>\n",
              "    </tr>\n",
              "  </thead>\n",
              "  <tbody>\n",
              "    <tr>\n",
              "      <th>0</th>\n",
              "      <td>1987-6</td>\n",
              "      <td>19.08</td>\n",
              "    </tr>\n",
              "    <tr>\n",
              "      <th>1</th>\n",
              "      <td>1987-7</td>\n",
              "      <td>20.03</td>\n",
              "    </tr>\n",
              "    <tr>\n",
              "      <th>2</th>\n",
              "      <td>1987-8</td>\n",
              "      <td>18.63</td>\n",
              "    </tr>\n",
              "    <tr>\n",
              "      <th>3</th>\n",
              "      <td>1987-9</td>\n",
              "      <td>18.48</td>\n",
              "    </tr>\n",
              "    <tr>\n",
              "      <th>4</th>\n",
              "      <td>1987-10</td>\n",
              "      <td>18.80</td>\n",
              "    </tr>\n",
              "  </tbody>\n",
              "</table>\n",
              "</div>\n",
              "    <div class=\"colab-df-buttons\">\n",
              "\n",
              "  <div class=\"colab-df-container\">\n",
              "    <button class=\"colab-df-convert\" onclick=\"convertToInteractive('df-10791405-0997-4183-ae8c-f1477e452d69')\"\n",
              "            title=\"Convert this dataframe to an interactive table.\"\n",
              "            style=\"display:none;\">\n",
              "\n",
              "  <svg xmlns=\"http://www.w3.org/2000/svg\" height=\"24px\" viewBox=\"0 -960 960 960\">\n",
              "    <path d=\"M120-120v-720h720v720H120Zm60-500h600v-160H180v160Zm220 220h160v-160H400v160Zm0 220h160v-160H400v160ZM180-400h160v-160H180v160Zm440 0h160v-160H620v160ZM180-180h160v-160H180v160Zm440 0h160v-160H620v160Z\"/>\n",
              "  </svg>\n",
              "    </button>\n",
              "\n",
              "  <style>\n",
              "    .colab-df-container {\n",
              "      display:flex;\n",
              "      gap: 12px;\n",
              "    }\n",
              "\n",
              "    .colab-df-convert {\n",
              "      background-color: #E8F0FE;\n",
              "      border: none;\n",
              "      border-radius: 50%;\n",
              "      cursor: pointer;\n",
              "      display: none;\n",
              "      fill: #1967D2;\n",
              "      height: 32px;\n",
              "      padding: 0 0 0 0;\n",
              "      width: 32px;\n",
              "    }\n",
              "\n",
              "    .colab-df-convert:hover {\n",
              "      background-color: #E2EBFA;\n",
              "      box-shadow: 0px 1px 2px rgba(60, 64, 67, 0.3), 0px 1px 3px 1px rgba(60, 64, 67, 0.15);\n",
              "      fill: #174EA6;\n",
              "    }\n",
              "\n",
              "    .colab-df-buttons div {\n",
              "      margin-bottom: 4px;\n",
              "    }\n",
              "\n",
              "    [theme=dark] .colab-df-convert {\n",
              "      background-color: #3B4455;\n",
              "      fill: #D2E3FC;\n",
              "    }\n",
              "\n",
              "    [theme=dark] .colab-df-convert:hover {\n",
              "      background-color: #434B5C;\n",
              "      box-shadow: 0px 1px 3px 1px rgba(0, 0, 0, 0.15);\n",
              "      filter: drop-shadow(0px 1px 2px rgba(0, 0, 0, 0.3));\n",
              "      fill: #FFFFFF;\n",
              "    }\n",
              "  </style>\n",
              "\n",
              "    <script>\n",
              "      const buttonEl =\n",
              "        document.querySelector('#df-10791405-0997-4183-ae8c-f1477e452d69 button.colab-df-convert');\n",
              "      buttonEl.style.display =\n",
              "        google.colab.kernel.accessAllowed ? 'block' : 'none';\n",
              "\n",
              "      async function convertToInteractive(key) {\n",
              "        const element = document.querySelector('#df-10791405-0997-4183-ae8c-f1477e452d69');\n",
              "        const dataTable =\n",
              "          await google.colab.kernel.invokeFunction('convertToInteractive',\n",
              "                                                    [key], {});\n",
              "        if (!dataTable) return;\n",
              "\n",
              "        const docLinkHtml = 'Like what you see? Visit the ' +\n",
              "          '<a target=\"_blank\" href=https://colab.research.google.com/notebooks/data_table.ipynb>data table notebook</a>'\n",
              "          + ' to learn more about interactive tables.';\n",
              "        element.innerHTML = '';\n",
              "        dataTable['output_type'] = 'display_data';\n",
              "        await google.colab.output.renderOutput(dataTable, element);\n",
              "        const docLink = document.createElement('div');\n",
              "        docLink.innerHTML = docLinkHtml;\n",
              "        element.appendChild(docLink);\n",
              "      }\n",
              "    </script>\n",
              "  </div>\n",
              "\n",
              "\n",
              "<div id=\"df-ee99d6aa-d43b-454b-aecb-acfdf33163a8\">\n",
              "  <button class=\"colab-df-quickchart\" onclick=\"quickchart('df-ee99d6aa-d43b-454b-aecb-acfdf33163a8')\"\n",
              "            title=\"Suggest charts\"\n",
              "            style=\"display:none;\">\n",
              "\n",
              "<svg xmlns=\"http://www.w3.org/2000/svg\" height=\"24px\"viewBox=\"0 0 24 24\"\n",
              "     width=\"24px\">\n",
              "    <g>\n",
              "        <path d=\"M19 3H5c-1.1 0-2 .9-2 2v14c0 1.1.9 2 2 2h14c1.1 0 2-.9 2-2V5c0-1.1-.9-2-2-2zM9 17H7v-7h2v7zm4 0h-2V7h2v10zm4 0h-2v-4h2v4z\"/>\n",
              "    </g>\n",
              "</svg>\n",
              "  </button>\n",
              "\n",
              "<style>\n",
              "  .colab-df-quickchart {\n",
              "      --bg-color: #E8F0FE;\n",
              "      --fill-color: #1967D2;\n",
              "      --hover-bg-color: #E2EBFA;\n",
              "      --hover-fill-color: #174EA6;\n",
              "      --disabled-fill-color: #AAA;\n",
              "      --disabled-bg-color: #DDD;\n",
              "  }\n",
              "\n",
              "  [theme=dark] .colab-df-quickchart {\n",
              "      --bg-color: #3B4455;\n",
              "      --fill-color: #D2E3FC;\n",
              "      --hover-bg-color: #434B5C;\n",
              "      --hover-fill-color: #FFFFFF;\n",
              "      --disabled-bg-color: #3B4455;\n",
              "      --disabled-fill-color: #666;\n",
              "  }\n",
              "\n",
              "  .colab-df-quickchart {\n",
              "    background-color: var(--bg-color);\n",
              "    border: none;\n",
              "    border-radius: 50%;\n",
              "    cursor: pointer;\n",
              "    display: none;\n",
              "    fill: var(--fill-color);\n",
              "    height: 32px;\n",
              "    padding: 0;\n",
              "    width: 32px;\n",
              "  }\n",
              "\n",
              "  .colab-df-quickchart:hover {\n",
              "    background-color: var(--hover-bg-color);\n",
              "    box-shadow: 0 1px 2px rgba(60, 64, 67, 0.3), 0 1px 3px 1px rgba(60, 64, 67, 0.15);\n",
              "    fill: var(--button-hover-fill-color);\n",
              "  }\n",
              "\n",
              "  .colab-df-quickchart-complete:disabled,\n",
              "  .colab-df-quickchart-complete:disabled:hover {\n",
              "    background-color: var(--disabled-bg-color);\n",
              "    fill: var(--disabled-fill-color);\n",
              "    box-shadow: none;\n",
              "  }\n",
              "\n",
              "  .colab-df-spinner {\n",
              "    border: 2px solid var(--fill-color);\n",
              "    border-color: transparent;\n",
              "    border-bottom-color: var(--fill-color);\n",
              "    animation:\n",
              "      spin 1s steps(1) infinite;\n",
              "  }\n",
              "\n",
              "  @keyframes spin {\n",
              "    0% {\n",
              "      border-color: transparent;\n",
              "      border-bottom-color: var(--fill-color);\n",
              "      border-left-color: var(--fill-color);\n",
              "    }\n",
              "    20% {\n",
              "      border-color: transparent;\n",
              "      border-left-color: var(--fill-color);\n",
              "      border-top-color: var(--fill-color);\n",
              "    }\n",
              "    30% {\n",
              "      border-color: transparent;\n",
              "      border-left-color: var(--fill-color);\n",
              "      border-top-color: var(--fill-color);\n",
              "      border-right-color: var(--fill-color);\n",
              "    }\n",
              "    40% {\n",
              "      border-color: transparent;\n",
              "      border-right-color: var(--fill-color);\n",
              "      border-top-color: var(--fill-color);\n",
              "    }\n",
              "    60% {\n",
              "      border-color: transparent;\n",
              "      border-right-color: var(--fill-color);\n",
              "    }\n",
              "    80% {\n",
              "      border-color: transparent;\n",
              "      border-right-color: var(--fill-color);\n",
              "      border-bottom-color: var(--fill-color);\n",
              "    }\n",
              "    90% {\n",
              "      border-color: transparent;\n",
              "      border-bottom-color: var(--fill-color);\n",
              "    }\n",
              "  }\n",
              "</style>\n",
              "\n",
              "  <script>\n",
              "    async function quickchart(key) {\n",
              "      const quickchartButtonEl =\n",
              "        document.querySelector('#' + key + ' button');\n",
              "      quickchartButtonEl.disabled = true;  // To prevent multiple clicks.\n",
              "      quickchartButtonEl.classList.add('colab-df-spinner');\n",
              "      try {\n",
              "        const charts = await google.colab.kernel.invokeFunction(\n",
              "            'suggestCharts', [key], {});\n",
              "      } catch (error) {\n",
              "        console.error('Error during call to suggestCharts:', error);\n",
              "      }\n",
              "      quickchartButtonEl.classList.remove('colab-df-spinner');\n",
              "      quickchartButtonEl.classList.add('colab-df-quickchart-complete');\n",
              "    }\n",
              "    (() => {\n",
              "      let quickchartButtonEl =\n",
              "        document.querySelector('#df-ee99d6aa-d43b-454b-aecb-acfdf33163a8 button');\n",
              "      quickchartButtonEl.style.display =\n",
              "        google.colab.kernel.accessAllowed ? 'block' : 'none';\n",
              "    })();\n",
              "  </script>\n",
              "</div>\n",
              "\n",
              "    </div>\n",
              "  </div>\n"
            ],
            "application/vnd.google.colaboratory.intrinsic+json": {
              "type": "dataframe",
              "variable_name": "df",
              "summary": "{\n  \"name\": \"df\",\n  \"rows\": 441,\n  \"fields\": [\n    {\n      \"column\": \"Tarih\",\n      \"properties\": {\n        \"dtype\": \"object\",\n        \"num_unique_values\": 441,\n        \"samples\": [\n          \"1993-12\",\n          \"2024-1\",\n          \"2000-2\"\n        ],\n        \"semantic_type\": \"\",\n        \"description\": \"\"\n      }\n    },\n    {\n      \"column\": \"TP_BRENTPETROL_EUBP\",\n      \"properties\": {\n        \"dtype\": \"number\",\n        \"std\": 33.106738894285385,\n        \"min\": 9.91,\n        \"max\": 138.4,\n        \"num_unique_values\": 418,\n        \"samples\": [\n          43.73,\n          35.92,\n          77.81\n        ],\n        \"semantic_type\": \"\",\n        \"description\": \"\"\n      }\n    }\n  ]\n}"
            }
          },
          "metadata": {},
          "execution_count": 139
        }
      ]
    },
    {
      "cell_type": "code",
      "source": [
        "df.shape # satır sütun sayısı"
      ],
      "metadata": {
        "colab": {
          "base_uri": "https://localhost:8080/"
        },
        "id": "EVPX1ltT5qkl",
        "outputId": "b4838882-648a-41aa-8ac6-e90377704de4"
      },
      "execution_count": null,
      "outputs": [
        {
          "output_type": "execute_result",
          "data": {
            "text/plain": [
              "(441, 2)"
            ]
          },
          "metadata": {},
          "execution_count": 140
        }
      ]
    },
    {
      "cell_type": "code",
      "source": [
        "df.isnull().sum() # sütun bazında eksik veri sayısı"
      ],
      "metadata": {
        "colab": {
          "base_uri": "https://localhost:8080/"
        },
        "id": "mSq2dDiqnmho",
        "outputId": "446561c4-871f-4b1f-cc48-d350d9f5e027"
      },
      "execution_count": null,
      "outputs": [
        {
          "output_type": "execute_result",
          "data": {
            "text/plain": [
              "Tarih                  0\n",
              "TP_BRENTPETROL_EUBP    0\n",
              "dtype: int64"
            ]
          },
          "metadata": {},
          "execution_count": 141
        }
      ]
    },
    {
      "cell_type": "code",
      "source": [
        "df.describe().T # numerik verilerin istetaistiksel özeti"
      ],
      "metadata": {
        "colab": {
          "base_uri": "https://localhost:8080/",
          "height": 81
        },
        "id": "QdXzQjr55zf0",
        "outputId": "7c799c47-73c8-4372-b4bc-dad36f9ca258"
      },
      "execution_count": null,
      "outputs": [
        {
          "output_type": "execute_result",
          "data": {
            "text/plain": [
              "                     count       mean        std   min   25%    50%    75%  \\\n",
              "TP_BRENTPETROL_EUBP  441.0  49.860113  33.106739  9.91  19.2  43.13  74.16   \n",
              "\n",
              "                       max  \n",
              "TP_BRENTPETROL_EUBP  138.4  "
            ],
            "text/html": [
              "\n",
              "  <div id=\"df-65acec25-7d57-45e5-bac7-08ead52319a0\" class=\"colab-df-container\">\n",
              "    <div>\n",
              "<style scoped>\n",
              "    .dataframe tbody tr th:only-of-type {\n",
              "        vertical-align: middle;\n",
              "    }\n",
              "\n",
              "    .dataframe tbody tr th {\n",
              "        vertical-align: top;\n",
              "    }\n",
              "\n",
              "    .dataframe thead th {\n",
              "        text-align: right;\n",
              "    }\n",
              "</style>\n",
              "<table border=\"1\" class=\"dataframe\">\n",
              "  <thead>\n",
              "    <tr style=\"text-align: right;\">\n",
              "      <th></th>\n",
              "      <th>count</th>\n",
              "      <th>mean</th>\n",
              "      <th>std</th>\n",
              "      <th>min</th>\n",
              "      <th>25%</th>\n",
              "      <th>50%</th>\n",
              "      <th>75%</th>\n",
              "      <th>max</th>\n",
              "    </tr>\n",
              "  </thead>\n",
              "  <tbody>\n",
              "    <tr>\n",
              "      <th>TP_BRENTPETROL_EUBP</th>\n",
              "      <td>441.0</td>\n",
              "      <td>49.860113</td>\n",
              "      <td>33.106739</td>\n",
              "      <td>9.91</td>\n",
              "      <td>19.2</td>\n",
              "      <td>43.13</td>\n",
              "      <td>74.16</td>\n",
              "      <td>138.4</td>\n",
              "    </tr>\n",
              "  </tbody>\n",
              "</table>\n",
              "</div>\n",
              "    <div class=\"colab-df-buttons\">\n",
              "\n",
              "  <div class=\"colab-df-container\">\n",
              "    <button class=\"colab-df-convert\" onclick=\"convertToInteractive('df-65acec25-7d57-45e5-bac7-08ead52319a0')\"\n",
              "            title=\"Convert this dataframe to an interactive table.\"\n",
              "            style=\"display:none;\">\n",
              "\n",
              "  <svg xmlns=\"http://www.w3.org/2000/svg\" height=\"24px\" viewBox=\"0 -960 960 960\">\n",
              "    <path d=\"M120-120v-720h720v720H120Zm60-500h600v-160H180v160Zm220 220h160v-160H400v160Zm0 220h160v-160H400v160ZM180-400h160v-160H180v160Zm440 0h160v-160H620v160ZM180-180h160v-160H180v160Zm440 0h160v-160H620v160Z\"/>\n",
              "  </svg>\n",
              "    </button>\n",
              "\n",
              "  <style>\n",
              "    .colab-df-container {\n",
              "      display:flex;\n",
              "      gap: 12px;\n",
              "    }\n",
              "\n",
              "    .colab-df-convert {\n",
              "      background-color: #E8F0FE;\n",
              "      border: none;\n",
              "      border-radius: 50%;\n",
              "      cursor: pointer;\n",
              "      display: none;\n",
              "      fill: #1967D2;\n",
              "      height: 32px;\n",
              "      padding: 0 0 0 0;\n",
              "      width: 32px;\n",
              "    }\n",
              "\n",
              "    .colab-df-convert:hover {\n",
              "      background-color: #E2EBFA;\n",
              "      box-shadow: 0px 1px 2px rgba(60, 64, 67, 0.3), 0px 1px 3px 1px rgba(60, 64, 67, 0.15);\n",
              "      fill: #174EA6;\n",
              "    }\n",
              "\n",
              "    .colab-df-buttons div {\n",
              "      margin-bottom: 4px;\n",
              "    }\n",
              "\n",
              "    [theme=dark] .colab-df-convert {\n",
              "      background-color: #3B4455;\n",
              "      fill: #D2E3FC;\n",
              "    }\n",
              "\n",
              "    [theme=dark] .colab-df-convert:hover {\n",
              "      background-color: #434B5C;\n",
              "      box-shadow: 0px 1px 3px 1px rgba(0, 0, 0, 0.15);\n",
              "      filter: drop-shadow(0px 1px 2px rgba(0, 0, 0, 0.3));\n",
              "      fill: #FFFFFF;\n",
              "    }\n",
              "  </style>\n",
              "\n",
              "    <script>\n",
              "      const buttonEl =\n",
              "        document.querySelector('#df-65acec25-7d57-45e5-bac7-08ead52319a0 button.colab-df-convert');\n",
              "      buttonEl.style.display =\n",
              "        google.colab.kernel.accessAllowed ? 'block' : 'none';\n",
              "\n",
              "      async function convertToInteractive(key) {\n",
              "        const element = document.querySelector('#df-65acec25-7d57-45e5-bac7-08ead52319a0');\n",
              "        const dataTable =\n",
              "          await google.colab.kernel.invokeFunction('convertToInteractive',\n",
              "                                                    [key], {});\n",
              "        if (!dataTable) return;\n",
              "\n",
              "        const docLinkHtml = 'Like what you see? Visit the ' +\n",
              "          '<a target=\"_blank\" href=https://colab.research.google.com/notebooks/data_table.ipynb>data table notebook</a>'\n",
              "          + ' to learn more about interactive tables.';\n",
              "        element.innerHTML = '';\n",
              "        dataTable['output_type'] = 'display_data';\n",
              "        await google.colab.output.renderOutput(dataTable, element);\n",
              "        const docLink = document.createElement('div');\n",
              "        docLink.innerHTML = docLinkHtml;\n",
              "        element.appendChild(docLink);\n",
              "      }\n",
              "    </script>\n",
              "  </div>\n",
              "\n",
              "\n",
              "    </div>\n",
              "  </div>\n"
            ],
            "application/vnd.google.colaboratory.intrinsic+json": {
              "type": "dataframe",
              "summary": "{\n  \"name\": \"df\",\n  \"rows\": 1,\n  \"fields\": [\n    {\n      \"column\": \"count\",\n      \"properties\": {\n        \"dtype\": \"number\",\n        \"std\": null,\n        \"min\": 441.0,\n        \"max\": 441.0,\n        \"num_unique_values\": 1,\n        \"samples\": [\n          441.0\n        ],\n        \"semantic_type\": \"\",\n        \"description\": \"\"\n      }\n    },\n    {\n      \"column\": \"mean\",\n      \"properties\": {\n        \"dtype\": \"number\",\n        \"std\": null,\n        \"min\": 49.86011337868481,\n        \"max\": 49.86011337868481,\n        \"num_unique_values\": 1,\n        \"samples\": [\n          49.86011337868481\n        ],\n        \"semantic_type\": \"\",\n        \"description\": \"\"\n      }\n    },\n    {\n      \"column\": \"std\",\n      \"properties\": {\n        \"dtype\": \"number\",\n        \"std\": null,\n        \"min\": 33.106738894285385,\n        \"max\": 33.106738894285385,\n        \"num_unique_values\": 1,\n        \"samples\": [\n          33.106738894285385\n        ],\n        \"semantic_type\": \"\",\n        \"description\": \"\"\n      }\n    },\n    {\n      \"column\": \"min\",\n      \"properties\": {\n        \"dtype\": \"number\",\n        \"std\": null,\n        \"min\": 9.91,\n        \"max\": 9.91,\n        \"num_unique_values\": 1,\n        \"samples\": [\n          9.91\n        ],\n        \"semantic_type\": \"\",\n        \"description\": \"\"\n      }\n    },\n    {\n      \"column\": \"25%\",\n      \"properties\": {\n        \"dtype\": \"number\",\n        \"std\": null,\n        \"min\": 19.2,\n        \"max\": 19.2,\n        \"num_unique_values\": 1,\n        \"samples\": [\n          19.2\n        ],\n        \"semantic_type\": \"\",\n        \"description\": \"\"\n      }\n    },\n    {\n      \"column\": \"50%\",\n      \"properties\": {\n        \"dtype\": \"number\",\n        \"std\": null,\n        \"min\": 43.13,\n        \"max\": 43.13,\n        \"num_unique_values\": 1,\n        \"samples\": [\n          43.13\n        ],\n        \"semantic_type\": \"\",\n        \"description\": \"\"\n      }\n    },\n    {\n      \"column\": \"75%\",\n      \"properties\": {\n        \"dtype\": \"number\",\n        \"std\": null,\n        \"min\": 74.16,\n        \"max\": 74.16,\n        \"num_unique_values\": 1,\n        \"samples\": [\n          74.16\n        ],\n        \"semantic_type\": \"\",\n        \"description\": \"\"\n      }\n    },\n    {\n      \"column\": \"max\",\n      \"properties\": {\n        \"dtype\": \"number\",\n        \"std\": null,\n        \"min\": 138.4,\n        \"max\": 138.4,\n        \"num_unique_values\": 1,\n        \"samples\": [\n          138.4\n        ],\n        \"semantic_type\": \"\",\n        \"description\": \"\"\n      }\n    }\n  ]\n}"
            }
          },
          "metadata": {},
          "execution_count": 142
        }
      ]
    },
    {
      "cell_type": "code",
      "source": [
        "df.info() # verisetindeki sütunların tip bilgisi"
      ],
      "metadata": {
        "colab": {
          "base_uri": "https://localhost:8080/"
        },
        "id": "uFjwGE6051it",
        "outputId": "cc1d5d02-ab56-445c-fefa-d493f017a5fe"
      },
      "execution_count": null,
      "outputs": [
        {
          "output_type": "stream",
          "name": "stdout",
          "text": [
            "<class 'pandas.core.frame.DataFrame'>\n",
            "RangeIndex: 441 entries, 0 to 440\n",
            "Data columns (total 2 columns):\n",
            " #   Column               Non-Null Count  Dtype  \n",
            "---  ------               --------------  -----  \n",
            " 0   Tarih                441 non-null    object \n",
            " 1   TP_BRENTPETROL_EUBP  441 non-null    float64\n",
            "dtypes: float64(1), object(1)\n",
            "memory usage: 7.0+ KB\n"
          ]
        }
      ]
    },
    {
      "cell_type": "markdown",
      "source": [
        "## DATA MANIPULATION"
      ],
      "metadata": {
        "id": "9mBCvl6q57Es"
      }
    },
    {
      "cell_type": "markdown",
      "source": [
        "**Zaman serisi analizi yapabilmek için tarihi index olarak ayarladım ve Tarih sütununu verisetinden çıkarttım.**"
      ],
      "metadata": {
        "id": "OUe8uqCI7hmQ"
      }
    },
    {
      "cell_type": "code",
      "source": [
        "df.index=pd.to_datetime(df[\"Tarih\"],format=\"%Y-%m\")"
      ],
      "metadata": {
        "id": "kqrDFa1r53LY"
      },
      "execution_count": null,
      "outputs": []
    },
    {
      "cell_type": "code",
      "source": [
        "df.drop(\"Tarih\",axis=1,inplace=True)"
      ],
      "metadata": {
        "id": "4mNZiSwI7xnm"
      },
      "execution_count": null,
      "outputs": []
    },
    {
      "cell_type": "markdown",
      "source": [
        "**TP_BRENTPETROL_EUBP sütununun ismini oil_price olarak değiştirdim.**"
      ],
      "metadata": {
        "id": "3Islg8dD8vJV"
      }
    },
    {
      "cell_type": "code",
      "source": [
        "df.rename(columns={\"TP_BRENTPETROL_EUBP\":\"oil_price\"},inplace=True)"
      ],
      "metadata": {
        "id": "_KueIDnA78-t"
      },
      "execution_count": null,
      "outputs": []
    },
    {
      "cell_type": "code",
      "source": [
        "df.head() # verisetinin son hali"
      ],
      "metadata": {
        "colab": {
          "base_uri": "https://localhost:8080/"
        },
        "id": "KYZNHSTE6OT_",
        "outputId": "26b84d3f-6676-4f40-8c4f-7d9ccc94ce5c"
      },
      "execution_count": null,
      "outputs": [
        {
          "output_type": "execute_result",
          "data": {
            "text/plain": [
              "            oil_price\n",
              "Tarih                \n",
              "1987-06-01      19.08\n",
              "1987-07-01      20.03\n",
              "1987-08-01      18.63\n",
              "1987-09-01      18.48\n",
              "1987-10-01      18.80"
            ],
            "text/html": [
              "\n",
              "  <div id=\"df-b73c5b78-28f5-4c91-af0e-9935739e79a6\" class=\"colab-df-container\">\n",
              "    <div>\n",
              "<style scoped>\n",
              "    .dataframe tbody tr th:only-of-type {\n",
              "        vertical-align: middle;\n",
              "    }\n",
              "\n",
              "    .dataframe tbody tr th {\n",
              "        vertical-align: top;\n",
              "    }\n",
              "\n",
              "    .dataframe thead th {\n",
              "        text-align: right;\n",
              "    }\n",
              "</style>\n",
              "<table border=\"1\" class=\"dataframe\">\n",
              "  <thead>\n",
              "    <tr style=\"text-align: right;\">\n",
              "      <th></th>\n",
              "      <th>oil_price</th>\n",
              "    </tr>\n",
              "    <tr>\n",
              "      <th>Tarih</th>\n",
              "      <th></th>\n",
              "    </tr>\n",
              "  </thead>\n",
              "  <tbody>\n",
              "    <tr>\n",
              "      <th>1987-06-01</th>\n",
              "      <td>19.08</td>\n",
              "    </tr>\n",
              "    <tr>\n",
              "      <th>1987-07-01</th>\n",
              "      <td>20.03</td>\n",
              "    </tr>\n",
              "    <tr>\n",
              "      <th>1987-08-01</th>\n",
              "      <td>18.63</td>\n",
              "    </tr>\n",
              "    <tr>\n",
              "      <th>1987-09-01</th>\n",
              "      <td>18.48</td>\n",
              "    </tr>\n",
              "    <tr>\n",
              "      <th>1987-10-01</th>\n",
              "      <td>18.80</td>\n",
              "    </tr>\n",
              "  </tbody>\n",
              "</table>\n",
              "</div>\n",
              "    <div class=\"colab-df-buttons\">\n",
              "\n",
              "  <div class=\"colab-df-container\">\n",
              "    <button class=\"colab-df-convert\" onclick=\"convertToInteractive('df-b73c5b78-28f5-4c91-af0e-9935739e79a6')\"\n",
              "            title=\"Convert this dataframe to an interactive table.\"\n",
              "            style=\"display:none;\">\n",
              "\n",
              "  <svg xmlns=\"http://www.w3.org/2000/svg\" height=\"24px\" viewBox=\"0 -960 960 960\">\n",
              "    <path d=\"M120-120v-720h720v720H120Zm60-500h600v-160H180v160Zm220 220h160v-160H400v160Zm0 220h160v-160H400v160ZM180-400h160v-160H180v160Zm440 0h160v-160H620v160ZM180-180h160v-160H180v160Zm440 0h160v-160H620v160Z\"/>\n",
              "  </svg>\n",
              "    </button>\n",
              "\n",
              "  <style>\n",
              "    .colab-df-container {\n",
              "      display:flex;\n",
              "      gap: 12px;\n",
              "    }\n",
              "\n",
              "    .colab-df-convert {\n",
              "      background-color: #E8F0FE;\n",
              "      border: none;\n",
              "      border-radius: 50%;\n",
              "      cursor: pointer;\n",
              "      display: none;\n",
              "      fill: #1967D2;\n",
              "      height: 32px;\n",
              "      padding: 0 0 0 0;\n",
              "      width: 32px;\n",
              "    }\n",
              "\n",
              "    .colab-df-convert:hover {\n",
              "      background-color: #E2EBFA;\n",
              "      box-shadow: 0px 1px 2px rgba(60, 64, 67, 0.3), 0px 1px 3px 1px rgba(60, 64, 67, 0.15);\n",
              "      fill: #174EA6;\n",
              "    }\n",
              "\n",
              "    .colab-df-buttons div {\n",
              "      margin-bottom: 4px;\n",
              "    }\n",
              "\n",
              "    [theme=dark] .colab-df-convert {\n",
              "      background-color: #3B4455;\n",
              "      fill: #D2E3FC;\n",
              "    }\n",
              "\n",
              "    [theme=dark] .colab-df-convert:hover {\n",
              "      background-color: #434B5C;\n",
              "      box-shadow: 0px 1px 3px 1px rgba(0, 0, 0, 0.15);\n",
              "      filter: drop-shadow(0px 1px 2px rgba(0, 0, 0, 0.3));\n",
              "      fill: #FFFFFF;\n",
              "    }\n",
              "  </style>\n",
              "\n",
              "    <script>\n",
              "      const buttonEl =\n",
              "        document.querySelector('#df-b73c5b78-28f5-4c91-af0e-9935739e79a6 button.colab-df-convert');\n",
              "      buttonEl.style.display =\n",
              "        google.colab.kernel.accessAllowed ? 'block' : 'none';\n",
              "\n",
              "      async function convertToInteractive(key) {\n",
              "        const element = document.querySelector('#df-b73c5b78-28f5-4c91-af0e-9935739e79a6');\n",
              "        const dataTable =\n",
              "          await google.colab.kernel.invokeFunction('convertToInteractive',\n",
              "                                                    [key], {});\n",
              "        if (!dataTable) return;\n",
              "\n",
              "        const docLinkHtml = 'Like what you see? Visit the ' +\n",
              "          '<a target=\"_blank\" href=https://colab.research.google.com/notebooks/data_table.ipynb>data table notebook</a>'\n",
              "          + ' to learn more about interactive tables.';\n",
              "        element.innerHTML = '';\n",
              "        dataTable['output_type'] = 'display_data';\n",
              "        await google.colab.output.renderOutput(dataTable, element);\n",
              "        const docLink = document.createElement('div');\n",
              "        docLink.innerHTML = docLinkHtml;\n",
              "        element.appendChild(docLink);\n",
              "      }\n",
              "    </script>\n",
              "  </div>\n",
              "\n",
              "\n",
              "<div id=\"df-657790b1-c9e7-4533-878c-1937e0082acb\">\n",
              "  <button class=\"colab-df-quickchart\" onclick=\"quickchart('df-657790b1-c9e7-4533-878c-1937e0082acb')\"\n",
              "            title=\"Suggest charts\"\n",
              "            style=\"display:none;\">\n",
              "\n",
              "<svg xmlns=\"http://www.w3.org/2000/svg\" height=\"24px\"viewBox=\"0 0 24 24\"\n",
              "     width=\"24px\">\n",
              "    <g>\n",
              "        <path d=\"M19 3H5c-1.1 0-2 .9-2 2v14c0 1.1.9 2 2 2h14c1.1 0 2-.9 2-2V5c0-1.1-.9-2-2-2zM9 17H7v-7h2v7zm4 0h-2V7h2v10zm4 0h-2v-4h2v4z\"/>\n",
              "    </g>\n",
              "</svg>\n",
              "  </button>\n",
              "\n",
              "<style>\n",
              "  .colab-df-quickchart {\n",
              "      --bg-color: #E8F0FE;\n",
              "      --fill-color: #1967D2;\n",
              "      --hover-bg-color: #E2EBFA;\n",
              "      --hover-fill-color: #174EA6;\n",
              "      --disabled-fill-color: #AAA;\n",
              "      --disabled-bg-color: #DDD;\n",
              "  }\n",
              "\n",
              "  [theme=dark] .colab-df-quickchart {\n",
              "      --bg-color: #3B4455;\n",
              "      --fill-color: #D2E3FC;\n",
              "      --hover-bg-color: #434B5C;\n",
              "      --hover-fill-color: #FFFFFF;\n",
              "      --disabled-bg-color: #3B4455;\n",
              "      --disabled-fill-color: #666;\n",
              "  }\n",
              "\n",
              "  .colab-df-quickchart {\n",
              "    background-color: var(--bg-color);\n",
              "    border: none;\n",
              "    border-radius: 50%;\n",
              "    cursor: pointer;\n",
              "    display: none;\n",
              "    fill: var(--fill-color);\n",
              "    height: 32px;\n",
              "    padding: 0;\n",
              "    width: 32px;\n",
              "  }\n",
              "\n",
              "  .colab-df-quickchart:hover {\n",
              "    background-color: var(--hover-bg-color);\n",
              "    box-shadow: 0 1px 2px rgba(60, 64, 67, 0.3), 0 1px 3px 1px rgba(60, 64, 67, 0.15);\n",
              "    fill: var(--button-hover-fill-color);\n",
              "  }\n",
              "\n",
              "  .colab-df-quickchart-complete:disabled,\n",
              "  .colab-df-quickchart-complete:disabled:hover {\n",
              "    background-color: var(--disabled-bg-color);\n",
              "    fill: var(--disabled-fill-color);\n",
              "    box-shadow: none;\n",
              "  }\n",
              "\n",
              "  .colab-df-spinner {\n",
              "    border: 2px solid var(--fill-color);\n",
              "    border-color: transparent;\n",
              "    border-bottom-color: var(--fill-color);\n",
              "    animation:\n",
              "      spin 1s steps(1) infinite;\n",
              "  }\n",
              "\n",
              "  @keyframes spin {\n",
              "    0% {\n",
              "      border-color: transparent;\n",
              "      border-bottom-color: var(--fill-color);\n",
              "      border-left-color: var(--fill-color);\n",
              "    }\n",
              "    20% {\n",
              "      border-color: transparent;\n",
              "      border-left-color: var(--fill-color);\n",
              "      border-top-color: var(--fill-color);\n",
              "    }\n",
              "    30% {\n",
              "      border-color: transparent;\n",
              "      border-left-color: var(--fill-color);\n",
              "      border-top-color: var(--fill-color);\n",
              "      border-right-color: var(--fill-color);\n",
              "    }\n",
              "    40% {\n",
              "      border-color: transparent;\n",
              "      border-right-color: var(--fill-color);\n",
              "      border-top-color: var(--fill-color);\n",
              "    }\n",
              "    60% {\n",
              "      border-color: transparent;\n",
              "      border-right-color: var(--fill-color);\n",
              "    }\n",
              "    80% {\n",
              "      border-color: transparent;\n",
              "      border-right-color: var(--fill-color);\n",
              "      border-bottom-color: var(--fill-color);\n",
              "    }\n",
              "    90% {\n",
              "      border-color: transparent;\n",
              "      border-bottom-color: var(--fill-color);\n",
              "    }\n",
              "  }\n",
              "</style>\n",
              "\n",
              "  <script>\n",
              "    async function quickchart(key) {\n",
              "      const quickchartButtonEl =\n",
              "        document.querySelector('#' + key + ' button');\n",
              "      quickchartButtonEl.disabled = true;  // To prevent multiple clicks.\n",
              "      quickchartButtonEl.classList.add('colab-df-spinner');\n",
              "      try {\n",
              "        const charts = await google.colab.kernel.invokeFunction(\n",
              "            'suggestCharts', [key], {});\n",
              "      } catch (error) {\n",
              "        console.error('Error during call to suggestCharts:', error);\n",
              "      }\n",
              "      quickchartButtonEl.classList.remove('colab-df-spinner');\n",
              "      quickchartButtonEl.classList.add('colab-df-quickchart-complete');\n",
              "    }\n",
              "    (() => {\n",
              "      let quickchartButtonEl =\n",
              "        document.querySelector('#df-657790b1-c9e7-4533-878c-1937e0082acb button');\n",
              "      quickchartButtonEl.style.display =\n",
              "        google.colab.kernel.accessAllowed ? 'block' : 'none';\n",
              "    })();\n",
              "  </script>\n",
              "</div>\n",
              "\n",
              "    </div>\n",
              "  </div>\n"
            ],
            "application/vnd.google.colaboratory.intrinsic+json": {
              "type": "dataframe",
              "variable_name": "df",
              "summary": "{\n  \"name\": \"df\",\n  \"rows\": 441,\n  \"fields\": [\n    {\n      \"column\": \"Tarih\",\n      \"properties\": {\n        \"dtype\": \"date\",\n        \"min\": \"1987-06-01 00:00:00\",\n        \"max\": \"2024-02-01 00:00:00\",\n        \"num_unique_values\": 441,\n        \"samples\": [\n          \"1993-12-01 00:00:00\",\n          \"2024-01-01 00:00:00\",\n          \"2000-02-01 00:00:00\"\n        ],\n        \"semantic_type\": \"\",\n        \"description\": \"\"\n      }\n    },\n    {\n      \"column\": \"oil_price\",\n      \"properties\": {\n        \"dtype\": \"number\",\n        \"std\": 33.106738894285385,\n        \"min\": 9.91,\n        \"max\": 138.4,\n        \"num_unique_values\": 418,\n        \"samples\": [\n          43.73,\n          35.92,\n          77.81\n        ],\n        \"semantic_type\": \"\",\n        \"description\": \"\"\n      }\n    }\n  ]\n}"
            }
          },
          "metadata": {},
          "execution_count": 147
        }
      ]
    },
    {
      "cell_type": "markdown",
      "source": [
        "## TIME SERIES ANALYSIS"
      ],
      "metadata": {
        "id": "daV-ufOq3shH"
      }
    },
    {
      "cell_type": "markdown",
      "source": [
        "**Zaman serisi kavramı, tarihe bağlı olarak devam eden tek bir özniteliği ifade eder.**\n",
        "\n",
        "---\n",
        "**Zaman serileri, temelinde 4 bileşenden oluşur. Bu bileşenler:**\n",
        "\n",
        "1.   **Durağanlık** : Zaman Serisinin düzenli olarak dalgalandığı durumdur. Serinin durağanlığı yüksek ise eğitilecek modeller, iyi performans verir.\n",
        "2.   **Trend** : petrol fiyatının uzun vadedeki artış ve azalışını ifade eder.\n",
        "3.   **Mevsimsellik** : petrol fiyatının yükselme ve düşme durumları arasında bir örüntü var ise seride mevsimsellik olduğu anlamına gelir.\n",
        "4.   **Döngüsellik** : petrol fiyatlarına etkiyen politik ve siyasi durumlar sonucu oluşur. Durağanlık ile ters orantılıdır. Tahmin başarısını düşürdüğü için istenmeyen bir bileşendir.\n",
        "\n",
        "\n",
        "\n",
        "\n",
        "\n",
        "\n",
        "\n"
      ],
      "metadata": {
        "id": "tSUhzsap3shp"
      }
    },
    {
      "cell_type": "code",
      "source": [
        "# seriyi 3 aylık periyotlara göre çarpımsal metodu kullanarak bileşenlerine ayırdım.\n",
        "df_decompose = seasonal_decompose(df, model='multiplicative',period=3)\n",
        "\n",
        "# Bileşenleri görselleştirelim.\n",
        "fig = make_subplots(rows=2, cols=2, subplot_titles=(\"Close\", \"Trend\", \"Seasonal\", \"Resid(Gürültü)\"))\n",
        "\n",
        "fig.add_trace(go.Scatter(x=df.index, y=df.oil_price, mode='lines', line=dict(width=1)), row=1, col=1)\n",
        "fig.add_trace(go.Scatter(x=df_decompose.trend.index, y=df_decompose.trend, mode='lines', line=dict(width=1)), row=1, col=2)\n",
        "fig.add_trace(go.Scatter(x=df_decompose.seasonal.index, y=df_decompose.seasonal, mode='lines', line=dict(width=1)), row=2, col=1)\n",
        "fig.add_trace(go.Scatter(x=df_decompose.resid.index, y=df_decompose.resid, mode='markers',\n",
        "                         marker=dict(size=2, color=df_decompose.resid.apply(lambda x: 'red' if x < 1 else 'green'))), row=2, col=2)\n",
        "\n",
        "fig.update_layout(\n",
        "    showlegend=False,\n",
        "    title_text=\"Brent Petrol Fiyatı ve Enerji İthalatı Bileşen Analizi\",\n",
        "    title_x=0.5,\n",
        "    yaxis=dict(title=\"\"),\n",
        "    coloraxis=dict(colorbar=dict(title=\"Residual Color\")),\n",
        "    height=600,\n",
        "    width=1000,\n",
        ")\n",
        "\n",
        "fig.show()\n",
        "pio.write_html(fig, file='decompose.html')"
      ],
      "metadata": {
        "colab": {
          "base_uri": "https://localhost:8080/"
        },
        "outputId": "17a21ffb-0a4b-47a3-a9cf-9bd5021284a6",
        "id": "4PtwUxAm3shq"
      },
      "execution_count": null,
      "outputs": [
        {
          "output_type": "display_data",
          "data": {
            "text/html": [
              "<html>\n",
              "<head><meta charset=\"utf-8\" /></head>\n",
              "<body>\n",
              "    <div>            <script src=\"https://cdnjs.cloudflare.com/ajax/libs/mathjax/2.7.5/MathJax.js?config=TeX-AMS-MML_SVG\"></script><script type=\"text/javascript\">if (window.MathJax && window.MathJax.Hub && window.MathJax.Hub.Config) {window.MathJax.Hub.Config({SVG: {font: \"STIX-Web\"}});}</script>                <script type=\"text/javascript\">window.PlotlyConfig = {MathJaxConfig: 'local'};</script>\n",
              "        <script charset=\"utf-8\" src=\"https://cdn.plot.ly/plotly-2.24.1.min.js\"></script>                <div id=\"083767ce-de19-4613-8e37-32467b95874d\" class=\"plotly-graph-div\" style=\"height:600px; width:1000px;\"></div>            <script type=\"text/javascript\">                                    window.PLOTLYENV=window.PLOTLYENV || {};                                    if (document.getElementById(\"083767ce-de19-4613-8e37-32467b95874d\")) {                    Plotly.newPlot(                        \"083767ce-de19-4613-8e37-32467b95874d\",                        [{\"line\":{\"width\":1},\"mode\":\"lines\",\"x\":[\"1987-06-01T00:00:00\",\"1987-07-01T00:00:00\",\"1987-08-01T00:00:00\",\"1987-09-01T00:00:00\",\"1987-10-01T00:00:00\",\"1987-11-01T00:00:00\",\"1987-12-01T00:00:00\",\"1988-01-01T00:00:00\",\"1988-02-01T00:00:00\",\"1988-03-01T00:00:00\",\"1988-04-01T00:00:00\",\"1988-05-01T00:00:00\",\"1988-06-01T00:00:00\",\"1988-07-01T00:00:00\",\"1988-08-01T00:00:00\",\"1988-09-01T00:00:00\",\"1988-10-01T00:00:00\",\"1988-11-01T00:00:00\",\"1988-12-01T00:00:00\",\"1989-01-01T00:00:00\",\"1989-02-01T00:00:00\",\"1989-03-01T00:00:00\",\"1989-04-01T00:00:00\",\"1989-05-01T00:00:00\",\"1989-06-01T00:00:00\",\"1989-07-01T00:00:00\",\"1989-08-01T00:00:00\",\"1989-09-01T00:00:00\",\"1989-10-01T00:00:00\",\"1989-11-01T00:00:00\",\"1989-12-01T00:00:00\",\"1990-01-01T00:00:00\",\"1990-02-01T00:00:00\",\"1990-03-01T00:00:00\",\"1990-04-01T00:00:00\",\"1990-05-01T00:00:00\",\"1990-06-01T00:00:00\",\"1990-07-01T00:00:00\",\"1990-08-01T00:00:00\",\"1990-09-01T00:00:00\",\"1990-10-01T00:00:00\",\"1990-11-01T00:00:00\",\"1990-12-01T00:00:00\",\"1991-01-01T00:00:00\",\"1991-02-01T00:00:00\",\"1991-03-01T00:00:00\",\"1991-04-01T00:00:00\",\"1991-05-01T00:00:00\",\"1991-06-01T00:00:00\",\"1991-07-01T00:00:00\",\"1991-08-01T00:00:00\",\"1991-09-01T00:00:00\",\"1991-10-01T00:00:00\",\"1991-11-01T00:00:00\",\"1991-12-01T00:00:00\",\"1992-01-01T00:00:00\",\"1992-02-01T00:00:00\",\"1992-03-01T00:00:00\",\"1992-04-01T00:00:00\",\"1992-05-01T00:00:00\",\"1992-06-01T00:00:00\",\"1992-07-01T00:00:00\",\"1992-08-01T00:00:00\",\"1992-09-01T00:00:00\",\"1992-10-01T00:00:00\",\"1992-11-01T00:00:00\",\"1992-12-01T00:00:00\",\"1993-01-01T00:00:00\",\"1993-02-01T00:00:00\",\"1993-03-01T00:00:00\",\"1993-04-01T00:00:00\",\"1993-05-01T00:00:00\",\"1993-06-01T00:00:00\",\"1993-07-01T00:00:00\",\"1993-08-01T00:00:00\",\"1993-09-01T00:00:00\",\"1993-10-01T00:00:00\",\"1993-11-01T00:00:00\",\"1993-12-01T00:00:00\",\"1994-01-01T00:00:00\",\"1994-02-01T00:00:00\",\"1994-03-01T00:00:00\",\"1994-04-01T00:00:00\",\"1994-05-01T00:00:00\",\"1994-06-01T00:00:00\",\"1994-07-01T00:00:00\",\"1994-08-01T00:00:00\",\"1994-09-01T00:00:00\",\"1994-10-01T00:00:00\",\"1994-11-01T00:00:00\",\"1994-12-01T00:00:00\",\"1995-01-01T00:00:00\",\"1995-02-01T00:00:00\",\"1995-03-01T00:00:00\",\"1995-04-01T00:00:00\",\"1995-05-01T00:00:00\",\"1995-06-01T00:00:00\",\"1995-07-01T00:00:00\",\"1995-08-01T00:00:00\",\"1995-09-01T00:00:00\",\"1995-10-01T00:00:00\",\"1995-11-01T00:00:00\",\"1995-12-01T00:00:00\",\"1996-01-01T00:00:00\",\"1996-02-01T00:00:00\",\"1996-03-01T00:00:00\",\"1996-04-01T00:00:00\",\"1996-05-01T00:00:00\",\"1996-06-01T00:00:00\",\"1996-07-01T00:00:00\",\"1996-08-01T00:00:00\",\"1996-09-01T00:00:00\",\"1996-10-01T00:00:00\",\"1996-11-01T00:00:00\",\"1996-12-01T00:00:00\",\"1997-01-01T00:00:00\",\"1997-02-01T00:00:00\",\"1997-03-01T00:00:00\",\"1997-04-01T00:00:00\",\"1997-05-01T00:00:00\",\"1997-06-01T00:00:00\",\"1997-07-01T00:00:00\",\"1997-08-01T00:00:00\",\"1997-09-01T00:00:00\",\"1997-10-01T00:00:00\",\"1997-11-01T00:00:00\",\"1997-12-01T00:00:00\",\"1998-01-01T00:00:00\",\"1998-02-01T00:00:00\",\"1998-03-01T00:00:00\",\"1998-04-01T00:00:00\",\"1998-05-01T00:00:00\",\"1998-06-01T00:00:00\",\"1998-07-01T00:00:00\",\"1998-08-01T00:00:00\",\"1998-09-01T00:00:00\",\"1998-10-01T00:00:00\",\"1998-11-01T00:00:00\",\"1998-12-01T00:00:00\",\"1999-01-01T00:00:00\",\"1999-02-01T00:00:00\",\"1999-03-01T00:00:00\",\"1999-04-01T00:00:00\",\"1999-05-01T00:00:00\",\"1999-06-01T00:00:00\",\"1999-07-01T00:00:00\",\"1999-08-01T00:00:00\",\"1999-09-01T00:00:00\",\"1999-10-01T00:00:00\",\"1999-11-01T00:00:00\",\"1999-12-01T00:00:00\",\"2000-01-01T00:00:00\",\"2000-02-01T00:00:00\",\"2000-03-01T00:00:00\",\"2000-04-01T00:00:00\",\"2000-05-01T00:00:00\",\"2000-06-01T00:00:00\",\"2000-07-01T00:00:00\",\"2000-08-01T00:00:00\",\"2000-09-01T00:00:00\",\"2000-10-01T00:00:00\",\"2000-11-01T00:00:00\",\"2000-12-01T00:00:00\",\"2001-01-01T00:00:00\",\"2001-02-01T00:00:00\",\"2001-03-01T00:00:00\",\"2001-04-01T00:00:00\",\"2001-05-01T00:00:00\",\"2001-06-01T00:00:00\",\"2001-07-01T00:00:00\",\"2001-08-01T00:00:00\",\"2001-09-01T00:00:00\",\"2001-10-01T00:00:00\",\"2001-11-01T00:00:00\",\"2001-12-01T00:00:00\",\"2002-01-01T00:00:00\",\"2002-02-01T00:00:00\",\"2002-03-01T00:00:00\",\"2002-04-01T00:00:00\",\"2002-05-01T00:00:00\",\"2002-06-01T00:00:00\",\"2002-07-01T00:00:00\",\"2002-08-01T00:00:00\",\"2002-09-01T00:00:00\",\"2002-10-01T00:00:00\",\"2002-11-01T00:00:00\",\"2002-12-01T00:00:00\",\"2003-01-01T00:00:00\",\"2003-02-01T00:00:00\",\"2003-03-01T00:00:00\",\"2003-04-01T00:00:00\",\"2003-05-01T00:00:00\",\"2003-06-01T00:00:00\",\"2003-07-01T00:00:00\",\"2003-08-01T00:00:00\",\"2003-09-01T00:00:00\",\"2003-10-01T00:00:00\",\"2003-11-01T00:00:00\",\"2003-12-01T00:00:00\",\"2004-01-01T00:00:00\",\"2004-02-01T00:00:00\",\"2004-03-01T00:00:00\",\"2004-04-01T00:00:00\",\"2004-05-01T00:00:00\",\"2004-06-01T00:00:00\",\"2004-07-01T00:00:00\",\"2004-08-01T00:00:00\",\"2004-09-01T00:00:00\",\"2004-10-01T00:00:00\",\"2004-11-01T00:00:00\",\"2004-12-01T00:00:00\",\"2005-01-01T00:00:00\",\"2005-02-01T00:00:00\",\"2005-03-01T00:00:00\",\"2005-04-01T00:00:00\",\"2005-05-01T00:00:00\",\"2005-06-01T00:00:00\",\"2005-07-01T00:00:00\",\"2005-08-01T00:00:00\",\"2005-09-01T00:00:00\",\"2005-10-01T00:00:00\",\"2005-11-01T00:00:00\",\"2005-12-01T00:00:00\",\"2006-01-01T00:00:00\",\"2006-02-01T00:00:00\",\"2006-03-01T00:00:00\",\"2006-04-01T00:00:00\",\"2006-05-01T00:00:00\",\"2006-06-01T00:00:00\",\"2006-07-01T00:00:00\",\"2006-08-01T00:00:00\",\"2006-09-01T00:00:00\",\"2006-10-01T00:00:00\",\"2006-11-01T00:00:00\",\"2006-12-01T00:00:00\",\"2007-01-01T00:00:00\",\"2007-02-01T00:00:00\",\"2007-03-01T00:00:00\",\"2007-04-01T00:00:00\",\"2007-05-01T00:00:00\",\"2007-06-01T00:00:00\",\"2007-07-01T00:00:00\",\"2007-08-01T00:00:00\",\"2007-09-01T00:00:00\",\"2007-10-01T00:00:00\",\"2007-11-01T00:00:00\",\"2007-12-01T00:00:00\",\"2008-01-01T00:00:00\",\"2008-02-01T00:00:00\",\"2008-03-01T00:00:00\",\"2008-04-01T00:00:00\",\"2008-05-01T00:00:00\",\"2008-06-01T00:00:00\",\"2008-07-01T00:00:00\",\"2008-08-01T00:00:00\",\"2008-09-01T00:00:00\",\"2008-10-01T00:00:00\",\"2008-11-01T00:00:00\",\"2008-12-01T00:00:00\",\"2009-01-01T00:00:00\",\"2009-02-01T00:00:00\",\"2009-03-01T00:00:00\",\"2009-04-01T00:00:00\",\"2009-05-01T00:00:00\",\"2009-06-01T00:00:00\",\"2009-07-01T00:00:00\",\"2009-08-01T00:00:00\",\"2009-09-01T00:00:00\",\"2009-10-01T00:00:00\",\"2009-11-01T00:00:00\",\"2009-12-01T00:00:00\",\"2010-01-01T00:00:00\",\"2010-02-01T00:00:00\",\"2010-03-01T00:00:00\",\"2010-04-01T00:00:00\",\"2010-05-01T00:00:00\",\"2010-06-01T00:00:00\",\"2010-07-01T00:00:00\",\"2010-08-01T00:00:00\",\"2010-09-01T00:00:00\",\"2010-10-01T00:00:00\",\"2010-11-01T00:00:00\",\"2010-12-01T00:00:00\",\"2011-01-01T00:00:00\",\"2011-02-01T00:00:00\",\"2011-03-01T00:00:00\",\"2011-04-01T00:00:00\",\"2011-05-01T00:00:00\",\"2011-06-01T00:00:00\",\"2011-07-01T00:00:00\",\"2011-08-01T00:00:00\",\"2011-09-01T00:00:00\",\"2011-10-01T00:00:00\",\"2011-11-01T00:00:00\",\"2011-12-01T00:00:00\",\"2012-01-01T00:00:00\",\"2012-02-01T00:00:00\",\"2012-03-01T00:00:00\",\"2012-04-01T00:00:00\",\"2012-05-01T00:00:00\",\"2012-06-01T00:00:00\",\"2012-07-01T00:00:00\",\"2012-08-01T00:00:00\",\"2012-09-01T00:00:00\",\"2012-10-01T00:00:00\",\"2012-11-01T00:00:00\",\"2012-12-01T00:00:00\",\"2013-01-01T00:00:00\",\"2013-02-01T00:00:00\",\"2013-03-01T00:00:00\",\"2013-04-01T00:00:00\",\"2013-05-01T00:00:00\",\"2013-06-01T00:00:00\",\"2013-07-01T00:00:00\",\"2013-08-01T00:00:00\",\"2013-09-01T00:00:00\",\"2013-10-01T00:00:00\",\"2013-11-01T00:00:00\",\"2013-12-01T00:00:00\",\"2014-01-01T00:00:00\",\"2014-02-01T00:00:00\",\"2014-03-01T00:00:00\",\"2014-04-01T00:00:00\",\"2014-05-01T00:00:00\",\"2014-06-01T00:00:00\",\"2014-07-01T00:00:00\",\"2014-08-01T00:00:00\",\"2014-09-01T00:00:00\",\"2014-10-01T00:00:00\",\"2014-11-01T00:00:00\",\"2014-12-01T00:00:00\",\"2015-01-01T00:00:00\",\"2015-02-01T00:00:00\",\"2015-03-01T00:00:00\",\"2015-04-01T00:00:00\",\"2015-05-01T00:00:00\",\"2015-06-01T00:00:00\",\"2015-07-01T00:00:00\",\"2015-08-01T00:00:00\",\"2015-09-01T00:00:00\",\"2015-10-01T00:00:00\",\"2015-11-01T00:00:00\",\"2015-12-01T00:00:00\",\"2016-01-01T00:00:00\",\"2016-02-01T00:00:00\",\"2016-03-01T00:00:00\",\"2016-04-01T00:00:00\",\"2016-05-01T00:00:00\",\"2016-06-01T00:00:00\",\"2016-07-01T00:00:00\",\"2016-08-01T00:00:00\",\"2016-09-01T00:00:00\",\"2016-10-01T00:00:00\",\"2016-11-01T00:00:00\",\"2016-12-01T00:00:00\",\"2017-01-01T00:00:00\",\"2017-02-01T00:00:00\",\"2017-03-01T00:00:00\",\"2017-04-01T00:00:00\",\"2017-05-01T00:00:00\",\"2017-06-01T00:00:00\",\"2017-07-01T00:00:00\",\"2017-08-01T00:00:00\",\"2017-09-01T00:00:00\",\"2017-10-01T00:00:00\",\"2017-11-01T00:00:00\",\"2017-12-01T00:00:00\",\"2018-01-01T00:00:00\",\"2018-02-01T00:00:00\",\"2018-03-01T00:00:00\",\"2018-04-01T00:00:00\",\"2018-05-01T00:00:00\",\"2018-06-01T00:00:00\",\"2018-07-01T00:00:00\",\"2018-08-01T00:00:00\",\"2018-09-01T00:00:00\",\"2018-10-01T00:00:00\",\"2018-11-01T00:00:00\",\"2018-12-01T00:00:00\",\"2019-01-01T00:00:00\",\"2019-02-01T00:00:00\",\"2019-03-01T00:00:00\",\"2019-04-01T00:00:00\",\"2019-05-01T00:00:00\",\"2019-06-01T00:00:00\",\"2019-07-01T00:00:00\",\"2019-08-01T00:00:00\",\"2019-09-01T00:00:00\",\"2019-10-01T00:00:00\",\"2019-11-01T00:00:00\",\"2019-12-01T00:00:00\",\"2020-01-01T00:00:00\",\"2020-02-01T00:00:00\",\"2020-03-01T00:00:00\",\"2020-04-01T00:00:00\",\"2020-05-01T00:00:00\",\"2020-06-01T00:00:00\",\"2020-07-01T00:00:00\",\"2020-08-01T00:00:00\",\"2020-09-01T00:00:00\",\"2020-10-01T00:00:00\",\"2020-11-01T00:00:00\",\"2020-12-01T00:00:00\",\"2021-01-01T00:00:00\",\"2021-02-01T00:00:00\",\"2021-03-01T00:00:00\",\"2021-04-01T00:00:00\",\"2021-05-01T00:00:00\",\"2021-06-01T00:00:00\",\"2021-07-01T00:00:00\",\"2021-08-01T00:00:00\",\"2021-09-01T00:00:00\",\"2021-10-01T00:00:00\",\"2021-11-01T00:00:00\",\"2021-12-01T00:00:00\",\"2022-01-01T00:00:00\",\"2022-02-01T00:00:00\",\"2022-03-01T00:00:00\",\"2022-04-01T00:00:00\",\"2022-05-01T00:00:00\",\"2022-06-01T00:00:00\",\"2022-07-01T00:00:00\",\"2022-08-01T00:00:00\",\"2022-09-01T00:00:00\",\"2022-10-01T00:00:00\",\"2022-11-01T00:00:00\",\"2022-12-01T00:00:00\",\"2023-01-01T00:00:00\",\"2023-02-01T00:00:00\",\"2023-03-01T00:00:00\",\"2023-04-01T00:00:00\",\"2023-05-01T00:00:00\",\"2023-06-01T00:00:00\",\"2023-07-01T00:00:00\",\"2023-08-01T00:00:00\",\"2023-09-01T00:00:00\",\"2023-10-01T00:00:00\",\"2023-11-01T00:00:00\",\"2023-12-01T00:00:00\",\"2024-01-01T00:00:00\",\"2024-02-01T00:00:00\"],\"y\":[19.08,20.03,18.63,18.48,18.8,17.7,17.6,16.28,14.73,15.65,16.6,16.2,14.18,15.75,14.4,11.93,12.6,14.35,16.23,16.38,17.23,20.45,20.15,18.25,18.28,16.3,17.2,18.23,18.93,18.48,21.05,20.5,19.2,17.95,16.35,15.3,15.73,19.23,27.8,41.0,34.3,31.2,28.35,20.7,19.5,18.0,19.7,19.0,18.48,19.65,20.53,21.43,22.0,20.08,17.75,18.15,17.45,19.09,19.65,20.7,20.6,20.38,19.65,20.18,19.13,19.25,17.85,18.48,18.83,18.7,18.85,18.43,17.43,16.85,16.73,17.23,15.43,14.23,13.18,14.83,13.59,13.25,15.35,16.18,17.45,18.48,16.03,16.73,17.18,16.95,16.23,16.8,17.23,17.98,18.98,17.58,16.58,15.78,16.2,16.58,16.58,17.13,18.65,16.63,18.8,20.33,19.5,18.1,19.28,19.0,20.98,24.15,22.8,23.17,23.9,23.28,19.44,18.53,18.25,18.99,18.22,18.94,17.98,19.96,19.42,18.96,15.86,15.59,13.53,13.87,13.79,14.03,11.84,12.63,12.06,14.71,12.0,9.91,10.54,11.34,10.58,15.02,16.45,14.75,16.97,19.97,21.08,22.98,21.11,25.2,24.93,27.08,29.01,23.98,23.79,29.64,31.58,25.3,35.08,28.42,30.15,32.53,22.58,26.59,25.16,23.5,27.21,28.55,26.21,24.35,26.8,21.87,19.63,18.92,19.35,19.07,20.73,25.34,26.98,23.87,25.33,26.28,27.56,29.11,25.51,25.74,30.12,31.57,34.0,28.05,23.6,26.58,28.88,28.68,30.38,28.09,27.88,28.95,30.3,29.53,32.94,32.29,35.23,37.0,33.22,41.47,39.8,47.76,48.16,44.23,40.38,44.51,50.13,53.22,50.61,49.3,55.36,59.77,66.8,61.7,58.47,53.25,58.34,63.19,59.78,66.06,72.15,67.57,73.2,74.75,67.66,59.09,56.13,64.36,58.96,56.52,59.39,68.47,67.23,68.18,72.22,77.01,72.29,80.97,89.87,88.71,93.68,91.58,100.9,102.33,111.12,127.85,138.4,124.1,113.49,93.52,60.0,47.72,35.82,44.17,44.41,46.13,50.3,64.98,68.11,70.08,69.02,65.82,74.91,77.77,77.91,71.2,76.36,80.37,86.19,73.0,74.94,77.5,75.51,80.77,82.47,86.02,93.23,98.97,112.27,116.94,126.59,117.18,111.71,115.93,116.48,105.42,108.43,111.22,108.09,110.26,122.23,123.41,118.66,103.86,94.17,105.93,113.93,111.36,109.89,110.84,110.8,115.55,112.2,108.46,101.53,100.43,102.49,107.89,115.97,107.85,107.53,111.07,109.95,108.16,108.98,105.95,108.63,109.21,111.03,104.94,101.12,94.67,84.17,71.89,55.27,47.52,61.89,53.69,63.9,63.16,60.31,53.29,47.97,47.29,48.0,43.73,36.61,33.14,35.92,36.75,45.64,49.26,48.05,40.76,47.94,48.24,46.2,47.95,54.96,55.25,53.36,52.2,49.46,49.4,47.08,51.99,52.69,57.02,61.35,63.53,66.73,67.78,66.08,69.02,75.92,76.45,77.44,74.16,76.94,82.72,74.84,57.71,50.57,62.46,65.03,67.93,72.19,66.78,67.52,64.07,61.04,60.99,59.3,64.5,67.77,57.77,51.31,14.85,18.11,34.15,41.64,43.13,45.22,40.3,36.33,46.84,51.22,55.25,65.86,63.52,67.73,69.36,76.94,77.72,73.45,77.81,83.1,70.86,77.24,92.35,103.08,107.29,108.36,125.53,119.78,111.51,96.55,88.9,93.3,85.61,82.82,83.42,83.21,79.19,81.32,71.98,74.51,85.22,87.29,95.86,86.82,81.72,77.69,82.98,84.57],\"type\":\"scatter\",\"xaxis\":\"x\",\"yaxis\":\"y\"},{\"line\":{\"width\":1},\"mode\":\"lines\",\"x\":[\"1987-06-01T00:00:00\",\"1987-07-01T00:00:00\",\"1987-08-01T00:00:00\",\"1987-09-01T00:00:00\",\"1987-10-01T00:00:00\",\"1987-11-01T00:00:00\",\"1987-12-01T00:00:00\",\"1988-01-01T00:00:00\",\"1988-02-01T00:00:00\",\"1988-03-01T00:00:00\",\"1988-04-01T00:00:00\",\"1988-05-01T00:00:00\",\"1988-06-01T00:00:00\",\"1988-07-01T00:00:00\",\"1988-08-01T00:00:00\",\"1988-09-01T00:00:00\",\"1988-10-01T00:00:00\",\"1988-11-01T00:00:00\",\"1988-12-01T00:00:00\",\"1989-01-01T00:00:00\",\"1989-02-01T00:00:00\",\"1989-03-01T00:00:00\",\"1989-04-01T00:00:00\",\"1989-05-01T00:00:00\",\"1989-06-01T00:00:00\",\"1989-07-01T00:00:00\",\"1989-08-01T00:00:00\",\"1989-09-01T00:00:00\",\"1989-10-01T00:00:00\",\"1989-11-01T00:00:00\",\"1989-12-01T00:00:00\",\"1990-01-01T00:00:00\",\"1990-02-01T00:00:00\",\"1990-03-01T00:00:00\",\"1990-04-01T00:00:00\",\"1990-05-01T00:00:00\",\"1990-06-01T00:00:00\",\"1990-07-01T00:00:00\",\"1990-08-01T00:00:00\",\"1990-09-01T00:00:00\",\"1990-10-01T00:00:00\",\"1990-11-01T00:00:00\",\"1990-12-01T00:00:00\",\"1991-01-01T00:00:00\",\"1991-02-01T00:00:00\",\"1991-03-01T00:00:00\",\"1991-04-01T00:00:00\",\"1991-05-01T00:00:00\",\"1991-06-01T00:00:00\",\"1991-07-01T00:00:00\",\"1991-08-01T00:00:00\",\"1991-09-01T00:00:00\",\"1991-10-01T00:00:00\",\"1991-11-01T00:00:00\",\"1991-12-01T00:00:00\",\"1992-01-01T00:00:00\",\"1992-02-01T00:00:00\",\"1992-03-01T00:00:00\",\"1992-04-01T00:00:00\",\"1992-05-01T00:00:00\",\"1992-06-01T00:00:00\",\"1992-07-01T00:00:00\",\"1992-08-01T00:00:00\",\"1992-09-01T00:00:00\",\"1992-10-01T00:00:00\",\"1992-11-01T00:00:00\",\"1992-12-01T00:00:00\",\"1993-01-01T00:00:00\",\"1993-02-01T00:00:00\",\"1993-03-01T00:00:00\",\"1993-04-01T00:00:00\",\"1993-05-01T00:00:00\",\"1993-06-01T00:00:00\",\"1993-07-01T00:00:00\",\"1993-08-01T00:00:00\",\"1993-09-01T00:00:00\",\"1993-10-01T00:00:00\",\"1993-11-01T00:00:00\",\"1993-12-01T00:00:00\",\"1994-01-01T00:00:00\",\"1994-02-01T00:00:00\",\"1994-03-01T00:00:00\",\"1994-04-01T00:00:00\",\"1994-05-01T00:00:00\",\"1994-06-01T00:00:00\",\"1994-07-01T00:00:00\",\"1994-08-01T00:00:00\",\"1994-09-01T00:00:00\",\"1994-10-01T00:00:00\",\"1994-11-01T00:00:00\",\"1994-12-01T00:00:00\",\"1995-01-01T00:00:00\",\"1995-02-01T00:00:00\",\"1995-03-01T00:00:00\",\"1995-04-01T00:00:00\",\"1995-05-01T00:00:00\",\"1995-06-01T00:00:00\",\"1995-07-01T00:00:00\",\"1995-08-01T00:00:00\",\"1995-09-01T00:00:00\",\"1995-10-01T00:00:00\",\"1995-11-01T00:00:00\",\"1995-12-01T00:00:00\",\"1996-01-01T00:00:00\",\"1996-02-01T00:00:00\",\"1996-03-01T00:00:00\",\"1996-04-01T00:00:00\",\"1996-05-01T00:00:00\",\"1996-06-01T00:00:00\",\"1996-07-01T00:00:00\",\"1996-08-01T00:00:00\",\"1996-09-01T00:00:00\",\"1996-10-01T00:00:00\",\"1996-11-01T00:00:00\",\"1996-12-01T00:00:00\",\"1997-01-01T00:00:00\",\"1997-02-01T00:00:00\",\"1997-03-01T00:00:00\",\"1997-04-01T00:00:00\",\"1997-05-01T00:00:00\",\"1997-06-01T00:00:00\",\"1997-07-01T00:00:00\",\"1997-08-01T00:00:00\",\"1997-09-01T00:00:00\",\"1997-10-01T00:00:00\",\"1997-11-01T00:00:00\",\"1997-12-01T00:00:00\",\"1998-01-01T00:00:00\",\"1998-02-01T00:00:00\",\"1998-03-01T00:00:00\",\"1998-04-01T00:00:00\",\"1998-05-01T00:00:00\",\"1998-06-01T00:00:00\",\"1998-07-01T00:00:00\",\"1998-08-01T00:00:00\",\"1998-09-01T00:00:00\",\"1998-10-01T00:00:00\",\"1998-11-01T00:00:00\",\"1998-12-01T00:00:00\",\"1999-01-01T00:00:00\",\"1999-02-01T00:00:00\",\"1999-03-01T00:00:00\",\"1999-04-01T00:00:00\",\"1999-05-01T00:00:00\",\"1999-06-01T00:00:00\",\"1999-07-01T00:00:00\",\"1999-08-01T00:00:00\",\"1999-09-01T00:00:00\",\"1999-10-01T00:00:00\",\"1999-11-01T00:00:00\",\"1999-12-01T00:00:00\",\"2000-01-01T00:00:00\",\"2000-02-01T00:00:00\",\"2000-03-01T00:00:00\",\"2000-04-01T00:00:00\",\"2000-05-01T00:00:00\",\"2000-06-01T00:00:00\",\"2000-07-01T00:00:00\",\"2000-08-01T00:00:00\",\"2000-09-01T00:00:00\",\"2000-10-01T00:00:00\",\"2000-11-01T00:00:00\",\"2000-12-01T00:00:00\",\"2001-01-01T00:00:00\",\"2001-02-01T00:00:00\",\"2001-03-01T00:00:00\",\"2001-04-01T00:00:00\",\"2001-05-01T00:00:00\",\"2001-06-01T00:00:00\",\"2001-07-01T00:00:00\",\"2001-08-01T00:00:00\",\"2001-09-01T00:00:00\",\"2001-10-01T00:00:00\",\"2001-11-01T00:00:00\",\"2001-12-01T00:00:00\",\"2002-01-01T00:00:00\",\"2002-02-01T00:00:00\",\"2002-03-01T00:00:00\",\"2002-04-01T00:00:00\",\"2002-05-01T00:00:00\",\"2002-06-01T00:00:00\",\"2002-07-01T00:00:00\",\"2002-08-01T00:00:00\",\"2002-09-01T00:00:00\",\"2002-10-01T00:00:00\",\"2002-11-01T00:00:00\",\"2002-12-01T00:00:00\",\"2003-01-01T00:00:00\",\"2003-02-01T00:00:00\",\"2003-03-01T00:00:00\",\"2003-04-01T00:00:00\",\"2003-05-01T00:00:00\",\"2003-06-01T00:00:00\",\"2003-07-01T00:00:00\",\"2003-08-01T00:00:00\",\"2003-09-01T00:00:00\",\"2003-10-01T00:00:00\",\"2003-11-01T00:00:00\",\"2003-12-01T00:00:00\",\"2004-01-01T00:00:00\",\"2004-02-01T00:00:00\",\"2004-03-01T00:00:00\",\"2004-04-01T00:00:00\",\"2004-05-01T00:00:00\",\"2004-06-01T00:00:00\",\"2004-07-01T00:00:00\",\"2004-08-01T00:00:00\",\"2004-09-01T00:00:00\",\"2004-10-01T00:00:00\",\"2004-11-01T00:00:00\",\"2004-12-01T00:00:00\",\"2005-01-01T00:00:00\",\"2005-02-01T00:00:00\",\"2005-03-01T00:00:00\",\"2005-04-01T00:00:00\",\"2005-05-01T00:00:00\",\"2005-06-01T00:00:00\",\"2005-07-01T00:00:00\",\"2005-08-01T00:00:00\",\"2005-09-01T00:00:00\",\"2005-10-01T00:00:00\",\"2005-11-01T00:00:00\",\"2005-12-01T00:00:00\",\"2006-01-01T00:00:00\",\"2006-02-01T00:00:00\",\"2006-03-01T00:00:00\",\"2006-04-01T00:00:00\",\"2006-05-01T00:00:00\",\"2006-06-01T00:00:00\",\"2006-07-01T00:00:00\",\"2006-08-01T00:00:00\",\"2006-09-01T00:00:00\",\"2006-10-01T00:00:00\",\"2006-11-01T00:00:00\",\"2006-12-01T00:00:00\",\"2007-01-01T00:00:00\",\"2007-02-01T00:00:00\",\"2007-03-01T00:00:00\",\"2007-04-01T00:00:00\",\"2007-05-01T00:00:00\",\"2007-06-01T00:00:00\",\"2007-07-01T00:00:00\",\"2007-08-01T00:00:00\",\"2007-09-01T00:00:00\",\"2007-10-01T00:00:00\",\"2007-11-01T00:00:00\",\"2007-12-01T00:00:00\",\"2008-01-01T00:00:00\",\"2008-02-01T00:00:00\",\"2008-03-01T00:00:00\",\"2008-04-01T00:00:00\",\"2008-05-01T00:00:00\",\"2008-06-01T00:00:00\",\"2008-07-01T00:00:00\",\"2008-08-01T00:00:00\",\"2008-09-01T00:00:00\",\"2008-10-01T00:00:00\",\"2008-11-01T00:00:00\",\"2008-12-01T00:00:00\",\"2009-01-01T00:00:00\",\"2009-02-01T00:00:00\",\"2009-03-01T00:00:00\",\"2009-04-01T00:00:00\",\"2009-05-01T00:00:00\",\"2009-06-01T00:00:00\",\"2009-07-01T00:00:00\",\"2009-08-01T00:00:00\",\"2009-09-01T00:00:00\",\"2009-10-01T00:00:00\",\"2009-11-01T00:00:00\",\"2009-12-01T00:00:00\",\"2010-01-01T00:00:00\",\"2010-02-01T00:00:00\",\"2010-03-01T00:00:00\",\"2010-04-01T00:00:00\",\"2010-05-01T00:00:00\",\"2010-06-01T00:00:00\",\"2010-07-01T00:00:00\",\"2010-08-01T00:00:00\",\"2010-09-01T00:00:00\",\"2010-10-01T00:00:00\",\"2010-11-01T00:00:00\",\"2010-12-01T00:00:00\",\"2011-01-01T00:00:00\",\"2011-02-01T00:00:00\",\"2011-03-01T00:00:00\",\"2011-04-01T00:00:00\",\"2011-05-01T00:00:00\",\"2011-06-01T00:00:00\",\"2011-07-01T00:00:00\",\"2011-08-01T00:00:00\",\"2011-09-01T00:00:00\",\"2011-10-01T00:00:00\",\"2011-11-01T00:00:00\",\"2011-12-01T00:00:00\",\"2012-01-01T00:00:00\",\"2012-02-01T00:00:00\",\"2012-03-01T00:00:00\",\"2012-04-01T00:00:00\",\"2012-05-01T00:00:00\",\"2012-06-01T00:00:00\",\"2012-07-01T00:00:00\",\"2012-08-01T00:00:00\",\"2012-09-01T00:00:00\",\"2012-10-01T00:00:00\",\"2012-11-01T00:00:00\",\"2012-12-01T00:00:00\",\"2013-01-01T00:00:00\",\"2013-02-01T00:00:00\",\"2013-03-01T00:00:00\",\"2013-04-01T00:00:00\",\"2013-05-01T00:00:00\",\"2013-06-01T00:00:00\",\"2013-07-01T00:00:00\",\"2013-08-01T00:00:00\",\"2013-09-01T00:00:00\",\"2013-10-01T00:00:00\",\"2013-11-01T00:00:00\",\"2013-12-01T00:00:00\",\"2014-01-01T00:00:00\",\"2014-02-01T00:00:00\",\"2014-03-01T00:00:00\",\"2014-04-01T00:00:00\",\"2014-05-01T00:00:00\",\"2014-06-01T00:00:00\",\"2014-07-01T00:00:00\",\"2014-08-01T00:00:00\",\"2014-09-01T00:00:00\",\"2014-10-01T00:00:00\",\"2014-11-01T00:00:00\",\"2014-12-01T00:00:00\",\"2015-01-01T00:00:00\",\"2015-02-01T00:00:00\",\"2015-03-01T00:00:00\",\"2015-04-01T00:00:00\",\"2015-05-01T00:00:00\",\"2015-06-01T00:00:00\",\"2015-07-01T00:00:00\",\"2015-08-01T00:00:00\",\"2015-09-01T00:00:00\",\"2015-10-01T00:00:00\",\"2015-11-01T00:00:00\",\"2015-12-01T00:00:00\",\"2016-01-01T00:00:00\",\"2016-02-01T00:00:00\",\"2016-03-01T00:00:00\",\"2016-04-01T00:00:00\",\"2016-05-01T00:00:00\",\"2016-06-01T00:00:00\",\"2016-07-01T00:00:00\",\"2016-08-01T00:00:00\",\"2016-09-01T00:00:00\",\"2016-10-01T00:00:00\",\"2016-11-01T00:00:00\",\"2016-12-01T00:00:00\",\"2017-01-01T00:00:00\",\"2017-02-01T00:00:00\",\"2017-03-01T00:00:00\",\"2017-04-01T00:00:00\",\"2017-05-01T00:00:00\",\"2017-06-01T00:00:00\",\"2017-07-01T00:00:00\",\"2017-08-01T00:00:00\",\"2017-09-01T00:00:00\",\"2017-10-01T00:00:00\",\"2017-11-01T00:00:00\",\"2017-12-01T00:00:00\",\"2018-01-01T00:00:00\",\"2018-02-01T00:00:00\",\"2018-03-01T00:00:00\",\"2018-04-01T00:00:00\",\"2018-05-01T00:00:00\",\"2018-06-01T00:00:00\",\"2018-07-01T00:00:00\",\"2018-08-01T00:00:00\",\"2018-09-01T00:00:00\",\"2018-10-01T00:00:00\",\"2018-11-01T00:00:00\",\"2018-12-01T00:00:00\",\"2019-01-01T00:00:00\",\"2019-02-01T00:00:00\",\"2019-03-01T00:00:00\",\"2019-04-01T00:00:00\",\"2019-05-01T00:00:00\",\"2019-06-01T00:00:00\",\"2019-07-01T00:00:00\",\"2019-08-01T00:00:00\",\"2019-09-01T00:00:00\",\"2019-10-01T00:00:00\",\"2019-11-01T00:00:00\",\"2019-12-01T00:00:00\",\"2020-01-01T00:00:00\",\"2020-02-01T00:00:00\",\"2020-03-01T00:00:00\",\"2020-04-01T00:00:00\",\"2020-05-01T00:00:00\",\"2020-06-01T00:00:00\",\"2020-07-01T00:00:00\",\"2020-08-01T00:00:00\",\"2020-09-01T00:00:00\",\"2020-10-01T00:00:00\",\"2020-11-01T00:00:00\",\"2020-12-01T00:00:00\",\"2021-01-01T00:00:00\",\"2021-02-01T00:00:00\",\"2021-03-01T00:00:00\",\"2021-04-01T00:00:00\",\"2021-05-01T00:00:00\",\"2021-06-01T00:00:00\",\"2021-07-01T00:00:00\",\"2021-08-01T00:00:00\",\"2021-09-01T00:00:00\",\"2021-10-01T00:00:00\",\"2021-11-01T00:00:00\",\"2021-12-01T00:00:00\",\"2022-01-01T00:00:00\",\"2022-02-01T00:00:00\",\"2022-03-01T00:00:00\",\"2022-04-01T00:00:00\",\"2022-05-01T00:00:00\",\"2022-06-01T00:00:00\",\"2022-07-01T00:00:00\",\"2022-08-01T00:00:00\",\"2022-09-01T00:00:00\",\"2022-10-01T00:00:00\",\"2022-11-01T00:00:00\",\"2022-12-01T00:00:00\",\"2023-01-01T00:00:00\",\"2023-02-01T00:00:00\",\"2023-03-01T00:00:00\",\"2023-04-01T00:00:00\",\"2023-05-01T00:00:00\",\"2023-06-01T00:00:00\",\"2023-07-01T00:00:00\",\"2023-08-01T00:00:00\",\"2023-09-01T00:00:00\",\"2023-10-01T00:00:00\",\"2023-11-01T00:00:00\",\"2023-12-01T00:00:00\",\"2024-01-01T00:00:00\",\"2024-02-01T00:00:00\"],\"y\":[null,19.246666666666663,19.046666666666667,18.636666666666667,18.326666666666664,18.03333333333333,17.19333333333333,16.203333333333333,15.553333333333333,15.66,16.15,15.66,15.376666666666665,14.776666666666667,14.026666666666667,12.976666666666667,12.959999999999999,14.393333333333333,15.653333333333332,16.613333333333333,18.02,19.276666666666664,19.616666666666664,18.89333333333333,17.61,17.259999999999998,17.243333333333332,18.119999999999997,18.546666666666667,19.486666666666665,20.009999999999998,20.25,19.216666666666665,17.833333333333332,16.53333333333333,15.793333333333333,16.753333333333334,20.919999999999998,29.343333333333334,34.36666666666666,35.5,31.283333333333328,26.749999999999996,22.849999999999998,19.4,19.066666666666666,18.9,19.06,19.04333333333333,19.553333333333335,20.536666666666665,21.32,21.169999999999998,19.94333333333333,18.659999999999997,17.78333333333333,18.229999999999997,18.729999999999997,19.813333333333333,20.316666666666666,20.56,20.21,20.07,19.653333333333332,19.519999999999996,18.743333333333332,18.526666666666667,18.386666666666663,18.669999999999998,18.79333333333333,18.659999999999997,18.236666666666665,17.57,17.00333333333333,16.936666666666667,16.46333333333333,15.629999999999999,14.28,14.08,13.866666666666665,13.889999999999999,14.063333333333333,14.926666666666664,16.326666666666664,17.369999999999997,17.32,17.08,16.64666666666667,16.953333333333333,16.786666666666665,16.659999999999997,16.753333333333334,17.336666666666666,18.063333333333333,18.18,17.71333333333333,16.646666666666665,16.186666666666664,16.186666666666667,16.453333333333333,16.76333333333333,17.45333333333333,17.47,18.026666666666664,18.586666666666666,19.543333333333333,19.31,18.96,18.793333333333333,19.753333333333334,21.376666666666665,22.64333333333333,23.37333333333333,23.29,23.45,22.206666666666667,20.416666666666668,18.74,18.59,18.486666666666665,18.716666666666665,18.38,18.96,19.12,19.446666666666665,18.08,16.80333333333333,14.993333333333332,14.33,13.729999999999999,13.896666666666665,13.219999999999999,12.833333333333332,12.176666666666666,13.133333333333333,12.923333333333332,12.206666666666665,10.816666666666666,10.596666666666666,10.82,12.313333333333333,14.016666666666664,15.406666666666665,16.056666666666665,17.229999999999997,19.339999999999996,21.343333333333334,21.723333333333333,23.096666666666664,23.746666666666663,25.736666666666665,27.006666666666668,26.689999999999998,25.593333333333334,25.80333333333333,28.336666666666666,28.84,30.653333333333332,29.599999999999998,31.21666666666666,30.366666666666667,28.419999999999995,27.23333333333333,24.776666666666667,25.083333333333332,25.29,26.419999999999998,27.32333333333333,26.369999999999997,25.786666666666665,24.34,22.766666666666666,20.14,19.3,19.113333333333333,19.71666666666667,21.71333333333333,24.349999999999998,25.396666666666665,25.39333333333333,25.159999999999997,26.39,27.65,27.393333333333334,26.786666666666665,27.12333333333333,29.14333333333333,31.896666666666665,31.206666666666663,28.549999999999997,26.076666666666668,26.35333333333333,28.046666666666663,29.31333333333333,29.049999999999997,28.78333333333333,28.306666666666665,29.04333333333333,29.593333333333334,30.923333333333332,31.586666666666662,33.486666666666665,34.839999999999996,35.15,37.23,38.16333333333333,43.00999999999999,45.239999999999995,46.71666666666666,44.25666666666666,43.04,45.00666666666667,49.28666666666666,51.32,51.04333333333333,51.75666666666666,54.809999999999995,60.64333333333333,62.75666666666666,62.32333333333332,57.806666666666665,56.68666666666666,58.26,60.43666666666667,63.00999999999999,65.99666666666667,68.59333333333333,70.97333333333333,71.84,71.86999999999999,67.16666666666666,60.96,59.86,59.81666666666666,59.94666666666667,58.29,61.46,65.03,67.96000000000001,69.21000000000001,72.47,73.84,76.75666666666666,81.04333333333334,86.51666666666667,90.75333333333333,91.32333333333332,95.38666666666666,98.27,104.78333333333333,113.76666666666667,125.78999999999999,130.11666666666667,125.33,110.36999999999999,89.00333333333333,67.08,47.846666666666664,42.56999999999999,41.46666666666667,44.90333333333333,46.946666666666665,53.80333333333333,61.129999999999995,67.72333333333333,69.07,68.30666666666666,69.91666666666666,72.83333333333333,76.86333333333333,75.62666666666667,75.15666666666667,75.97666666666666,80.97333333333333,79.85333333333332,78.04333333333332,75.14666666666666,75.98333333333333,77.92666666666666,79.58333333333333,83.08666666666666,87.24,92.74,101.49,109.39333333333332,118.6,120.23666666666666,118.49333333333333,114.94,114.70666666666666,112.61,110.11,108.35666666666665,109.24666666666667,109.85666666666665,113.52666666666667,118.63333333333333,121.43333333333332,115.31,105.56333333333332,101.32,104.67666666666668,110.40666666666667,111.72666666666666,110.69666666666666,110.50999999999999,112.39666666666666,112.85,112.07,107.39666666666666,103.47333333333333,101.48333333333332,103.60333333333332,108.78333333333333,110.57,110.44999999999999,108.81666666666665,109.51666666666665,109.72666666666665,109.02999999999999,107.69666666666666,107.85333333333332,107.92999999999998,109.6233333333333,108.39333333333332,105.69666666666666,100.24333333333334,93.32,83.57666666666665,70.44333333333333,58.22666666666666,54.89333333333333,54.36666666666666,59.82666666666666,60.249999999999986,62.456666666666656,58.92,53.856666666666655,49.516666666666666,47.75333333333333,46.339999999999996,42.78,37.82666666666667,35.22333333333333,35.269999999999996,39.43666666666667,43.883333333333326,47.65,46.02333333333333,45.58333333333333,45.64666666666666,47.459999999999994,47.46333333333333,49.70333333333333,52.72,54.523333333333326,53.60333333333333,51.67333333333333,50.353333333333325,48.64666666666666,49.489999999999995,50.58666666666666,53.9,57.019999999999996,60.633333333333326,63.87,66.01333333333334,66.86333333333333,67.62666666666667,70.34,73.79666666666667,76.60333333333332,76.01666666666667,76.17999999999999,77.94,78.16666666666666,71.75666666666666,61.03999999999999,56.913333333333334,59.353333333333325,65.14,68.38333333333333,68.96666666666667,68.83,66.12333333333333,64.21,62.033333333333324,60.44333333333333,61.596666666666664,63.85666666666666,63.346666666666664,58.949999999999996,41.31,28.089999999999996,22.369999999999997,31.299999999999997,39.64,43.33,42.88333333333333,40.61666666666666,41.156666666666666,44.79666666666667,51.10333333333333,57.44333333333333,61.54333333333333,65.70333333333333,66.87,71.34333333333333,74.67333333333333,76.03666666666666,76.32666666666667,78.12,77.25666666666666,77.06666666666666,80.14999999999999,90.88999999999999,100.90666666666667,106.24333333333334,113.72666666666666,117.89,118.94,109.28,98.98666666666665,92.91666666666666,89.27,87.24333333333333,83.94999999999999,83.14999999999999,81.94,81.23999999999998,77.49666666666667,75.93666666666667,77.23666666666666,82.34,89.45666666666666,89.99,88.13333333333333,82.07666666666665,80.79666666666667,81.74666666666667,null],\"type\":\"scatter\",\"xaxis\":\"x2\",\"yaxis\":\"y2\"},{\"line\":{\"width\":1},\"mode\":\"lines\",\"x\":[\"1987-06-01T00:00:00\",\"1987-07-01T00:00:00\",\"1987-08-01T00:00:00\",\"1987-09-01T00:00:00\",\"1987-10-01T00:00:00\",\"1987-11-01T00:00:00\",\"1987-12-01T00:00:00\",\"1988-01-01T00:00:00\",\"1988-02-01T00:00:00\",\"1988-03-01T00:00:00\",\"1988-04-01T00:00:00\",\"1988-05-01T00:00:00\",\"1988-06-01T00:00:00\",\"1988-07-01T00:00:00\",\"1988-08-01T00:00:00\",\"1988-09-01T00:00:00\",\"1988-10-01T00:00:00\",\"1988-11-01T00:00:00\",\"1988-12-01T00:00:00\",\"1989-01-01T00:00:00\",\"1989-02-01T00:00:00\",\"1989-03-01T00:00:00\",\"1989-04-01T00:00:00\",\"1989-05-01T00:00:00\",\"1989-06-01T00:00:00\",\"1989-07-01T00:00:00\",\"1989-08-01T00:00:00\",\"1989-09-01T00:00:00\",\"1989-10-01T00:00:00\",\"1989-11-01T00:00:00\",\"1989-12-01T00:00:00\",\"1990-01-01T00:00:00\",\"1990-02-01T00:00:00\",\"1990-03-01T00:00:00\",\"1990-04-01T00:00:00\",\"1990-05-01T00:00:00\",\"1990-06-01T00:00:00\",\"1990-07-01T00:00:00\",\"1990-08-01T00:00:00\",\"1990-09-01T00:00:00\",\"1990-10-01T00:00:00\",\"1990-11-01T00:00:00\",\"1990-12-01T00:00:00\",\"1991-01-01T00:00:00\",\"1991-02-01T00:00:00\",\"1991-03-01T00:00:00\",\"1991-04-01T00:00:00\",\"1991-05-01T00:00:00\",\"1991-06-01T00:00:00\",\"1991-07-01T00:00:00\",\"1991-08-01T00:00:00\",\"1991-09-01T00:00:00\",\"1991-10-01T00:00:00\",\"1991-11-01T00:00:00\",\"1991-12-01T00:00:00\",\"1992-01-01T00:00:00\",\"1992-02-01T00:00:00\",\"1992-03-01T00:00:00\",\"1992-04-01T00:00:00\",\"1992-05-01T00:00:00\",\"1992-06-01T00:00:00\",\"1992-07-01T00:00:00\",\"1992-08-01T00:00:00\",\"1992-09-01T00:00:00\",\"1992-10-01T00:00:00\",\"1992-11-01T00:00:00\",\"1992-12-01T00:00:00\",\"1993-01-01T00:00:00\",\"1993-02-01T00:00:00\",\"1993-03-01T00:00:00\",\"1993-04-01T00:00:00\",\"1993-05-01T00:00:00\",\"1993-06-01T00:00:00\",\"1993-07-01T00:00:00\",\"1993-08-01T00:00:00\",\"1993-09-01T00:00:00\",\"1993-10-01T00:00:00\",\"1993-11-01T00:00:00\",\"1993-12-01T00:00:00\",\"1994-01-01T00:00:00\",\"1994-02-01T00:00:00\",\"1994-03-01T00:00:00\",\"1994-04-01T00:00:00\",\"1994-05-01T00:00:00\",\"1994-06-01T00:00:00\",\"1994-07-01T00:00:00\",\"1994-08-01T00:00:00\",\"1994-09-01T00:00:00\",\"1994-10-01T00:00:00\",\"1994-11-01T00:00:00\",\"1994-12-01T00:00:00\",\"1995-01-01T00:00:00\",\"1995-02-01T00:00:00\",\"1995-03-01T00:00:00\",\"1995-04-01T00:00:00\",\"1995-05-01T00:00:00\",\"1995-06-01T00:00:00\",\"1995-07-01T00:00:00\",\"1995-08-01T00:00:00\",\"1995-09-01T00:00:00\",\"1995-10-01T00:00:00\",\"1995-11-01T00:00:00\",\"1995-12-01T00:00:00\",\"1996-01-01T00:00:00\",\"1996-02-01T00:00:00\",\"1996-03-01T00:00:00\",\"1996-04-01T00:00:00\",\"1996-05-01T00:00:00\",\"1996-06-01T00:00:00\",\"1996-07-01T00:00:00\",\"1996-08-01T00:00:00\",\"1996-09-01T00:00:00\",\"1996-10-01T00:00:00\",\"1996-11-01T00:00:00\",\"1996-12-01T00:00:00\",\"1997-01-01T00:00:00\",\"1997-02-01T00:00:00\",\"1997-03-01T00:00:00\",\"1997-04-01T00:00:00\",\"1997-05-01T00:00:00\",\"1997-06-01T00:00:00\",\"1997-07-01T00:00:00\",\"1997-08-01T00:00:00\",\"1997-09-01T00:00:00\",\"1997-10-01T00:00:00\",\"1997-11-01T00:00:00\",\"1997-12-01T00:00:00\",\"1998-01-01T00:00:00\",\"1998-02-01T00:00:00\",\"1998-03-01T00:00:00\",\"1998-04-01T00:00:00\",\"1998-05-01T00:00:00\",\"1998-06-01T00:00:00\",\"1998-07-01T00:00:00\",\"1998-08-01T00:00:00\",\"1998-09-01T00:00:00\",\"1998-10-01T00:00:00\",\"1998-11-01T00:00:00\",\"1998-12-01T00:00:00\",\"1999-01-01T00:00:00\",\"1999-02-01T00:00:00\",\"1999-03-01T00:00:00\",\"1999-04-01T00:00:00\",\"1999-05-01T00:00:00\",\"1999-06-01T00:00:00\",\"1999-07-01T00:00:00\",\"1999-08-01T00:00:00\",\"1999-09-01T00:00:00\",\"1999-10-01T00:00:00\",\"1999-11-01T00:00:00\",\"1999-12-01T00:00:00\",\"2000-01-01T00:00:00\",\"2000-02-01T00:00:00\",\"2000-03-01T00:00:00\",\"2000-04-01T00:00:00\",\"2000-05-01T00:00:00\",\"2000-06-01T00:00:00\",\"2000-07-01T00:00:00\",\"2000-08-01T00:00:00\",\"2000-09-01T00:00:00\",\"2000-10-01T00:00:00\",\"2000-11-01T00:00:00\",\"2000-12-01T00:00:00\",\"2001-01-01T00:00:00\",\"2001-02-01T00:00:00\",\"2001-03-01T00:00:00\",\"2001-04-01T00:00:00\",\"2001-05-01T00:00:00\",\"2001-06-01T00:00:00\",\"2001-07-01T00:00:00\",\"2001-08-01T00:00:00\",\"2001-09-01T00:00:00\",\"2001-10-01T00:00:00\",\"2001-11-01T00:00:00\",\"2001-12-01T00:00:00\",\"2002-01-01T00:00:00\",\"2002-02-01T00:00:00\",\"2002-03-01T00:00:00\",\"2002-04-01T00:00:00\",\"2002-05-01T00:00:00\",\"2002-06-01T00:00:00\",\"2002-07-01T00:00:00\",\"2002-08-01T00:00:00\",\"2002-09-01T00:00:00\",\"2002-10-01T00:00:00\",\"2002-11-01T00:00:00\",\"2002-12-01T00:00:00\",\"2003-01-01T00:00:00\",\"2003-02-01T00:00:00\",\"2003-03-01T00:00:00\",\"2003-04-01T00:00:00\",\"2003-05-01T00:00:00\",\"2003-06-01T00:00:00\",\"2003-07-01T00:00:00\",\"2003-08-01T00:00:00\",\"2003-09-01T00:00:00\",\"2003-10-01T00:00:00\",\"2003-11-01T00:00:00\",\"2003-12-01T00:00:00\",\"2004-01-01T00:00:00\",\"2004-02-01T00:00:00\",\"2004-03-01T00:00:00\",\"2004-04-01T00:00:00\",\"2004-05-01T00:00:00\",\"2004-06-01T00:00:00\",\"2004-07-01T00:00:00\",\"2004-08-01T00:00:00\",\"2004-09-01T00:00:00\",\"2004-10-01T00:00:00\",\"2004-11-01T00:00:00\",\"2004-12-01T00:00:00\",\"2005-01-01T00:00:00\",\"2005-02-01T00:00:00\",\"2005-03-01T00:00:00\",\"2005-04-01T00:00:00\",\"2005-05-01T00:00:00\",\"2005-06-01T00:00:00\",\"2005-07-01T00:00:00\",\"2005-08-01T00:00:00\",\"2005-09-01T00:00:00\",\"2005-10-01T00:00:00\",\"2005-11-01T00:00:00\",\"2005-12-01T00:00:00\",\"2006-01-01T00:00:00\",\"2006-02-01T00:00:00\",\"2006-03-01T00:00:00\",\"2006-04-01T00:00:00\",\"2006-05-01T00:00:00\",\"2006-06-01T00:00:00\",\"2006-07-01T00:00:00\",\"2006-08-01T00:00:00\",\"2006-09-01T00:00:00\",\"2006-10-01T00:00:00\",\"2006-11-01T00:00:00\",\"2006-12-01T00:00:00\",\"2007-01-01T00:00:00\",\"2007-02-01T00:00:00\",\"2007-03-01T00:00:00\",\"2007-04-01T00:00:00\",\"2007-05-01T00:00:00\",\"2007-06-01T00:00:00\",\"2007-07-01T00:00:00\",\"2007-08-01T00:00:00\",\"2007-09-01T00:00:00\",\"2007-10-01T00:00:00\",\"2007-11-01T00:00:00\",\"2007-12-01T00:00:00\",\"2008-01-01T00:00:00\",\"2008-02-01T00:00:00\",\"2008-03-01T00:00:00\",\"2008-04-01T00:00:00\",\"2008-05-01T00:00:00\",\"2008-06-01T00:00:00\",\"2008-07-01T00:00:00\",\"2008-08-01T00:00:00\",\"2008-09-01T00:00:00\",\"2008-10-01T00:00:00\",\"2008-11-01T00:00:00\",\"2008-12-01T00:00:00\",\"2009-01-01T00:00:00\",\"2009-02-01T00:00:00\",\"2009-03-01T00:00:00\",\"2009-04-01T00:00:00\",\"2009-05-01T00:00:00\",\"2009-06-01T00:00:00\",\"2009-07-01T00:00:00\",\"2009-08-01T00:00:00\",\"2009-09-01T00:00:00\",\"2009-10-01T00:00:00\",\"2009-11-01T00:00:00\",\"2009-12-01T00:00:00\",\"2010-01-01T00:00:00\",\"2010-02-01T00:00:00\",\"2010-03-01T00:00:00\",\"2010-04-01T00:00:00\",\"2010-05-01T00:00:00\",\"2010-06-01T00:00:00\",\"2010-07-01T00:00:00\",\"2010-08-01T00:00:00\",\"2010-09-01T00:00:00\",\"2010-10-01T00:00:00\",\"2010-11-01T00:00:00\",\"2010-12-01T00:00:00\",\"2011-01-01T00:00:00\",\"2011-02-01T00:00:00\",\"2011-03-01T00:00:00\",\"2011-04-01T00:00:00\",\"2011-05-01T00:00:00\",\"2011-06-01T00:00:00\",\"2011-07-01T00:00:00\",\"2011-08-01T00:00:00\",\"2011-09-01T00:00:00\",\"2011-10-01T00:00:00\",\"2011-11-01T00:00:00\",\"2011-12-01T00:00:00\",\"2012-01-01T00:00:00\",\"2012-02-01T00:00:00\",\"2012-03-01T00:00:00\",\"2012-04-01T00:00:00\",\"2012-05-01T00:00:00\",\"2012-06-01T00:00:00\",\"2012-07-01T00:00:00\",\"2012-08-01T00:00:00\",\"2012-09-01T00:00:00\",\"2012-10-01T00:00:00\",\"2012-11-01T00:00:00\",\"2012-12-01T00:00:00\",\"2013-01-01T00:00:00\",\"2013-02-01T00:00:00\",\"2013-03-01T00:00:00\",\"2013-04-01T00:00:00\",\"2013-05-01T00:00:00\",\"2013-06-01T00:00:00\",\"2013-07-01T00:00:00\",\"2013-08-01T00:00:00\",\"2013-09-01T00:00:00\",\"2013-10-01T00:00:00\",\"2013-11-01T00:00:00\",\"2013-12-01T00:00:00\",\"2014-01-01T00:00:00\",\"2014-02-01T00:00:00\",\"2014-03-01T00:00:00\",\"2014-04-01T00:00:00\",\"2014-05-01T00:00:00\",\"2014-06-01T00:00:00\",\"2014-07-01T00:00:00\",\"2014-08-01T00:00:00\",\"2014-09-01T00:00:00\",\"2014-10-01T00:00:00\",\"2014-11-01T00:00:00\",\"2014-12-01T00:00:00\",\"2015-01-01T00:00:00\",\"2015-02-01T00:00:00\",\"2015-03-01T00:00:00\",\"2015-04-01T00:00:00\",\"2015-05-01T00:00:00\",\"2015-06-01T00:00:00\",\"2015-07-01T00:00:00\",\"2015-08-01T00:00:00\",\"2015-09-01T00:00:00\",\"2015-10-01T00:00:00\",\"2015-11-01T00:00:00\",\"2015-12-01T00:00:00\",\"2016-01-01T00:00:00\",\"2016-02-01T00:00:00\",\"2016-03-01T00:00:00\",\"2016-04-01T00:00:00\",\"2016-05-01T00:00:00\",\"2016-06-01T00:00:00\",\"2016-07-01T00:00:00\",\"2016-08-01T00:00:00\",\"2016-09-01T00:00:00\",\"2016-10-01T00:00:00\",\"2016-11-01T00:00:00\",\"2016-12-01T00:00:00\",\"2017-01-01T00:00:00\",\"2017-02-01T00:00:00\",\"2017-03-01T00:00:00\",\"2017-04-01T00:00:00\",\"2017-05-01T00:00:00\",\"2017-06-01T00:00:00\",\"2017-07-01T00:00:00\",\"2017-08-01T00:00:00\",\"2017-09-01T00:00:00\",\"2017-10-01T00:00:00\",\"2017-11-01T00:00:00\",\"2017-12-01T00:00:00\",\"2018-01-01T00:00:00\",\"2018-02-01T00:00:00\",\"2018-03-01T00:00:00\",\"2018-04-01T00:00:00\",\"2018-05-01T00:00:00\",\"2018-06-01T00:00:00\",\"2018-07-01T00:00:00\",\"2018-08-01T00:00:00\",\"2018-09-01T00:00:00\",\"2018-10-01T00:00:00\",\"2018-11-01T00:00:00\",\"2018-12-01T00:00:00\",\"2019-01-01T00:00:00\",\"2019-02-01T00:00:00\",\"2019-03-01T00:00:00\",\"2019-04-01T00:00:00\",\"2019-05-01T00:00:00\",\"2019-06-01T00:00:00\",\"2019-07-01T00:00:00\",\"2019-08-01T00:00:00\",\"2019-09-01T00:00:00\",\"2019-10-01T00:00:00\",\"2019-11-01T00:00:00\",\"2019-12-01T00:00:00\",\"2020-01-01T00:00:00\",\"2020-02-01T00:00:00\",\"2020-03-01T00:00:00\",\"2020-04-01T00:00:00\",\"2020-05-01T00:00:00\",\"2020-06-01T00:00:00\",\"2020-07-01T00:00:00\",\"2020-08-01T00:00:00\",\"2020-09-01T00:00:00\",\"2020-10-01T00:00:00\",\"2020-11-01T00:00:00\",\"2020-12-01T00:00:00\",\"2021-01-01T00:00:00\",\"2021-02-01T00:00:00\",\"2021-03-01T00:00:00\",\"2021-04-01T00:00:00\",\"2021-05-01T00:00:00\",\"2021-06-01T00:00:00\",\"2021-07-01T00:00:00\",\"2021-08-01T00:00:00\",\"2021-09-01T00:00:00\",\"2021-10-01T00:00:00\",\"2021-11-01T00:00:00\",\"2021-12-01T00:00:00\",\"2022-01-01T00:00:00\",\"2022-02-01T00:00:00\",\"2022-03-01T00:00:00\",\"2022-04-01T00:00:00\",\"2022-05-01T00:00:00\",\"2022-06-01T00:00:00\",\"2022-07-01T00:00:00\",\"2022-08-01T00:00:00\",\"2022-09-01T00:00:00\",\"2022-10-01T00:00:00\",\"2022-11-01T00:00:00\",\"2022-12-01T00:00:00\",\"2023-01-01T00:00:00\",\"2023-02-01T00:00:00\",\"2023-03-01T00:00:00\",\"2023-04-01T00:00:00\",\"2023-05-01T00:00:00\",\"2023-06-01T00:00:00\",\"2023-07-01T00:00:00\",\"2023-08-01T00:00:00\",\"2023-09-01T00:00:00\",\"2023-10-01T00:00:00\",\"2023-11-01T00:00:00\",\"2023-12-01T00:00:00\",\"2024-01-01T00:00:00\",\"2024-02-01T00:00:00\"],\"y\":[0.9961194553607313,1.0001312424427191,1.0037493021965496,0.9961194553607313,1.0001312424427191,1.0037493021965496,0.9961194553607313,1.0001312424427191,1.0037493021965496,0.9961194553607313,1.0001312424427191,1.0037493021965496,0.9961194553607313,1.0001312424427191,1.0037493021965496,0.9961194553607313,1.0001312424427191,1.0037493021965496,0.9961194553607313,1.0001312424427191,1.0037493021965496,0.9961194553607313,1.0001312424427191,1.0037493021965496,0.9961194553607313,1.0001312424427191,1.0037493021965496,0.9961194553607313,1.0001312424427191,1.0037493021965496,0.9961194553607313,1.0001312424427191,1.0037493021965496,0.9961194553607313,1.0001312424427191,1.0037493021965496,0.9961194553607313,1.0001312424427191,1.0037493021965496,0.9961194553607313,1.0001312424427191,1.0037493021965496,0.9961194553607313,1.0001312424427191,1.0037493021965496,0.9961194553607313,1.0001312424427191,1.0037493021965496,0.9961194553607313,1.0001312424427191,1.0037493021965496,0.9961194553607313,1.0001312424427191,1.0037493021965496,0.9961194553607313,1.0001312424427191,1.0037493021965496,0.9961194553607313,1.0001312424427191,1.0037493021965496,0.9961194553607313,1.0001312424427191,1.0037493021965496,0.9961194553607313,1.0001312424427191,1.0037493021965496,0.9961194553607313,1.0001312424427191,1.0037493021965496,0.9961194553607313,1.0001312424427191,1.0037493021965496,0.9961194553607313,1.0001312424427191,1.0037493021965496,0.9961194553607313,1.0001312424427191,1.0037493021965496,0.9961194553607313,1.0001312424427191,1.0037493021965496,0.9961194553607313,1.0001312424427191,1.0037493021965496,0.9961194553607313,1.0001312424427191,1.0037493021965496,0.9961194553607313,1.0001312424427191,1.0037493021965496,0.9961194553607313,1.0001312424427191,1.0037493021965496,0.9961194553607313,1.0001312424427191,1.0037493021965496,0.9961194553607313,1.0001312424427191,1.0037493021965496,0.9961194553607313,1.0001312424427191,1.0037493021965496,0.9961194553607313,1.0001312424427191,1.0037493021965496,0.9961194553607313,1.0001312424427191,1.0037493021965496,0.9961194553607313,1.0001312424427191,1.0037493021965496,0.9961194553607313,1.0001312424427191,1.0037493021965496,0.9961194553607313,1.0001312424427191,1.0037493021965496,0.9961194553607313,1.0001312424427191,1.0037493021965496,0.9961194553607313,1.0001312424427191,1.0037493021965496,0.9961194553607313,1.0001312424427191,1.0037493021965496,0.9961194553607313,1.0001312424427191,1.0037493021965496,0.9961194553607313,1.0001312424427191,1.0037493021965496,0.9961194553607313,1.0001312424427191,1.0037493021965496,0.9961194553607313,1.0001312424427191,1.0037493021965496,0.9961194553607313,1.0001312424427191,1.0037493021965496,0.9961194553607313,1.0001312424427191,1.0037493021965496,0.9961194553607313,1.0001312424427191,1.0037493021965496,0.9961194553607313,1.0001312424427191,1.0037493021965496,0.9961194553607313,1.0001312424427191,1.0037493021965496,0.9961194553607313,1.0001312424427191,1.0037493021965496,0.9961194553607313,1.0001312424427191,1.0037493021965496,0.9961194553607313,1.0001312424427191,1.0037493021965496,0.9961194553607313,1.0001312424427191,1.0037493021965496,0.9961194553607313,1.0001312424427191,1.0037493021965496,0.9961194553607313,1.0001312424427191,1.0037493021965496,0.9961194553607313,1.0001312424427191,1.0037493021965496,0.9961194553607313,1.0001312424427191,1.0037493021965496,0.9961194553607313,1.0001312424427191,1.0037493021965496,0.9961194553607313,1.0001312424427191,1.0037493021965496,0.9961194553607313,1.0001312424427191,1.0037493021965496,0.9961194553607313,1.0001312424427191,1.0037493021965496,0.9961194553607313,1.0001312424427191,1.0037493021965496,0.9961194553607313,1.0001312424427191,1.0037493021965496,0.9961194553607313,1.0001312424427191,1.0037493021965496,0.9961194553607313,1.0001312424427191,1.0037493021965496,0.9961194553607313,1.0001312424427191,1.0037493021965496,0.9961194553607313,1.0001312424427191,1.0037493021965496,0.9961194553607313,1.0001312424427191,1.0037493021965496,0.9961194553607313,1.0001312424427191,1.0037493021965496,0.9961194553607313,1.0001312424427191,1.0037493021965496,0.9961194553607313,1.0001312424427191,1.0037493021965496,0.9961194553607313,1.0001312424427191,1.0037493021965496,0.9961194553607313,1.0001312424427191,1.0037493021965496,0.9961194553607313,1.0001312424427191,1.0037493021965496,0.9961194553607313,1.0001312424427191,1.0037493021965496,0.9961194553607313,1.0001312424427191,1.0037493021965496,0.9961194553607313,1.0001312424427191,1.0037493021965496,0.9961194553607313,1.0001312424427191,1.0037493021965496,0.9961194553607313,1.0001312424427191,1.0037493021965496,0.9961194553607313,1.0001312424427191,1.0037493021965496,0.9961194553607313,1.0001312424427191,1.0037493021965496,0.9961194553607313,1.0001312424427191,1.0037493021965496,0.9961194553607313,1.0001312424427191,1.0037493021965496,0.9961194553607313,1.0001312424427191,1.0037493021965496,0.9961194553607313,1.0001312424427191,1.0037493021965496,0.9961194553607313,1.0001312424427191,1.0037493021965496,0.9961194553607313,1.0001312424427191,1.0037493021965496,0.9961194553607313,1.0001312424427191,1.0037493021965496,0.9961194553607313,1.0001312424427191,1.0037493021965496,0.9961194553607313,1.0001312424427191,1.0037493021965496,0.9961194553607313,1.0001312424427191,1.0037493021965496,0.9961194553607313,1.0001312424427191,1.0037493021965496,0.9961194553607313,1.0001312424427191,1.0037493021965496,0.9961194553607313,1.0001312424427191,1.0037493021965496,0.9961194553607313,1.0001312424427191,1.0037493021965496,0.9961194553607313,1.0001312424427191,1.0037493021965496,0.9961194553607313,1.0001312424427191,1.0037493021965496,0.9961194553607313,1.0001312424427191,1.0037493021965496,0.9961194553607313,1.0001312424427191,1.0037493021965496,0.9961194553607313,1.0001312424427191,1.0037493021965496,0.9961194553607313,1.0001312424427191,1.0037493021965496,0.9961194553607313,1.0001312424427191,1.0037493021965496,0.9961194553607313,1.0001312424427191,1.0037493021965496,0.9961194553607313,1.0001312424427191,1.0037493021965496,0.9961194553607313,1.0001312424427191,1.0037493021965496,0.9961194553607313,1.0001312424427191,1.0037493021965496,0.9961194553607313,1.0001312424427191,1.0037493021965496,0.9961194553607313,1.0001312424427191,1.0037493021965496,0.9961194553607313,1.0001312424427191,1.0037493021965496,0.9961194553607313,1.0001312424427191,1.0037493021965496,0.9961194553607313,1.0001312424427191,1.0037493021965496,0.9961194553607313,1.0001312424427191,1.0037493021965496,0.9961194553607313,1.0001312424427191,1.0037493021965496,0.9961194553607313,1.0001312424427191,1.0037493021965496,0.9961194553607313,1.0001312424427191,1.0037493021965496,0.9961194553607313,1.0001312424427191,1.0037493021965496,0.9961194553607313,1.0001312424427191,1.0037493021965496,0.9961194553607313,1.0001312424427191,1.0037493021965496,0.9961194553607313,1.0001312424427191,1.0037493021965496,0.9961194553607313,1.0001312424427191,1.0037493021965496,0.9961194553607313,1.0001312424427191,1.0037493021965496,0.9961194553607313,1.0001312424427191,1.0037493021965496,0.9961194553607313,1.0001312424427191,1.0037493021965496,0.9961194553607313,1.0001312424427191,1.0037493021965496,0.9961194553607313,1.0001312424427191,1.0037493021965496,0.9961194553607313,1.0001312424427191,1.0037493021965496,0.9961194553607313,1.0001312424427191,1.0037493021965496,0.9961194553607313,1.0001312424427191,1.0037493021965496,0.9961194553607313,1.0001312424427191,1.0037493021965496,0.9961194553607313,1.0001312424427191,1.0037493021965496,0.9961194553607313,1.0001312424427191,1.0037493021965496,0.9961194553607313,1.0001312424427191,1.0037493021965496,0.9961194553607313,1.0001312424427191,1.0037493021965496,0.9961194553607313,1.0001312424427191,1.0037493021965496,0.9961194553607313,1.0001312424427191,1.0037493021965496,0.9961194553607313,1.0001312424427191,1.0037493021965496,0.9961194553607313,1.0001312424427191,1.0037493021965496,0.9961194553607313,1.0001312424427191,1.0037493021965496,0.9961194553607313,1.0001312424427191,1.0037493021965496,0.9961194553607313,1.0001312424427191,1.0037493021965496,0.9961194553607313,1.0001312424427191,1.0037493021965496,0.9961194553607313,1.0001312424427191,1.0037493021965496,0.9961194553607313,1.0001312424427191,1.0037493021965496,0.9961194553607313,1.0001312424427191,1.0037493021965496,0.9961194553607313,1.0001312424427191,1.0037493021965496],\"type\":\"scatter\",\"xaxis\":\"x3\",\"yaxis\":\"y3\"},{\"marker\":{\"color\":[\"green\",\"green\",\"red\",\"red\",\"green\",\"red\",\"green\",\"green\",\"red\",\"green\",\"green\",\"green\",\"red\",\"green\",\"green\",\"red\",\"red\",\"red\",\"green\",\"red\",\"red\",\"green\",\"green\",\"red\",\"green\",\"red\",\"red\",\"green\",\"green\",\"red\",\"green\",\"green\",\"red\",\"green\",\"red\",\"red\",\"red\",\"red\",\"red\",\"green\",\"red\",\"red\",\"green\",\"red\",\"green\",\"red\",\"green\",\"red\",\"red\",\"green\",\"red\",\"green\",\"green\",\"green\",\"red\",\"green\",\"red\",\"green\",\"red\",\"green\",\"green\",\"green\",\"red\",\"green\",\"red\",\"green\",\"red\",\"green\",\"green\",\"red\",\"green\",\"green\",\"red\",\"red\",\"red\",\"green\",\"red\",\"red\",\"red\",\"green\",\"red\",\"red\",\"green\",\"red\",\"green\",\"green\",\"red\",\"green\",\"green\",\"green\",\"red\",\"green\",\"red\",\"red\",\"green\",\"red\",\"red\",\"red\",\"red\",\"green\",\"red\",\"red\",\"green\",\"red\",\"green\",\"green\",\"green\",\"red\",\"green\",\"red\",\"red\",\"green\",\"red\",\"red\",\"green\",\"green\",\"red\",\"red\",\"red\",\"green\",\"red\",\"green\",\"red\",\"green\",\"red\",\"green\",\"red\",\"green\",\"red\",\"green\",\"red\",\"green\",\"red\",\"green\",\"red\",\"green\",\"red\",\"red\",\"red\",\"green\",\"red\",\"green\",\"green\",\"red\",\"red\",\"green\",\"red\",\"green\",\"red\",\"green\",\"red\",\"green\",\"green\",\"red\",\"red\",\"green\",\"green\",\"red\",\"green\",\"red\",\"red\",\"green\",\"red\",\"green\",\"red\",\"red\",\"green\",\"green\",\"red\",\"red\",\"green\",\"red\",\"red\",\"red\",\"green\",\"red\",\"red\",\"green\",\"green\",\"red\",\"green\",\"red\",\"red\",\"green\",\"red\",\"red\",\"green\",\"red\",\"green\",\"red\",\"red\",\"green\",\"green\",\"red\",\"green\",\"red\",\"red\",\"red\",\"green\",\"red\",\"green\",\"red\",\"green\",\"green\",\"red\",\"green\",\"red\",\"green\",\"green\",\"red\",\"red\",\"red\",\"green\",\"green\",\"red\",\"red\",\"green\",\"red\",\"green\",\"red\",\"green\",\"red\",\"green\",\"green\",\"red\",\"green\",\"green\",\"red\",\"green\",\"green\",\"green\",\"red\",\"red\",\"green\",\"red\",\"red\",\"red\",\"green\",\"red\",\"red\",\"green\",\"green\",\"red\",\"green\",\"green\",\"red\",\"green\",\"red\",\"green\",\"red\",\"red\",\"green\",\"green\",\"red\",\"green\",\"green\",\"red\",\"red\",\"red\",\"green\",\"red\",\"red\",\"red\",\"green\",\"green\",\"green\",\"green\",\"red\",\"green\",\"green\",\"green\",\"red\",\"green\",\"red\",\"green\",\"red\",\"green\",\"green\",\"red\",\"green\",\"red\",\"red\",\"green\",\"red\",\"green\",\"red\",\"green\",\"red\",\"red\",\"green\",\"green\",\"red\",\"green\",\"green\",\"red\",\"red\",\"green\",\"green\",\"green\",\"red\",\"red\",\"green\",\"green\",\"green\",\"red\",\"red\",\"red\",\"green\",\"red\",\"green\",\"red\",\"red\",\"red\",\"red\",\"green\",\"red\",\"red\",\"green\",\"green\",\"red\",\"green\",\"red\",\"green\",\"red\",\"green\",\"red\",\"green\",\"green\",\"green\",\"green\",\"red\",\"red\",\"green\",\"red\",\"green\",\"green\",\"green\",\"red\",\"red\",\"red\",\"green\",\"green\",\"red\",\"red\",\"green\",\"red\",\"green\",\"green\",\"green\",\"red\",\"green\",\"green\",\"red\",\"red\",\"green\",\"green\",\"red\",\"green\",\"red\",\"green\",\"red\",\"green\",\"red\",\"green\",\"green\",\"red\",\"green\",\"green\",\"red\",\"red\",\"green\",\"red\",\"green\",\"red\",\"red\",\"green\",\"green\",\"red\",\"red\",\"green\",\"red\",\"red\",\"green\",\"red\",\"green\",\"red\",\"red\",\"green\",\"red\",\"green\",\"green\",\"red\",\"green\",\"red\",\"red\",\"green\",\"green\",\"red\",\"green\",\"red\",\"red\",\"green\",\"green\",\"red\",\"green\",\"red\",\"green\",\"red\",\"green\",\"green\",\"red\",\"red\",\"green\",\"red\",\"red\",\"green\",\"green\",\"green\",\"red\",\"green\",\"green\",\"green\",\"red\",\"red\",\"green\",\"red\",\"red\",\"green\",\"green\",\"red\",\"green\",\"red\",\"red\",\"green\",\"red\",\"green\",\"red\",\"red\",\"red\",\"green\",\"green\"],\"size\":2},\"mode\":\"markers\",\"x\":[\"1987-06-01T00:00:00\",\"1987-07-01T00:00:00\",\"1987-08-01T00:00:00\",\"1987-09-01T00:00:00\",\"1987-10-01T00:00:00\",\"1987-11-01T00:00:00\",\"1987-12-01T00:00:00\",\"1988-01-01T00:00:00\",\"1988-02-01T00:00:00\",\"1988-03-01T00:00:00\",\"1988-04-01T00:00:00\",\"1988-05-01T00:00:00\",\"1988-06-01T00:00:00\",\"1988-07-01T00:00:00\",\"1988-08-01T00:00:00\",\"1988-09-01T00:00:00\",\"1988-10-01T00:00:00\",\"1988-11-01T00:00:00\",\"1988-12-01T00:00:00\",\"1989-01-01T00:00:00\",\"1989-02-01T00:00:00\",\"1989-03-01T00:00:00\",\"1989-04-01T00:00:00\",\"1989-05-01T00:00:00\",\"1989-06-01T00:00:00\",\"1989-07-01T00:00:00\",\"1989-08-01T00:00:00\",\"1989-09-01T00:00:00\",\"1989-10-01T00:00:00\",\"1989-11-01T00:00:00\",\"1989-12-01T00:00:00\",\"1990-01-01T00:00:00\",\"1990-02-01T00:00:00\",\"1990-03-01T00:00:00\",\"1990-04-01T00:00:00\",\"1990-05-01T00:00:00\",\"1990-06-01T00:00:00\",\"1990-07-01T00:00:00\",\"1990-08-01T00:00:00\",\"1990-09-01T00:00:00\",\"1990-10-01T00:00:00\",\"1990-11-01T00:00:00\",\"1990-12-01T00:00:00\",\"1991-01-01T00:00:00\",\"1991-02-01T00:00:00\",\"1991-03-01T00:00:00\",\"1991-04-01T00:00:00\",\"1991-05-01T00:00:00\",\"1991-06-01T00:00:00\",\"1991-07-01T00:00:00\",\"1991-08-01T00:00:00\",\"1991-09-01T00:00:00\",\"1991-10-01T00:00:00\",\"1991-11-01T00:00:00\",\"1991-12-01T00:00:00\",\"1992-01-01T00:00:00\",\"1992-02-01T00:00:00\",\"1992-03-01T00:00:00\",\"1992-04-01T00:00:00\",\"1992-05-01T00:00:00\",\"1992-06-01T00:00:00\",\"1992-07-01T00:00:00\",\"1992-08-01T00:00:00\",\"1992-09-01T00:00:00\",\"1992-10-01T00:00:00\",\"1992-11-01T00:00:00\",\"1992-12-01T00:00:00\",\"1993-01-01T00:00:00\",\"1993-02-01T00:00:00\",\"1993-03-01T00:00:00\",\"1993-04-01T00:00:00\",\"1993-05-01T00:00:00\",\"1993-06-01T00:00:00\",\"1993-07-01T00:00:00\",\"1993-08-01T00:00:00\",\"1993-09-01T00:00:00\",\"1993-10-01T00:00:00\",\"1993-11-01T00:00:00\",\"1993-12-01T00:00:00\",\"1994-01-01T00:00:00\",\"1994-02-01T00:00:00\",\"1994-03-01T00:00:00\",\"1994-04-01T00:00:00\",\"1994-05-01T00:00:00\",\"1994-06-01T00:00:00\",\"1994-07-01T00:00:00\",\"1994-08-01T00:00:00\",\"1994-09-01T00:00:00\",\"1994-10-01T00:00:00\",\"1994-11-01T00:00:00\",\"1994-12-01T00:00:00\",\"1995-01-01T00:00:00\",\"1995-02-01T00:00:00\",\"1995-03-01T00:00:00\",\"1995-04-01T00:00:00\",\"1995-05-01T00:00:00\",\"1995-06-01T00:00:00\",\"1995-07-01T00:00:00\",\"1995-08-01T00:00:00\",\"1995-09-01T00:00:00\",\"1995-10-01T00:00:00\",\"1995-11-01T00:00:00\",\"1995-12-01T00:00:00\",\"1996-01-01T00:00:00\",\"1996-02-01T00:00:00\",\"1996-03-01T00:00:00\",\"1996-04-01T00:00:00\",\"1996-05-01T00:00:00\",\"1996-06-01T00:00:00\",\"1996-07-01T00:00:00\",\"1996-08-01T00:00:00\",\"1996-09-01T00:00:00\",\"1996-10-01T00:00:00\",\"1996-11-01T00:00:00\",\"1996-12-01T00:00:00\",\"1997-01-01T00:00:00\",\"1997-02-01T00:00:00\",\"1997-03-01T00:00:00\",\"1997-04-01T00:00:00\",\"1997-05-01T00:00:00\",\"1997-06-01T00:00:00\",\"1997-07-01T00:00:00\",\"1997-08-01T00:00:00\",\"1997-09-01T00:00:00\",\"1997-10-01T00:00:00\",\"1997-11-01T00:00:00\",\"1997-12-01T00:00:00\",\"1998-01-01T00:00:00\",\"1998-02-01T00:00:00\",\"1998-03-01T00:00:00\",\"1998-04-01T00:00:00\",\"1998-05-01T00:00:00\",\"1998-06-01T00:00:00\",\"1998-07-01T00:00:00\",\"1998-08-01T00:00:00\",\"1998-09-01T00:00:00\",\"1998-10-01T00:00:00\",\"1998-11-01T00:00:00\",\"1998-12-01T00:00:00\",\"1999-01-01T00:00:00\",\"1999-02-01T00:00:00\",\"1999-03-01T00:00:00\",\"1999-04-01T00:00:00\",\"1999-05-01T00:00:00\",\"1999-06-01T00:00:00\",\"1999-07-01T00:00:00\",\"1999-08-01T00:00:00\",\"1999-09-01T00:00:00\",\"1999-10-01T00:00:00\",\"1999-11-01T00:00:00\",\"1999-12-01T00:00:00\",\"2000-01-01T00:00:00\",\"2000-02-01T00:00:00\",\"2000-03-01T00:00:00\",\"2000-04-01T00:00:00\",\"2000-05-01T00:00:00\",\"2000-06-01T00:00:00\",\"2000-07-01T00:00:00\",\"2000-08-01T00:00:00\",\"2000-09-01T00:00:00\",\"2000-10-01T00:00:00\",\"2000-11-01T00:00:00\",\"2000-12-01T00:00:00\",\"2001-01-01T00:00:00\",\"2001-02-01T00:00:00\",\"2001-03-01T00:00:00\",\"2001-04-01T00:00:00\",\"2001-05-01T00:00:00\",\"2001-06-01T00:00:00\",\"2001-07-01T00:00:00\",\"2001-08-01T00:00:00\",\"2001-09-01T00:00:00\",\"2001-10-01T00:00:00\",\"2001-11-01T00:00:00\",\"2001-12-01T00:00:00\",\"2002-01-01T00:00:00\",\"2002-02-01T00:00:00\",\"2002-03-01T00:00:00\",\"2002-04-01T00:00:00\",\"2002-05-01T00:00:00\",\"2002-06-01T00:00:00\",\"2002-07-01T00:00:00\",\"2002-08-01T00:00:00\",\"2002-09-01T00:00:00\",\"2002-10-01T00:00:00\",\"2002-11-01T00:00:00\",\"2002-12-01T00:00:00\",\"2003-01-01T00:00:00\",\"2003-02-01T00:00:00\",\"2003-03-01T00:00:00\",\"2003-04-01T00:00:00\",\"2003-05-01T00:00:00\",\"2003-06-01T00:00:00\",\"2003-07-01T00:00:00\",\"2003-08-01T00:00:00\",\"2003-09-01T00:00:00\",\"2003-10-01T00:00:00\",\"2003-11-01T00:00:00\",\"2003-12-01T00:00:00\",\"2004-01-01T00:00:00\",\"2004-02-01T00:00:00\",\"2004-03-01T00:00:00\",\"2004-04-01T00:00:00\",\"2004-05-01T00:00:00\",\"2004-06-01T00:00:00\",\"2004-07-01T00:00:00\",\"2004-08-01T00:00:00\",\"2004-09-01T00:00:00\",\"2004-10-01T00:00:00\",\"2004-11-01T00:00:00\",\"2004-12-01T00:00:00\",\"2005-01-01T00:00:00\",\"2005-02-01T00:00:00\",\"2005-03-01T00:00:00\",\"2005-04-01T00:00:00\",\"2005-05-01T00:00:00\",\"2005-06-01T00:00:00\",\"2005-07-01T00:00:00\",\"2005-08-01T00:00:00\",\"2005-09-01T00:00:00\",\"2005-10-01T00:00:00\",\"2005-11-01T00:00:00\",\"2005-12-01T00:00:00\",\"2006-01-01T00:00:00\",\"2006-02-01T00:00:00\",\"2006-03-01T00:00:00\",\"2006-04-01T00:00:00\",\"2006-05-01T00:00:00\",\"2006-06-01T00:00:00\",\"2006-07-01T00:00:00\",\"2006-08-01T00:00:00\",\"2006-09-01T00:00:00\",\"2006-10-01T00:00:00\",\"2006-11-01T00:00:00\",\"2006-12-01T00:00:00\",\"2007-01-01T00:00:00\",\"2007-02-01T00:00:00\",\"2007-03-01T00:00:00\",\"2007-04-01T00:00:00\",\"2007-05-01T00:00:00\",\"2007-06-01T00:00:00\",\"2007-07-01T00:00:00\",\"2007-08-01T00:00:00\",\"2007-09-01T00:00:00\",\"2007-10-01T00:00:00\",\"2007-11-01T00:00:00\",\"2007-12-01T00:00:00\",\"2008-01-01T00:00:00\",\"2008-02-01T00:00:00\",\"2008-03-01T00:00:00\",\"2008-04-01T00:00:00\",\"2008-05-01T00:00:00\",\"2008-06-01T00:00:00\",\"2008-07-01T00:00:00\",\"2008-08-01T00:00:00\",\"2008-09-01T00:00:00\",\"2008-10-01T00:00:00\",\"2008-11-01T00:00:00\",\"2008-12-01T00:00:00\",\"2009-01-01T00:00:00\",\"2009-02-01T00:00:00\",\"2009-03-01T00:00:00\",\"2009-04-01T00:00:00\",\"2009-05-01T00:00:00\",\"2009-06-01T00:00:00\",\"2009-07-01T00:00:00\",\"2009-08-01T00:00:00\",\"2009-09-01T00:00:00\",\"2009-10-01T00:00:00\",\"2009-11-01T00:00:00\",\"2009-12-01T00:00:00\",\"2010-01-01T00:00:00\",\"2010-02-01T00:00:00\",\"2010-03-01T00:00:00\",\"2010-04-01T00:00:00\",\"2010-05-01T00:00:00\",\"2010-06-01T00:00:00\",\"2010-07-01T00:00:00\",\"2010-08-01T00:00:00\",\"2010-09-01T00:00:00\",\"2010-10-01T00:00:00\",\"2010-11-01T00:00:00\",\"2010-12-01T00:00:00\",\"2011-01-01T00:00:00\",\"2011-02-01T00:00:00\",\"2011-03-01T00:00:00\",\"2011-04-01T00:00:00\",\"2011-05-01T00:00:00\",\"2011-06-01T00:00:00\",\"2011-07-01T00:00:00\",\"2011-08-01T00:00:00\",\"2011-09-01T00:00:00\",\"2011-10-01T00:00:00\",\"2011-11-01T00:00:00\",\"2011-12-01T00:00:00\",\"2012-01-01T00:00:00\",\"2012-02-01T00:00:00\",\"2012-03-01T00:00:00\",\"2012-04-01T00:00:00\",\"2012-05-01T00:00:00\",\"2012-06-01T00:00:00\",\"2012-07-01T00:00:00\",\"2012-08-01T00:00:00\",\"2012-09-01T00:00:00\",\"2012-10-01T00:00:00\",\"2012-11-01T00:00:00\",\"2012-12-01T00:00:00\",\"2013-01-01T00:00:00\",\"2013-02-01T00:00:00\",\"2013-03-01T00:00:00\",\"2013-04-01T00:00:00\",\"2013-05-01T00:00:00\",\"2013-06-01T00:00:00\",\"2013-07-01T00:00:00\",\"2013-08-01T00:00:00\",\"2013-09-01T00:00:00\",\"2013-10-01T00:00:00\",\"2013-11-01T00:00:00\",\"2013-12-01T00:00:00\",\"2014-01-01T00:00:00\",\"2014-02-01T00:00:00\",\"2014-03-01T00:00:00\",\"2014-04-01T00:00:00\",\"2014-05-01T00:00:00\",\"2014-06-01T00:00:00\",\"2014-07-01T00:00:00\",\"2014-08-01T00:00:00\",\"2014-09-01T00:00:00\",\"2014-10-01T00:00:00\",\"2014-11-01T00:00:00\",\"2014-12-01T00:00:00\",\"2015-01-01T00:00:00\",\"2015-02-01T00:00:00\",\"2015-03-01T00:00:00\",\"2015-04-01T00:00:00\",\"2015-05-01T00:00:00\",\"2015-06-01T00:00:00\",\"2015-07-01T00:00:00\",\"2015-08-01T00:00:00\",\"2015-09-01T00:00:00\",\"2015-10-01T00:00:00\",\"2015-11-01T00:00:00\",\"2015-12-01T00:00:00\",\"2016-01-01T00:00:00\",\"2016-02-01T00:00:00\",\"2016-03-01T00:00:00\",\"2016-04-01T00:00:00\",\"2016-05-01T00:00:00\",\"2016-06-01T00:00:00\",\"2016-07-01T00:00:00\",\"2016-08-01T00:00:00\",\"2016-09-01T00:00:00\",\"2016-10-01T00:00:00\",\"2016-11-01T00:00:00\",\"2016-12-01T00:00:00\",\"2017-01-01T00:00:00\",\"2017-02-01T00:00:00\",\"2017-03-01T00:00:00\",\"2017-04-01T00:00:00\",\"2017-05-01T00:00:00\",\"2017-06-01T00:00:00\",\"2017-07-01T00:00:00\",\"2017-08-01T00:00:00\",\"2017-09-01T00:00:00\",\"2017-10-01T00:00:00\",\"2017-11-01T00:00:00\",\"2017-12-01T00:00:00\",\"2018-01-01T00:00:00\",\"2018-02-01T00:00:00\",\"2018-03-01T00:00:00\",\"2018-04-01T00:00:00\",\"2018-05-01T00:00:00\",\"2018-06-01T00:00:00\",\"2018-07-01T00:00:00\",\"2018-08-01T00:00:00\",\"2018-09-01T00:00:00\",\"2018-10-01T00:00:00\",\"2018-11-01T00:00:00\",\"2018-12-01T00:00:00\",\"2019-01-01T00:00:00\",\"2019-02-01T00:00:00\",\"2019-03-01T00:00:00\",\"2019-04-01T00:00:00\",\"2019-05-01T00:00:00\",\"2019-06-01T00:00:00\",\"2019-07-01T00:00:00\",\"2019-08-01T00:00:00\",\"2019-09-01T00:00:00\",\"2019-10-01T00:00:00\",\"2019-11-01T00:00:00\",\"2019-12-01T00:00:00\",\"2020-01-01T00:00:00\",\"2020-02-01T00:00:00\",\"2020-03-01T00:00:00\",\"2020-04-01T00:00:00\",\"2020-05-01T00:00:00\",\"2020-06-01T00:00:00\",\"2020-07-01T00:00:00\",\"2020-08-01T00:00:00\",\"2020-09-01T00:00:00\",\"2020-10-01T00:00:00\",\"2020-11-01T00:00:00\",\"2020-12-01T00:00:00\",\"2021-01-01T00:00:00\",\"2021-02-01T00:00:00\",\"2021-03-01T00:00:00\",\"2021-04-01T00:00:00\",\"2021-05-01T00:00:00\",\"2021-06-01T00:00:00\",\"2021-07-01T00:00:00\",\"2021-08-01T00:00:00\",\"2021-09-01T00:00:00\",\"2021-10-01T00:00:00\",\"2021-11-01T00:00:00\",\"2021-12-01T00:00:00\",\"2022-01-01T00:00:00\",\"2022-02-01T00:00:00\",\"2022-03-01T00:00:00\",\"2022-04-01T00:00:00\",\"2022-05-01T00:00:00\",\"2022-06-01T00:00:00\",\"2022-07-01T00:00:00\",\"2022-08-01T00:00:00\",\"2022-09-01T00:00:00\",\"2022-10-01T00:00:00\",\"2022-11-01T00:00:00\",\"2022-12-01T00:00:00\",\"2023-01-01T00:00:00\",\"2023-02-01T00:00:00\",\"2023-03-01T00:00:00\",\"2023-04-01T00:00:00\",\"2023-05-01T00:00:00\",\"2023-06-01T00:00:00\",\"2023-07-01T00:00:00\",\"2023-08-01T00:00:00\",\"2023-09-01T00:00:00\",\"2023-10-01T00:00:00\",\"2023-11-01T00:00:00\",\"2023-12-01T00:00:00\",\"2024-01-01T00:00:00\",\"2024-02-01T00:00:00\"],\"y\":[null,1.0405631222117449,0.9744703224747826,0.9954565461877938,1.0256929592137034,0.977849458522369,1.0276403828977558,1.0045996906034897,0.9435263010336419,1.0032546046739022,1.0277288954390928,1.0306186578231085,0.9257689455554254,1.0657297452816619,1.0227812535811076,0.9229238566773466,0.9720946421468328,0.9932652951669445,1.0408790412976336,0.9858256740102229,0.952588281084855,1.0650008448791566,1.0270529725646014,0.9623410808978128,1.0420904429339766,0.9442561430421478,0.9937610410248726,1.0099899512677077,1.020534646292837,0.9447984110512494,1.056072148106519,1.0122128337274958,0.9954006395072105,1.0104632036428407,0.9887815202205515,0.9651445725540592,0.9425753339921,0.9190954368552438,0.9438654571589118,1.1976640777623864,0.966070393660289,0.9936108274889172,1.0639417575960832,0.9057892182904904,1.0014000876270925,0.9477336668563178,1.042191262600958,0.9931285072762029,0.9741987659261256,1.0048118696429829,0.9959412924982052,1.009075236170008,1.0390700540931124,1.0030918549616457,0.9549382636251237,1.0204846258059828,0.9536379078284588,1.0231910403753364,0.9916262495500905,1.0150621497804955,1.0058487663299256,1.008279348342812,0.9754161138689559,1.0307978862482854,0.9798918883982447,1.0231955641645927,0.9672294475767039,1.0049442507937092,1.0048025896758879,0.9989100147966102,1.0100496465485238,1.0068264559435514,0.9958964933083343,0.9908521185083073,0.9841079594883636,1.050645206825769,0.9870745486147933,0.992776380774655,0.9397261949025549,1.0693308122582783,0.9747471063946852,0.9458367518769631,1.028225928508275,0.9873149992318477,1.00851924586448,1.0668345818664549,0.9350189216671128,1.0089211708496355,1.0132370556850285,1.0059583027262688,0.9779847895025386,1.0026539245700719,0.9901350216390552,0.9992642923872601,1.043867400732497,0.9887655328027423,0.9998752547930042,0.9747485131397496,0.9970853489400666,1.0116241941726625,0.9889336420269892,0.9778083091038688,1.0717031536909651,0.9224011311714908,1.0076995915444023,1.0443049022866633,1.00970694501306,0.9510754808216415,1.02989225054966,0.9617367560316767,0.9777779569510927,1.070693960058541,0.9753426154438762,0.9911315224718497,1.0231601842264353,1.0481962658452,0.948606652300989,0.9926460307123612,0.981581771905739,1.0233898324013058,0.9772562222805824,1.0303326765139071,0.9447700080206138,1.0479998646500275,0.9984976828704056,1.0447554624215674,0.9475373059828481,1.0396590172619355,0.9406462962783277,1.01413203430147,0.9921940804181345,1.0573066397087447,0.9261915301747584,1.0370935635477423,0.9148440847387157,1.1426854671379763,0.9829403575113485,0.9127565364307648,0.998527235929663,1.0479216179298203,0.8560217016602225,1.075755969715424,1.067579490163852,0.9151902239647804,0.9887469171758541,1.0324394742682834,0.9839728219591171,1.061969724311875,0.9138647641332376,1.0572376686371812,0.9724304695724804,1.0025837973721876,1.0828639573373338,0.9406128408334559,0.9218529189512984,1.0420874879642763,1.0992727116410128,0.8252505437774206,1.1807083029015821,0.913957759061301,0.9927346946082849,1.1403409843192425,0.8323609808946114,1.0730463092179288,0.9993097641116983,0.9328409669963698,1.0297664406416693,1.0409914819380783,0.9978045240487886,0.9441625387493503,1.0969553832650232,0.9643571651417332,0.9745493569475439,0.9766491281077431,1.0163261802405823,0.9670751074410968,0.9511467892593156,1.044711132373227,1.062204733307006,0.9364992826265299,1.0106787407261042,0.9957010762109841,0.9930218879789526,1.0668071082536437,0.9522145014171571,0.945453611058913,1.0375387396995333,0.9896287141746877,1.0854411414372838,0.9863143018254444,0.9049048862890916,1.0048336375198692,1.0337237954546379,0.9782659697752643,1.0418768214748308,0.9797138092736634,0.9847977428469817,0.9930631173825213,1.0278679395063302,0.954817017976983,1.0389497457493697,0.9680208318842307,1.0110613356913112,1.0486996869077243,0.895767227754253,1.0865025265990913,0.9219096759353886,1.059815579437282,1.0307601896550591,0.9956644074941378,0.9418519244587482,0.9888348207400377,1.0133115691759103,1.041062492748958,0.9913803701089701,0.9489762961870923,1.0139694187995842,0.9854695212759302,1.060452787982645,0.9938550945237773,1.0113423006809452,0.9358654959092882,1.005274166099459,1.0454201292535914,0.9451944757844245,1.0048590448060288,1.0517134624406856,0.9484915360530319,1.02290036822416,1.0399358691355929,1.0035821802784288,0.97310030615816,0.9375648902168212,1.071935295462448,0.9873724682053596,0.969507345180013,0.9627100664688785,1.0570003993894836,0.9891285716367342,0.9814380497139173,1.0004325197258581,1.0427938020825698,0.9382895125057296,1.0029872711686858,1.0386230798240332,0.9738335609083782,1.0298019375428193,0.9599662677626054,1.0229277346956338,0.9803910585515226,0.9766078369778121,1.0125800319786544,1.0678044801666173,0.9900559718355404,1.0244276623520865,1.0548405187479124,0.8943370078529511,0.9936272454982886,0.8447155886846838,1.0650531458685266,0.9853191769161928,0.986432268207851,0.9347636336920981,1.0590099848274293,1.0096274085839976,1.014489702281082,1.0066687942248573,0.9450738374472305,1.0283776190215987,1.008016469729039,1.034205452497936,0.9472300984296023,1.0012912651383339,0.9964156226237851,1.079212176885795,0.9318838673435789,1.0011347707369669,1.0198266731136516,0.9653684792174118,1.0188647448883141,0.9924477797007971,0.9823325276755196,1.0091998335310246,0.97504200059057,1.0224630217259467,0.9898445084823825,1.0527020725736698,0.9852224978585699,0.9756845692893718,1.0105322596204722,1.0305027311469777,0.961135961135094,1.0005454632788504,1.01426033031351,0.9877514527833517,0.971098107116084,1.0264689625810168,1.0202368677356002,1.028917082779874,0.9801893208638524,0.933052255071859,1.011840581910037,1.028057824674783,1.0006010583487543,0.9925825498557336,0.9992397034839343,0.9896346808188091,1.0237912000512424,0.9974203589497131,1.0138352229384857,0.9810902329428458,0.9859240999671768,0.9931076837083659,0.9916578101207689,1.0449201189848456,0.98026389442348,0.9880461573170501,1.0103952565539394,1.005938951599048,0.9918903666895484,1.0081363764144073,0.9861794911120756,1.0063536088604457,0.9925082996335906,1.0283154131005152,0.9927108634019158,1.0049774221704217,1.018418370283384,1.0069671133075289,1.016724593770972,0.9529192792792234,0.8655652934939259,1.1341291681468384,0.9009219649373185,1.0604417378990276,1.0074837799088001,1.0275788759496802,0.9893484002229039,0.9651461012840532,0.994155225170373,1.035686257864065,1.0183883927781918,0.9716061028348021,0.9407301371116474,1.0146251237890331,0.9355041562649281,1.0398939053765497,1.029926531966858,1.0481028439712203,0.8940691318467964,1.0463180190047867,1.0203945792555564,0.9732552298929174,0.9611204980456869,1.0465498023450965,1.0131946531742901,0.9917421403282078,1.0141276006845956,0.9821298080351978,1.0116926745219852,0.9550092496187256,1.0276063047072623,0.973899576586449,1.003895661929285,1.0116869048828219,0.9909612737401808,1.0147943474127628,1.013576532547404,0.9734794688286569,0.9850565622172196,1.0286377530322126,0.9942705257937963,1.0226925682061454,0.9733561083966277,0.9834822455112434,1.062374189613524,1.0428324304989811,0.9419140888740587,0.8920054519813272,1.0522038134235727,0.994582339693412,0.9972405407973141,1.0466001960078195,0.9665924282596681,1.0251000921530267,0.9976887151554109,0.9803116192005126,1.0129751793040382,0.962588100185566,1.0063017171050397,1.07399509064851,0.9798544379816363,1.2374326286243906,0.5307173577661046,0.8094601480222864,1.086978900718973,1.0545463007753637,0.9952536408087729,1.050550093661926,0.9960688184427618,0.882608712749887,1.041707835434629,1.0061875116564731,0.9616912285714537,1.0661429883132036,0.970536032353734,1.012727861758969,0.968568702093965,1.0343683451768482,1.022004311637418,0.9587166006184435,0.999911948985121,1.0754941776440183,0.9160291975376379,0.9674472979091449,1.0159300401682916,1.0177223064890906,1.0137856389582998,0.9526858001798235,1.060828807470102,1.0109855589867978,1.0202723927129678,0.9717405411408315,0.9604985579786198,1.045006796089802,0.9776130499334633,0.9903828316972408,1.0031154923886254,1.0117059543594358,0.978563484344905,1.049197756012005,0.9443545053830442,0.9684553852274527,1.034841109870263,0.9721348796810356,1.0693792438331065,0.9849690661085266,0.9919354038101892,0.9652954409251966,1.0149540564085529,null],\"type\":\"scatter\",\"xaxis\":\"x4\",\"yaxis\":\"y4\"}],                        {\"template\":{\"data\":{\"histogram2dcontour\":[{\"type\":\"histogram2dcontour\",\"colorbar\":{\"outlinewidth\":0,\"ticks\":\"\"},\"colorscale\":[[0.0,\"#0d0887\"],[0.1111111111111111,\"#46039f\"],[0.2222222222222222,\"#7201a8\"],[0.3333333333333333,\"#9c179e\"],[0.4444444444444444,\"#bd3786\"],[0.5555555555555556,\"#d8576b\"],[0.6666666666666666,\"#ed7953\"],[0.7777777777777778,\"#fb9f3a\"],[0.8888888888888888,\"#fdca26\"],[1.0,\"#f0f921\"]]}],\"choropleth\":[{\"type\":\"choropleth\",\"colorbar\":{\"outlinewidth\":0,\"ticks\":\"\"}}],\"histogram2d\":[{\"type\":\"histogram2d\",\"colorbar\":{\"outlinewidth\":0,\"ticks\":\"\"},\"colorscale\":[[0.0,\"#0d0887\"],[0.1111111111111111,\"#46039f\"],[0.2222222222222222,\"#7201a8\"],[0.3333333333333333,\"#9c179e\"],[0.4444444444444444,\"#bd3786\"],[0.5555555555555556,\"#d8576b\"],[0.6666666666666666,\"#ed7953\"],[0.7777777777777778,\"#fb9f3a\"],[0.8888888888888888,\"#fdca26\"],[1.0,\"#f0f921\"]]}],\"heatmap\":[{\"type\":\"heatmap\",\"colorbar\":{\"outlinewidth\":0,\"ticks\":\"\"},\"colorscale\":[[0.0,\"#0d0887\"],[0.1111111111111111,\"#46039f\"],[0.2222222222222222,\"#7201a8\"],[0.3333333333333333,\"#9c179e\"],[0.4444444444444444,\"#bd3786\"],[0.5555555555555556,\"#d8576b\"],[0.6666666666666666,\"#ed7953\"],[0.7777777777777778,\"#fb9f3a\"],[0.8888888888888888,\"#fdca26\"],[1.0,\"#f0f921\"]]}],\"heatmapgl\":[{\"type\":\"heatmapgl\",\"colorbar\":{\"outlinewidth\":0,\"ticks\":\"\"},\"colorscale\":[[0.0,\"#0d0887\"],[0.1111111111111111,\"#46039f\"],[0.2222222222222222,\"#7201a8\"],[0.3333333333333333,\"#9c179e\"],[0.4444444444444444,\"#bd3786\"],[0.5555555555555556,\"#d8576b\"],[0.6666666666666666,\"#ed7953\"],[0.7777777777777778,\"#fb9f3a\"],[0.8888888888888888,\"#fdca26\"],[1.0,\"#f0f921\"]]}],\"contourcarpet\":[{\"type\":\"contourcarpet\",\"colorbar\":{\"outlinewidth\":0,\"ticks\":\"\"}}],\"contour\":[{\"type\":\"contour\",\"colorbar\":{\"outlinewidth\":0,\"ticks\":\"\"},\"colorscale\":[[0.0,\"#0d0887\"],[0.1111111111111111,\"#46039f\"],[0.2222222222222222,\"#7201a8\"],[0.3333333333333333,\"#9c179e\"],[0.4444444444444444,\"#bd3786\"],[0.5555555555555556,\"#d8576b\"],[0.6666666666666666,\"#ed7953\"],[0.7777777777777778,\"#fb9f3a\"],[0.8888888888888888,\"#fdca26\"],[1.0,\"#f0f921\"]]}],\"surface\":[{\"type\":\"surface\",\"colorbar\":{\"outlinewidth\":0,\"ticks\":\"\"},\"colorscale\":[[0.0,\"#0d0887\"],[0.1111111111111111,\"#46039f\"],[0.2222222222222222,\"#7201a8\"],[0.3333333333333333,\"#9c179e\"],[0.4444444444444444,\"#bd3786\"],[0.5555555555555556,\"#d8576b\"],[0.6666666666666666,\"#ed7953\"],[0.7777777777777778,\"#fb9f3a\"],[0.8888888888888888,\"#fdca26\"],[1.0,\"#f0f921\"]]}],\"mesh3d\":[{\"type\":\"mesh3d\",\"colorbar\":{\"outlinewidth\":0,\"ticks\":\"\"}}],\"scatter\":[{\"fillpattern\":{\"fillmode\":\"overlay\",\"size\":10,\"solidity\":0.2},\"type\":\"scatter\"}],\"parcoords\":[{\"type\":\"parcoords\",\"line\":{\"colorbar\":{\"outlinewidth\":0,\"ticks\":\"\"}}}],\"scatterpolargl\":[{\"type\":\"scatterpolargl\",\"marker\":{\"colorbar\":{\"outlinewidth\":0,\"ticks\":\"\"}}}],\"bar\":[{\"error_x\":{\"color\":\"#2a3f5f\"},\"error_y\":{\"color\":\"#2a3f5f\"},\"marker\":{\"line\":{\"color\":\"#E5ECF6\",\"width\":0.5},\"pattern\":{\"fillmode\":\"overlay\",\"size\":10,\"solidity\":0.2}},\"type\":\"bar\"}],\"scattergeo\":[{\"type\":\"scattergeo\",\"marker\":{\"colorbar\":{\"outlinewidth\":0,\"ticks\":\"\"}}}],\"scatterpolar\":[{\"type\":\"scatterpolar\",\"marker\":{\"colorbar\":{\"outlinewidth\":0,\"ticks\":\"\"}}}],\"histogram\":[{\"marker\":{\"pattern\":{\"fillmode\":\"overlay\",\"size\":10,\"solidity\":0.2}},\"type\":\"histogram\"}],\"scattergl\":[{\"type\":\"scattergl\",\"marker\":{\"colorbar\":{\"outlinewidth\":0,\"ticks\":\"\"}}}],\"scatter3d\":[{\"type\":\"scatter3d\",\"line\":{\"colorbar\":{\"outlinewidth\":0,\"ticks\":\"\"}},\"marker\":{\"colorbar\":{\"outlinewidth\":0,\"ticks\":\"\"}}}],\"scattermapbox\":[{\"type\":\"scattermapbox\",\"marker\":{\"colorbar\":{\"outlinewidth\":0,\"ticks\":\"\"}}}],\"scatterternary\":[{\"type\":\"scatterternary\",\"marker\":{\"colorbar\":{\"outlinewidth\":0,\"ticks\":\"\"}}}],\"scattercarpet\":[{\"type\":\"scattercarpet\",\"marker\":{\"colorbar\":{\"outlinewidth\":0,\"ticks\":\"\"}}}],\"carpet\":[{\"aaxis\":{\"endlinecolor\":\"#2a3f5f\",\"gridcolor\":\"white\",\"linecolor\":\"white\",\"minorgridcolor\":\"white\",\"startlinecolor\":\"#2a3f5f\"},\"baxis\":{\"endlinecolor\":\"#2a3f5f\",\"gridcolor\":\"white\",\"linecolor\":\"white\",\"minorgridcolor\":\"white\",\"startlinecolor\":\"#2a3f5f\"},\"type\":\"carpet\"}],\"table\":[{\"cells\":{\"fill\":{\"color\":\"#EBF0F8\"},\"line\":{\"color\":\"white\"}},\"header\":{\"fill\":{\"color\":\"#C8D4E3\"},\"line\":{\"color\":\"white\"}},\"type\":\"table\"}],\"barpolar\":[{\"marker\":{\"line\":{\"color\":\"#E5ECF6\",\"width\":0.5},\"pattern\":{\"fillmode\":\"overlay\",\"size\":10,\"solidity\":0.2}},\"type\":\"barpolar\"}],\"pie\":[{\"automargin\":true,\"type\":\"pie\"}]},\"layout\":{\"autotypenumbers\":\"strict\",\"colorway\":[\"#636efa\",\"#EF553B\",\"#00cc96\",\"#ab63fa\",\"#FFA15A\",\"#19d3f3\",\"#FF6692\",\"#B6E880\",\"#FF97FF\",\"#FECB52\"],\"font\":{\"color\":\"#2a3f5f\"},\"hovermode\":\"closest\",\"hoverlabel\":{\"align\":\"left\"},\"paper_bgcolor\":\"white\",\"plot_bgcolor\":\"#E5ECF6\",\"polar\":{\"bgcolor\":\"#E5ECF6\",\"angularaxis\":{\"gridcolor\":\"white\",\"linecolor\":\"white\",\"ticks\":\"\"},\"radialaxis\":{\"gridcolor\":\"white\",\"linecolor\":\"white\",\"ticks\":\"\"}},\"ternary\":{\"bgcolor\":\"#E5ECF6\",\"aaxis\":{\"gridcolor\":\"white\",\"linecolor\":\"white\",\"ticks\":\"\"},\"baxis\":{\"gridcolor\":\"white\",\"linecolor\":\"white\",\"ticks\":\"\"},\"caxis\":{\"gridcolor\":\"white\",\"linecolor\":\"white\",\"ticks\":\"\"}},\"coloraxis\":{\"colorbar\":{\"outlinewidth\":0,\"ticks\":\"\"}},\"colorscale\":{\"sequential\":[[0.0,\"#0d0887\"],[0.1111111111111111,\"#46039f\"],[0.2222222222222222,\"#7201a8\"],[0.3333333333333333,\"#9c179e\"],[0.4444444444444444,\"#bd3786\"],[0.5555555555555556,\"#d8576b\"],[0.6666666666666666,\"#ed7953\"],[0.7777777777777778,\"#fb9f3a\"],[0.8888888888888888,\"#fdca26\"],[1.0,\"#f0f921\"]],\"sequentialminus\":[[0.0,\"#0d0887\"],[0.1111111111111111,\"#46039f\"],[0.2222222222222222,\"#7201a8\"],[0.3333333333333333,\"#9c179e\"],[0.4444444444444444,\"#bd3786\"],[0.5555555555555556,\"#d8576b\"],[0.6666666666666666,\"#ed7953\"],[0.7777777777777778,\"#fb9f3a\"],[0.8888888888888888,\"#fdca26\"],[1.0,\"#f0f921\"]],\"diverging\":[[0,\"#8e0152\"],[0.1,\"#c51b7d\"],[0.2,\"#de77ae\"],[0.3,\"#f1b6da\"],[0.4,\"#fde0ef\"],[0.5,\"#f7f7f7\"],[0.6,\"#e6f5d0\"],[0.7,\"#b8e186\"],[0.8,\"#7fbc41\"],[0.9,\"#4d9221\"],[1,\"#276419\"]]},\"xaxis\":{\"gridcolor\":\"white\",\"linecolor\":\"white\",\"ticks\":\"\",\"title\":{\"standoff\":15},\"zerolinecolor\":\"white\",\"automargin\":true,\"zerolinewidth\":2},\"yaxis\":{\"gridcolor\":\"white\",\"linecolor\":\"white\",\"ticks\":\"\",\"title\":{\"standoff\":15},\"zerolinecolor\":\"white\",\"automargin\":true,\"zerolinewidth\":2},\"scene\":{\"xaxis\":{\"backgroundcolor\":\"#E5ECF6\",\"gridcolor\":\"white\",\"linecolor\":\"white\",\"showbackground\":true,\"ticks\":\"\",\"zerolinecolor\":\"white\",\"gridwidth\":2},\"yaxis\":{\"backgroundcolor\":\"#E5ECF6\",\"gridcolor\":\"white\",\"linecolor\":\"white\",\"showbackground\":true,\"ticks\":\"\",\"zerolinecolor\":\"white\",\"gridwidth\":2},\"zaxis\":{\"backgroundcolor\":\"#E5ECF6\",\"gridcolor\":\"white\",\"linecolor\":\"white\",\"showbackground\":true,\"ticks\":\"\",\"zerolinecolor\":\"white\",\"gridwidth\":2}},\"shapedefaults\":{\"line\":{\"color\":\"#2a3f5f\"}},\"annotationdefaults\":{\"arrowcolor\":\"#2a3f5f\",\"arrowhead\":0,\"arrowwidth\":1},\"geo\":{\"bgcolor\":\"white\",\"landcolor\":\"#E5ECF6\",\"subunitcolor\":\"white\",\"showland\":true,\"showlakes\":true,\"lakecolor\":\"white\"},\"title\":{\"x\":0.05},\"mapbox\":{\"style\":\"light\"}}},\"xaxis\":{\"anchor\":\"y\",\"domain\":[0.0,0.45]},\"yaxis\":{\"anchor\":\"x\",\"domain\":[0.625,1.0],\"title\":{\"text\":\"\"}},\"xaxis2\":{\"anchor\":\"y2\",\"domain\":[0.55,1.0]},\"yaxis2\":{\"anchor\":\"x2\",\"domain\":[0.625,1.0]},\"xaxis3\":{\"anchor\":\"y3\",\"domain\":[0.0,0.45]},\"yaxis3\":{\"anchor\":\"x3\",\"domain\":[0.0,0.375]},\"xaxis4\":{\"anchor\":\"y4\",\"domain\":[0.55,1.0]},\"yaxis4\":{\"anchor\":\"x4\",\"domain\":[0.0,0.375]},\"annotations\":[{\"font\":{\"size\":16},\"showarrow\":false,\"text\":\"Close\",\"x\":0.225,\"xanchor\":\"center\",\"xref\":\"paper\",\"y\":1.0,\"yanchor\":\"bottom\",\"yref\":\"paper\"},{\"font\":{\"size\":16},\"showarrow\":false,\"text\":\"Trend\",\"x\":0.775,\"xanchor\":\"center\",\"xref\":\"paper\",\"y\":1.0,\"yanchor\":\"bottom\",\"yref\":\"paper\"},{\"font\":{\"size\":16},\"showarrow\":false,\"text\":\"Seasonal\",\"x\":0.225,\"xanchor\":\"center\",\"xref\":\"paper\",\"y\":0.375,\"yanchor\":\"bottom\",\"yref\":\"paper\"},{\"font\":{\"size\":16},\"showarrow\":false,\"text\":\"Resid(G\\u00fcr\\u00fclt\\u00fc)\",\"x\":0.775,\"xanchor\":\"center\",\"xref\":\"paper\",\"y\":0.375,\"yanchor\":\"bottom\",\"yref\":\"paper\"}],\"title\":{\"text\":\"Brent Petrol Fiyat\\u0131 ve Enerji \\u0130thalat\\u0131 Bile\\u015fen Analizi\",\"x\":0.5},\"showlegend\":false,\"coloraxis\":{\"colorbar\":{\"title\":{\"text\":\"Residual Color\"}}},\"height\":600,\"width\":1000},                        {\"responsive\": true}                    ).then(function(){\n",
              "                            \n",
              "var gd = document.getElementById('083767ce-de19-4613-8e37-32467b95874d');\n",
              "var x = new MutationObserver(function (mutations, observer) {{\n",
              "        var display = window.getComputedStyle(gd).display;\n",
              "        if (!display || display === 'none') {{\n",
              "            console.log([gd, 'removed!']);\n",
              "            Plotly.purge(gd);\n",
              "            observer.disconnect();\n",
              "        }}\n",
              "}});\n",
              "\n",
              "// Listen for the removal of the full notebook cells\n",
              "var notebookContainer = gd.closest('#notebook-container');\n",
              "if (notebookContainer) {{\n",
              "    x.observe(notebookContainer, {childList: true});\n",
              "}}\n",
              "\n",
              "// Listen for the clearing of the current output cell\n",
              "var outputEl = gd.closest('.output');\n",
              "if (outputEl) {{\n",
              "    x.observe(outputEl, {childList: true});\n",
              "}}\n",
              "\n",
              "                        })                };                            </script>        </div>\n",
              "</body>\n",
              "</html>"
            ]
          },
          "metadata": {}
        }
      ]
    },
    {
      "cell_type": "markdown",
      "source": [
        "### DURAĞANLIK"
      ],
      "metadata": {
        "id": "jZsozoKAhqx9"
      }
    },
    {
      "cell_type": "markdown",
      "source": [
        "**Verinin durağan olup olmadığını anlamak için birim-kök testleri yaparız.**\n",
        "\n",
        "\n",
        "---\n",
        "\n",
        "\n",
        "**Sık kullanılan birim-kök testleri:**\n",
        "\n",
        "\n",
        "\n",
        "1.   **ADF**\n",
        "2.   **KPSS**\n",
        "3.   **PP**\n",
        "\n"
      ],
      "metadata": {
        "id": "BnvkyzFbc_cr"
      }
    },
    {
      "cell_type": "code",
      "source": [
        "# ADF testi ile verinin durağan olup olmadığını inceleyelim.\n",
        "adf_result = adfuller(df)\n",
        "\n",
        "# extract and print the test statistic and p-value\n",
        "test_statistic, p_value, _, _, _, _ = adf_result\n",
        "\n",
        "print(\"ADF Test:\")\n",
        "print(f'Test Statistic: {test_statistic}')\n",
        "print(f'P-value: {p_value}')\n",
        "\n",
        "# interpret the results\n",
        "if p_value <= 0.05:\n",
        "\tprint('Reject the null hypothesis: The time series is stationary.')\n",
        "else:\n",
        "\tprint('Fail to reject the null hypothesis: The time series is non-stationary.')"
      ],
      "metadata": {
        "id": "pEv1u1jiKM2s",
        "outputId": "5e3bfeed-8bbe-4f12-e82e-9ebe5f084ddb",
        "colab": {
          "base_uri": "https://localhost:8080/"
        }
      },
      "execution_count": null,
      "outputs": [
        {
          "output_type": "stream",
          "name": "stdout",
          "text": [
            "ADF Test:\n",
            "Test Statistic: -2.2493714448520574\n",
            "P-value: 0.1888166127692446\n",
            "Fail to reject the null hypothesis: The time series is non-stationary.\n"
          ]
        }
      ]
    },
    {
      "cell_type": "code",
      "source": [
        "# (KPSS) testi ile 2. kez verinin durağan olup olmama durumunu inceleyelim.\n",
        "kpss_result = kpss(df)\n",
        "\n",
        "print(\"KPSS Test:\")\n",
        "print(f'Test Statistic: {kpss_result[0]}')\n",
        "print(f'P-value: {kpss_result[1]}')\n",
        "\n",
        "if kpss_result[1] > 0.05:\n",
        "\tprint('Fail to reject the null hypothesis: The time series is stationary.')\n",
        "else:\n",
        "\tprint('Reject the null hypothesis: The time series is non-stationary.')"
      ],
      "metadata": {
        "colab": {
          "base_uri": "https://localhost:8080/"
        },
        "id": "9nhQIqgfU1Y4",
        "outputId": "f49745b0-fa08-4738-8546-bc2dff9b2e39"
      },
      "execution_count": null,
      "outputs": [
        {
          "output_type": "stream",
          "name": "stdout",
          "text": [
            "KPSS Test:\n",
            "Test Statistic: 2.257949062251743\n",
            "P-value: 0.01\n",
            "Reject the null hypothesis: The time series is non-stationary.\n"
          ]
        }
      ]
    },
    {
      "cell_type": "markdown",
      "source": [
        "**Elde ettiğimiz Birim-kök testi sonuçlarına göre verinin durağan olmadığı kanısına vardık.**"
      ],
      "metadata": {
        "id": "pC3O2FT7no1I"
      }
    },
    {
      "cell_type": "markdown",
      "source": [
        "### SEASONALITY"
      ],
      "metadata": {
        "id": "3ecQd-fmVMpr"
      }
    },
    {
      "cell_type": "markdown",
      "source": [
        "**ACF grafiği, bir zaman serisinin genel bağlantı desenini gösterir. Yani, herhangi bir zaman aralığındaki korelasyonun, serinin diğer zaman aralıklarındaki değerlerle nasıl ilişkili olduğunu belirler.**\n",
        "\n",
        "---\n",
        "\n",
        "\n",
        "**Ardışık olarak azalan otokorelasyon değerleri, genellikle bir zaman serisinin istikrarlı olmadığını veya durağan olmadığını gösterir. Bu durum, zaman serisindeki değerlerin zamanla belirli bir eğilim veya desen izlemediği anlamına gelir.**"
      ],
      "metadata": {
        "id": "P8SLW5iQHU6R"
      }
    },
    {
      "cell_type": "code",
      "source": [
        "acf(df) # ACF testi"
      ],
      "metadata": {
        "colab": {
          "base_uri": "https://localhost:8080/"
        },
        "id": "s8Wq5y3tDlOZ",
        "outputId": "87cf7243-46c8-4ccd-dcf6-ab3aecaaa721"
      },
      "execution_count": null,
      "outputs": [
        {
          "output_type": "execute_result",
          "data": {
            "text/plain": [
              "array([1.        , 0.98323864, 0.95983589, 0.93610454, 0.91321527,\n",
              "       0.89231137, 0.87249608, 0.85553555, 0.84035911, 0.82691659,\n",
              "       0.81415541, 0.8011861 , 0.78672284, 0.77234458, 0.75966572,\n",
              "       0.74870761, 0.73664961, 0.72286951, 0.71030011, 0.69794757,\n",
              "       0.68554446, 0.67014835, 0.65419212, 0.63850081, 0.62477643,\n",
              "       0.61315163, 0.60212686])"
            ]
          },
          "metadata": {},
          "execution_count": 151
        }
      ]
    },
    {
      "cell_type": "code",
      "source": [
        "acf_graph = plot_acf(df)"
      ],
      "metadata": {
        "colab": {
          "base_uri": "https://localhost:8080/"
        },
        "outputId": "c2d63a83-8c86-4fde-f128-79c1572e6e42",
        "id": "pypzec-M3sht"
      },
      "execution_count": null,
      "outputs": [
        {
          "output_type": "display_data",
          "data": {
            "text/plain": [
              "<Figure size 640x480 with 1 Axes>"
            ],
            "image/png": "[encoded data removed]"
          },
          "metadata": {}
        }
      ]
    },
    {
      "cell_type": "markdown",
      "source": [
        "**Yüksek İlk Değerler:** ACF'nin ilk değeri 1'e yakın ve ilk 12 değer (yıllık mevsimselliği temsil eder) 0.7'nin üzerinde ve oldukça yüksek. Bu da veride mevsimsel bir patern olduğunu gösteriyor.\n",
        "\n",
        "**Yavaş Azalma:** ACF değerleri gecikme arttıkça azalıyor, ancak oldukça yavaş bir şekilde azalıyor. Bu da mevsimselliğin oldukça kalıcı olduğunu ve kolayca ortadan kalkmayacağını gösteriyor."
      ],
      "metadata": {
        "id": "yokjmMJMD9qZ"
      }
    },
    {
      "cell_type": "code",
      "source": [
        "pacf(df) # PACF testi"
      ],
      "metadata": {
        "colab": {
          "base_uri": "https://localhost:8080/"
        },
        "id": "bYUlOIVJDjJ6",
        "outputId": "bbfda20e-465f-4589-d23c-d2247278c4f5"
      },
      "execution_count": null,
      "outputs": [
        {
          "output_type": "execute_result",
          "data": {
            "text/plain": [
              "array([ 1.        ,  0.98547327, -0.24092442,  0.02988892,  0.01015774,\n",
              "        0.04730333, -0.00235708,  0.08572828,  0.01246146,  0.04263282,\n",
              "       -0.00282515, -0.00795335, -0.05405697,  0.03463979,  0.052944  ,\n",
              "        0.0383109 , -0.07362419, -0.0402718 ,  0.06239143, -0.02243557,\n",
              "       -0.00844865, -0.11776629,  0.02980439, -0.00918497,  0.06637183,\n",
              "        0.01254904, -0.00817564])"
            ]
          },
          "metadata": {},
          "execution_count": 153
        }
      ]
    },
    {
      "cell_type": "code",
      "source": [
        "pacf_graph = plot_pacf(df)"
      ],
      "metadata": {
        "colab": {
          "base_uri": "https://localhost:8080/"
        },
        "outputId": "955c478b-daee-4209-8214-1ffd1b1f0995",
        "id": "-Cj4_wZc3sht"
      },
      "execution_count": null,
      "outputs": [
        {
          "output_type": "display_data",
          "data": {
            "text/plain": [
              "<Figure size 640x480 with 1 Axes>"
            ],
            "image/png": "[encoded data removed]"
          },
          "metadata": {}
        }
      ]
    },
    {
      "cell_type": "markdown",
      "source": [
        "**Mevsimsel Periyotlarda Keskin Değişimler:** PACF'de 12. gecikmede ve 24. gecikmede (yıllık mevsimselliği temsil eder) keskin değişimler görülüyor. Bu da mevsimselliğin varlığını teyit ediyor.\n",
        "\n",
        "---\n",
        "\n",
        "**Bu sonuçlara göre zaman serisinde bir mevsimsellik durumu olduğu kanısına varabiliriz.**"
      ],
      "metadata": {
        "id": "K9Qlumu_EJ0C"
      }
    },
    {
      "cell_type": "markdown",
      "source": [
        "**Verideki artış ve azalışlar arasındaki fark yüksek olduğu için bileşen ayrıştırmasını çarpımsal model kullanarak yaptım.**\n",
        "\n",
        "---\n",
        "\n",
        "\n",
        "\n",
        "**Bileşen ayrıştırmasında Toplamsal ve Çarpımsal Model seçimi:**\n",
        "\n",
        "1. Eklemeli model, mevsimsel değişimin zaman içinde nispeten sabit olduğu durumlarda kullanışlıdır.\n",
        "2. Çarpımsal model, mevsimsel değişimin zamanla arttığı durumlarda kullanışlıdır.\n",
        "\n",
        "**Örneğin:**\n",
        "\n",
        "\n",
        "![1566373922156.png](data:image/png;base64,iVBORw0KGgoAAAANSUhEUgAAA/AAAAF5CAYAAAA4f8E3AAAgAElEQVR42uydB3yV5dn/f89zds5JTvYkCwKEPVVABNzgtta66qCttXZpa/ta+7b1Vf/v66jW1aEdaq2tYoe0DtC66wAcIBsCJCEheydnj+d/X/chQMhJciZCuL5+jiHrPDPPff/u67p+l6IJwDAMwzAMwzAMwzDMUY3Kp4BhGIZhGIZhGIZhWMAzDMMwDMMwDMMwDMMCnmEYhmEYhmEYhmFYwDMMwzAMwzAMwzAMwwKeYRiGYRiGYRiGYRgW8AzDMAzDMAzDMAzDAp5hGIZhGIZhGIZhGBbwDMMwDMMwDMMwDMOwgGcYhmEYhmEYhmEYFvAMwzAMwzAMwzAMw7CAZxiGYRiGYRiGYRgW8AzDMAzDMAzDMAzDsIBnGIZhGIZhGIZhGIYFPMMwDMMwDMMwDMOwgGcYhmEYhmEYhmEYhgU8wzAMwzAMwzAMwzAs4BmGYRiGYRiGYRiGBTzDMAzDMAzDMAzDMCzgGYZhGIZhGIZhGIZhAc8wDMMwDMMwDMMwLOAZhmEYhmEYhmEYhmEBzzAMwzAMwzAMwzAs4BmGYRiGYRiGYRiGOVrQHy074vV64fF4oCgKXxWGYRhm1GAymWAwGPhEMAzDMAwzegT8ihUroNfr5USHYRiGYUYDvb29KC0txZIlS/hkDEFdXR22bt0q5wAMwzAMM1qgwPSUKVOQl5c3OgU8DeBf+cpXkJOTw1ebYRiGGRXs3bsXu3bt4hMxDC+++CLmz5/PC/gMwzDMqKKmpgafffYZzjrrrNEp4AlVVaHT6fhqMwzDMKMCGte4NGx4/H4/8vPzUVBQwCeDYRiGGTVQ+VxDQ0Pi5xZ8ahmGYRiGYRiGYRjm6IcFPMMwDHNc4A0G5YthGIZhGIYFPMMwDMMcxbza0SJfDMMwDMMcPwS2fgp4PSzgGYZhGOZYYlNfD15ub+YTwTAMwzDHCVp3B7yPfB++d1+Snzc1sYCPCur13tLSEvbV2dmJIKc2MgzDMEmi0evGWkcPOn1ePhkMwzAMc1wI+HbxPw3Bda9j1TNNIL/Uhx46to/piLrQt7a24pVXXgn7vdWrV+OGG27gu4xhGIZJCo6AHxZFxXtdbTg/p5BPCMMwDMOMdgHf3gqYU6HOXIjbrg/Ir82cyQI+YoqKinD99deH/d6f/vQn2W6HYRiGYRIN5Xc5NQ3L7Fl4pbMV52YXQOX2bgzDMAwzann7beDNJzOxdu39ePe3lXC7gQtOqsWSU4pwlHVTP3oFPMMwDMN8HnT6PAgKvX5WZg7+a+9OtIrP84xmPjEMwzAMM8rYvh1YvhxYs4Y+q5RfS08Hzl7iwr0THobW+V9QsvNZwDMMwzDM0Uqdy4kUVYepqXZkiY87nQ4W8EeQjo4OvP/++2G/9+677+Kcc87hk8QwDMPEzWOPAd/7HmS0fd48DVeNewXzT7NjzlcWiu9a4L6rF5qzFwpYwDMMwzDMUctetws2nR5mId7PSs/GJjF4L0zPAifRHxlMJhPGjh07pLj3+Xx8khiGYZiYILH+1FPAvfcCNTWA2QzcfTdw680ueB9/B4ZF1x74WSU1E3A5junjZQHPMAzDjHpqPU4UGIzQKQoWZeTgNw01CGga9FwHf0SwWq2YMmVK2O/Z7Xb2wGEYhmFi4rnnQhH3/vZwS5aExPu8eYDW4wGcfVAKSw4KeJsdmqvvmD5mHjEZhmGYz5V/tjbgll2bkrqNKpcTxftT5vONJrgCfriCAT75DMMwDHOMsXo1cOONkC3hrrgiJN5JuL/1VuhF4l3idUNTdVBSUg8KeHsmtN6uY/r4OQLPMAzDfK7sEOL6P33d6PX7kKo3JPz9NfHfTo8L52flyc+tOj3ShYhf39OFRRnZfAEYhmEY5hgQ7StWACtXAl2H6G8S7jfdBFx0UZjx3+OGYkoZ+MXMXGhd7SzgGYZhGCYWKI29ye+FN6ihXojsSUkQ8L1+P3qDAeSbQhF4k6piaooNL7U3sYBnGIZhmKMUiqxTbfvjj4dq2/tZuhS48MKQaM8fzovO7YRitgz4kirG/UBjDQt4hmEYhokFtxDWJLDNiooatxDw1rSEb6Pb75MLBTkG04Gvzbba8ZvGOnT7fLAbDHwhGIZhGOYogaLtf/xjqL69H0qLv/baCET7IWgdLUB61sAvpqYDvT0s4BmGYRgmNgEfRF/Aj/PEALvL7UzKNjp9IQGfbTwo4CdaU2Vq/SZHNxamcxSeYRiGYT4vKNJOov3VV0Mf+1PkqXf75ZeHUuQrK6N/X621EcphAl4xWaCxCz3DMAzDxCrgAzCKj6dl5GBlRwu8QtAbE+xI3un3osJoHuA4T2n0l4htftjThZNlOzl2o2cYhmGYIzL2u4G33wbeeSck2DdsGPh9SpG/7LKQeDebY99OsL0ZasWkQQIe7mPbhZ4FPMMwDPO54RKC3a7TY7I1DX9oqpMR+UQL+Da/D2MPq4EjzsvOxwMNNejzB5Cq5+GQYRiGYZIFCXUS7CTc16wZ+D2KrpMZ3dlnh8R7PKL9ULTOVii2BQO/SH44WgCa0wElxcoCnmEYhmGioTfgh1nVIUWng0lRZEQ+LcFDU4vPizGmwQJ+CvWCDQTQ7veygGcYhmGYJEAmdHfcHkTN3oOL82VlIcG+eHHoI32eeDQh4FugWFMHfpnK6SiNvq0BSsn440fA+/1+eL1epKSk8F3JMAzDxC6uvR5kGY1QhXi3CRHd5HUj95Ba9Xih2vdOvw8zUmxhv19msWK3y4EyM49nDMMwDJNQ4X5Hv3u8ikXj9+C6H47BqWcakyTYD5PvLhfgdQApA81xFYMZiskMrbkBOEYFfMR5iiTaX3rpJZxyyimw2+3IycnBxIkT8dWvfhUNDQ3QxCSJYRiGGT3QU90TDCKZT/cmT0iw64SALzRbsLkvsc6wQTE2dQkBXzKEQJ9qS8Oa7g6+2AzDMAyTIOFeXg4sXx4S74vG7cJr338ar33lflx3mfOIiHc5h2lrFGLdBMV62AI+dZ4Roj7Ysu+YPccRR+BXrlyJl19+GT/72c9QUFAAo9GIvr4+bN++Hddddx0eeughTJ48me9ahmGYUUK924m7aqtw79hJyDAYk7KNBiHgp6bapYVcmdGCD7rbcSWKE/b+AWjo8/uRYwxfUDfRbMWK5n1JMc9jGIZhmNEO1bOTKR05yd9228F+7UtOCeDHM/+AJSf7oP/iN+B94BPA7z1i+xUUYzulyyuWwXXuSlYBtOa9o1/A/+Mf/8APf/hDzJo1a8DXZ8+eDYPBgNWrV7OAZxiGGUVs7evBDrdDpqAnS8C3+tzI0odavJSaLXi0sVdGzVUlMa7wlEKviJd5CHFeLLbpFZvaIo51Vlo6X3SGYRiGGQES6xRpf/zxg4K9H6ppv/124JTc9fD95W3oz3scik4no+Hweo7gTtZBycgTatcwWMBn5CC4Ze3oF/CLFy/G22+/jby8PKSlpUEnLoTP50NrayteeOEFXHHFFXw3MwzDjCYB7+hFqxDvNW4XxlqS49Ta6PMiVRcaXAuNZvjFx1q3E+UJ2l5AC5UC6IdYELCLgX2GxYZ/d7aygGcYhmGYYaBo+8MPA889d/BrM2eG+rXT69prgYsuCn3d//peKPacAyZymtEIzes+Yk1bg021UHLCZ/Qp6bnQ2hugBfxQdMeeiW3Ee3zppZfiwQcfxBe+8AWYTCbo9Xop4K1WK84880ycfvrpfFczDMOMIjY4e1FpTsH63k6clpGd8Pd3BQLoDgaRtn/wJDO7DPHvHY7ehAn4PjE4Q4h33TAR/bPSs3F/Y41MtbexGz3DMAzDDICi7ffeC2zfHvqcxDr1aL/pplALuHBojdVQSyYeFM3U+aW7XfzrCBjHaRq0llroKmeFF/A0pxHzD/T1AvaM0SvgMzMzcdddd+H222/Hvn370N7eLs3sioqKYE5Usz6GYRjmqMAvBrZNbieWZxXgU0e3jGInetV8n8cFgxDW/S3c9IqKedY0bBQCfml2fkK20SC2kao3iMFu6L2fnZaB3rpd0gG/Qm/jix8Gl8uFrq4u9Pb2wu12IyMjAxaLRX6kjDyGYRhm9LFyZaiuvV+4U3r8DTeEouzDyj8xhwg21kA3/5yDotmeCa2j5Yjst+bsg+ZyQMkbIgJP+xIMQBPzG2U0C/h169bJ9PnS0lKkpqZixYoV2LlzpzS0IxO7cePG8V3OMAwzSmjzeUH+83PT0rGqpx3NQgjnh+mlHpeAd7tgUnWwHZK+NtuWjmc7mqT7vSkBpnJ1bifSDYZhI/AWIUDHmcxCwHtQkcICftC90NaG//7v/5YiniATW8rCo8+pG83NN9/MbWUZhmFGCWRIR8KdUuUpZZ6gNPkHHwwJ+EgFNNwOqIWlB0VzWga01qYjI+Cpu4wY05VDtj9AwKfahQo2QuvpBgqPvWsUsYB/9tlnsXDhQingH3jgAbz77rv4+te/Li7sGnFRZ6Kqqgr5+fl81zMMw4wCqD87dQedLga5dJ0B63o6cUFOYgV8HS0KiAH0UPf3GWJ7v2mpQ7ffi1xj/NldNULAZxqMI5riTbBYsdfr5gsfhkcffVQa1i5fvhyquFaKOJfUOpbK6L71rW/hnXfewbJly/hEMQzDHKOQUH/7bYjnObB69cGvk3AnQ7r+uvaIcfaG6t2Lyg6KZpsdwT3bjswBdbXJOvf++vtBiLFMzSoC+rqOyesVsYAPUi/g/b3eqXXc7373O1RWVuLqq6+WK/Evvvgirr/++mHfo6OjAxs2bAj7PTLDCwQC/BfEMAxzFEDp5JVCQFt1eiwUovpdIeDPzylMaBp9tRDw5aaBIj1PfG6Dig4hDhMh4Pe63VhkGTmqPnl/6j4zmMbGRixdulRG3gdMIMTYf8YZZ2Djxo0s4BmGYY5ByEGe+rWTeO+H6tvFI18a0tHHWND6ugGTDYr5kOwsqx1aZ9sROa5gRxPUgrJhf0bJLYbW0zG6BTzh9/vlxxkzZgxIl6PIu9PpHPH3qVZ+zJgxYb9HtXQq9+BlGIY5Kqj3ejDVGhK+89My8EpdO3r8Punanih2uJ24JDN30NdLhIhv9nlRmYBt7PY48cUIWuCRy/6rR6g271jj8ssvxx133IFbbrlFlsuReW1PT48srSNfnOeff55PEsMwzDEGRdqpiVhXF1BWFqptpxT5efPif2+ttwtqZt5AwWxNFQK+WQaEFSW5XvRaWxOU4ooRBHyR2M/20S3gc3Nzceedd+KZZ56RRjYk2r/yla/gqaeewmOPPYZXVq0a8T1I9E+YMCHs92w2W9IvJsMwzGigXYjbF1r24auFZUl5blIf9n0+DyotodSzyTY7fMGANJ1LlIB3BgLoCvhRFKaunurQq90OLEZWXNtwB4No8PuQHsE+kxO+Q+xPMsz6jnVOPfVUWe9Oc4Du7m65mE/Rd8rCIz8cSq9nGIZhjg0oXZ4Sor/3vVC9+803A3ffPYIpXbQCursdSs5hpdXkMaMFgL4egGrQkyrgG6GbPHd4AS/2L1i9BaAM8GPMjDViAf+jH/1IpshTKh250JeUlMi0+uzsbPztb3/DlMmT+S+CYZjjniOxstzodeOp1gaclZmHEkvizcN8WhCdPi8mZuTIz8lMbqbFJvvBU6p5IugVwtorxpBC0+AZwziLFa8nIBreKs4TmddlGkYW8FYxeAcVFS0et0zjZw6Z5IhzeO6558o0eRLw9KLONBSJZwd6hmGYYweqdjq0xv3JJ4HrrkvCXEiM4ZSiPmAsoXI2MR5r7c0hE7lkzsV6e6DYhw8CqHnFCG7+EAgeewI+4px1GqQpCk/p8+eccw6mTp0Kj8eD0047DSeccAL/RTAMc9wTEOL99M8+xPYk11K3+3zoCPixpjs5tVveoIYusY2yQ3qxz0nLQJXLkbBt9ASEgNeCyA9T555vNKHRE7+hHBnxkXmdXT9yCj050WcZjPi0t5Nv5MOgxfrVYsa3ZMkSmX1Hkfc5c+bIRf2GhoYD/jgMwzDMUTYv2b4e/3hkN268ESgoCIl38hz/xjeADz9MjniXAppS2PMHlk0rKVYoYpzVOpqTe9DUA94t5ivmEYx3cwsQ7OmG5vcdc9c14gj8pk2bZP/XQ/nXv/4lXWgvueQSjB07ll3oGYY5runwedEkhOn6vm5UDuV8mgDqPS5k6Qx4s7sdX8ofk3gBL4S1SYFs8dbPFGsaPuiuSdg2uv1+FAthrQ/jfZKu16NLC8gsgIwI6teHotnrRq54L0sEK+sGRUW5yYK1PV1Yll3AN/MhkEktdaKhTLyioiKYTCY4HA5paEuldPfff79c1B+Ovr4+bN26Nfy90N0tFwkYhmGYxInYN5/agW/eko0dnQcj4VTjTu3gyF0+qTh6hWA/LGOPWsam5UBraUjqpoP1e6BYrYBxeAGvGs1QaH5ALe8OCViMKgH/q1/9Cq+88oo0sOk3m9u1a5d0pSVn+R/84AfsQsswzHEN1aZTLHK7yyGj8bokpdLXiPdflpGNVULAdyfYWI6g2nGKXKuH7H6OENLtYltUH68m4Lg6hYAfYzSF/V6aOB56beztxuLMnJi30ej1YKIpJeKa9gmWFKxoazgiZRDHEs8995wc4+fOHVhPSFF48rZ56aWXRhTww0Xp+/vLMwzDMInhyUc68c0fjIPbb8CMkmbcfHsOlp6j4kjFWjVX30AH+v0ouWMQbGtMroCv2gQlLRPKSOVwYp6hiDlGcG8VdFl5o1PAP/Tww8jIyJD/phV3EvJkYOf1evENysNgGIY5zmkVgtGsqGjwuqVJW6pen5TttPk8uDinEK92tWGv24lptsTWklGNfareCPUQ6Zuq08MuRPyG3i7MTsuI/xj83iFrzc2qDuNMFnwsthWPgK8T12OcOXKPgHKzFa1+P1rF+U1EC7vRApnYUa936iJDhrNkYEfZd+3t7TITj8rqRiI1NRUnnnhi2O9R9h53oWEYhokfagf36it+3PPzTPn5r+/txFfMD8F0zZ1C9R2Z56zWQ6VowbAp7GpOEQKb3qefQrIsY4M71kMtmyh7vQ+LmNeoBaVif9ZBN2vh6BTwZpNJtpH54IMP8MADD+D000/nvxKGYZhDaBHCb6oQjEpQgyPoRyoSL+Apktnk80r39tkpNux2JV7AV7v6hIA1DYi0m3U6VIhj+3dHS2IEvDiGMaah09umW1PxRHM9vhdjxN+vBYUY92FBanrEv1MkJhsGsalacU5ZwB/k0ksvxS9+8Qv5kbLu+gU8tYZdtGhRRAKeYRiGSQ7UBu6pp4CHHw71dSd5Z9b78Y+/erF0SQDeJwNkZnLE9odS2EGGt2HGeCWnAOjrgub1QhkiCy++jQeFgP8EunlnRfTjStE4BN/+V+j8HEMLyVHNLmngJhOb6dOn47vf/a6sf7uBmgYyDMMwaBSidEqKFW2BAJq8nrAGbfHS5HFDDHuw6/SYl5qJHW5HwtLa+9njdKKYzGYOHeTEa0ZKKn5SuxM/KJ0Qd3kARbnnDLPwMFFsq1kIcPIVyI5hkHcFgrItXMlIJjaHQG7788R2q90unGDn+7kfyr676667ZPs46kLT3NwsXegpIm8280IHwzDMkYYi7YSQYrjjDjE3aAp9TjXuC1PexoVn9WDuRRdA6/WGXNa1Iyjga3fJnu/hBLqSlQ9NjOsgU9wkCHitqw2aswdKbmFEP6/mlwCePgQba6EWlY9OAd8PDdxPPPEEXn/9dYwfP57/ihiGOe4J7o+MzzDbkC4Gy096OjHTlngVuEsMetTyzKbXY649A+/X74FPbNuUSAHvduKEMFH2SqsNXeLYKEI9NiU+w5cenw/ZwxjUlZhTYIIie8/HIuDdYj8dgUDYPvPDsSAtE1UeZ8IXRY5lPvnkE9kytrS0FOnp6Vi5ciW2bdsmU9+vuuoqngcwDMMcISjCfsUVoV7uh7J0aaiX+4zJHnh++isYFn8/9A0yjhPiXfP7oZiOzD4Ga7eHxHCYMVShWnPyCxJzGcWemfhtk0GeqocSoRmtkpEtXgUI7tp8TAn4mHMFKBpPaXM8cDMMw0CK6L6AH6WWFIwXr896u5OynW3OXhQZTLJOnASwR4hUXwJX1km4koDNNg4W1/lCDFeYzNjujL9NXiAYlAsRQ0HR8OkWK/Z6YjM4cwkBT7Hh1CgN/mjhgjwA3OyKfoA///nPWLt2rfz3I488gueffx7z5s1DR0eH/NjUH/phGIZhksaGDcD8+SHxLh69uP320Outt4BVq/Y7y3e0AGIMV4vHHhTwlInWc+RapGrVm2WP9bCCWcyPpDs8Ob8nY9vNdVCKK0c2sDughHVQp5+M4M710rn/WEHPfw4MwzDx4xWCr9cvBLw5BT1CyG8XwrPX74taQI7EJkcv5qbaD4hco14no9SUcp4Imj1u+BUFWWF6p9Na+jnp2dgkBt6l0AaY3EU1wIr/HNSqboR6s9mp6djtdsdkdeMQAj5dF/0QV5Fig0NcR4rgp0TQfu54IBAIHGjztn79ejz22GOYNm0arrvuOtlSbsWKFbjpppv4RDEMwySJlSuB5ctD9e7Uu/3JJ8P/nIxAW9OhZOaGxm0xjiliXKOv6wpKki/exRxFprDnDB0BV9JzpUt9whHjlNawB7pJc6L6Nd20E+Hbukbuu2JLOybuB7Z9ZRiGSQAeLSBEfAA5RhMKTWbpqr3V0ZvQbdAiwU4h1seaQ+nrRrGNUvHvNd0dCdsGRbyNiorMIdLbzxCTghrxMy4h6mKl3euVqXW0neGYYbOj3uOEP4ZoeJ/YP2sMXQB04pxaxX7RAgBzEKp/J2bOnCmd6PuhNHpuA8cwDHOYkJV15/FFdCm56Z57gPJy4OKLQ+KdGn8NJd6lhm3eC7Vi5sH0dRLw1tSk914/cNxtTbLmXskZugadWryhL/FZioHdmxHYRgZ20RmtqyUVYpALQOtuP2buLxbwDMMwiRDwlBIuhB/VTVt1epn+/VFvV0K3QYZuLi2IMkvK/ge4gkpzCv7T1YFEJX7tdbtQLMS7ZYjoc7k4Lq8Qc31xCPhat0NmJhhHiMAXmy1w+H2yPCFayOU+c5ga+yEnFuJF7fIaPW6+qfeTk5ODO++8U5bNvfHGG3j55ZdlVP7pp5+WKfXLli3jk8QwzHFPcM92+J55CJ77bobnB5cgsHldTO+zenWozr2gALjttlDde2VlKE3+N78ZbgeECG3bB3XCtEMGNTHOWu0IttQfGQHfWAOlYNywkWwlKxeaI4ECXsy/Ajs2wPeH/4V+2ZehFpZF9/u6UM281tlyzNxrnELPMAyTAKhm2nyIIF2UloG/d7TKqLkxQa1JyLldp1Et+sHargohqDd7nOgWgjU9BsF6OLuEuJ6aYht64FUUZBoNaPK6kRejg+xulwNpYsAcKQJvUnVy8tEpji1FF50ZHZUC5MSwf4pcOEjB5r5unJiAdnmjgdvEDPJrX/saGhsbUV9fj+LiYplST73dn332WcyYPp1PEsMwxzeaBu8zD0A3fir051yJwIb3ZT02pp0U8VtQmjw5ylOtO0FNPi6/HKCGX1TzPiJ+P7TWZqhLLh44rtmzENy19YicgyClsE8dfmcpOk9CP1EEdqyHb8UvYfjijdDNOiWm91DKKxGs3Sn2/aRj4nbjCDzDMEwC6A34YT6k5vqEtEy0+b0yap4omr0eTDRRr/KDj26quSe2J8AQJmRg58YEs3VYgVtmseHT3tgNcXaJfS0wGEd0ebdQiYAl1Hs+lnOVbYhtgaHEZMYOh4Nv6v3odDqZKj9r1iycf/75Mo3eYDDg4osvxoIFC8I6DTMMwxxX+r2zDVqTEK+nnC9E4InQTZqNIAn4ESCx/txzEM/XUJo8fU5mdJQm39kZ+hiReKd98PsAnw/KYYvPSmqG2Lfq5J8EcpdvbYCucvbwYrmwVJybxGUEBDe8D/3Zl0M3d4ksGYhJEBeWQ9tXe8zcbyzgGYZhEgClXGcd4tyeJ0RgpqpDk8+TsG00iMFxwmHt2yjVfaHNjs/6euJ+f3LRp97pFcNE4ImJQuB/3BN7ecA2lxOFEUTHSeDPE8f2QkezzGSIBoraZ8VoIFhkNGOrxwH/MeRIyzAMw3x+BHdvgWLLgJofcl9XMnKgtYVffKZa9sceAyZNCgl3SpfvF+4vvEBmoSGjOrM5un3QaB6gFwL2MBNaJTUdWm8HNG9yS8Po/bWebiilFcOP7VY7kECPoGBDDdTi+LqiKWKuofV0HDP3Gwt4hmGYRIhrEvCHRXwrLTbUehJj8EXRcWpvNt4yWFyflp6Fza4++OJsfUYu+k4h4Mssw/d4LzNbsF0cbw+t9sdwHJvczojT72eKQbVJbGdzlIY3HdQBQBdblVi+2DfyGmh0szkbwzAMM5Jy1RDYuR66OacL8RxaOFaESJWi+bCF4H7hfuONwPbtIdF+0UUHhTv9O+bd2LMNSmYOlMMMXBXqXKMqQHdXck+DGNvp+JWRFs8pEKFoCHa2xj836mwD/N5BWQdRC3hrKtDXEcpiYAHPMAxzfNDkdQ2K+E6zpWFnglaZSZq3eD0YFyY6flJaJtp9XnTFOfD0BHzI1OmGNLDrh1z2SRyvj6HXfZfPB68QxzkRprdTXf959iy80dUuxX+kiwTN4lzYYkylI/M7qtFPRL97hmEYZpTrd5cDWks9dCeeeohItUExiDGopQFud0i4k5s8CXdyl1+6FPjww5BoJ/Eej3Dvh4zcpPv74YvXNrv0k0l2hFmrr5YLCCOlsSvmFFmXr23fEP/caN2bsmWdYo2z/Ru14jVZoDUcG2n0LOAZhmESQIvXi4zDBDw5tte6nIkR8EKUuv1+ZIUxqssympAqBueOOAV8VyCAvAiEdYqYHJxpz8RLnS0Ri+p+2vyhkoKsKAz3vpRbhA1CTHdHeHytXo8027PGGIE3qCpmWmzY6GABzzAMw4xAXzc0jxdqycE07rUbbfhP4+ao7wUAACAASURBVCw8+WjXAeFObvJLlgBvvRVylI+0tj3ieULVBqj5pYMFs5iLKEYhTruS2yYtsOMzKFRCoI6weE5R+rxiBDZ/FOeKgQb/mtVQx06Lufb94DlKAcR5CtbtYQHPMAxztLDN0SPT3JPFPiEa0w9LW8s2GNAa8MEdiL+nuB8afAjCNISjfZHZgro40/VbfB7kGSMrurswOx87XA7pRh8NJK6t4hjSo6hPn2hNhQ0KGiLcVoM4DxadKgR87AP6bJsdG1x9CHAdPMMwDDOccO5ohpqRLUUk1bKfeiowf6EOZz58Pb76v1NkxL1fuNOL/p1oSJxrvW1QcovCqFNFfL1E/ExbUs+DVvUZ1LySyATzmPEIbF0DLY7SP629BVoL9b1PQCcUnR5qbjG0uioW8AzDMCNBZmNUd51sHtlXjRt3bcK7YgALJliU0f53BgODaq7tQqSmG0xY1x1/2hoJX72qG7L12sQUGzb1xddXdZ/bhTHmyNq1jTGnoEwcG4n4aGj2ejHVbJUR8miYkWrHRxEa59WJ47CJa2FRYxfwU6xp6PH75f3JMAzDMEMK+G3r0ZMzTUbZyZTu7bdD0fWffmU3frLoBbz1ppY04X5gH8QcR9EboWTlhRfMBWXQOpuTJ97FPEfrbISSOyYyAVpUBrj7gI7Ye68Ha7ZDScuBWlCckGNQCssR3LOJjubgNprqZIkEC3iGYZhD+GVDDZ4Ur2TjEGLsi5l5+HHNDrwax4ARVpR6PDLt+nABbxYCcqIQuv/pjj9tbWdfr2yLNlRP+bFiO1XO+AYZilwXmSLvt35aZo4Q1dG1k2v0eTDZYot63+ampuO9CNP/asRxjImgTd1wlKakQK9paPezgGcYhmGG5rm/GTDthvNlnXt+fqj1G9W3/89P/Pjvmb/D4rndSd8HrbEOSl4ZlCHGcDWvWAjsFpl2npQFhJqdgNE05ALCILGcWwjoTQg27o3xgDUEq7dAd8IZcafPH9infMpSaBWCPVT6qHnc8P3lFwhWbTnq7jn9kdxYTU0NVqxYEfZ7VVVV8Pl8/BRgmOMIdzAgU8//43Lga0XlMKm6pGynXWzDK8TcOdn5MrJ6f/1uWU99YXbBiIZtEYlSr1sKa5t+8CN1ltje3WJ7/xUMSpEfK1ucPcgVAl4/hCgl5/Q6IY7JGT4txvZpZDCXoY98WJgqjm1la6Ns8WaM4Ngo86FJCOJZI7jch6PcnII2LYAdfT2YaBverKba7cT0OA1tVCgoM5mlt8HEFP5bZRiGYQ4bM7uA5Vd5sPKVa+Tn1PrtwQeB9PT9gjCvSOplra1ZtnJLroDfA7V88jCCuQjY8bHs1Y4Iu8BEJeB3bxbbnwbFFFkZniLme2rlCdAaqoFpJ0Z/vB4Xgk17Ybjgqwk7BlVcL4g5FGUTkG+A1tECracT6tjK41vAl5WV4dZbbw37vZdffhkGg4GfBgxzHOEKBNAb8KNdvKqFiK+M10V0CKj+ndLZqSZ6Vlo6bi+bgJ/s2YFqMQDcVDQWKXGKeIpc5+gMYRcgJllT5fHtEz9TFoNw7eczRy8uIXfZIcgRA7JNHOOGni4sIhfYaAdDMcugev1oWq8ViG3qxbn7SAx2J1P93wiQ+zy1qhsbQwSeTO9mpaTiH22NuG0YAU+LBLu8bizLyI37viETwjovt5JjGIZhBkJp8tS/vanJhLzUHjz1rBVLzx04B1DIiT6nWAj4BjGgTEzezgjRGexqge6k2cMI+EIpejUh4JVEC3gxrgf3bodu9mnRCeYpcxGs2ykG7sDIxneDJpBOkL2/UlCSsMMgZ3yQDxC1pssX1611H5SsIii2tKPu/uMUeoZhPjccQsCTgcl8Icw2JdHxe2NfD/KFAKSUdopfTxTbe3ryLNS6nbhvb1XE7uZDUedxo9xkRrjYeL74eonY9u44aqgowr3F7UDRMCvbdGwzhOB8L8Y2Mc1kEKeoUTm3088usKXj6ZZ9EfkK0HHQuS61RB/SpnT4ZRk5eKO3C93DZGv1Bfxwie0URhgFGI4JVhtqXCzgGYZhmIPcc0/IqI7M6a45eRM2Pfz3QeK9H93YyVIIJhOZ8u3shVpSMbQ4pdR2txjPvJ6Eb59M/ChqrZs8O6rf01XOCkW5hzMYFt8L7t4iFykGbLOhBkp65qCe9/GpYhVKQUWo1IC2sXcndBOmHZX3IAt4hmE+PwEfDCBLiMBzxMCyydkHf5Jqsz519GLSYdFvMji7s6xSurvfVVsFTxxOqHu8LpQOUzt+qj0LW6lPbIzvT+KabP7yR1g1PzE1HR+JY/UEo3e93+V0yOh7tM7tp6Zn42Mxcah3jyx0ScCr4hrbY0zxnymOL11ct63D9GevEveRTxx/gdkS931TZLSg2cMCnmEY5mgmuG0Dgm1NSd8OCfb584HbbgPMZuDZZwL47bJHkVE5tHGbOm6KEKnNQAK60QyJqw/w+aHmFAwt4GlRW2cUA3Hiu/EEt3wEtWQilOz8qH5Pyc4T++OVIn2ohQnfP34Lz0PfR+CwnvH+N1+AOmFW9JH7kYRx8VgEpYDXoNVUQS2vPCrveRbwDMN8bnQHfLDq9ViQniUEoBOuYOIHOBKzmz0OjDMPjvrmCkH8ncJybBaDX0eMbuM+LYgmnw9jhmm/dooQ8DVC4PpiXCSoE+eGarJzRmjxNsNmR4c4p40xtMvbIURxphDW5igHw/IUK2ZbrPi4b2SHeI84VymKGrUDfT9UZ3+GuFc+7esJuxhCJRn31u3GLeKaRtNnfiioLWAL1cNxKzmGYZijEi3gh+fXt8H7i+8j2NKQ8PenVHl6kUHdpEnAmjVAZWXIpO6y87qFyOyDOmbs0CJVCMAgGef6k+fzJV3SremyFdqwUF13EgS8/8N/Q7fwnKh/j+rgqR5fczvDv+9bLyCwZyv0Z1+NwGfvhVLt6Xjr9kDbuw26SbMTfixqcQXQ2Sr2yS2uWxOUjLyj8r5nAc8wzOfGPvGALDBZZDScXu1JaNlFDvHUy7vYHD5tO9dkRpoQlW2+2NLKyN2eoveFw0R8xwmR2yuOzR2jgN/rcWGWxTakgV0/WWIgpNZusfSD30YeBDFGrS/LLcLa3m4ZYR8OpzTyi2+1/NSMHGx1dA9K2acMgBt2foZThMBfmpWYATdNZ4BZp8NuZx//sTIMwxyNAn7nJijWVOhPOR/eR26F/9VnExJlJoO6iy8OpcrTi1rE0dd+9CNg/Xpg5sxQ6zSKrJPD+5AiNU0Ia58PWhI7mmh9XVBS7SP/IGUKxplVFti1RYjpDw+K7PdWQUmxQC0qj/7NaEE/pwDBul2HbSQgruNzCG54D8blt0G/cKkQ7buhiXkGxDzC/84/oU46QfxuYcLPpVJYhiC1G17/PtSMLHH9MljAMwxz7EAR8Vfbm5HM2CNFlguEgDYIYVpiScGHXR0J30aDGMjTFJ2Mtod9WIvXWDGoNXljG1yp5pqi/AXD1FyTuZ1OVaRhXyzsEuJ0ToQmKielpmOjEJzRXDcSw+tdfSgxxWa3fmJaJjo8bulpMBwtdC3iNCulMgKX2N+WQ7IMuvw+/F9dFSan2HB9QUlEjviRQOUEVBrRnISaQYZhGCZ+Auv/A3XiHOjPvgzGm38uxaXWHl+/c4qyU6r8ypWhtnC33x56UdT97rtD6fNSOHe3Q8kQItI4dMaXQlFxIVSTEfk+IOBbG6UQHlGcptlD2QDxnO8PVsP7xF1CYD8vBHUX/C8/Bf38ZdKwL3q1rEAVglnb8vHAOUnrPvhfexaGq74PVYzp5OBPCwT+Na/LmvlA1Xrol14hfz/hAp7mWmI+6H9/FZTSSWICZz4q73s9/+kzDBOO1W3N+NDZgwX2LKTqk/OooFTv6fRgFg/hGSmp+HtrAy7PH4NEPpLrxTZmiYFluJ7gFSlW7I3RbbxXiFZKCx+udRtFzguFEPxMDHZFpuhqxCi63+zzYlGEq8AUfb6rZifcecURt8gjYzkyfis2xRaBJxf/bDHIbezrxuJh3OgpSp5tMMZ1falOf4K4nn9v2Ydvl1TAEfDj4fo9yBLn/9aS8TGn54eD7pn/KZvID4MEUFdXhyeeeCLs9z799FNuI8swTPTC1eVAcM8m6C/4mjQgU7PzZS9v6i2uKyiN+v3cQmM/9BBwxx2hfy9dCjz77MG2cIO239U6sgu6GLOUzGxoYpxCArqjhCPYXA+1eNzIY1rpRASrNgEnnh77OW9rguHsq+H/4KVQWrspBersRbGPs4Vj4X39bzBQgGN/CYC2rwZKRr7Y3/EHzqE6cyF8f7pP1vJTv3sS/kmBggw+j7ivNsJw/jVH7b3PAp5hmLB85OhGjcclo5vJEvDN4iGZuf+9JwpRtk1sr0m8CkyWhLw/RaH3et2y9/twTEhJxRudrTFto0cMOgUjRJV1QghOtFjxfne77EUfDVTXTddgcoQt9orEucs2mbBKDLJfoJ6mEdBGq82ahkJzbCvNtEAxN9UuF2BGEvCFlviaqpOoXpiagR/X7sCX8sfglw01aBf7f4cQ2koSVuOZxFBcXIyf/vSnYb+3YcMGbiPLMEz0Y3xLA7RAEGrlzINjxJixUqTqZp8S8fvU1AD33gs891woTZ6GQurnfvPNI4nZRrG9EVLHqftNdgECVZuhmzYvOSeC+sxPHbmXOqX6B975l/R1iWW81MgTpqcNulknC9F+Mvz/fBL6c66BEsfzW/an93sRrK8OCXaxb8H6KqjTFwycR02YAb81Hf5VT8Nw6beSdk8pekMoCm+0QCmdcNTe+5xCzzDMIEjMkZs51WzXeJxJ2QYZujWIwcCuCz34S80pyBYPzo97uhJ3HGIbLT6PEL+pw/4ctRzrirH+vtvvR45h5J6qlSk2vNvXBXeUTrSOoB86cT2yI+zbalJVnJuRg/saqmV6fyTQOSrU6ZGqj30Qnm2z42NX35Bu9ORD0OD1IEcfv7ncrFQ7+oIB/HjPNuxxOvFAxZSIzw/zOU44KEIW5sUwDBMLwcZqKGMqBvQ1V3KFSK3ZEdHvU4r8smVAeXnIpI7EO0XdKVV+JPEeEvBNI9d+U5q42Cdt16bkLWR0tQjROXINPLWS07xOmXIf03Ya94pzLcZwIXDV/BIYb7gduqlz4xPM6VlQcooQ3P7p/smCH5oQ87oZCw6b3JihO+9aKKkZUMsnJ++mojlpejZ00xZCMVuO2nufR06GYQbR7HHDCw0XZuZibXdHUrZB9e+Uep22PwJPkdXz03PwXm+nFHuJwCvep8vrRflhLeQOxyb2o1MMGrFst83vRU4E4nGs2Spr4T/r647q/fuE4E/TRZcBcVJaJorEPq2KsA6wSQj4SSOco5EoMadgqjjG1zpbwl7r++p2ocPvw9g4I/AE9Z+/LrsQtORy99hJUTvnMwzDMMc+2q4tQkCeMFAQUpZbF/Ul7xx6zGsKCXcyqVu9GigrC9W2Nwpdu2pVyKAuou339UIR4+2IIjWnEMGm6lC/9kSfAzGn0LwuKBFk6Sn2TCHi8xHc+GFsCyY1O8UAbI+t3n04zTxjIYI710vzOk3MRzRnH5TMnEE/p5+1EIZrfwQlIyeJAl4H/UlnQn/uVUf1vc8CnmGYQezzuEBx0sX2LHzU25WUbVSLgcwihJjtkPT8M7NyscftQmeC3OipxZsOmhR8wwp4VQ+jeGjvpVYsUdIuBpsC48ip53ScC8TAt6anM6r3bxHnIiPKlmhU+37rmHF4tasNvSO0rqEli33iGMZZ4huQqUzgcjFJebenS9al9/NuZyuu37kJFNt/ePzUERdTIuWGonL8evw0jDmKV8gZhmGY5BHcVw11zMDabzUzF4rFguDuLWF/5557QhF3Eu4k1EmwV1eH3OXzo6twg0YZihGU/FEKvaKq0Bprk3AOasTxpghhnRrBQK2HbsJsBDZ9ENu2qrdCLSgbuV1dtGJ02jwE2xuh9XTI6LtiS4US7rxS1hbV+ic5c0utmBqbqz4LeIZhPk9qhYA/ISUNY4XY6tE0VDl6E76NKlcfSg0mGJSDjyGK4trFg7kxQa7fJF5p0Byp/RoJ3myxL5/EsFhB9eP5psjSt8/IyJFu784o0uhrXQ4UxSBST7RngvZqxwgt0Ehs73I6MMWWGvf5XpieBXfAh3px/9S6nfi/2p34ZdNefF8MhDcXV0ijv0RVqVOpgI3MgfjPlWEY5vgT73W7pYpR7FkDv2E0QS2dguD29QO+TIKd+rjfdlvoc4q4Uzs4SpmPBa1lHxSzKSKXcllTnZ6HYG1Vws+DNMejqHiE8wS1cha01vpQC7yoTnhQGgYqReMSfgxKbiGgN0Nrb0Hg0/9AoUUCg5FvchbwDDOKBi0hqL0x9hOPaDAQr91CgM0VA06WeICOM1nwnySk0W8XwnRCmN7sZDi3w5WYvtskTEmYjyTgKXpcIY7zo97uqLfR5/chI8K67hPS0uHw+dAaRc/5GpcThcbYzOVOTc/B82KSMfS11vDYvmqYqQuALT3u803t2+bY7HhUvOfNu7dKgf3ouCk4Kyt3xGvAMAzDMJESeH81lMJyKFZbWJG65j0n/udnAZkqb7GEUua3bwcuuuhgxD2uudiebbIeW4mkzRjVwVfORbBma+LnhLU7oBaUy1Z1EQk/ylggsdxUF93ckAIczp6kRKbJUE8tq0SwqQaB9e/If4PnDIkX8OReGEyigGAYZmjW93XjlqrNSevPTosDbT6vFHRUl366PRNv93ZKY7tEQe9V5XWjLIyAn5Fqx6dRppkPxTZHD/KE+FUjGAgqxL6819clF0iiwRUMICXCGmwqGSgXg/0+T+T9YBu8LuTGuBK9wJ6BzW4ntvb1DB70xXH+raUBr3a34ztiQE7RJaaOfGF6Npp9PvykeBy+O2asPP8MwzAMkzC0IPzr34ZaMX2QcN2wAfj24wuw6De34o67dDLyTlCkndLlX3gh+lT5sAsIVZtkPXmk6eS6yhnQKE3c40rgeRB6rG6HXMiIGL0eurFThViOLp1f62qTNepKQXFyBOmEGQi8twoaLRIUV/A9PtJljEa0V1VViZt/Faqrq2XP1nzxFzBhwgRccMEFsFi4DpFhjgTVbhfe6uvEDiFOKyNsLRYNHiFIyZF9wv5V7fn2LPyupV62dxtjTknINuj9aaGgJEzKV5nJIjMAaD9McZqTbXP2YWl2XkRp1lSb3Su22eL1IN8Umeik52KfOA6zLvK10Kk2OzYKQb3APrLxDdXw14lzlRmjOzzV5p8trt9vm+rw87GTYDikbozKBVa2N+HB8kkoTtB1Jaid3NMTZ0bcg55hGIY5RnW0xx1ygD/C0VKtU4hJR/eA+ncS6tS/fc0a+syCvNQe/Ne3e7HggiLMS0L3tuD2T6A/N/I+4Wp5pTRnAy2oJ6pVLr2XsxdqfnSiWp08B4Gqz+QCQKTXTmtvhpJTHL42PRECXhyDv2Uv1LzS5JrUjRIinnXu2LEDF110Edra2sQfwjwsXboUY8aMwcqVK7F48WJ0dnby2WSYI8BuMQBk6vRY0bwvKe9PreMo3tvfUozEbJnehL0JXDXuEKKUBHpRGOGYJyYDRnF8n8bZTo4izBvcfSiKMAJMdeY6IfXromibR/3ZNTH4mZTIBTy1tKPMgEiod7nk4Joeo4CntLTlBSXYKgb4XYcY9FHa/121O3FNXrFcUEgk5GnA4p1hGGaUi3cxhnvu/TaCDTVHfNvB5noa4aDkj8HbbwOnnhpKkSfxTsZ01MP9o7tX4LtLP0mKeCc3ea2tTojNosjHYwq4WNKg9caml4J7dw9ysdc6WgCfB0oU+yHFX+kEaC0NMpMh4u23NUApHp+0a0pu/pTRoM49I+kmdceVgP/lL3+JBx54AHfddRcuv/xynH/++Vi+fDn+/Oc/iz+aZVjdn6PCMMcp5Jz+P9Xb0TOC63e8kEHYV/PG4I2+LrQlyOztUHoDfhhU3YCo9cxUO7bF4NA+pIAX56jEYJJGZIdDjvEzLDas7miJaxsN4jwFxFHkGiIzmKMa7QVigK1xR75QsVcMplTnHU2mQIHRhH1+Lzq8Izvt73E7kCrePy2O/uz0u9QO8E1KfwPkPXPTri1Ykp4tXwzDMAwTtYjdvRVa4x74V/1F9u4+otturMVLnqtx2hl6Kd5JxJNwp/R4MqajHu4Fc8ulo3l8G9KguUk0Dyyt09qb5JdkCn00oov6sO8fi6PdD9/T98L31N2hKD59Scw5/a//FboF50XUQm4A1AZOzEO0YeZ1gc8+hPe3d0KjkkYqm+5ollkESRPwYp6pO+V86E86lf+4Eing09PTYTQOrsNUxQQ8JSUFfX19fDaZ45pd4qH6984WbOnrSdo2qHa8UTy0FwnhVSyE2UZH4rdF7uFZQmQqh6RVzUnLwLa+xDnRt4qBY+wwaViL7Jn4QBxbbxyLIdSmziSOIZIe7f2cYLPL9P1Iq+D3inNl1enCLkQMRY7BJE3vPuxuH/FnP+3twjijWZrDxcPZYtKwprsTHjEIP9G0F/niWX5jYVlU+80wDMMwBwTe5nXSmE1r2wf/W/88Ituk/u333K2h4vLT8aXff3mQcCeDugP6RIxxWmtjfPpdzEN8QsQG/rNKaOj90eqAH4EtH0GxpUOxZ0QnusaIfWqIvpUc9XqXiwmtTfD/7TExGfTBv3oF4OqDftmV0YtlcwqUjGwEtq0Pvz2nA/4Xn0Bw1yYEPnpTCnhKoZct3JKFTg/9ovOhpGfxH1cERFwDf9lll+GWW27BunXrUF5eLkV7T08PNm7ciNdeew2vvPIKn03muIZar1Ha9npnL+aJB1AyKsKonZtJCMZMgxEXZRXgQyHwKIqqJrD+rMrZh0KTecD+Uy01Gdv5xEPckADR1yzea7i66+mpdgTEYLnH5cCM1Njc0avE70632KLa31lp6XiqZZ9M7zdHEFXfIwR8nrgWuijOP4nxk2x2rO5qxTk5BUPeJ40eN94U1/fukglxn+9ikwWFZgtu270F7QEfHhw3ldPcGYZhmNiglmKbPoBuycVQcwrhfer/oI6fJlOzkwGlxj/+OPDUU1J+ilcaFs934eb/sgwQ7QNEqhhng84eGalWYm1JJuZcweY6BF/7C9Q9W6E7+WwE3nkJwcZqGL9+R8TO7wf2Kb8UgbVvRL9Y8tkaKEXl0F/4VXh//VNof3kEwQ3vwvid+6BYY2gBK86HkleC4Pr3gLmLB1/ebR/L7Hrj12+H7y8PQ516EuD2SNd95ugg4jtv6tSp+PWvfy3r3uvr6/HJJ5+gubkZ8+fPlwK+sLCQzyZzXLPL7cLclFTZd5sEYDLY0NeNfPHgpbTqBelZqHE64NUS60dPrdeKDAPrxqkG26yPvy6doL1t8XhQZhlawJN4XiyE+xZnX8zb2O52YGaUaWUVKTb0+XwyUh3pIkGhwRT1/s1Py8BG8bsdw5RAvNvdjulmq1zMiBeKtF+SlYfPXH343phxyOD+qgzDMEys43hXm3i1QB07WbZs0y+5BP63Xkh4Kj1V51KKvJAaUrybxdTkuqu8WPu9B/DWm9qQ4l0i5mOUlh3cuSn2dYq63dLwzXTzA4BeB++v/htqYQlM3/pfcdwzo34/JT0bwdYGaYAblYD/8FWoxRNkCr7x8u8guHsTDF/+IdTy2BdM1JKJCG5dA/gOy3QU+xb46C3ol10FtWyiOP658D1xtxD0fu7NfhQRcQTe7/fLyHtFRYVsIdfb24s9e/ZIJ/qsLE53YI5vyFG9yefBlTmFeL6tEX2ByCK40bKutwtTraky4p5lMMAiRPVWIepnpyVmVbRf+F51WLkMtRibbLHKuvST0jPj3k6Lz40Sc8GwP7M4PQf/FpOEgBhMdFFmGLjEJIKi/JdlFUQpdHUwKqHWcHaMXHe+1e3ERdkFUR//JHEN6d337C9XCHcd3uhoxXeLxyYsu+JEeybemD6f/1gZhmGYuAg21kFT9FCKyqTRqu6UcxD41U9DrvQptrjfn1LjyVGePhKUJn/TTaEUebu/Hd6nG6GM4A1D/dnVnCIEN7wH3ZQ5Me2HbBUn3kMh4XzV9wB6xYEixmEl6IXWXA9lKOd4MX+UzvD7swc1Rx+Cuz6F4eKvhYT3+Gkw3/FU3OdYHTMWmpjvBVvqB/R2DzbWQutqhW7SLKESDdCf+2W4f3wFdBNnxZ7JwCSciCPwZGD3xhuhtI9//vOfOP3008Uf1x246qqr8O1vf5tr4JnjGhJ85Eg+1ZYmo5t1bmdStkER1EkpqQfE5hybHU831SWsJ3yrGHz7hGDODhNVpvrwf/d0wBnnCjutPPvEAGUboXcqubU3yXZywai3QUZ8DvGqsFqjG1xpsUIMWK0RGMzR+3cG/cgxRj+gkSg/My1LZhiEu3ZvtbdAr1NRlsD2bgzDMAyTCLTGaugmnyR0ZkhGyJrqnHwENq6N631XrgRmzUJYY7rrriM/LiEw66uFoM6JyKlcLZss9um9mDMDgtVboeYmru+5kpoOJXcMAh+/c9gJDSLYUAv/Oy/C+4f/B/+rzx3Y52DNdigmcX7HlCf0GiqZ2eJViGDtzoNfpFLJp++HbtaiA8Z4isUK07fvhm7uEo7AH0VEHIFvbGyUNe/EM888g3vvvVemz7vdblx66aV49dVXcckllwz7Hg0NDUO61VM6fiAQ4CvCHJM4xb2rCaFZYLJgfIoN73W1Y1aMtdtDQWnnLrGN8ftXt0lsnpyWgUcba9EohG5hAnpz7nY5ZLp1dpiHNC1O9AjBSmZ90+M4NhKsLiHizSMMvnYhpNPFfnzS04lTMqJzS+/2+5Gm6MR7RDfYkLCma7jd0YtptuHT77t8PgTFweQaTTGdh8XimKgPO2UY6A+JsrvEvXR7XRVuGzNuxEUOhmEYhjmi0HxHzDvUKXMPURMGqBXTEHj7BejnnR7V223fDmzYAKErQh8JEu63346wKfLBXZtlVBwRJxRHuAAAIABJREFUZDnKdmk97QiSAVtudK3WZI/1jkaxrYLEnTuxz2T853/z7zCcc+WBRYjAR+/A9/wjcsFBPeVcBP75JHRzFguxXyTT5dVpJ8tFksQqeFUKdVqkwPyzZNQ/sH09gnt3wPit/zegP7w6boo4IZMj7hnPHEUCXt7M+2s28vLyUFlZKY3s6EVR+OrqkVs1kJP9KaecEvZ7Dz30kHS0Z5hk4N+fhp2sR4+DUq6F2CIBONViw6P7qvHNGFK/h4Pax2XrDANc1cdarBgvBOdbnW24Kj/+VeKdrj6MNZphDmNwRn3hT7WlY6MQt/EI+BavG3rxtz6SAzp9f57YzpPNdbLeP5pzSW3qcg3Rt16jLRSbzNgWQScB6mVPPx9rPTnV23c0howB9fvPNz1hX+tsgUUM8ksyuMUbc/TQ1taGqqoqtLS0wOv1Ijs7W5bP0VzAaOSoDMMcPxMqH4JtjTAuHeh+rk6YAd9ff4lg876I+6Pfdhtwzz0HPx9OuB9YPxCC03DqxZGN6bmFUKzp0Or3AFEKeBmZpo48mbkJPX3qRHGQK38LrbUBSt6YUDu4NaugP+Ny6M/+khTJ2q5N8L+/GoZzvwytoRq6+UuTcil1MxfC98pT0MT8kkoSAh+/Cf2yq2WmwOCTyeL9mBTwPp8Pd999Nz766CMZLaePBQUFWLt2Le6//348/PDDI74Hif3x48cPKe4VvjmYJPH7hhpckF0g3dWTMrkVD+D+Xt3jhKhuCvhQ43JgXAJqwfqpEQ/YEw+LCtOCwfVCuP+tvRlfyCmM21l8i9OBWcM4mp6blYe3ejpkzX+src2qxDbS9UYYI3BvPdmeiXv2VWOns0/WjUdKg8eNAnNsGQljjGb81blvxJ9r93tRaDDE7HWQQvX24nrtE9e1Yv99Qmn5qzpbcXtJBVI4+s4cJVD23A033ICioiJkZGTAYrFIX5yamho5rv/85z9HamoqnyiGOQ4gwQl/ADhsTKYIt1o0HsGNH0I984vDvgcZ0lGNu3iEyLT4JUuAa68dXrjLbVPf8ubayKPiYp6izliE4N6d0M1eCEQRxgnu2QYlvzzhkW81txCg1PX6PdCRgG/ZB62tGbrlZx8QyZSu7v3D/0oDOa27A+qkOUm5lmrZBMDplG77lEWqNdXDcNl3+CYfTQL+wQcfxKZNm6Rgp0G7o6NDps///ve/F3901+KMM87gs8kclVBrtz+KB+RkIX6TJeBrxaBSsP+988THsUYL1vR0JkzA0zHsFaJ0um2wI/mSjBw8JR66zd7hnd1HglK39/rcuGCY1eaT07Pwl9YGOIOBmAX8DmePNOCL5PepLOA0ccyvC1FbKSYLkQ69e1x9B0RxtOQbTWgU4oRS5NOHieK3iElMpdka8/mmEoJSMTF4p7PtwL7udjnlIHpyOkffmaMHypC7/PLLceWVVw5YaCdD2+9973v497//jS984Qt8ohjmeJhT7auGkmYfbGim6qBbdCGCn7whJiYXDKqXph7u/eZ0lDYv5y9CuP/mN0BlZYSLB/VC8et0ULLyI95f3YwFCKx5BZrXCyXSkjcx5wrWbJHp7gmPPCsq9NPny1R13exTxHZ2CCE9aUDUWy0ZD7V8MnwrfgnFnhX5fketAvVQUlJln3nKOFCKxyXEhJBJPhHPwE0mE+bOnYtvfetbeP7557F8+XKZNveLX/wCt956K0fPmaOWWrcTXUJwru3uSNo2asQ2+mvQ6S/hnIxsvN/bBZ8WTMj7UwlAs9eNKWHqsikKT9HpzxzdcW2j2++DQ4j4icNEusk4zyZe7T5vzNvZ7OhDqTHyhZSvFJTiY3Fs3Ye3OhmGZo8HhcbYFmuopp3S96ucvcP+XKM4B+Vx+A7QdZshBs6XOlvkAg29nm7cizMycvmPljmq8Ii/p+Li4kHjPJW9TZs2LaISOoZhRomA37IOSn6JrHsfJJZnLYDW2wOts/XA18iYbtIkoKAAuOKKkHgn4f7WW6FXWPEu5iNad/ugrwW2fiTEe1FUvc/VisnivbrEg8wV8e9ojh6gp0M6vidFfE2fh+C+mlA5wua10M1ZNFjkn38t0NkEtag0qddTKShGcM9WBN57GbrpC/gGH20Cnlba161bh8cee0zWwL388suYOHEiJk+eLA3sGCZaqN73/c42aQCXTDb2diNHDDQbIqhrjpV6twt5h6w2L07PRr0Q3G1eb0LenwS8N+BH1hD11vPsGXi9oyWubXT6vbBCGVBjP2hwFhP4MosV6+PoB/+REMbRiOtKWxosYr/qoxh8G8S5z9AbYto/q06P8SazTNsfCjKe6xQDb7nFGtc5nyImIXt9XnH/OLG+twub3A4ssmfyw4E5qiCfm5tvvhl///vfsW3bNtTX18uMvEceeQQ/+MEPcN555/FJYpjjRsB/BLVwbNjINDmWU3T8ycdd0k2efuTii0OinYT6N75xULiTiB9yjBWC0nP7tfDedxMCm9YhuGsLPA/+AP5/PwfdkgujioorJjGDoJI0Sr8fbp615t9CVO8JzU+7O6G53VBLxiVHNGfny/2hhQ6teS/UMYO3o2YXwHDlLULsn5xcAV9UDt+/noDmdUKtmMo3+DFCxCn01EKOat0zMzPx4osvHqiJJzObb37zm3juuedwwgkn8BllIqZHCKDfNNfhfCHMLssvTtp2PhbC6LTUDHzs6pOp7qVxiq5w4nqvz4OsQwRjjhCAheJzEp0FCUjb76VVWjFgmYaoG58ojqna64nr+NrFNopH2FcaMiel2PBqezO+mFcU9TY6hVjtDgSQF0U6GG3zpLRMvCkGuqkjOMMTZJLnEr+UHqOAJ2Zb7bJl35UIXzFH15zu39I4a+Po3igV5+KD7g68J+7TSzJzZQkGwxxN0Nj+6KOP4sknn8Sf/vQnOBwOWfM+YcIErFmzRi7mMwwz+tHaWxBsrQv1f0coLb4/Hb6fVf+5Evf9uUL+O1/o1HnzgBtuAJZG4cOm7doM3dzTgKx8+N94HhDzG3XKiTBe/1Mo0ZaYqWIUz8kP1ZyHMbLTOlrhe+mP0Gq2ISDmGsblP4LW1QYlZ0xI+CdDNBvNsgzB++cHoQjxrqRnhf053QlLkn5NVTpOcYr0887h9PnRKOCpddxPfvIT2TqOesLbbDZ86Utfkt+jwfzNN99kAc9ERZ/fL9O23xLiJVkCntKSP3R044dF5WgJ+GV7t0QL+Aa3C9St83A38hk2O7YLEXhCWkbc29jq6EG2EHoGNfyqc74YDKZYbHihtQk3x7hi3CgGyOIIjN/GW1LwgNuBLiHG06N0YKcyABoo8qKs55qbasfttTtxQ7BMpvEPxw5HL1LFoJuqj33gnWFNxVu9ndIXICWMMSCVRtC9O8YcX+s+SqO/ICMHf2xtgFn8+57ySfxgYI5KqIyOUuZra2tlSn1ZWRmsVquYoOfzyWGYUUxXV6i9Gwn1hk+cWPvm3ehZV4o1Q7Z8r4Dd7MQLLxlx6umxjcOBqs3Qn3EJdFPmQltykeyJLtPmYynXVVQoBaWyRRrVnA8Q7y0N8D7xv1BKJsD47bvhf20FvE/dB93kOVD3L1IkBTF3oqg7Rb6NN/6fUOqfn2ktnRvdKRdCt+hcvtlHo4CfPn069uzZgxNPPBHXXHMNXC6XbCvX3d2N9evX46STTuKzyURFj3ggu4IBbBRikKKZaXFETIeCWn11CBFWIcTtkjQfVne244r8YimcEgUZplHatf2w/Z8pBPwLQpghL/7FifV93dId3TBEBJ6O5+KsfNxRvwvL/SWD9iUSal1OTIxg9bXUbJX9ydf1dOKsrLyottHk9cAuBLg9SuE/Tlw/cmV/vaMV52bnj7DY0Ycigylmd3hiojVNOsJ3+b1iu4NFui+oQa8hIU7xZ2Tm4hdNe3FLYRlsenaeZ44+qHzupptuwtVXXy0X7smFnsb+Dz74AOeeey6effZZlJSU8IlimCOBGJu09uZQGraqS+hbk8kcifXa2tBHenUNqJjbL2r3AGZzKLp+OOmpftxW8gDmFJwjPovePZ0M1bSOBqg5hSGBaYnfBV5XJMTye6sAv18at0mCQXj/9ACU0koYv3iDFNX6866B9+Fb4fvnH2C49tYkqmYF6rjpQsRXQJ0853O9nRRbGgwXf5X/rkargL/sssvws5/9TKbKzdv/F0si/s4775Q18VwDx0RLmxBH0yyp+MjZI8XjtFR7wrdBLbpUaCgyW6AXD8zftTSgRYjI/ASmKe+ktPX9xmeHUiS2sVdsyx0IhO2rHg1re7txfcHwE+RZaelIEwJ/m6MX82Koo6bo+GmZOSP+HB3n2fYsvNHdLsVnNIsh9R43ZqfYEO3yCUXBz03PwV/bm3Cm2OZwDvbrHT1YmBZfHbndYECWqkeHz3fAnHCAgNeCMNAAnIB1oCJzCr6eMwZnsXldUlmzBnC7o/ud4Wo0jyd++9vfypK5U089dcDXly1bJr9HZXVkcDvs86W5WRrghoPq6n1RmFQyzHGt37dvgO/pe6Bb/AUYzro0rJlcNFArN3KGJ7O5rq7wz8EyodtLi3yY0/wHWE85A6ddUzGMAtfB96wdgTWvyUh21Me3/n0oGTnilbhuLJSmTjXewV2boVbODO1mWyO0hl0wXHnTAcd8xWaH8Yb/gff5X0HNT655nDp+Kow33Z88h3mGBTwxZswY/OEPf5C9X/shF/of//jHyMrKYhd6Jmr2ul2YbE2FPxjAHndyBHydEIzTTFYZjaXU+WwhBKvFthIp4LcIAT8rTOQ6x2CCVQysH3d3YmFm7AMRua/vEuK6ZATHcxLWpwlhvSFGAd9JbdMijCifJQbXW2t3yAyH7CgGn1pxHNOtaTGdh/Oy8/G7ljrsdlFP+PDvQRkdO70uLE9AmUSBOK6WIdz2PULAK0K9K4j/uUfv8O3isfxASAAk0PuFOn3csSOU9klRpFj40Y8ghCufV6p17xIzezKzPbyNHPWILywsHPE98vLy8J3vhO8vTCV4BoOBTzTDRCJw//MK1IqZ4uO/oNULAXr1D2KKUtNz8d57geeeC31OEfXLLwdmzAhF1sl07tAKmWBzM7yPfwTTl68fYVBToM5cCN8z90k3dyXKMT+w9t/QTTlpUBu6uMZZMb9UJ56IwLo3Dgh4cl5HbinUw4IjlNlg+uZdyb+QYr6lpKXzDc0kV8CH/iaVAYOsToih7GzuV8zEBkXdKWpsE8JzpxDVVK+eyNR2crnf43FhziELAwtSM2TEfH6CnL7dQjDWCFH6pTA9SS3i72NGihUvdzbHJeCr3Q4Z7S2MoGUZ9Wn/bWNtDIsEXjgQlLXjkVBhTZXRfjLpi1TAe8Vkv01sZ3FqbAMW1bSfmZaJj/u6hxTwrV6P3E5ZSvwpd9SbnVoQHn5PkWP8X1obkG0wDdvGI5y5Tz/0dfp+oqDJltkc+/ePJXFO9It0Euh0Hoc718ThE1H6dzjfNTE/PfA+6eI2vfBCfk4T1P/9pz/9qew+Q2O+WdxMTqcTbW1t4jq4hxTmDMMkFkovD2z5AMbv3AfDpTfC99dfw/fiH2H80o0Rv8fq1SHhTuny/c/Dm24KOcSnDzc8dzRDzSmGEkHavq5iMnw6g+zbrkycHvnxdbRAa66B+qVvJV7wLFwK318egNbbJevpg7s3QT//LL6pmNEv4BkmkTQK8Xe2IRcTLFa8X78HPiHgTQkU8H4h5BqFuF52iGPpiUK4/6O1MWHboKg1pciPTQkf8V0gBOf3q7dLF/nUGNPcqJ1ZpSklovroQpMZXYGQOWA0dfA7HH1y/2wRCni6SrNsdmxzOTAzQkFOix20X+NTUmM+3+dmF+D3DTW4OoyvALV2e7GtCVZFlb3c42WsuC/fPKSXLfFPIdx/01SHSZ3ZWOQpx7s1ygFB2d0d+thv+HMsEUmq+OLFydv+Z58NTt2MZZGj/zhmzgRKS0MfOQ0+fqgHPLnQNzY2yhZyra2tyMnJkXXvRUVFsiaeYZjkQ+3UoOqhlk2Uqdf6ZVfC98f7oVF2zDClZSTWV6wIpcn3P1cpLf7220NR90gWeIM1O8R2x0e2o0Yz1IlzEawTvxOFgCeneMWaAXVM4rPS1PJKaDoztMa9UEonINiwF8alV/FNxbCAZ5hIIbHVJMQc9eqmSGZAiGCKnJpUNWHboDTnDq93QLS22GRBu8+TsGg/pZAbpKt6+NFvii1NRml3UZp9DJFnivhSiv7JEaZZkRHgWEsK/tnSgGsKI6/f2uzsQY7eGFWt/py0DCGYG3FFbmTt5Nzi+pLxZTzimq5fLy3MuN0o2D/joJZuWxw9eHxfjWy19+uKqWhuUgZEZA814vF4DkZyh8MZSBfCMh139gxYIpGv18T/Hx7mdymiQVFfimZQOuKRYu3a4eu8+yMukX492p9JJiTG6XzKWszSg+d4KCMlJsHCQfzdkVBfuHChNLDbvHkzqqqqYLfbWcAzzJFAzGmCOz6Fft7ZB+qmqec6UlIQ3LQOuhkHH4Q0xtEz+9VXB/t/0KImtXUj4R7VvG33VugXR+53pZt9MgLvr5L7jTAGvJrHLQR+FYIb10CdMBO6iTMQrN0R6nuewLngQQWvQjdpFoLVW8XAIZ5ZVEoZY0kfw7CAPwJQ1OzMzLyw7aCYz4d9bpcUWxQlNqoKDOLakIlaqj5xPSg9YsKpExL40Mh3ml4PvdjWHiGKKxLQ77Ld70W50TLkYoBF1WGRzY6Njt6YBLwz4Mc+rwcXRGhwRkZ9823puK9+D64sKBafRzYIUlr6vNSMqCq6S8XgVysGYJfYR0sEkXuqT7dRO5cIF04Oj2ST0U51jeH/s3ce8FFV2R//TUvvhST03qtU6YgIiIrK0nRdEQusZS2769rFXtZ17X97QVexY1sUFgEVQZAqvUMoARLS67T//d3wwpA6k0wk5Xz9jCEzk3nz7rvv3vs759xzcCirFa5w5SJ8fxDS0t06yiIjz4rUDcVK+RW/9aDyxwsKSD48xTrDsSki+TxFZX3FG5HuGcruD8rzkDeEkP+GBBPVzlIr/r179+rEdfTCMx8OE889+uijmD9/vs6FIwhCLer3vBwteG3Tbi55jnvfi1r1xcIXf8OapoOwbFnZcZyGT9Zg55agiy+uIky+omOruR6ph2CKTfJeLye1goMh8SwBZz19P7ubUZffzIU7NQXm7gPh+OodOH+KgTsjDdZaCJ8vmdW79oN94UdwHT+iPfKmQJloBBHwdZJ0exGePrwPPZSIauvn+t9C9dmpJiKGa3PPNUUn62mvzjrhF1FtkMNJQwlGi4deZLm3VoEh+DbtKG70w7EOFxWhVRW1wM+LbYL/ph8/mbncN6tytoPh8EXoHua9lbhveBSOOu06LL6bF3/H77VGXY8/eulJN4gPCNTZ2ldknMA5sacMDKXLzhiLiWN2C9ZnJ+HO0LIC0DdRGO3xb17c09u/tEfW8Nh6Kw6N11lG7s5925BgtuKG5u0Q1QiSbHkbbs7FoNB4ePHFF3HOOedgxowZuO666xAdHY2XXnpJv8bfWUbuxhtvlIYSGpGadp+cgn6/BM7uzBOAy1QSXs659Z13TJj/2TRkZJ1aW9CozIilsWOLx/TevWt+bNeODdpr7UtmeFNIuE4e5965GaYufU6dh5pbC568AdbBFyBgxh3aE+4eMxn295/Trxnl42oDU3wz1Y6pcO3cgMA/P/y7Xj9BEAHvA1tzsnDcYcc2JVBEwNcdNuVmoa0atI1yYO2DQrBEidzpif6rJbxLXfMEdQyzh1+Z/+obGo6nDu3F7OZtvPZQV0RKUQHaBVXerxjC/07KQR0RYLP4drxMNZk1sdgQ6EP0CJPKnRsWhRXZ6eiqBHxV09OxwkI44UbLoKoTvxk1YosFugXLf+iAb3KdaGH2RoAz5K8JVnhxDkZ4tOfvRtIxbr/4b9huhMU7MSoqFmdHxGDEYLPfPbY09jzRuotORigIjRnueR89ejTCw8Nx/fXXIzc3t+S1vn376tcFodFo94J8OJZ9AUvH3tqLW1uUNmw7N6di6cpp+GlU6bB4M87rsFl72M+5upvfosDchfmAWkO783LhXLkIpmbtYPJlHa3WIqZWnXRbBXgK+P27ALV2so6bVhzGrsV+GAKuvlN74E21GNZuioyGuWlruLJOwNS6o3RmQQR8XWWjGnyizFasUIPC+bEJtXYc7sM9rgakpMDa3Qu4Kitdh59f0qRpvb4uG5S4Huthye2gJoUnlKjOdzr9JphoJGAtdkspC2t3NTkctBciWbVjmxoadVhnfkRUXBVC0AKb2azrz4cF+3bLpajvGVuNPeN/SmyBN44e1O1Z1dYRhqDzW5XOcs+QdT4o2ssLyyum+G8OnfzN0/vNfw8ceOqdv6q+GxltwrXDTo/fYzifbx4CE24saq6jGaJtAahN+7mId0EApkyZgvvvvx+vvfYahgwZonNZcE/84sWLcc899+Czzz6TRhIaBa4jB1D0wh3aG+7ufy4C/CDgPcU4f37xRfF8W7ayRr/T5k16142w+LhdB3RW9YD2nWq0tGdIu3P5t3BsWwt3yl7AaS/ew+5wIeCmJ3xUyyZYOvRG4Tdvw63W4qaTEYGuXb/B3LYXTFGxZd7vz9rv5cKoz3Mmwd17hG/GCEEQAf/7slaJuPMio7FeCUbuJw6x1M4pLz5xDA8f3I0F3QZ4lS28uvyiRNAnaSkYpga+OD9k2q6IAwV5OoFaq6AQv382Q5MPKGHq6bnmcVgqbXtettdZzauCUReXlhOKxeRnHZVY/U31jZoK+HyHA9FVXO8AJTQ7h4ZjgbpuDMX2hZ25OWhXje/I/fb5h/bpJHshltOFuefecv5cedgGV3573OAwlWT+Lq8kF73gXDAYnnD+3qGTG/fu3YZ/DE3AxI6Vl+a7Z/cRDFWT80g/VPCrKGmgIAj+Z9iwYTpEPicnB+aTUVOFhYVYtWqVDq/n64LQ0HFuXQvH/Ndh7jcals59YH//33Dn53otBI3oNUOkU7hXVrGE279oENdzrprLnT99g6Zjh+Ls8+PLGL3dIYPg/PlbuNXazRRWfQ+2Y+nncB89CGv/UTAlzoCZji9+Xkio3pLoK+ZWHXQovWv7Blj6qnHCYYdr72ZYBo8/Y9eRGfzRupN0aEEEfF2Fe3vX5+dgSnwHrFeD2pqsDAyrJeveVnWcbJcTu9RPfwnQ8tiXn4dwswWvHN6Hu2txAHp8/07kqfZ7qm1XvxsK0oqKimt1B58yDjDRXHcl6Bkx4Y/24+dvLchH03KEnkn9d2lMAtblZmNCbGIZD723MJN9jmqjkCpqojLB3YCwSNyzfzuuTmrtU6b3Pao/jalG5AgTxVm2xWLupkIUbQ7G/v2nvOllCdOP1R7PGJ50inSWD6NwLz8sT4n+9oHYb86EC9GnbVcozcGiAsRZG/4+ckFoaFjUmDVp0iTteTcIDAzE7bffDptN7mmh4eNWApo1162j/wDr4PPgLioEbAFwbv4V1n5la2wahnCKdFYH4dxbulSmIdI9k6LSsz51avGcy/m3xHiw7Ds4Iv6HgFvPhymgnJk4OFTvN3cd2quzuVfzLOHctxMB02+CuVkb/zQcoyAHng/ntl91Vnp64l0njsHWd4h0KkEQAV8+x9UAW6AEVseQcAxVAmpReqr2APo75JaGgj2FBQhUn8xs47Ul4Ln395ijEDc3bY0nDu/F9LzcCuuP14QMhx1LcjJwdmgkHj+wEw+06az3A/uLY/ZCRCrR62kY4DUZFRmDn3OzcLk6T0sNE4voCAL1ERWVLDs3pgnuP7BDRwNEVFNUHizI16Hx3oRZMwmdS53l6qx0r41IbvXfnsJ8JNgCyn3d8JYboe7btxf/fmqPetl8AoYwN8qbudQxlmSkoVtUMKaNLO5LvmYAHx0bjxcP7dNGk6AKjBkH1fU47ChCbAXnIghC3ad0BQkR70LjUO9K2C7+HCarBZa+w3VJNFNgMCy9hmLFvG04tHM4tm03YcOG4jm4vHwwnFONJKEVifQKD6/Wsvbl38A65IKS8nFlUHOruV13OJZ9pQR8z5OrKt9wHTmo7nE3TFH+dXRZho2D/b1/wa3Wx27uPQ+JhCk4TPqVIIiAL58Uimo10CYEBuIcNSDdn7wLmXa737NJ5zqcOtv9dQnNsS0/t1rZxr1hT16OEqVm9I+IxujsTCzMOI5ZDGvy83E25WQiWgn2h9t0wpPJu9VjF25v0d5vIv6Imoy6BpcNzT9bCfj56pwyHXbE1FDo7c7L1edQ0eckBQXDrARnVg0E/NbcLESxdroX9UqZcf+S6HgsykzF4KjYcg0UhhA3+OU3B9Zta4q3YkJgdZxaFJTO8l4e9JZHxjtxtNVxXN07DkP7WkvqaJ9mTCkqwp7dB/Bgu65oUs0mb64WMgVOJ/LUozwBz+v58IFduCC6CVoESb1oQRAEoR7p99QUOFYsQMBlt2LZyhDtTdde9SUzUFBYdi43krDyYZQY9ayM4vPx1RrMVJgPSzmefk/Mnc+CY+EHcB1PgTk+yefjOL6bB3Obrkpg+9cxZNbJic1wZ6TCtWsTzC3bSqcSBBHwFZOsBHw3JS4ClaigV9zicuNAYZ4S8JF+PU6OywGT240pTZrjLzt/Q75TCXir/wU8E9jF2wK14LwiqQX+sXszrk5q6XdjwdqcLFygxDSTmj3ZtitmbF2LT48f0YnRajwRqscheyE6lmN9bRkcigD1hnQ/CPjt3MqgjlGRJ5/PJgaFYFd+rhag1YHh/s0CAk9rf8MrXp4g37anNb7flofFwW4EmE1lXi8LDQtN8VQ5rxiJ34zs7MaCwTMcz+k2Y9q2Q+ge68LIcpIecgvAQ/u2oWdYBOJs1d8mQQNGQlAQ1mVnYHRM2Xr13544BrsS9zc1a+N1DXhBEARBOJMYYfDfv5mOZasexA8Pnh7VFhRkwnmdtmHQyFB0GdmiJE+C/XeOAAAgAElEQVSMv3Ht3Ahzt0EwhYZXLpRbtIMpLgmu1UtgPv8y39ZmzDT/81cIvO05HWHgb7gX3r1nG1y/rYJl6FjpXIJQnwR8UVER0tPTy30tLy/Pr8eiUNxXVIA+J5N5cB/y2RFR2KYGqZ5h/hXwWQ6H3tsbqIQMM34zcVhELSSy+1EJ+MER0fpcmijB1S4kDO8eOYCZTVv77Rj0om4vyMW1CcVinWXeHmrbBXP2bUesOsfxsQn6+NW+Lko0HikswOjS2UdP0iwgCClFhdVK3GbArQZbC/IwLjK20vd1Ue23MiMNI70MFzMmc+Pnh4ciYN0agy9spUu6VAS90+Eor+BSeWXTjiem6X48TJ2HEdZeusZ5pUdT12lSdBMsyEjFhLhEHe5fci+6XHj9yH5kqZ8z1bWuyTVlKb7uIUzSd6yMgN+n7rev0o7irpYdRLwLgiAINVjYuXX2d5NaB8Fcc5FplGkz5m8jV0zZRK5d9f+NzO9GXhga0R2Lt2jPsm3SdbV22s5ta2GbOLPqN6o51jr+Cji+ex+WkRfp0myVNqeam03R8botXVvXwBQeA1MtlcWjZ9+xZD7c6UdhTWwlfVkQ6pOAZ63YhQsXlvtaRkYGnEo8+guH24WjSgiew4H+JAzRXnjiOKb4uQTbISbnCghUQsaEFsEhWJOdflqCNn+Q43RgE4V1UssSYX1RTAJu2LMZ58cmIjHQP1m5s5x25Dvs6OFh5GirxPRtzdvixt2bEW6xYngNEgG6wCR2hWhVQe30jqHh2JKbjSGR1U9Vnq2+/wn16F5FJtaO6rw+PHZYe6INAWuEpxtCnWFy/L38Guenb17zFNfGHnMDw2O+WE30J9T539SzWaW1Whl2fvn2PbhVTXSjY6t/PcfENsE7xw/rUnGedd7XZGdgaUYanu/Qwy9JCnsoAf/8kX3IsBch6mT0BK/DrXu34EIl6juFyH43QRAEofq4UpJR9NoDCLjqTphbtK/251CkP/EEMG9e5dvRRg53IeLEZgzvlYbRtw5F775ll8zmjr1g/+il2jvng8Wl3Ezx3q1bLd37w/Hf9+A+sh+mdt0qXiP/9K163zuwXnQ1rANGwbnlF1iHXwxTYO1UeDE1awv3iSM6I7235yIIQh0R8M2aNcNVV11V7mtvvfWWznTrL+hhTFNioouHiGujROORwmTtobX40RvIvektlDiiCOwaHKZLyk1q0qxGn+lZ6oscKChC+sEIHE0Nx9KTzeR2RyHxYBKe2JWOi5SIr66H0zPs+nBhAWKsAae1D//FsmSPtOqI11IOoHlQsBb11ZqMVNs71LUJreBat1efO1+J6hq1ncOhjuHUIfkGhoXds11Xr4vAyiOd0K3QhW0bK+97hjin6E5IUG0fWoS5Udvwr9adcU7/gDJ7yysiPjcAj+3fj7YduT+tYg/Cj0pcx5ktGBETX6O2iLUFoqvqmzvzc0sE/JHCfLxwaC/+3LQVEvxUYaB9SCjCzFZtGKAXnvfYf44e1HkILkto7tf7TRAEQWhEqPnEdXAP7K8+yFUEHEu/QsAVt/r0EZz/588H3nkH+PbbU8+PHZSGAR2PaeE6YqgDprhE9Dk7DFERTti/eAvOHesQ+JcnlfAsf7msPdguO1wHdsPcsl21z899XK171JzP45fgdMD+9VyY23aHKdTL0nBqzjV366e99ubyBLzbBeeGFXDMfwWWoRfCsUCJ/T2b4U7eDcv1M2vtEnJPvjmpNUytOleciE8QhLop4H9PCpVIdKlHvMfe3mibTRsJtudmo2sN6mSWZq8SR+NODrr06v5L/c6kdtGV7OMuLdCNCea774onl7J1uCm+umPC6VOHehRPGM/47Wyi9ONf5bwyYmQ8jhaFY7DDjs4h5ec4pSGgVSXRUQUuN1anJ+LpaCsCytGv6Y4wLEyPQXCcd0aWwsKy3vEde4Jw+EB/VL2Lnl8gAieMMz/pJScU6xTq/L285G8rMrLx7d4sXNTbBqsP2pT17h1mE1ZmpmF4dHyFRg7uG5/dtLWO6qgpzHq/JjsTo9Xx2C/v3LcdAyOiMSQy1m+9hnkmJkTF4YesdIxSx9mq7rGV2el4vE3XCjPTC4IgCEJVuI4cQNHcJ2EdfiFMiS1hf/tRuC+5utJ650aNdWaGL11vneuUWbOAK8cfQsxXD8LSZxjcOZnqOPuBI3mwRF4Ap8UG194tCLz2/kpD0bkv3dK5L+wfv4jAW5+qXmg/S9TNf12XgLOdfwUs/Ubqeu5MKufa8gtsFzyvw+O9xdK1P4o+/j9Yx18GU6n515W8B45v3oXtyjtg6T4A1oHn6mMjMASmqNjau4hWG2zTbtb15AVBEAFfIflKvAewFrbHoMdM4J3o4U097DcBzz3K+4sK0OSkWGfovE0JtN9ysnSoueH5NfZaGZOJkeisIujppYg0xPAv2RmwKGHXz2NLgAFDoXn8rqUSnPBYVWUrL21AKD9UvJhlS/n/IP04Wu0W42SSiLUVvs52bIqHa3RVTp9APcui8d+BgafE+i+ZJ7AqKRnv9+uuRai3MEFi35BwnwU2++Do8Gh8mHpECev4co0gK9V3cgBVbgHwlh6hEfhaHc+hveKH9BW8oVkbv3vFx8c0wZzkXTrHwYP7dmBKQlO/be0QBEEQGh9uVvaheO8zHNYxfwAcdtjVXM092/Yeo/SaxXPLm1FKtTQU7Zz/r7wSGDeu+DnnxgNwxDeDdcIfS97n3PCzFuPIz4Htqntgik2o/AtynUkRvOBduPZth7ltF9/PkWVv09Ngu/haFM17Ftadm+DarlZJsU0Q9PB/ivf8+4ApqRVMFhNcm36FpefAU8dRa9WiV+7Xtewp3vndTUktEXDd/XCrdq1tTE0kdF4QRMBXQaq9EGFWW4lAMgb4wJx4vJ1yAH3bOn0SbOV5zAnriC9e2gEHzGEnPcoWLF06CIur+LzyvLoUmRMnFk8uRkg74XaAu/cdxtS4JCXgy37WL1lmPH1wO27r2KvaJdHIoYJ8XLlzA97p0AvNKij3xdDoC/67BUPsiRhaibW2ImMAM5Xnqc8YUsmEtCj9OGLUefQNrzwu3dNj7mn4+My5F9Hq76cnNK/ynPs5I/DrNjv25OehSxUZXj2NNp4JEn1ljBK676elIFlN2p770okuuaZE8A1qAg7zU9m+eFsAnCYzXj28D2tzMvFwm861EtLeXrUfqwjcqxYxSaozjysnI70gCIIgeIPr+GHY3/mnToC2OnQS9s/jWs6GlUtewLa3Q7A/tfy/4/qJawPmoTGSzZW3zc21fQMsHXuc9pyl12AlwrvBffSg12Lc1KQZLIPGwblmKcytOqoP8S3qzJ2jFpjBobD0GIjAhH/C+cOXsJw3BZZ+o2CqRj4lHRXQezgcC96FpbM6+ZMh684fF8AUFgnr4LGne/TV9zVZJFJOEETA1wF25+Vo7x/3hVO8dykZhym6umOcX5swstzM4i1budG2TfEgaZT7ogWYE0qQD45J1pXPthfprPPl0UcNyOEWGz5UE861zdpU+0x+zjyBJGtgpV5TCr8JPYNwzHEcI9tUHm41rpxGvmXHAV0HfUqTigV896NF+OREMu7vcla1atwf2J2P3vHebUqnSO6n2m9DbpbXAt7ucuGYvRDDYhKq1c6t1ETdNTAEv+VmlxHwC9KO6hiFMX4Uv+FWG3qqc3v92EE807oLkmorSY16MArku4zj+LRdP78ZIARBEIRGRlEhvrl/Ib7eMRNfbu5RKmqxuMb5oH52dO5u05GKhkj3jLir0kCwZytsvYeUncvCI/XDF2wXX4PCF++CNScTJh+T8Lp2b4E5oZlaYJlhbtoK5snX+2wEKLNWG3o+7N++D6f6bEuXPnCr9YZz1UJYzp2qGihE+pcgiICvm+zIy0WrkFAtKmiNnTHjVM3t3fm5utxbUsCpUb501nBvoCjfHnsExx1FuCapONadHuDoJi5csW0tHm/TpdrJ3jzJ1dn5TQisoDYnM9L/Oakl7k/ehYvik5AQ4LtAo2f9h+wTGK0mnqq8s9w//eyR/Tr6INQHkcZjrMnLxtQqEvz1CovAi0eTcVxN4E2qkeyEfxfnQyTCyOg4fHj0EKZ5mXiwwOXU2darm1mdrXtBXCJWZWfosHMjAz73py/MSMWDrTrqa+pPYX1JbCLaBARjWHQsajOd3MXqvM6LjkekzQZBEARB8BZGOi5dCnzxBTD/YxMycmecmqdHFpdvo1Dn2uusdXNgGTYelu4Dq3UsZrRHYbaum+6XeTY8Aub4ZnBtXw/LgHN8W39t/hWWbn1P1V/3gzec+/atoybBteEnWDr1hGvvVrhhhqXvMOlogiACvu7CkOhBJ62gtMa+9dap15Zn5OOztGN4tE1nXbu9Jlyz/RjOV4J25GlzgBltAoNxqLDALwKeSfdilJDl3vqKYJb4JCWmd6vzro6AZ8b+ver73uaFB58l5vKUeGe9e18EPIU16443rcID3CYkFCFK1B4szPNZwGfa7chyOxFh9f57tQkKwTFHEY4xl4EXbccEiWa3W4nUgGpf0z7hkfjk+GG9Lz3gpID/JSsd8dYA9I6I8vv90Fr1w9bBtZ88poOUixMEQRCqwNi7TsfKsmWntjmeIgATzzmBcZNjcPHFxaLdE0dBHzg3rKy2gHeu+RGmhBYwRUb754SU+Lb0HgLHwo9g7jeiTPK4inCrdZR772aYz53k/wX+4PNQ9NpDeo+9c+2PsA4Z5/X3EgRBBPzvDkOcdxZRyJYvsPpHxOD1I8nIViI00Fx9EZbtcOCQvRCdQsuKll5K5G7KzcIwP2T1ZGmuVkHBsJoqNjbQi9s9NBy71EA9uBo11JML8hFjsqBNcNUCLMhiQQtbII6riaeFD6FYB9UxbOp7JlQh4HmefUMisEe9/6xw3ybX7arNaVSI8MGwEKuEeNvgEHx67DD+3Lxtle/PU/0ryGxGTbaRR1lt2gCwKvMEhkbHaaPAOynJmN2sNUyQkmuCIAhC/cYzFw5/bt9enEuovHxChF52RjEOa7cX5x/8ByIffh2mCpYk5tZd4FzyOdw5WZVmoy9XNKu1n3PN/2AbOUmXbvMX5k694f7iNbg2r4GlxwDvvsuBnUr8u2Fq0tzv7c9QflNicziWfAHX/m2wjZsmnVIQRMDXXZgczKQEVpwtsAKBaNKi7WBhvnpP9QU8E+Xlu5xoH1J27zTDq98+csAv57NCCfhZzCpaxfv6KLG7OP14tY6xsyBXiWXvJ8E2waHYqwW2997i/YV56BwY7FVZsX4RUdiqvhMTxvkiZzfmZCMpIBDBPgh4bhkYExmH+5N34o+JLfSe8cpIKSpAuOo3NRHabIP+YZGYe/QghkTF6vwFwVZrlYn7BEEQBKGuwdB3etDpSWc2eMO7Xh4U6Xxw2yJD4o3fixWtG/Z5X8EdP6BSYc694qbWnWH/6CUE/OmvukyZ1wL+6CEgM03XS/erYFbzt6XXCDhXLCgOifdc6zidcKnjUkgzkZyle3/ttXfu2AhTQmuf99x7t8K3wdJ7GIreeAiWfqNhqmbeHkEQRMD/LuxXAj5ADYwxFYhzeqs7hobhp/RU9A6r/qB5rKgQza0BiCxn4mgaEIRkJfCzHfYqBWFlpKnP2Kcerb3wdLcMCsaxwoJqHWdjTibGx3o/uHcODcevWRlAvPf7x3YqwT/Ay/burSazT1OP6H3zvpRq+zUvE0MjYnyW1gMjY1C036XaIUsL6sr4LTtTJ4KrqZ98UHg0Hj+0F2uy0vFhWgrmNG8vid8EQWiQ2O12ZFRQ19Sp87wIdQ2GXms3OgkMRKEpVHvS+Th6tNiTXjb03WOOG1QszJlkzqgaU1WSOV2P/cB22KbeUvmX47bCydejYM4MOLewXNrZXp+XK3mXEs1tqi4RVw0sIy5C0XN/hTvtKEzxxWXT3BknUPTPm+BKPQRTdIIW7qbbn4M5MhaubfzuwwBT7UTembv1h7l5R1hHXKxW/LK+EAQR8HWYnfm56MmSHJUMiD1CwvD8oX34sxKI1S2pxfD5DhUIaxoPEpWI/zE9FefHVz9JyrbcHISaLV5lDmfYeD7cOhlatA+RBRTJrN3dMjDY679ppr7PZ5zcvYSl8I6o9ro4Kt6r93Pve7xqvwWpKbjQy/bLV4vAreo7zWjSwud2ZtK4K9Vkuzw7XedOqKhP7MrLwWcnjuLxNp1r3E9bBYegt+qnTykR30397BcVIyOSIAgNkszMTCxZsqTc1/bs2QOHwyGNVJfEe2Yaip6/Ez8c7IENR5pj0eZ2WLi7Z4VCnXvUDY86/83nqnXctBQlZi0wtWpf5XvpobdNvgGOZV/C3PksmErnzFHrDiarc2ekqg6YCndBrvbwuzavgqXP0NoRzPGJMCW2hWv/Dlgo4NV6zP7+MzC174nAW56COTYBjoUfwv7GI7BNvQnISlciu2+tXUeTWgsG/uM56dCCIAK+jk866kERd1YVybTaKcF01GnHHiXIOnhZPqw0h5Xo7VTB3zI5Xl/12n/Tj9dIwG/OzUZfdS7BXmQlDbdadbK7lZknMD4u0etj7MrLhll9fowPkQJx1gCccDl0NvYoL4wFeS6nNix09TJMnyHm58fE4979O3WWeG+iGFjarcjt0vvZq8OFcUm4Z+9WnV0/opzjcbvE00psnxcVh26hETXuq4wEmZnQAv9QE/2dLdrLzndBEBoscXFxmDJlSrmvffDBB7CKd/CMwhB4etT37y/+uXVdEI5mvnraeyIDczFurBud+4Tp/eoU6p2rYct2HTkA53fzYJ16A0ylkqu6dm+GuX13XQLYG1i33bV2KRyLPoVtwmWnveb44Ws4vn0PiIiHhZWCuEVNfa6pVVefM8X7tLDuNxLOTatgUT9dOzfCuW8Lgu5+BabI4ug+eukdG1ei6L2nYTLbikvICYIgNGYBn6/EV4oSip1DKhfl9O52DgrFkozUagl4Ggq4h35wRMVJ1gaoyWJu6hGfPeIlk4/bjd/yczA6wrtEbjaTWXty/5ee6pOAX5B2TGfND/NBwEfbbIhSIn59dgZGelGzPM/phFk1mi8Z8odGxiBBHee/aUcxJaF5lQKXUQTRZqu6toHV6juxAQF673yy+pxu5bTFysx0ZNntmNW2dbWjNkozJDoOdznt5SZCFARBEITaYv78kyXb5heXcDudUAw6qxCJLQN1+TYK9m4734M77QhsM26Hqbq1xPNzYf/8NbhT9sH96kPFn1WSeNetha/1nEu8/jgTE/yeOwWFz/5NJ44ztyz23LvVOsj+8QsImPWAT+H1/sDcuhMc//tEJ9hzrFgI2/l/KhHv+jurdVrgrPtR+NhsmDp5lI8TBEHwdpypzh8x1C0vL69OnlCW+m70oLarwgNP+TU9PgnLlADlPvXqkKPEXLytYrHYOTQCrES/R01Y1TsXu8703i/C+0zs3UPC8VNOhg4n9wZm7P86IxVnh0f55AGmh7yzmsB/zkr3rq3UNYn0sbZpgDrG3c3b4zv1/TKruEbcBvCLupbDeB7VFNfMfs+cCF8dP1xuO807dghXJ7XwKhrC+2OacFF8U68S+wmCIAhCdeFedYr1q64CotWy4hKlk99+u1i8s1TbY48BSxYWYcdjz6Fo/ttY8WsAPv8cuOWW4tB464V/0osnx8KPq3V8t1oLFb7xsK5RHnjLv4CYeCWy/w9ul5MLSzh3b4U74xjMia18W8i266ZE/2Q4vvsA7sJ8HTrv+OErWNr3gqVrv9+9nU0xTdQjDo6PXtLh+5Z+I8q+JzIGAVfdBevIi6RjCoJQewKeov3LL7/E8OHD1cAfjYSEBHTu3BlXX301Dh48CLfbXSdOKEMJvTA1w8R44fEeHBmrk+fsK8j3+Tgudb7ZapIIqUTMMYx+qBKUW/JyqnUu6epcaB5o7oOlm9nv890udU7eGQ325+fhhNOOntVI5tcnLAJLs9O1eK4KhrdHVSMKoW9kNEKVsN6Sm13p+w4U5OHHjDRc07R19Sdd9egfHon/ZqZpI1DJokM93k05AIvFjEERsk9dEARBqLswyRyF+pw5wPTpwKhRxTnSkpLKiva33lJrjXRooX7HHcCw9rvR0rnlpFg/3Riuvd3jLodzycdwHdrr25eyF8Hx5dtwHz+i935T5NomXQd3XhaKHrgWBbdPQtEzt8LcrK3vyeXUWst6ydXqsw/DtXebFs2u31bANuMOn7LT+w211rH0GAzHqu9g6T1UZ50v92t36g1zmy7SYQVB8BmvQ+g/V6P7ggULcN999yExMREBAQHIzc3Ftm3bMHPmTPz73/9Gt27dzvgJnVCiN8nLEGruQR4SGYO1OZno4WMdUSYzC7VaEVyF53RYVBwWqsnE4WM2dZKiRG+SDyHnhCK5Z1Aotqvv18WLfdqb8rLRS72/OmHnXUPCkeNy4XBhfpX14Hfn5aJ5UHC1rulYNZm/f/QgBkZElxu6nlpUiLvUpD2lSVMdBl8TOoSEoYlqw+9PHC9Jnrc1NwtvHzuMF9t386v3XRAEQRB8waitzhJtfGRmFu9Z96y5Xh7M/D6weyY6he3GoGldccnUIJ0Z3oAZ510bV8Lxw5ewDJ2gS/GWu25q0Q6WvqO1tzvgir9psVoVzMhu/3ou3NkZCLzt3zCdzFNjUmuIgMtvg3PLGpjjEmGKS1LCPl4Lcl9h5J3lnEvh+OodJYz7wNSqE0zRsWfsOpl7DYY1ZQosA0ZLpxUE4cwK+Ntvvx29GUflQZ8+fWCz2fDdd9/VCQFP0dvMh2zqQ6Ni8cbhfbgy0bfM5RvURESxGFTFRNMlLBzvHzsIu9ulBLxv4m+XEr3tSiV48YbRkbHYlJ+Li9xubaSoCKfeY5+N8THx1WrrRCXIm1isOFBQtYDfpxYH/SOr571mnoFXUw5gRUYahkbHnfYaDSOvHNmvE/BdrCZ/cw1TwdEgMzkmQW8rGBeboL3v/1HinRnqu4dFyoghCIIg/K7QWz5vHvDOO5WLdD0vJ56qq87ybUYpt8TYIhS9/SycG3+GNeYi2CJmqXcXr0lcag1kf/dfQE4mrJNmF9cor1CZmtV7rkPh4zdoLzz3e1eG6+Ae2N94CKamHRDA/e6l5lF6263DzvdLO9Hb7fzhSzh/+hK2a+4/o9eMdd1tl86qljFCEATBbwJ+xIgRWLx4MeLj4xEREaEzxrKu69GjR/Hpp5/isssuqxMndFCJydY+iF6WTktjGL0SvL783Sol4HuGR1UqkEmY2QqLyYzDBQVoF+KbGN+Zm43RsU18bgN6/Z8+vEdnTQ+tpK44M8Ozva5JaFm9CYriWk3Gu5Q4H4LKLd3J6jgTYqsXysbtENNiE/HG0YM4KyIKIR7n9EvWCWzLy8Hz7bvrUnD+YJw61icnjuJQYQHS7EU4qn7e3bKDZIkXBEEQahX3sUOwf/IK3Gp99eXGLvhkc398uaEzCgpMJQKdCeU6dTo9C3yV9dWPp8GddgyBd7+Gojcfg3nTapg794Fz5SI4vn4blpGXwDrq4jJZ4cud+1mmd9AY9bcLyxfwRYVw7t8B19plOgu7eeBYWMdOgamWk7UxxN825UY4f10CS9s6EJou4l0QhDMt4CdPnoxnn30Wl1xyCQIDA2GxWLSADw8Px7hx43DuuefWiRNiJvKBPiR9i7ba0Cs0HP9R4vDuKizJBtz//lNOJibGVV0eLshiRs+wCL2Heo4PEwpzCuwtzEeSzffQdtYXtztdOvN7ZQKeoe9cEsTaqh923le19Y9ZxfvgK8rMzsoAhx1FNTrOxPgkfKlE9fqcLAw+6cnPVP3vpcP7MSOhebX211dEpM2GLkGhWJWdjg+PH8aV6vMldF4QBEHwN0boOx9HjwJrv3Nhx5E7kJJxKqotyObAtEkuXHlNgFpvVe84znU/KrHdEeYmzWAbOw2O+a/B1KIj3OnHYLv+EVhadfApG7qlz3DYX39Qe+/NpXLP2Oe/AdeuTbD0HwXbzLthVnPo75VpnQYFnifE5C4Iggh4ICYmBg888ADuvfdeHDp0CGlpaYiMjESzZs0QFBRUZ07ohL3Ip3rm9KCPiYrD9Xu24Hp7G6/KvR0rKkSWy4kWXuzpZkj3qMhYXHZ0A2ZRkHsZ3s8SdflwI64awpRCmsn1UlVbVLa3/ZNjh9E3PAq2GliJu4ZG4NPUIzqUvSIBvyYrQ5dni6mByKYhYnJcU/wv/bgW8EUuFx7ZvwPNAoIwIirO7/2Iofp37duuhfzYmARZCgiCIAh+wRDs330HfPtt6VeLt/PRo04P+3ljXLg0/0lEJwQhYPSN6hXf51F3UREcy76AbdpftFfY0mcIXDs3wHVoj86EbqrGNjqKcnPHPrB/+CICbngYppNrDdeOjXCu+R4BN/9LCftWZ6iFZcYWBEEEvOaXX37Rmedbt26tve4ffPABdu7cqRPaXXXVVWjfvv0ZP5kCpxMZSliHW3wrb98jLBLNrAFYk52Bc72oaZ5ckIcgk1mJce8MFyxp1z8kHN+kHcPVakLzZmpZp0RvrPpO9Ab7PHUpId0mJBTrszPRpYIa94cK8vF9VjpeatetRlMdhbXd5UaBavfAcgwB6fYivJRyAFNjExFRw2ywQ6JitBee3319biaSiwrwrB9D5z3ppq7Z8PBI3NC0TbnnJQiCIAiVrkk8vOvbtxcnm+PDEyaSo1e9Uzs7hmS9hTa9YtF+5qUeGeDNcGf9Gfb3nob98zdgmzy7THb4qmAoO6xWXW6t+CMtsP1BfQ7LzQZW0wGjvoN17DQUvXQPnMsX6HJo7rxc2L+ZC8uIS2FOaikdQBAE4UwL+Hnz5mHo0KFawD/11FP48ccfMXv2bKxYsQK9evXCrl27kJSUdEZPZm9+rg51DrP6JuApAKfFJ+JnJeBHRcdX6Ek22FeYj36sY+pl7W5mn79BCfcnD+3FH+KbIsoLUb4yOx191DFs1Qg740AnotoAACAASURBVLfvEBSKJSeOYXpi83Lf83nqEXQOCkbHCgS+t1DcRqjzYdv3Do8q8/qyzDSEqfOfnNCsxjbxBFsgeoVG4NH9O3DcXoT7WndCk2pkz/cGJkL8Z7vuVfYFQRAEQTAyw2/bRodH8U/+XhojwdyIEcV72Y28wM7f1sLx6UoEzHi1bPm2iGhYL7gShY9dpzPEm5v6II5Zvu2nb2AdfrGuv35qYWKrcYk11jJnqTb7y/fDctZwuPZsBpSIt42f5rORQRAEQagFAe9yuUpqvW/fvh2vvfaargN/+eWX64R2X331Fa677rpKPyPtxAmsL21+PklOTk6Na8mzVjj3tAebfd+vPDK6Cb7bs0XX/67MU8xvuLMgDwPLEauV0UO9P1yJ3d0Fuehrq/xvsx12rMnLwQRfa6F60EaJ8+eVqGZUQlCp/dssu/Zjdjrubt6+xqKaxo+WQSFYmXGijIBnW36dehQ3NGvjl4A2RhZcGpeIydvWYmpckq55X5uIeBcEQWgcuDNPwLVPqW6XU/9eGNMaq/ZWXp1m6dJisc6f9LaXxsgAz4Rz/HeFiebU2sdBL/a46TBVEEGoy7f1GArn6v/BfOGMqhOkqfNwHUmGc8NPSlRnw3L2ebXSbuaEZrpUWtHrjxR75Sf88Xfb7y4IgiAC3gscDof+SY97SMipBCsMrc/Pz6/y74PVzNW6Vfl7opjl3vMzq8NvuVloGxhcLeEVpUR7pHpsz81B/8iKk+AVqknxqL0IYyN933fNknUL047pfeeV8X1GGuLUJN43PLrabUEPslO1wzY1cZcW1pvzcpBgsaF7WESNOxBbupMS8HOPJmM22p722muH9moPedfQCL912FbBoXi7Y2+0CAyq0d59QRAEQSjWzy4UffAsVm1Rc/SeXli4qQ1W7fe+tCxFOcPgBw485WEvVXG3cq29YyOQlQZz136VTLZKHE/+M+xvPgr3qEu0V77Cz0tJhmPBf+DathaWrgO0l9wUElo7jWe2wDLqYjg3/AyoY7AGuyAIglBHBDxF+kMPPYT33nsPGRkZJXvf3377bbz88stYsGBBlZ9Bgd6uXbtyX2N5OksNMn274MY6JVZnR1RP9NKT3Cc8UoeWVybg87nPXgn4ruG+i9L+YVH46NgRpNvtiK4gjD7H6cAX6jv8tUW7Mp5zX6AxolNgCNZmZ5YR8P87cQxjYptUWQLPW9opAb+9sEDvdzeSAG7JycJ7aSl4t0Mvv+4h5zfuVsOwf0EQBEEg+3YU4rE/b8NHK+5ARv6pJLOJUfkY3moLuozpAFRghOb+dcOzXrF1wAXn7q1AQR7MbbucHsZO1Lxp//glWPqOrFSUa60clwBTdJwW/JZ+I8qug/Ztg2Px53Dt3gBz5/4I+NuzMMfX/tZGnlPAzU+ocymEKThEOpUgCEJdEfD/+Mc/cM011+i678xC37JlSx3y3qRJE3z22Wfo2rXrGT0RlhQ76rDrcO7qMkAJ7NdTknXd74QKEruwdnqwkpHVCdNvpb5bq6BgfHLsEK5t1rrc97x9eD+aBwYrkVpzr/WIyBgszjqBKz0yxB8uyMeuwjzMDm3tt7Zvrs4ryGzCttxsnB0VqxPavafO8bomLdA5LELuMkEQBKFOwL3pKSlARgbwzttuzP+CeVR66dfoRR879uTe9J6BsH/9mxLD8xAw8w6YImOrdTyXmtMdHzwDhEay7A2sQy/UWeBx0kDv3LIW7ozjsAwe64VSNuvybY5FH8LSe/Bpe9jdeTmwz/0nzAPOReAFV8AU3/R3rUNu0oZ1Ma4LgiDUKQFP73hUVJT2onfq1Ak2m03vSZ44cSKysrJ0CH1wcPAZO5Hj9kI44UaLwOp/hw4hYUi0BmKpmkynJpQfPpfhcCDExyR5BvTyMxv7g4f2YEpCM+0l92RTdibeTD2MeZ16+8VrPTAiCu+nHdGe8biTyd7eTjmATsFhaBrov9J/TBw4KCQSm04K+F35uTpT/8NtOksxF0EQhAaA0+mE3W5HQUEB8vLy9HqA64KAgAC9FqhLMKGcLs+m5r5ffrWgoNCMlb+YytmnbkJCWCZu/qsNf74lRHvUT2GG7fzLUfTOP2F/+0nYWCrN16RvLhccn74KS/9zYD1vKhyrvof9vSfg2jIKtqk36vBz55rFsJ7/J50QzhvMXfrC/eXrcK7/+TQvvGPplwCTyp37hxonpxMEQRAaiIBnybi///3vWqxHRETghhtuwJgxY/Rr9M4PHDgQM2bMOGMnklJYqEvBRdiqP3ExpPwqJaw/Tz+Gi+KaamFamt35OXp/eXXpHxWDuJT9OrR9VPSpffRM+Pb60WTcmNACHUP8Y8WmZzxULVCO2gu1gD9UmI9vMtPwCkvH+XnBNVKdF8vSMQHfswf34JL4pn4L0RcEQRDOHOnp6XjkkUd09B3FO0V7UFAQzGaznvu5ne5MGvA9oXAfP9747fSa6a1bONC6XfGyJ9CZhUnh72LmY2fB0mNQ+aXDlRBmubXCF++CS4lvr7zkJYrajqLPXodb/WcZMl57w62DzoWlY08dMs8995ZB58GdehSW6bd4/bGmsAhYx10B+8IPYO7QQwt/t5p7nT9+AdvUm0W8C4IgiIA/xUsvvYQJEyZg8uTJ2Lx5M26++WbtjR8yZEidOJGDRQXo7Yes5OfExOPtowdxWH1eu+BTSV9cbjd25eXg27RjGB4dV+3PZ1m4KXFN8YMS0iPV5xhrhrXZGTpj/BV+rJ1KAc396QcLC9FNncpPzBQfFOrXpHIGAyJi8EFqCt46sh+Z6jzOi46Xu0sQBKEB8Morr6Bp06a46667EBgYqIU7PfK5ubnasN+xY0ece+65deK7Mvz9/vvccP78HXqPjEVMny7o1SIFYZsXwrXxJ9guvxXmxJYo+r97YRk1CZbuAysteaZLpU25CY4Pn4e57wiYvIleU+sF5y+L4VqzBIF/fw4mjzw0ppgm6jvcBvv7z8L+yn2wjLgYJh+3/lkHjdEeeOfaZbCOugTOzauBsBhYegyUzioIgiAC/hT79+/H9OnTddgcRfuzzz6Lm266SU/sdQGzEsYDI2Jq/DkBZgt6hkXgVyWo6X/fW5iPNVkZ2JybhTy40VEJ4MER0TU6xkC1IGCyPHrdwyxWZDnsePXIAcxUiwqbn8uvdA+LxPa8bIyKisWK7HRcldSyVjzjzBlAA8QHaUfxfJuuCKvmNgNBEAShbrFjxw7Mnj0bMTGnz7FhYWG44IILsHr16joj4APdebir2b+APwbCNu0vJwV3ezUZtoOzXRfYP3oBpoBgmDv2hnWIdx51S+uOcLXtCvu7/0LAlX8HbAFlBHuJEUDNg851P8Kx+FMEXHsfTHGJZY0Cao1hu+oOOL//DJbeQ3yvmW6x6FrrRR88r/5+GFybVsI2blrJvnpBEARBBLzmnHPOwYsvvojY2FidSZ4i/plnnsGjjz6qs9IzjO5MMjE2AVY/CdPBSmA/kbwbHx0/jM5KsJ8VEYVxsU3QNCBIZ1mv6VFibDY0Cw7B/GOHcVliC/zfoX2IU587qIaGgfLoEBKKnzPTkFyYjzy1sOhSixncOwSHoq81En0jo+XOEgRBaCBMmTIFTz75pI68a9WqlY6+y87Oxvr16/Hwww/j1VdfrRPf033iOOxfvglXygEE/uXx073lan1g6TcSppYd4Nq5EZZeg31YKdlgPW8aCp+4Ho7l38I64sIS0e3OyYJ93nMwJbSEpXMfuPZsgeN7Jd6vuhPmdhUn9zWpdYB17NRqn6u5RQeYW3VE0VuP6XB9GiQEQRAEEfCnwQz0a9euxUcffYQ777xTPzds2DCdvO66667Te+LOJMF+tDwPCI/GP1t3RkcldgNqIYsrvexjImPx933b0T4kDIuz0vBmh55+PQeDOGsADhcV4Z0jB9A3IgohltrzjN/WvC1CrVZJXCcIgtCAGDt2rA6X51xP4c7weSaw69y5sxbvgyqto/Y7CPf8PDiXL4D92//A0rEPAm9/tvywdCW6zQnN9cNXTLFNEHDTkyh642G999zcrA3cBXkofPYf2qPu3rsFzh8+VxN8EAJu+SfMSa1q96RtNp1kr+CBGbCOmqS+g2SAFwRBEAFfCiaseeONN3QG2lNzoUlP7L/++qveE9dQCFELk+7hkbV6jP4R0YhRYvrR5F2YEd9MJ5yrDVhvPsxmxYLMNLynFi21Ka4T/JjZXhAEQagbcK6fNGkSLrnkEpw4cUJH3TEajwltLXUgbNt9cBfcx5IRePW9Slx3r7VEbuYWbWEZPF4noQu48nY4Fn6oxXvAzLtgUmsGd3am9oabapAnx6frEtMEgTf9U/2M1yXmBEEQBBHw5U7i5WWajY+XhGW+GwmsuD6xJT46cRTjYxNq7Tih6jjtAoPBq9YxVCz0giAIgo8C2e3GsmXL9Ja5X375Rf/esmVLDB8+HA899JAW82cSc/seMLfr/rvUPbeOvBBFW1ej8Om/ai9/AJPUnYxANNWy4b/8c+8mHVQQBEEEvPB7MSE+SSe0i7bV7vaD65u2hkn/JwiCIAi+sXDhQrzwwgu49tpr9Z53ZqLPycnBxo0bMXXqVP0aw+krgzXk6bkvD27FqxHcj/47lS01BQQh4Iq/w/7BM7COmVIi3gVBEARBBHwjwKIWHL9H2HmUTRYYgiAIQvV49913dQm5s88++7TnBw8erCvTfP3111UKeNaSX7RoUe0I+N8ZhqwHXHMPEBAonUMQBEEQAS8IgiAIQt2BSerobadI5zY6ow48E9otX768jLAvjyZNmuDyyy8v97W0tDS9n75eERgsHUMQBEEQAS8IgiAIQt2CYfJPPPGEFuChoaGw2WwoLCzUe+E7deqECy+8UBpJEARBEBqbgHe5XFi9erXeW1cZS5cuRXR0460zzioAXDSVl0ywsXD8+HHdB6zWxml/4l5ShpzWO4+VH6Hnj9mvWY+6McLxkm0QGRnZaPsAPcAM327btm2d/p7M2l7f71Umqn3qqafgcDhw4MABpKSkICEhAc2bN69yzvalT/NR3+H8LAiCIPgXk6l+ZvKqrTmhziigG264ATt37qzyAnEP3S233NJoO/Du3bv1z6ZNmzbaNli5ciXGjBmD8PDGmVU/NTVVP6rac9qQWbdunb7+jfU+oAFn165d6NKlS6PtAzRgHDx4EH369KnT3zMmJgZt27VrEG1OoykNJv42mrRp0wYrVqzQnv36TGZmJtasWYOwsDBZbXvMV2wPliIWig3wNOrRACYUc+jQIb3Fpr7f//6c3zm/sU2EYvbu3asjweojeXl5tbJerzMCnh7VAQMGVPm+Vq1aYfr06Y22E//666/a81jXF621CYUL6xE31vKF9IBt3rwZ48ePb7R9gONFXFwc+vXr12jFK8eBxjwWMhJn8eLF6N+/v6xu6jkcy7jIqe8cPnxYRySMHDlSLupJvv/+e714bcxOB0+YzJElGS+++GJpjJN8+OGHOO+88xp1dK0nNExv2LABEyZMkMY4CR23o0aNqpffvaIS7A1GwAuCIAiCUPe4+uqr8f777+va7+V5yR544AFMmjSp+gsRq7VBbAmiYY3bOsS7egpGoNDYLm1SDO8fbn2S9jgF7xl6m9lXBOj8IjKOnA4jeBrztlER8IIgCIIg+MTjjz+uF5U9e/YsN4xRFt6CIAiCIAJeEARBEIQ6AD2od999t966dOONNzba5JGCIAiCUBcwSxMIgiAIglAZTJjIvbuNtfqHIAiCINQVZCYWBEEQBKFKZE+mIAiCIJx5TO56VrSUJTgac6kJ1sllRsP6Wg/RH7D+s9liQWNtAd6yfJjNjTeARtqg+D5gJvrG3Ac4HjbmNhDqFiwPxiohvXv3lsY4yYb169G8RQvExsZKYyhycnJ0hvEhQ4ZIY5yEkT19+/aV8osnYelFloweOHCgNMZJXnzxRV1uXKjHAl4QBEEQBKEuwiVVYzawS3tIm0h7SJv4GxrrG7PDRgS8IAiCIAiCIAiCINRTxJwhCIIgCIIgCIIgCCLgBUEQBEEQBEEQBEEQAS8IgiAIgiAIgiAIIuAFQRAEQRAEQRAEQRABLwiCIAiCIAiCIAhCwxXwjTVpPksoNOb2kGIJ0jaC9AHp74IgCIIgiICvJ6SkpOC2225DkyZNcM899yAnJ6fRXKRDhw/j2muvPe2cd+3ahT/+8Y/o1q0bXnzxRRQVFTXIhfr69etx3nnnISEhQZ/v/v379Wv5+fl44YUXMGjQIFxyySU4dOhQg7z2TqcTCxYswNixY9G7d2988803JcacvXv34k9/+hO6d++O5557DoWFhQ36PsjOzsbQoUOxatUq/Tvb4euvv9b9o3///li6dGmFhq763gfuuusu3deNxzvvvFPSJhwPk5KScPPNNyMtLa3BXn/2/bPPPlvfC7wnOD7wev/3v//Vz/Xt2xfff/99g+wDwpnH4XCUmWcKCgpw/PhxZGVl6fvUgPNxRkZGyYPzlQH/nZ6erv+mPhuj+N15bp5rD7ZBZmYmTpw4cdp8ZLzXePDcjfuUf8/3c+zybKf6iHHdPcnLy0Nqaqpev3mOTXzes03Ylzzhe9lO9X0Nx2vr2c95H7H/l9d3PNuDc5vRXvwbo1/V97Uur3Nubu5pz7Fv8Nz4vGcfYRt4tolx7kbf4NjDv63XRm313XltPc/bGBP4vN1uP60/sY3Yf/jT87z5N3yef+M5FjdkrPXli/7zn/9E586dsXnzZv3vd999F3/+858b9MVhx124cGEZccab+i9/+Quuv/56PPnkk3jggQe0eKGQaUgcPnwYY8aMwfPPP69Fy4cffognnngCL730Ej799FPs2LFD/1y5ciUuuOAC3QaRkZENqg22b9+uxdq//vUvPfCPGzcO//vf/9CuXTt9/WfPno3HH38cDz30kBYv48ePb5D3Ahd29913n+4TBuvWrdP3BvsHB/OpU6fq/tCzZ88Gde6coNesWaPv9YCAAP1c8+bN9U/eD2FhYdi4cSPefPNNvPLKK1rsNzS2bdum7/v/+7//04s5/nvYsGHakMk+8Oyzz+o+cumll+Kzzz5Dnz59RHEKfp2LX375Zdx66626/5Hk5GQ9JnE+btq0qTak0tBuMpn0+uQ///kPWrZsqd/LcXvatGnYs2ePHq/j4uK0Mfr888/H5ZdfXi/bZOvWrbjqqqv0/Tdw4ED9HNvo22+/RceOHXU7cCyKiYnRQoPGV77PYrFoR8w//vEPmM1mPYaxLUJDQ/X72D5dunSplwaexx57TBt5Xn31Vf3czp07cffddyM4OBhRUVE455xzMHHiRP3aNddco8d2tg/5wx/+oNcxBjRUsz9xbGdb1kd4DnQy/Pbbb3ruYhvR4MzxnH0kKChIO+bYNitWrMCsWbO0MZ7w3uH9xn7B9c/Bgwe1yAsJCdF9xGaz1cu5nP2e6zeeN+G6lZqmVatWuo0uvPBCjB49Wq9pOJ/Fx8fr59kHZsyYgREjRuDLL7/Ee++9p8cRCvs777wTvXr1qnftweu5ePFiPPPMM3r9QkcdDXl/+9vfdFu1aNFC9w32g/DwcPz888/aYZmYmKjPm2MqdQ/7FdfAFPEU8GyLhq4PDYtGnUddKHePHj3c6gbWvyvB5lYLNHdDR0327pkzZ7rVwOb+4x//6FYLBf38okWL3B06dHCrzqp/V6LF/de//rXBnf+RI0fcakHgVjen/n3Tpk3uKVOmuJ1Op/uKK65wr127Vj/P38866yz3smXLGlwbqEHcrRYE+t9qQHMnJSW5Fy5c6FaDnlsN+CV9QA3objUhNNh74euvv3arSc6tJja3WhTo555++mm3GsxL3jNnzhy3Wgw2uHNXQsGtFvn63y6P57OystxqInOrRaL+fcuWLW61SG6Q1//qq692v/POO2414euHmqT1ff/888+7lXgved+DDz7ofvjhh92C4C8KCgrcN954o7tNmzZuJThLnudYwzE3Pz/fffToUbcS8CVzEO/Xjz/+WI/ffBQWFup57Pbbb3fPnTtXj9s7duxwt27dWs9z9Y0FCxa4lcByR0ZG6vUYUQtv3Qbr16/X56sW5W4l8PVrSqS4e/bs6c5Raxi2R15enr6P+fykSZP0c2xntVAv+Zv6REpKinvChAm6j3h+fyXK3ffee68+NyVa3QMHDnSfOHFCt48SK+7Vq1eX9BFjLifsU8OGDXN36tRJt1N9g3391Vdf1ecYGxurz9dYu3bu3Nm9d+9e3Sb33Xef+7nnntOvvfDCC+6///3vJe1h9BHeJ2zH9PR0/TzXxD/88EO9axNef15PJd5L1ik8n+bNm+u2Ynts3bpV3w/sC/v373d37NjRna3meaNN7Ha7/jsl8vU6kO/797//7b7++uvrXXuwj3O+5jmOGDFC30OE8zn7CPUO+wDP7aOPPtLvnzVrlvuXX37R/Wn58uXuc845R7ebEv/6ffz3gQMH3BMnTjztfmqo1IsQelpnabWlp4lER0dDTXqwn7SEN1RogaQlV930+vwN9u3bpy1MhgWSVjharhsatLLRIstzZ0jMJ598otuCYTN8GJZrWvEZndEQ24DWZnp36O2gFZLXffDgwVCDlA6pN/oA24Jheg0RhlIxfJrWVl5rA44BbBsDWrWPHTvW4PZI09JMTzOt7MOHDYMSsziszp3RCDxXWqgJLdQ6zM4j5KyhwGgLeraUkNJeqvnz52uPBPsAtw8YdOjQAUcbYB8QzhxKnGsvGLdsec7D3MLESA96EelR5hxEbxq9QUuWLNH9c9HChTqKiv9mFB3/Te8ax2321fbt2+vn6htKiOkogwEDBpQ8x+gCetBat26tPYacnxiFwPNmBBGj6H5VP5ctW4a83FzdJtwC+NRTT+l5LjAwUHuq62MY/e7du/V1pQee5+A5bnHbD8+NUVNcwyoBoscytgv7yg+qPdh2xtzG5x955BHtfeV6pz5C7zHnIm5x84yGYtRkmzZttLeZbdK1a1fdH+iJ3bBhg57D6WWl555rPvYRfgajN9hm3FJJbzWjr+obPHclWHXUjgG9zYzgoVed7cH7h+s4hsdzbmM04TY1PnBc4drGai0Omua6hxFAfB/Dxtme9TEagevWH374QXvaDTgeTpkyRd8rvJfYf9g3jC3EbKO1a9dqHchoVLbbBx98cFobRkRE6L7S0KkXAp7ha5w4jc7LyY+DXX5eXoO+ODxnzwWDAcNEOOEZsF0ack4ADuQMneWiaObMmSXPe4aVMcyqvu+fqwxecxp0aKTgNhL+znM24D1Rel9VQ4ALHIYacitFs2bNyvQLzzbgv9kuDW0PNAX6lVdeqbdMzJ07V0/Y9917rz5X3gNGWD3HAY4XuQ1sLOB1psGKCz32BYYgMtyOAor9w3MsZB+wN8A+IJw5KLzuVfdbbGzsac9zEW2Ib4oVhgUzzJdCg+M0++uPP/2EK664Al988YXux7xHucg04JjG+7m+wbB3CnLPOZjzE0UHRQkNaFxkG3viV69ejeXLl+vtbtwK9Le//12LDzofKPgJ2+8/772ntwfWN7g1wAj39oRh4uwjbA8KM/YL5nOiU4pj13fffYcvvvwSkyZN0lvgiGEEosG6vkJj8l//+ldtoPKEfYSGZ7YF24Rtw20GzAfA+4a5TdhH2Jb8e67pOPbzeRpH2He4Va4+rvUmTJiAyZMnl+gYQhFKLWOITY4FFPoU67yXeM+wX1Cg8u83KiFL6NjiHMitOTQSMT9UfYPjKcPcDUecZx+hqDe2KnEc4ZjC9c6WLVt0G77++ut669H777+v30MDoeHI4FqYawL2m4ZOvdgDT+s3L6YhWnjzcuLwnAgbE7T2e3qbuTfacxHbkOBC/K233tI3KvfA01LH54z9VAacEBpiGxjnSM87H1wQcc83E/dxkPfsA56W/4YCE5TR+8zz5t5m9nvumerRo4fOd+CZ5IeDPMcETy99Q4AeZu6FNCZ+7julF4LnynuB154WZ3pu+HtD6wc0SlBE0YhDazzvCS4M6anhpE0Phuc4wLGhofUB4cxRUV+aPn26Fl70hNHJQDHOxSMXpBy36BHi7/zJfeJcbHOO8hS9/Hd9NDZxLCqdTIzrEu7pp/ds5MiROmqM58f7l3tauY7j4vz222/XHlUuxmkEIIxyYITRnXfdpT3W9XGMKg/u1aYnnWKC/YTzGPsT8yUwV8CQIUP0+5i7hCKN5/7xxx/r/dF8rzG+17d5jde9vH37zNHD/CUU4RzLKbwoYnl+c+bM0e3C+YsJWc866yzdRzjn0yBA0UbRf/HFF+vIVL6nvo8j9DLTOcW8AD/99JM2dLE9OG7QKMRIF0apEDqvXnjxRd1+NGSce+652jjIduNncA94fcLoI6UTznGfP+8Hjq3Ue1znMhKB482vv/6q+wxzZDA/2HXXXafXBcaY5PnZDdmhV68EPEMieANzccbOTSs3xUxjFfAM1aPlkuKFC3dac/lcQ4NBsAxbpEWW4XpGmA1vTp43txK0bdtWe56Z6IWhWQ0NnjsXQhRwhJMbrbRG6CW9GxSyXCAwJLOhQeFGTwS9M4R9ntedIo79wXieMAkOF0D1NeFPRXBSZxIgow/QoMFxkB5Ajo0cDw2jHu8BhvQ2NLjQ5wTOBRwnfC5qjUR+9FgY0GPRr1+/BtcHhLoHw30pthjeyfGY0TEU8VxIctFtbG9ieCv7LEUe+7BnVmXes5zLGgqMVKCw4H1KMc8FN0UKx2qOWcb8zdBpo2IGI8roiaOoo3GyIUFDM7f7cJ5iH7njjjtKxmhDmBFuRaDRh6KeXnmjqgH7FoXb/fff3yDWeLwHuK2CxleuZTiuU6RS3PI+MYzPXO+zj9A4y77Dv+N6n32Hf8M5sKHAfs8+wcgM9v9HH31UG7uMda4BK6189dVX+tx5zzDxG+d/Gsdo1GBkmrHNuD7Dc+JajltNaAylygb//QAAIABJREFUvmG0HfsGDX+GDqCBw8g8z/vHGE+4NqR499xe2VCpFyY93ricFOiJpWCh9Y3W2sYKrZScGGix5QKAe4SYwbSh8ZsS5bTWc0HOECNmGKf3lQMbrW7cT0TxQpHPG5h77hoaFOf0uFOYMLSOoYsUcrRIsmwWM5GyD3CRQItlQ4NWeGYypoWaDy6auQecExUHc1rlKXC56OFiuiHeB+wD7OMMyaUxh953ow0YSsesrMa4eNlllzXIMY/XntUYaH3ntaZVnsYaPmjc42TPhSAXh1wQCUJtw3mXBlaGdFKcUXxxnfLjjz9qD5ERGm9kWGdkCPO6MOSV0CHBf5cOM66v0FtMgcoxm9EG9J7SQ0iDBcN/P//8c/0+invu+aY3np53jmEc47lFyNgO1FBgdQyGiHNeohih4GCWdUYTXnTRRSXvo6Cl8YfrGoqXp59+WntWKfI53jcU5wTbgteZ+QKYkZ9OCEYhsB8w+7oR9kwBRqcM24wRLMyDY0Qk8J6rjxnXy4P3AscP/mR/YFg59Q7Hi9dee02vcQ0o3ilejcg7w3PN7bM0+DSUe4fjKNe5bA+u8RhCzzGFAp5GQMOzTqMY24LOC44vvIcIjT5cD3nm52io1JsyctwXxUUsfzJEqzFcHE8DBkPSPMtmcNFOYUeByzASCpuGBm9EWiQ5yBt7DTmRcfDnRMdBnRZ/ep7ZNxqi141WaCb54WBOaMQySs0wbIoLBPYBCjrut2vo0KtD6zThdad4Y+kiDuI0chj7oBoSvK4MmaOA5STNn0bYGK87vdE33XSTvi84kTVEuLilgYIGG3pjGJrKcZHjHtuD9wf301LIG54+QahNeisR8dDDD2shzv2qTLBIIzIX1MOHD9eeMQowCg6uW9hvGXbPsq8UJ/Sk0TBl7AGv79CLSmME9ypz2w/Pj+KThsZbbrlFh/7yOXrKuCBn9ByNroyoogGaD8LEbQyPbgjbYChKuUahMGWiO67V6H3n+D1v3jwtZhlJxD7CvkBjrVEKl4KF4z3Hvoaytumg+gfHZybp408auTh3UbDSi8xIDN479DDT+MOoA47xdN4wCoFClx5abktoCBil4biWp+GPnmYa4RnFQ4878wDQWck+Q2cVjTpcA3MLJfsVHXlc91DwNhQBzwgLng/HERopmB+BfYLbj2gY5DhLAw7vGSYE5JqPbchyhexXjMil0achRCNU2X/c9ShdrxE+6bnXoTFDKxzbpKL9V40BY09ZQw+ZNaytpa+19AGU7CFt6PueK7vWDBtrDOOikZm49LVuLH1AOHNwIUkPouH9Y59jJAi3cNCzbmTWJjQ+0+jMxSQFOkUa71v+DfdCczFObxtFbH1deBuedIp1I/8MjRcUqjQqUnjRqGaMTxQnertPfDxaKxFC0cawYT484cKbf1sf53R6QvkwtvewjXjObBP2D4px43rT8OPpmGA7ep4z24x9pT573zleG1sdjXOjd5SGHDqkPLdWMIcL+xP7A0U6jUFGW1Ho897j59GgXTqhZH2C58KoFDodjOvMNuJYwn7D0G/O5Rwr2Ba8b2zq93aqPYzzNsYiGg45vvB+8XTw1bdxhAYuY/sRYVQpI5c4rrBNjK0EbDe2Fc+bYy77iDHnM4qDEYrsO4zuKZ1QUgS8IAiCIAiCIAiCIAhnBHFXCIIgCIIgCIIgCIIIeEEQBEEQBEEQBEEQRMALgiAIgiAIgiAIggh4QRAEQRAEQRAEQRBEwAuCIAiCIAiCIAiCIAJeEARBEARBEARBEETAC4IgCIIgCIIgCIIgAl4QBEEQBEEQBEEQBBHwgiAIgiAIgiAIgiACXhAEQRAEQRAEQRAEEfCCIAiCIAiCIAiCIAJeEARBEARBEARBEAQR8IIgCIIgCIIgCIIgiIAXBEEQBEEQBEEQBBHwgiAIgiAIgiAIgiCIgBcEQRAEQRAEQRAEQQS8wfpXMHv2bMx+bV3JU3s+vl09dxve3GiX3iBUTdZy/Psm1YceWYAUaQ3BZ9bhFTUGvbJeWsIfpHwzB7Pn1O69mLrk37j92aVIleau8Vi47rXZeg4+1f+zsPzZmzD7+kewQAZUQRAEQfAKa4WvpC/CI3d+imT1z+5XPY8bB9qktfy79MSCOXPwRUoiJqqf4xOlRXxrN6DP7Jcxq7e0SIXQYPXyusrfkzgRc+aMB5QQmrN6oP63dMVGwOEvMOfBZeh869OY1qkOfl4dwpGXiaz0fDgaWRfZNPc2vPBzHhA7Bnc/MgktGvBccgobQhJbYMCEmZjWP07GCb9Bw+Ur4GwU0nsmHp49ACGl3/HabLyy5kyuhxrJmqxwFV649U2knHs3Hr60du9qfU0xCy9f2+d3PkfV3/72JjL/cD9uH9HA7+Pf81wb8Dxf+9jV/XAb3sychPv/NhL+uFIVCvjkJcu0eKePftP3S5E1cAwiGmCTtp38JF6eLF1L8JKIIbj1+SH147v2VhPnyx7Lk0pEuji/GhlNJ2LOyxOrvShb1b+U8awGnyfUzUX+0pV5xTF6acuxdNMkXNG9NsbCCAy5+XnUnRHVjryUPVj6xj3YnTYHd48Tc6a/yVs/D/M29sHMnuIUOhNk/bQIm4JCELJ6FfYoAd/WL7aPBWr8B2afAQcA1zUvYzbmTPA4cmAfzHr++cZxQX/Pc5V5vgbY0Ofa5+HPK1VBCH0yVq1JBaJHYgwNZ/tX4Zf03+H8Di/AI9dLeKlw5kn55hHMPukxEATBYDs2bZVWaOjY16/CJhfQfdQYtSDPw7q1mxrw2dLj+jJeflk9nn0Yt44u9komL1ykervgV8KUcFT9adXcedjukub4/UnGou+T0XbCReiUuRzL/XRbZ2397Qw5AbKwbau4H4TGSfke+E1LsTwNCBnaB5O6Z2LRmnVYtiQZY0qF2xSHPJUNZdaevq9SkHjhnFNWMVcWti+Yi3cXbkJqIY0RIUhsNQBjpl6EIS1CkLr6XbwwdzlS1KCe/PJszNZ/1AezXp6FPrTuzfkC4OcNS8W8Z17B0sN2j8+3I/WXT/HmglVITskDd7PbYttiyMVVh8EZ3/X0c/Du84rPvw9mPj8dIV+9jLlL9iBLvdkW1gIDps7CFd6G4LlSsPy1lzFvXYo6lg1xXc/HzJnj0dYzxsyVilUfvokvV+4pab8W/adh1vQBiCtlyE5dPQ9vzl+OPWn6myNEtfO0a6ZhQLzxxpOhYpiIOfcNQeqHT+OVH9Wxm0ysIIT65Pud4zHngYHY9tIL+HRLagXf1YvPtqtz+eAVfLImGVnGufQcj+mXjzn9nPW5vItXPlTXIceu23XIjJvQNhGlXMYVh75V1Efzdi3Cux8vwqbkLNhdvGaJaDF0Om69KBbr3nsB7/6coic77lfW9DXCwE6GAiaWaisvz8lvfaZWKELmxk8x98OlxX3HrK5v25GYdv0kdD/tuuRhzzdv4s2T97L+7pNnYdrAOFToUzl5/3+wZDtSck72y+hEdL90FmZ6nHPergV4863/YhOPX0Efz9q6AB/MX1Jy7RAYh+7nzcTMCW1LwjLtx1dh3uufYFXJeyKQ2GIIpt80EZ0CPd8zD6v2VzZm8Hp/isQ7ZyFy4Vx8uTEZeSevV/eLr8asoR6drVDdx5/NVeNl8qlz5L133RUYEOvlcmTxI7j90zjMekGNe+bTFyqLHrsdC5rdiKf/1B1I344Fn3yCJZtO9jdzOfeiHjcPYOJLk2Bnn16p7kOX55j6CwZ63i9VfGbW6jfx5HuriscfY4w27oPyPq+cMb+8e0KPwcnn48nByXi5yr7njfosvhfnrS6+VuwfbQddhJlTVT8yl+2TVX2/suRh03uP4oX1LTDzvlkYEOFdf6s/ZGHp91zZt0X3sUOQv3kRvli5FKumdseA086lnLGwyrm6LGVDpz3mm/vOwra338CnnBs5Tsd2x/lXzcT49iE+znleovpKp8nTMWbtk1iUfgB7jgOd4k+NF5++8181XqRU3K+qWOeUO+5EqLFkxERMGt/91Ofk7cGi/3yABRtP9eHu512BP43vhAiz5/39BRwT5uD+3tvUuPkp1h22lz8W8Kqqsb3k/ipN3/9n723gmy7PvfEvhVDMw8K6BhZgoTPgQvUHI3IIStwo03pW2KzH4mNxtjuWR1tZ+7gyF8fKkczROXr8t/JpZa0e6qSeUSf1EBC6Y3G006INB8JosMS12SBC80Bq1wwjNND8799L3tPmlzQg6v39fLpJcud+ue7rvq7vdb8GbXMWU7ZwPIv1q0XpbWjYtgeWQU/sY23qPORfIdzqWCeaWnTYfP/Y679xcUxfndbWIg/NqHuF8EnWP6URnVnL6gw4v1X/Bwvvc9NUyPpBKeG40sQ4WTK4lgh9SSo4bq/CPUuyID+zB3V/MiGf0Yb67XAuQ/RJNoNwrzXlyFVLIiYEjM/U4ADRZSJdGEqMPHMP49P2jgbs2GvheBxvZ/Owdq0OipQwjvtKwG5zY72wEDnqUfb+njKisvYAyZP8d68BJXuDYgbBNiGoHqwutSjKUZTS5ucufu5wtwSm3wb5d7/OhPaBGH4SYU2trdixsw1WXywxlfiGzNUoXqsNbKMeMKHpBcEmCOO3oDAHgaaz7TFijkEP9RGfDvtsZmRbReUpkpOFhgLhfj4OfhTN9hFZaNZUomixZGy+IlY/xPAiUfodm+Mm4vPDj5SMl/tEDeAtR82k+jJk69RAhgc6qRmd49xuY99dhZo3g64B8rjh6G1H+wcriaFy4PA+Ymxj3CPnsHeiZUsb2gf4f8vTBFY82InGl0njg2Z0PQPsNrhfAWnVyJ8XZ2Xjyq8P7VurYOsNtM1zwY7O7c9BqtiMvJhHjNw4+lIV7HZ3YPLAYkRVDWCo8AWIhFBVb0RzL0LkZz/UiI3n3Kh6Ist/vMF1sAobX7UFJ4T7FGnPpn64K/XISgsW6Gl0tnSirUOou1yGMeOM81bsqu+AxTJWXWPkTRxjaxVxaPawthxpQZXVhuKnyWAVlNZNHPKvtrO6GJBr+7Za9M0YpxPracLGrZ3+fPm8HcSIkYF67jD2H3IgrisN42hTcnTmKuFcK+r2ZqP0iWqo04iZukSc87OVqNuWHqRjHlhe2oi6E2oUGWqhJek8xJFWbdmIGncV9CuiO1vXwVrUHJSjqKKa+w0rH+eHFgzcEHAUnuNEn7dZoH64ErVLZZAI5W/cGqrjN3iGMe1bJdi0RAV5Kusgm1FdU4VGuXBXx4gFzc804vSKClQ/qYQkhZevxeqBymdYz7aianMbpHml2PIECfwlHrh69qC29hekHZUoXx7cDidat9SCeXA9tqxVkPxI2q5GGMi4bUqvRkGmj/x7iHQWIPfxUjCEfEmIo2hv+BUaq6WYKfIMsWyJDqrXmom9JWQ4+N4RRyc6T0mh+b6wj1nqwfDULJQ8pYUqXcIKAc3VNaj6bTpq1wUTMjtaNlVB8c/rUf2QgpPFqIiRp2xJETYrZ3JBw8yY90+4Yd5uQMNp4oCfqoWGzY+d4NhehSrDAMp/nQ91cF1I31cMxNI98WOxTZqH0i164rSJfhKnvmdbDX5B9Kiy3JdXnPULsqf2vTUkeFegYAMfvIvSt88SBrsIwSL/z+igkynwybeUML5mgemIB9pl4gLiUX11PCD+ZsfWVmIng/2wBcbqRqTXlPonE+LyeeJmgOBmiR0ZRTekBiY1Ol9uRHuwD77khK2jEb8iNLx6jUoEzwF3NKFhUyO3u8GfxGWH+S0zdGwAz+mwFU1P1aDzQmhZFqJ3hsFyMo5DD58639+BmlZbgK+MCH452BYQn2fYFurz/JiuQ+kDQvAeZ9n91hY0dLQJ7ZFBPi2WbKXQFubBdLwJlrd2wKgzIHdWctW3r6MGz/Xa/JdOegZ5nXGvGELbWwEn7Rm0oW1bA9J/XY4sWbycLDlcK6a+JBnmd4kOLCwi45po9xINpFvJGB3UIjuorpadxGfZl6OiqgJKVv8vES7TY4Xn69HGvhK5G6oxhw1MzoyyAGRuRK2nAOsri6FIZeVuQmNlI6p+Jw/SJ2K3n2EnOnJQ8SxbruBjawxwPh7kY4ORkUvSzuGC1/4xJghDxkprHXauKIX+2VLIiM93HiQc89U6bDw4Cap7Bf9Oxrr1tWrUhNkZsfwk1Ja2obamDfKHDahmf8PqyHniG5zSQPBOAtfKp41AjuA/rrhg+q0BNU87UV5VEOSHiH96/lc4urAAG6vZ+o9lgGPnKYaTiYNIfuTjXKuKUfmEmpO/+/wA3CENGY2viNQPEbwotn6L4LjJ9Pnj4D6RAbzv7Ft6NrQ3sh8w0CySovMQu90mDyomEbPhgOW4kxvsOU/picH2KYsdl2fJOMOfY6iHYpTZVj+OtaFNmY3yJ+7hG+pDWhZRylvhkcggTeUdmPXVCtR0uHDS6gDmxXkqJ678XLCdVREjtgk5GYLwn2Fv1HWi+7iDBGOxynYRlSVKuTWXUybP2XY0PNsMi5201ZLDnzskzmMPIQ5SJh/6R7I4I8g61c6XfoWmY3tg7MniFZgolXGvjU2I/CeKkcXKmXXm7xGSscOMPfusyApxwGa0HVQi+/Eq3JMpQ2xqZoNlMKiup1pRs9UIW3BdY+TtOridD3TZflzH96OPYLfZzWj5gx0abqeHAx27+eBdsaIc6+8jA36iB45DDah6xT6u1aW23TyRkS8rhn6NhjOE7OAb8pBy09Qw1CuEC3eCZv/GylF0m5KlM1cJI0rcsy6P1N8XkBLnfLcGrdst6L6UBR2rd44D2NU1CVlEv7RCOglxpIV3HUblXiOsK4hziJJ1fz9h8rOzwPjGrYQ4sBuDZqBJfx943YRJK/QoXioLlF+YjcOVQTrO/nRhLvKDg171XViqbIfxfSuwlCjhBSf63TLMzVT6HQA7g6pZHLTC+KoRdqYItXeqBN2UQJaZh7K8k9AbjbB8qwBMUAAnva0Qpf7ZZJJ2aS6Wv2EgNpGMt0yVn8xkrQnqZ4kcWd9m0LztJCznybfTxUTwOmQtbEbjYRM8S3X+cWMn9teRrsNa3xhLZZC7JkQIuOs2Jdr3WGCFFkyQc8VCfVDdx1p9FJunCPTuQdMRKbIrCkhw7MtfAV1JEWxP1GHXwZWouFMWn+6JGd1v74TxDIOimmy/I5WQMZ1H8j65geiRJYu3U/HWz7/yV4XKDiny15dC5/tdTH37bMF3/w2zhCc8klu1UL5GyElHO1zLRN6FM5qvjgskKB3UofiZfGg4m0qCo182wey2wNwDaBcl4vNihO5uEky/2oRO1kGkz8Vcf2NlyCqrxq0eMvan8u3x9DQTX0hkYrUS66UigUssnsMG0mYu2JUsKUb1wxo/8bOdn+Yn6q6Du7gA2u/3uGxs2F9VhdZ3jGi/Rx8acP7VRvqlGFWcLyPE9hAhtqTt7uOkLDJuWf9lPSL40u9WoOIeJRdI2PdUovIPLmjy8sHIEivbcbANLhJQGNjVVDFj9JwDTmkOCu/vhJ4Ev60vtWJpRXLPTbt6HWAeMmDTMhIAeHy+1RLKR1wmNBgaiS5ZYSXqk7UoTk6WFK4lQl+SCcLtO82EXz8qTOpkEruaXhm2u9YF5zk3ZPMW8MENZxelUC4axyV0U3QoLAmstkvStMhdvgeGQxYywtX8ouAxI+FQahRU5wrlsj62CPlHytC4rx25mVnJuYNrCik7z7eTRAL5ipXQvVmFttkF3GqxRBjr6pwsqA6SPieUQrswPn4S6jAcGGB5wQKZn2dIp6ugDeICZsKb7DcVoPr7Sj5NigzawnyYyhth7MgNWRRxfjUH1ferEWtvhpg8Y3My8YjNjzww7RY41yp1kCwUYW0Zha+I1Y+YHEaEfovhuMn0+ePgPhFrDJ4j/Nk3+WKtf8WIuVXDnVtK/BxcOpQZUm52pePlFrT12ElurLKoxRn9wP4rFJTnRRKCESesHTtRY1iPMvaZuHVlXLCdeCATX36y21fzgZgg/KVL4nNH2u/n+pVJMisLq1fIuVngvlP8PnFbTzfnfN2WZhge55/hKXl8IwneuU9x+pQwg3vKim4+IZqfLuPTkbpv3ME7b/cpW8RTSOoHy5EnKnjnZ8919wXVNSMHq2+XhdQ1Vt4n/8IH35pVgX7kCPaDPDF09lj4Ol7qQx+XpQYr7+eJBLu1RHFHIe6ZNw4DPnIStlN8vvc8pPHPYrKDT56WWJai25REnbkqSJuPueEykPBG1SXcgcGddUuZDyasD5QqYi3cfbCNchxN/Z1sKP/ShCcNTWT889thQ1nXSXST387PVIVnTOwQ0S/bWOfc5FCwuzIuC/smZFpkL76M9mo9aojTtQ2G76foA+HcUGXOj9B7WSYDubsb1lOhn6vmRQYBkyeSav99aGyZzphJyCkp/4rYTpBA+20dpJZOdLoCgYzpsBOKZboxV/HlCjlHIj1hY1bNJH5NUfQ8RUzZWk/CLVWDCa9wCgP1N4gnIHrkiVP3RK2+fcB2LIP54X4lbQGY6W5099gSqx+GcfoPJODZB+SuLyeEPVhpYunbZwm8rrFy0C4SRkfaUmgzEOddOKP46jjBrOKDd96m6qANJ8kJ+LxoCwxGA+9Xy9ZXorHLyY0bzf05IePNae3AztoKrC8T0rLBe7w8RzEHSjZoP8If0WO3TLK+R32jzL/6091jF4LjGuh9Za2vEp7Zs8H2twgpIecBny8jxHaZFqNNWUin3BDG+tzoPzOQeNlpWSgt0YnncWRosK85yFaU8DsZ7UbsOOhKrgpPX47Vdwird8G+VbMywEfImNVmJs7JksO1ksWLRU5scJfX6aBbGFg91y6Ww0k4f2BJhAR6d2lw+WAV9FtbYPqrC+O2ZipV5G6mlEnAoBM+72llI2XlfKiloQ5gTgbpu14r8dhJQkRdpNwinTxjbigXkE0Du5nEz1MS5SfqbGQrrWh60oCmt6zckY5Q8HfKKDPDgvLUOZhLOI2tN7TlqlsWIPbBCnF5xuRk8Yg1Jj+ywHw8OueCCL4yHv0I5TCx9VsUx02mzx8H95kUvjrZ3sEH6c43K1HyZljqqOfgxJFS5ocGVNy0HztbO9FCHF8L62iYlVgbcs4jBhSkodJI58ttrbAna4THn9/cr4/nHk8FZs6IYtyCMPT3sR2c54rwwNGQEy4RzjO47Pnz4jlnJYsIcqVSKac30doVmbcDAw7+uznh8eoNUs7YuHx1HHTxDpAQnjkpoXWYNm0c4j43gP6o+SauL6LbNC6difbkUQBJeVIvVRrTObjdhJ6MmFBXYora56NiVg4qfs2gc99OGLcZyPiXgfnu2sC5SvcnHPExbStBrJxd1jbs2tuJk3YHf4bJh8UBJ6B5ZAs2HzuAlj1NqHqzkZAwHQoeCz0TOy0tiuFJmUyMItG9sLhcIhURiLBnq/Y2o+2wDY5Bd5BjiHNy5mYNNFISwB92IYtdBWaD+UElcpYpgoWAthYjOgnpc7iCnYcm5pgdneGJzVOsuZAj2lCVTGTV2YWBYMmI0D3RIAYimkuJmHCJp36uDjTvIzIZkeD0OaKps6QhpEOMvn0mwOkaT7gaHy9BY8iX9qh34Yj31XFPH0H59Rjyi9vnxaIq/BnklT/MC+k7xx8qYdgdixSI4DmKHOh/ocCB3fvR9odGmNlzu+zOjwdLhfOVA3DFmHGIINrTlZgbg5Op7yJk/ZARtt0bUbY71LIuXezT8gTKVqmhSsiPypD1UC46nyZ1em0HOpeWJm/8z5kT1eIqZs1MGidLDtdKhBcHnuOLVu/Rn7/jL6+D2466dZ1h34W+MiFdVIwtvzQTHTWi6d/b0CgJ1s/EeEWs37k/cXOTORuFM/ShmJk8+zZKXSalxKygaH4SqjcK5GyoAnOI9PG+OhheQ1j/usFSKjsZlyW7o/x+dphrSxMTLInMMxYni8tsitOM2PWPzldE64cIDhNLv8Vx3CT6/HFwn1CrxJ2zHCP1iLhzcP1no0QZKTIo78iHnvyxZw3Nr29HQ4cRNS/cEN8Zx4i4xowu1q+yW5nKi6CbLeVmXn2XnFyT/MbF0Rw47Qi1AJwCBasnO4NEwlnl/VVRt3X6MUPBbX9xZuShasPVePYvdl1jOcZ07gK6yHxABqhbkCWnlGSgs21xnDuNfkIaAped+M4niquv40z4bNdo+SY+ASO6TePSGQV3zCTneiD5adnQP5MX/30YMvaiED10D3jgYC+tfDn8XKUM2U9WIe/GMXjR8UYYtlmgur8U+nVKyDnH4bsoKFTA8kU5KCZ/7HGGA79tCDqbKOHGtHPQxZUZauOGCfESc5YzygQLew8CslC8rgiMYDf4i5X648sqhUHWHXJUvt0Jx505cLJ3kjB5gTOVl0hw9XQdLKo8lP60FMrpPCnhbVSCfZrkPCdNZM+f8SssiogJR8S+byNBSNiBNjCEKD2LYVKu7MvTEqyfCnmGYsx9rwqGF2rQ+lRFGFEeS98+O/E7d0Z2jO+dyXx6SgQ9mRzLPifF58V695vwlfc4UgDmgXIULVPyR+uES+QccfIcyXQNch4hf8SXuf7ajh3Pt3DH4SBjz3L6/IkUutLqyKf7omHiZBFNzEHZg32oeMUCDyvTEfbCNQY59xcgWxHuy+Ioe1yuMwdrc7pg2GdByw4T8iaK/2lUjnkteU6yuFbcvJg91lefwMQce3kdg4KtpWFbcj0kKC1DY9hldn4d9bhgfZPU6aWN6B/jjpukgClAbakO1++UZ2x+EquPPWdNaPpNY8T5dqawFqXLkttyUXnG5GTJxVA0zpUs/YiDw8TUb1Ec99P3+SHukTtnybqpO8r5J1WC/mof5q05dw4umCyxTv9AG5we3hi4elqwP2J60AXbESvsLmFVKlUBZhnD28cLn/gJgy8/u9XGp/PEsXUzVU4CXZ40s4Nk/3vjNPDJzm8s0rSvBVZhCwZ7rnzXuy6OLMxV8R5EMY/fCmNv3Y7WnqAtH9x7LZ2YAAAgAElEQVTlC7bATPAsYYsJyWP7Piv8E1AjJOi1W2EbTHZdjdh5MLSusTA/kzcM5teaYPblQ5S/5XdtXDvkmcJFPqlzMZfNcsSM/S2+thD9OtaMVkuUeSgJ73g737TANcK32fHOLrSFd1tQvi2/M/tl5HE7YbP7NVs412KHtVeoo8cz/jZ9DqDImAvpoBnm8ex4YY9CLC1CaY4c7l4bT4BnKDFX6oI5RsaWLhPcimysvlMlBO/CjPMYkzrscYacx/OhGbEJW+PVYBj2aMrJKNunLHBKF0CdkdjEn4bd8quU+s9FedyJba1SLtNB4eiC+awZne+5/eeROfR0wnRBgez7sqGaHlhRiG8yLQxi85wobu5Jfst8yN1WWOyRk8DWD9jtfQuuClFT38x2rAUnw/VhsBuW81IsELZAxl0/GbEb6URvc9Yid7Ydxu2t3Isp4vTtMwLhjCw7WZFfVR/GASqQzc5oDCbv6amk4Br4vGA/I5+l4IN3EmyZWjvDns4SwXMcVpj+6vRfkif72lJouJXZgA2br1Zx/+58tRGmswH7wfkoqyOxLc3nW1FLgvdpd1agfhvbn7Wo3lCM7LBV4atS9lj+ZFUhp1fs2/At1lEm5ERxzGvLyZKjd+J4cdIm5hZqo+yeFY5sHWcvs4tmzGRQrypH/qLI7dzR+ilRzGW3J79PeMWleH8pGfti1mRBJD+JWdtZWhQ9lgP5hT7YznEth4pwDcsxcxLHVgJ5RuNkScVcqOdF51xJ049EeFEU/U6E435aPj9o2FnR/g67f0oO3fLI2RfJkizoXrWg8xRx4I5sbraaI0tdxJv3tmBjWYs/rYp1Atbg2zndsO6tibr9V3mbxj/ROYfdVtxlg/NgFcoO+mYbY1wixg0s4hcH21FT1h6YrFmRBfnB9gQHahLzi+3CoEQbaja0hQkmG9m+M1qZeShYbEYDMfbGrfqwlcZgGamRV6iBud7MyVsfNuvEbbNOG19dFVdi1DXWHOa31iD3HfaIQicaNoRt5ZqqQd53lf6ylt/NwLjDAvtbpC1v+QyNCkymFM6e4EEpJ5/JSZ5OOA/VQX/I97kUarUCVqsjpA133adF2zYTnO80QP9O0Ff+p3TmsEelYOp1ov3ZMrSHfDeeNn0OwOTiHnUFml9ohPJRIViFcBGT1YOZi1VR51ftXa1wzlruX5lmJzg6jzshnafix38Kg9xcNSpebUDj7GLk36oEF5+zk1Q2KzyzNVCRjOXpcmKo+3DyvAeK6fzN4abf7UB78JZ3lwXtx6VgbhVW6NnJnEMmWInu3JMhkJZ7c9G2uRl1+6Zh7d38jajcLfQtDqgfKAu5wE4U0tK5J6D6rYTMLWS3oLH5HcD23RYgkSuaFDroMozofGk/HFN0KF0SFE4SGciJve7rccKjkEMyws+e7/jTOM6Sis1zugpziH00HzaRdmohu+KBRyKJDMaVOchbTMYDqyePFUA7y3fLeyM6J2Wh/Cqt5EiWrEbuAQOat7Vi2r/eFXShZAsc6nyUMeOsH7slsrwYp59qQNV2BTYTmyCNqW+fDbgOtfO3iS/M4m6pDutQZH+HeKrX7Oh814wCRnOd1Ppq+zzBR7NvEDlcaK8R/AFnC7OQNb098G8xPMfRjsb6KNHnVC10gg+VLS9E7iHWn5jQ+LQp9BiDYrSnXmM5XiVmTiU+7a1KlLwVulAR/ATnVSl7zMBBhbyHdOhkX4W5MMqEnCiOeY05WVL0ThwvTs7EnBS6ddrok6a+I1uHHMheJYXlYDekZHz7VjA9Z0lg1EtkvmruqEVw3P3wUXTZ70KuUsKuvUESxwytbMVqZP13DW+3C4ndTudK9t/Yrs0cTRoCVzvWBfvduVBO9HDP/iU9qBfJTyJwyoTWwZlYnins2mFXfDstcE4lQTZ3TEOG7Huz0FbLc5GCu9TcyzqBG+G1UMc/2EXlGZOTJRUyZK3Kwn62Tm/NROkK4eb2ARscxAYo05KgH6I4jCu2fovhuNeJzw8E8BYTzGxMlLEc2croCsxu6+x8k5CcQ3bk3Ec6YGkR9M7G0DcV7ylG8S0WVBqCjWs6NHfrcHS3CXZhqpJ7JzBnDQruDKiKbDlxJHbf+3/sO3/RzyiG1ytvXS6Gtu/n3iH11+HOITR1tON0AgM1qfnF9BVLsbZcDXNjPfZbXP73Gtl3CwOSYc9bbIZe1YSd/20JyJB9P/afs0MurGHPd2x+IvSNc/Z9QiVDnM83xl/dpQ9XYJKxAXvC3oEXPeBZAqzfjPRdYW/aL8zB6geyQy6pkC4rxWZJU8R7rneda0RZT+gykPLeH6PoQtAbkeyb8YVlyB/ZiRJrqIeULCyCoXxm2NucSmiXzA0Ym4eLYH++CZ2+d3XTpyWlTZ99ENk8XomZB3di19Yn0XjBN54J6SHBU8lot3AOdcPYsh8NvqUK7g3lIvz8AXXQ+C9HpaINO1+vwZMvCasSwpnU1Y9qhH4uRcFAPZo3laF5ROi3B0pRMaMOhrNBEwZv12PPqy7+HWMI20XXlwa2Ns1iz6Kmo+XlJlTscwr2RgXdw5uQvySB4DJVi6J1dtT9Zx30B4PeYt5YjLafGROT83IGLTsskN6xOnRCQZmH0oecqH9tI8pehf892tINM1H3dIIWSnSe7I3u2eivb4J+HaH3qTqUbi2IckM9sVlrDShn9aR6Pa8nwpjQG7ITPDcbn31pMhj9fonVtU0PaIMml8ZRP6kGRYVaPLmtCU1L1ChWidC36z98R9d7Nk4uum9HJ/qyO7LBtDTCYiaE55Imgbtwrg6uts/jON3qUuS6gn30PSguzsbQKySAPxUHz8nIQjbTj06r8JY89+avDvc8nA8mNUiHNxAdfrUR+4/YA280K4itW7UkIXLt+ls/PDeQ/wgPkrkn4oKe4LwKZcdEZj6KlppR1xW5UiaeY15rTpYMvRPHi8c9srnL6zQovXl0zstx+0OdsK/KBs60o35fM1wXguukJ0HX6H6R5e4Fvc+h+ZkytI5IoHpgE/Qr4th3mKJGfuVmqFi7/bRgtwWOq15VOMaFgyxXK4C1uhmVZa3kByrkP6VH1vTkq4UYfhKF+KB79y7sf0HQD2G8F20IeqaU6H/lL1QcF/mFwEW4t8mVaqx8cPQLKWONqZh5iuBkyR7nhvXpZLzUYP1rPt6tQFaJIWYAL0o/xHKYmPotjuNeDz5/gpcAFBRjwneBWqyzghQUFBQUFBTXDewt2FjZBvci/rm3wLPLHrjeqoP+NSsUIt/RpqCgoKC4PpBCRUBBQUFBQUFB8TnE4JD/SbPhoHsbPAN2dFn5g578azIUFBQUFJ8VTKIioKCgoKCgoKD4HEKthXaqCaZjTdj4eFPk97Is5C6XUTlRUFBQ0ACegoKCgoKCgoLiU0Uqg6INRZC+tB+mU47Amc00BdR3rETe3RruAk4KCgoKis8O6Bl4CgoKCgoKCgoKCgoKCorPAOi8KwUFBQUFBQUFBQUFBQUFDeApKCgoKCgoKCgoKCgoKChoAE9BQUFBQUFBQUFBQUFBQQN4CgoKCgoKCgoKCgoKCgoKGsBTxIRlpx76re3+N1wpKCgoPpNwtMJQYkCrg4qC4jOM8+2o2aBHs4WK4vMHMxpKStBwjEqCgiIZ48exz4ASQyuo26cB/HUMD8wvlqHs2eQG254LLrgGP8Hl6735Z43YSAZu1UEXJf1X0zy+WIKSF820jtFwiTiPsjJUdXwBpru+SG2loBDhfwwl69FsvQZlXfkEQ4MuDF1Dp0xJ8BcMybbv13J8BOvtXqK3TzTDSnuUIoGJAMM+B40LPhcBPNth18KBJVyOBJpHalH7RBbkYcHMF2I294wDTqigXSy7tv1F8fkfk6MQ2gjjnqpBcW0t9Mvln3/Zf5HaSkERC7NyYaivRr76+rBPCWOEENd1DTDTHv1iYxz2PSrnjDY+rgEU3zeg/tl8qGmPUlB8cQN4V0/3NXHEyS3HCkvPF0OJrFYrsDALOtm17S+Kz/+YjFIyTvZQ7aKgoLge7dN4HKkF1hHadxSUc1JQUMTGpIhPRlywtu5A05sWOC+xIb4EsoyVKHsyB0qfc7S2YseO/bAMeMCuPkszGOTcX4DseVJ/NtwqmX0lqpbZUf9qO2xsWpKXXJWF/HV5YKSh5e08aIXjgpBfmgLMfcUoWvIJjM/U4MApN/ncBkOJkfuJpqQexYvIfwxa0bprFw5a7HAJdZXfvBJFRTlQ+fLnZuJPY+UzOti3N6Pd5oSHOElJugpZa0qRx1XEPkY5LrTX6NF8Jgv6Z/OhGkWQ3MwnilH/iAauw42oesXEy6++BCVsAkUuqUcOFFF/7YG9oxHbXzfDwf4mVQ7m7gISEJOI+Ex4UidMOxvQfNgOt4dPq7rtHhQ9oIU8ZDrGDdu+RjQK/SiZqoT2/mLkL5UTCQtZnTeh+T92wWR3cTJBqgwKpQ5rynKhThUrOwdsvYButZbkax+7v6I2Paw9Eilktxag8mGNv57DQxa0vDJa+QIuOdD5+g60HbEH9ChDi/xHC6BN9/cSGkpaoNhQjGlv7sCe43yZrGyYe9ei+A5FyDiw7K5Hc4eN78cQaFBcX0z+l01H6v9KoP6SdAYrCwuRo5ZFb++xBpTUDyG/So8sWcDxNq2vQWdqNvTP5AV0jJN/G+Y+Xo2CzGBdacCOvRbY2XYSeSkX5mHtWh0Uwf0vol6szrYoKlAs2x87Pz/E9HHy6hiCU0ZU1h4geZL/7jWgZG9wX7B92wAE1YNvXzmKUtr844AfW0UoulsC02+DdCCNlL22CDlBNowbRb2taHxJsHVsO5bko3gNGWuSMYIH1j7ubIPV4QaniVPJuMpcjeK12sAOnQETml5ohonI0SPYrYLCHASazrbHiDkGPdRHGlH/BwtcHgVyDQbkKCLbKirPMW2tPGKipO0ZPVrkvE0LwWAbKje0Yk4p0UtGpB0OB6fbRsyMsA0OtJI2di0h/mOVQnzbKJICn9/evNiKhldNgfHL6f18OPYG2cRUBXQPlaIgWHdE2WFiIeztaHxlDyyn+DESDHblju170faJ06UuLOXGxlj2idct4+xInebafXhpqI92Eb/zwg609xL/6GvHg0pEWxdNxE4EjzXT9io0HXFysmC3jwbLQfCCGDregh1jcSmRfj9RmyWmja6eVuzcfRAWP6cQ7O0qFaRieYc/jTDewft83b1FyA+xU3H4c5F6OWYvvVUJfYscxXXE36RE2srW2aWoLmRE2sM47XuMPMfknCHjYxSez42rHKz5QXaIzRbN40ezJcFjShSfDNNJf5xB0slUWFmmR45SyPtsLurv86Dp+SZ0niVpFgeNaxH+Ilm6KobHiOIEEZOQSarfmHySxDfPkviml0HB1lLo/G0iOljagKH7q6BfIftM+ODY9mmsMZeA7RynPMfnMwR4Q/Cx9+gL5d7ijdu9XWeG+Y8ufuw9fW4okMJc7y1/rMK7w3zeO3yFfHBl2Nv/di357Kfene8Hcup/Y5O3+LFib+nmXd6TH/nyOu3dvbnYW/zvB72+HIcObPYW/6Te2+VLM/yx97yty3uyP5DX0RfIbzbt9/Z7w3Cx27v7d+94+5zCb4dOenduImmf7/IO+yuy37upmHxWutm76/0h/nNS59N7SLmPbfEe/ChWOUPeg9Xk85/s9PZ5Rwf32xeOBgmAL7fe7I2J/la2LkH1Gx7ynvz9Zm/pY2H1udLv3U/kV179prfvY76Fwx+d9O4in5VWB2RKPvV2N5aHyHX4b7u9m0l+W/4opLrS7d1RXuzdvOc0349smn+c9h79n76EZBchi2j9FQ5/e/b7dWT44/Pefl9/xlX+ae/B3+33Hj39sSDD896DtUQGP99FvvHXzFvP5kd0tfbtfqHdw96h94hOF5d7dwTp7+mWCiK/Wu8754R6nXvHW/uTYu+m/+rzfnzRLyCu/sWbd3tPXxw9r1CdJfmwemEK+uz9Hd7y8nLyuwrvrtNBmvfHLaSu9d6jV4LkSvrwp8+/4+0X6jD8UZe3ntSrvOlksEaJqpf4/MT3cbLrGKVkrg83vdEf9fPg8cbXpdS7+fcnvUO8UnjP/7GWK6P8J0E6cIWMt2bWXtV6uy4Gfj/85+1c2vr3BN2LYr8i8NGb3s3BvyH/+/G5Pm/X+/0htoEdi/6xR8Z7F2t3f7LDe/JKaHsqNlYE1X/0torJU4ytDbF8nP6FysRv28t3eLuvxGuHN3n398eyj0QvNoX1ryh5USQDPr8dPH6HTu7k+oodM5FjKdRmibLDF7u8tWx/snn5xh/xd8Wl9d53nB/7dUa0LQnXrVHtE69bIX46uN3B6YlOb2fLCS77DLHdPyW/D9PbhOzEaLIvJvZ+lD6JxaVE+f0EbZbYNg7/ebd359t93vNhulP73rB43nGGHe/l3uoDxNcKujb0/i7yWam3un0owg6K8efx8INROdvQQe+W4LaE6B8przsOexivfY+D60bUP2J8+Hj+Du9RX34X+73vPE8+++nOEJsqXve8scdUHHzOF2dsf6/fH2d8fPq8vzwu759XeCt+Sjjamcj+EOMvkqKrYniMGE4QBcmpXzD6vLt+RnRuT3+YThM+VB6m1ywnDfPXYjlLsP5F6IAojMbxRrf34uzTWGMuEduZuDyT5TNC19jsrWg5IkX2o0XQzhKmAVKlUE73TbHYsOcVM6R3FaNgkRySFH4mUHFHKYpuu4z23W0IucZsRIl71uVBnebLS4ncuzVArwXdwqpmf/8AMJsB40sjkUJ+oxZqhYjZh1QGuWt0UKULv5WpcddtSsBiibg4Q3lvGfIyZfxMCqmzclU2NCM2WHo8MQqRIau8njvLo7pK257a3rRDfldhoH4SGdT3r0HWtLAZubd3wniGQf46dpaUb7MkTY08ImOFdQ+MvptxHQewq2sSskqKoRXkKsnIReFdctj2GnnZXHCi3y3D3Ewl34/gZ5w0i1URs02Jy25seA7vEtqT49cRiVQORbokgfKVyFqTA41SKshQjqxvM8DASVjOh5Yrva0QpXcohHZLIFuai+XT3ei22Px6bjrshHz5auimC/WarsPKpTI4Tljh9s2qHTPCaFejoDwXylRfXkXIX+hG5752RL3SL3UBmHnCsQOfBhwxw515D3LmOdF93OFfxe4+Qeqj0YbO9k/RobBEB4VQB0maFrnL5XCfsMCGBOolJr94kew6jgdTSNl5ash4pYB8xUro0txwfz2XW6HhbRgZbzlZUI1YYLEGVoIPvG7CpBWlKF4q6B5rvwqzIe8lY220rYoOBwaILjILhN+wKz3TVdBmBgyamYxB+00FKP++MPbIeNcW5oNxd8LYEdpy51dzUH6/r/6jQ0ye8dpa2bIsMLDAdMQTsgOj85AD8jvIdynx2+FEEI+8KJIA4rez1wTGr0ydh2xiSt2SpVhzf/BYInZY6sTJE8647LDniAmWEQ2y2XHpG3/3EH3ymGE9Iw31P1fDPolZbT20HyY38U1rg8qepUPxvUz4gE/MTiTQJ7G4lCi/n5DNEt9GycJc5N+hgtyvO3dhKWsK3hdKj8k7XGh/lYx3Jh+ld6ogFXRNlpmHsjwFrEYj0Z14/Xl8/GB0KqhD1kLSlsOmkF0j9kOdcKST75j47aFY+55UG0v6rInj+QXQ+PJjd9OUFEF3uR27wi8jFqN7cSA2n7Oj9TU+zihaqvDHGVKlHCGLvcSdaR4rhW6WJCF/MX5dFcljRHCCaEhK/UKgAnOLFE7rST+/chFbbFNk455bpbAcDzytYbN0w61YCo3i0/PB3CWIJSWRfwZj2PGo+Gxw1DGXkO1MVJ7J8xkhAbzjeDecUjUY5WgSteLkBSnUmZEJmEw1cMoaOqDT5mNuWrhWciKEa5D/p/o72VD+pQlPGprQ1uPgt4GMA3KFnBgcT9i2PBnmq8L2eaTwneQcHPiU9yza0OeOJlMVVGEzBn0fEDVSMZgfvjUmjQSFrMPqsQlbb7rhSJnPBYohhlNFynD3wcZqv0yL7MWX0V6tRw1RJtugZ9QJjKslO07Bo7UnWeXPmAkFqwlXwiQ7L/JalckTidz+PhR6viRsC7l0ymQ2rva/CmBloz3lfKiloQo+J4OM0l4r+kZrDzHcAQJqhemoG8xCHRaQzx2HzYJxssFGEjC3hBFGohTq8K3tKZOAQSeGEqmXiPziRrLrOB5E1EUKKdE3ecbcUCcnmwZ2vsxvf1wn0U06Yn6mKnwQEVfsRp9tlBO26mxkK61oetKApres/JGYsAk79pyiktjLkKanzsHcGaTXe0NbrrplAaQiJgHF5Bm3rU3VIus24ogIQfW76L+a0DVAyN4yZQJ2OLEJznjkRZEERPhtCTdmkKEMm8SeBjkxzZ4rlxOyw5LgcSmRcOMxQievhn0Sgb5eW1TfJFHNDT0Gl6idGHefRHIpUX4/EZs1rjbKoSDjFJcFSxCTd/SBndtWZc6PCEJkmQzk7m5YTyXmz8Xq5RghFbTf1kFq6USn3yDyk/2KZTooE7CH4ux7cm2sgwQc7mg8P4WB+hskfCZ65IlT98RDBJ9zWNA9ED3OCCVkpA03JtNfxKurInlMTE4gusfjrl/EUGfUQRMvLhw9YoN8IYMs9nOzCeYR/vPTp1yQ3aIWbN2n44O5SxDr6yP/DLnjssHRxlyitjMheSbRZ0SegZfJMS3GAJSnRbVtgQHtk26qNLZxmpWDil8z6Ny3E8ZtBrSQ/JnvrkVhjjA7P+Y0uRVtLUZ09tjhcAUrryZ8pEN6w/XMmEaRaTRMm4ZoR06CHZbb7SaG3YS6ElO0YeGXieaRLdh87ABa9jSh6s1GboWh4LF8aKdLrp3sRmlP3OWzZ+n3NqPtsA2OweBzlZGznBJprOlufmat7aARpmVF3IycZ9AEY4cTyrs0/hzdnxA529kn9IxR8pg5umEiJFC69ySs50lJF8jgdzPIXSSB4twCyPceRfdgDhR/Zz9XYSUTVtdUKWLVPq56icgvbiS7jlehLpNSYlYQ7Cla07YSjDWKIqdEFcjZUAXm0H7s3FcHw2tkdDMrsdZ/VswNdnjad29Eye4ov58dNjzSxBwwE5lnAraWuVUDaV0nugazkE1slOVtEsxn5ECnSMQOJ4L45EWRnDET1W9PFGEpRNhhCQnEVCnN2L/XDmaVkoxPD+z72mCeqkVpJq6+fUqabxqHnUhWnwRXRZTfT8BmxdFGl7UNu/Z24qTdwZ/V9mEx4uIdUe1eymRCWF1wDsXrz+PjB2PiZg00UhLAH3Yh605SRzaYH1QiZ5kiIXsozr5fBRs7Cs+XTGQDaBe7uB2QjBgeLxpi+aQIThy1DeL9RTJ0VRSPickJRuvy5IylUGqrJuy2mZsk06m7YemVQZNHgtRZGjDkc8v7RKNuYj+XYsEq1WfDB8dpg6ONuYRtZyLyTKLPiAzgXfzMdtRMJrJxOjGgg1ESePgZIllaIsZECd0aPXQPeOA43IS6l2tgGCxH9UNjPEBxyYLGp+tgUeWh9KelUE7nHT13ucXezxpjGkWm4caV7a2BIW41LFwFh6+Qz74cZM7Swi5EG2VGWb4oB8XkzzNoxYHfNqBxUz/clXpkpV2jpg9Fb0+cc8porTLAiCwUrysCM1vKr+5wF8b1J5Sj+sGfo+hCFRo3lKGRc2LsBSJ6lH83rJOYAtSW6uIjmWoG6pRO9P3FA9uZLriYXGjZlR4lIQdphMgec2GBuxsuxVLMT1QwidTrWuO6r6MM2U9WIe/GOH+WIoPyjnzoyZ/nrAlNv2lEzdNOlFcV+FcTmcJalC5LbstF5RmvrWWyoEuv5LbNZ+c4iW66wazOCozXpNthQhYuJdg2ik8ZIu1wWhZK1w+hZmslyvbxfoi9UKxoQwGY1E+JA7IELmHflKCduBoQ5ffjtFki2+g53gjDNgtU95dCv04JORdYCxcHiuYdEk5nnINRJD8yjMtsYDftU+QHKQyy7pCj8u1OOO7MgfOoGW4mL8CXrgYvTXKek9iJuFF4vofdjSCXIf1TV2RxnDhRX5gcXY2Dx4jgBFetfiGmaj4WEJketNrguWCGJW0pVt7ITwRpbm5EyzErCi5bYElRo1j9WfLBSbDBidjOhOWZHJ8RojrcyqDbCot9lNTTGcxPd8PaE5nA0mMFMtRYMB4HzJ6nX1qE0hw53L02/zkHyaQoaXs6YbqgQPZ92VBND8zSR3XEIhG1nEQxEeICE4UKc6XRtk044Ai7gV59M8MepsDJcII72A3LeSkWCFsyFBmkHwfNMNvjaHuaGjmP53NnkcK3qF0tOc6dp4renrj9sxldpK2aVfn8GTdBqz3ucWzgHbKg/cQcFFQJ23a2bkZp0O2fXP3Z7TXvEznHW39CApibSdNtnbCecIG5VSvoigqaW2WwnehC918dQVuY4kPC9bqGYyXxOkpCt95eLcxQknHpgjmeQRSttrNIYPJYDuQX+mA7x7UcqgxiL4+Zk7C93C/N+PMcxdZGggT8y4SjHcc70XmRgXaxZPx2OE3G374bXuHBPpwcHGfbKD6l+F28Hba/14FP7tCjltsWWYvqDeJvA0/cPqWzi3bAFU9EsNDX64rim6zoC9/S7zgdOlaSZCf8gdU4kIjfF2WzRLbR0mWCW5GN1XeqhIBj9Am50XmHGgxLc3pORox3V48FTukCqDM+XX6gXKaDwtEF81kzOt9zg1miDXC9q8BLRecpknPKb5kPeTSeP2KB9QN2q/SCT3dSXeDE0eKMZPnC5OhqYjwmkhNcvfpFES7Ut8jgOtWHzhMWyG7VCAGrBNpbGe5oZ9tf+gASa/jvuLnefXASbHDitjMBeSbRZ4RS4cxc3KMeQtsLTTD7zlN43LCfcggdp0TO/Rq4DzSgsUs4QznigeOdOjS+NwlZ92bHvZJq72olQnP7z76xs0idx52QEgfqC17mfJ2I5NxRYoT5WnjY/0uXE94P63kAACAASURBVAJIHG8P//QKV4+uRuz4U+IXKkQtB060VpagpLIVzngym67CHBLtWQ+b4BrhM4uu/Gpk362EY992tPS4+DQeF6yvbcf+sMEtWbIaubMtaN7WCqvQP6y8Wra1wKG+B7m+49KMrx8bYbIHtot5LthhPWLjz7O6SID6jg1OnxNj5XfIBGuKKn4HKUqOUSavluciayrbnjbYfYbpkhM2e5x9mJbOPaHXb7XysiYtZp/gqNttSbwRp6ywTSU6NsZ2L9mK1UL9SX8M+KUM93kbTGO+VS7BgltUcB/bgzYHA01QQKRiFkD6fitabVIsYBK7NjHxeiW/j5Nfxznc3RCOY13gimbPAF6Nt5NTGOTmqjHE2TrhiUNOP4k97DHDNpqKnjKh9Zg94GjZsdxJiOdU4gRnCDOv92ZBZmlG3T5r4IlCYmedfyXjL6HuEZenGFsb1UWx5zsJYd2+zwzpbVn8bhF/TJSgHU7libj5TaN/7PO2bA/sKfG3jeI6gGg7zD496kb6DPlVCxSi2ydid9lztcfbYDzlCYzP12qxJ4xLyZathFZqRlN9p//MqudsJ+p+Z07MThxuQEnJejSNcUGRPGMOpOydKIddQp3jNKpi/H4iNktkG+XEFsDVh5PnhQSXHDC9tAPtwVveY/IOQnzvzYVSGO/8bnFWj1pQ2+KAOjc3KLD4lPiBQgddhgNdL+2HeYoOWUsk47eHY0FsnmI5pzIHeYvdvJ6cDfRVZ30jOidlYfWKT/tdMLVf35qOCZyY5QZ2u4jz4+L8RXJ0VSSPickJotiCJNUvGjiOaWvFnh4Zlv5TgGNKGAaqwU60drm4c+KSq+GDe5uxvqQMNe8k8eK7RLlaMmxnIvJMRn19k77hyp/1+CZIX21Ei6EMDb534Jl8bFyn4CogXVQMw+Nt2Pl6Fda/5BbeR2WQs96A7HkJCH+oG8aW/Wjwnevh3jUvws8fUAcFekUo6H0Ozc+UoXVEAtUDm6BfkYfSh5yof20jyl6F/x290g0zUff06cQCn6jlONB/hgyou5hR32sczQjlrctGf30T9OsaSbt0KN1aACaaP/iuHhU3NGJ7vR5tQe/A6/OMqHw7WFEVyNFvRvquRjQZjP53rVl5bXpAGzR5wvZjJWYe3IldW59E4wXhHc2pCiKj1SgRztDY367HnlddggL5+rF03Nvno8sxivRS1Mg36JH+nztR80SL/x14xYpSGJRxOJFULYrW2VH3n3XQH/QE3kjdWIy2nxkTa8Q3NNC4G1FT1h4SeEszdCj6UT4YmVD/ys1Qsf3xtNFv2CQyJdSrCqHNHENGmQugeNUGxzwmdNdKphaaKexKpwaMOlGDlni9kt7HSa8j0e2HC2CtbkZlWSt7qxTyn9Ija3ryaYRseTkqFaytq8GTLwlGndXPDC1WPzra2cMhdO/ehf0vCO+ycm/mEp3ZkB/YKpeZj8pfqNDychN+sc/pTydTqrHyQS0S6nYxeYqwtdEJcBaymBY0WaTQ3RdmwZSJ2mFCCn5UCtcLzagqbw28B/xAJYoO6bE/3rZRfPoQbYfTwSxSwPiqHiWvBv+e+L17ilF8p3Lcgf1o9km2ogylQ/Voriaf+/zncqJfP+yEvjW4LgyKnirl3oGvfLwp8A78T0sx7Zk6uOO0E7a/9RHypBnb9maSsXR3P+p2ELlsJ1ncUYrah5i4JvLE+P1EbJaYNirvLUXBAJHtpjI0jwjvKD9QiooZdTCcDVq0icU7ZuVA/4t0brxX7Au8Fa57eBPyl8iuol7GIeflDFp2WCC9Y3XohIIy+bxUfJ5iOacUmrUGlLN6Ur2e1xPhHXi9IRuqlE/flLD6tknajMbXKlBW73sHnkH+xlL/qxDj8YVJ01VRPEYEJwjv8mTVL2powhAZdMIMXeglgLJboZ3XjOZeBRZkyuLnF5+yvsTP1ZJhOxOT5/jry2MC+5YcZR5j4KwRG5+2YPkzFdwlThRfhD5vReUzR8E8oUduRhCVvORE+4sb0ZxShNp1WtATuRQUFBTxwA0zsaFNyIfhX7VBT/l44O5pwa+2WqCp2Iw85eepzS60P6vHAVUFNt+npCpAQUFBQTFupFARxHC9Viuc7EVONHj/wsDy30bYb8kODd5ZpMoxP0MODA5c1SeMKCgoKD6XON+B/UekWL5KG/b2tQRSNfuMjhNDg5+zNl9ibyFWYvkKGrxTUFBQUNAA/ppAtqwU1Y/okviMBsX1jjkqNXdO0n8nAUfC3LB3NaKu1QnVMl2cxykoKCgoKDBdjblTnejY3Rl0npU9M2pF69ZmmKfqoGM+Z21mtzLX0x18FBQUFBTJA91CT0ERATdsbzVh539bYPedF5ZIIZulRvZ9a5CtllERUVBQUCSCAROaX9oP0ymH/wIfiUwBpWYlilZrIadnkygoKCgoKGgAT0FBQUFBQUFBQUFBQUHxWQfdQk9BQUFBQUFBQUFBQUFBQQN4CgoKCgoKCgoKCgoKCgoKGsBTUFBQUFBQUFBQUFBQUNAAnoKCgoKCgoKCgoKCgoKCggbwFBQUFBQUFBQUFBQUFBQUNICnuH7h2GdAiaEVjpgpLWjeoEfNQScV2vUIlxUbj3bgm8dPQFQPOf6M+450YFVPHy5R6YnDQDeKiczm/7kbdBRQfLFhRkNJCRqOxU7pPFgD/YZm4kEorgcMN3wLnzz6LVw0i0l9AcPP5eCTEj0uORIozPEGLpKyPnnqDVz2+6p3cfFH5LNftgU+u0bw/L6ItP0hXPzzMFWEq6IvFBQ0gAcuEQdZVoaqDkoVxx/ctKOKkI26Q56Ir2yv6VFCnFPLXxH9uw0tsF1tKvRiCUpevN6towdDgy4MuS9/NnXA0QpDiQGtjuu1gn3YwgaHRzqxayCZaSlC8OERIjcahFN8DnDd2zQel91DcA0OwfM5n6igoLhux+A+PReEf9JAp9EoKK4GJoX8K1WD4tpaKpVkQDYfCxSA0WoFljFBX9hhPubipk66/seGvBtVwewI1hPkO5UKKirBzw5GCOEqNUG7rRiaL5SOq7H5VvInNr3im3hdQdWFgoKCgvP4+wyoRwkMq6hhDGAqJv+4Ncm+6nZMef7tT6U1kv/dSP5or1JQUCQXdAv9VYMCqnlS4ANr6Gq6w4LuARWy71LBdcxMwvkguE6i2wEwtzBUfJ8lWC2wjlAx8LiMD3vfxTePHAFdQKKgoKAYDS6c7HF8YVvvPfMGLpZ8TrZJuy24uJ60Zd9HVK0pKCiuCUJX4LmtWw1AST2KFwmfvFiCFkUFimX7sWOvBfYLHkAihXJhHtau1UERPAXgccK0swHNh+1ws3vXSDrZrQWofFgDCZe3EXMMeqiPNKL+Dxa4PArkGgzI4Saf3bDta0TjmxY4L5GfTlVCe38x8pfKyW8FXHKg8/UdaDtih+MCVwCkGVrkP1oAbXqQW7S2YsfONlgdbm4LnWSqDIrM1Sheq4XcZ297W9H40n5YBoT2LMlH8Rryva+wEResrTuw86A1UFaaAsx9xShaIhclXDWjBt7pJvXIg0qYYHedOAqH4laULAO63+yChXyn9E2+W9lgX4V8RhLsGWLLJRyi6+6BvaMh/n5NlUN12z0oeoDIy5eO3VppMGJmkO4IX6CV9HHXEsPYqwweO9p/ux0tZgc8JBiWpDNYWajDtDSgfywhH2sg6tofpEej67IYvcCACU0vNMN0iqRJkUB+80oUFOZALYtOwEzbq9B0xMnlx2575KZuvh/a1uEhC1peaUa7zSm0TYWsNaXIY6ShHCCWTkbDlb/j/VN/wW+G3PgTyZs9Wz6X/Paxr6rxva/KQura12tFhcuNY15APlGKTcrZmDuJi7kj2iUuLbut/kO8NOkreOebCyC/4sR7H1jxf92XST2GkX+kg08m/RpOZs7lz3P/7SN0CP922d6FdnAYN39pLl7/xteC8j2HXX/uwcbLk/Bvc3T4wXS2nSTv3j489/FFrk6YkILsGxTYNPcmyCePIR92+/r/u4CHZ9yOtehGxfkL6CC/l5E26WeqsfqrCGmrbOIUPD4jEz+YFdbhH/0F9R868ArpQHYbvCxlMvKmKfFj1deQGpzu4w+x62+n8NzFy1y6RVNm4NkZk3Eb+e/3IvouwTZRUFwleM6b0Pwfu2CyuzhbhVRiI5U6rCnLhTpI0cXaNM7m7hBsGuevGeTcX4DseYF0LMdoOJNL/EcOFBG2HSiuH3tnk+t4C+p3tsM2GLCbhcpYPpr3S8bZxah/JDR3dlXccHhpoD6C/9tFeIeLNbDEL8hmKKFbU45ctSQxP33KiMraA8Tvkv/uNaBkL/uhJrStl4hPfHEH9hzn/S6bJ3PvWhTfEeZHR0j9Xgn4Z953FiInutMShP48PvlNMyb8n7cJCdyBy00vw3tpGEi7DymP/Aip80iz9z2Py/tfB+fc0rKRUvAzpDIBw8SeU75yhJitx97GlCARslunPcZ3MSHXiCmrvhK1+MsmUubLL8LL6thvvoVPuE/zMfGFH2GyP+/bkfJ0FVLZ5rLn2p/aAqz6PVL/6QNcqquGd4AEy6kMJnz3Z5CsysDEMfubBNiPPgav4klInv5egPi6T2G46UVcsbxL5E3aL8nAhIz7MPHx+yAR9P3ye81EDm/A6zhF/kVql74cKf9Sisnar2ACa8Z734CnvgZeti+NufjEyP4qUHe/PFg5ffMvuLS+CCNuUkZtOSYHjSkv6ZOLpE+wcCtSS2/lV9d89TvewfcD1971kOTchImjLr99hEtP5WJkhLT15wtw5T9+jRGLhegtqe/tmzCp4FZMHDxKZPgLeM98xH+u+RkmPXI7JgXnOXIBnlZS9ltvkrZd4NOp1iBlbT4mp4dNxgyQ/OpJn5w6xctw2SZIbsog37wbSVl62+B59WU+LSfP7yHlXx/BZPVUTp4UFBQJBfDR4WytRC1TgPWVxVAQg+MZNKGxshFVv5Oj+iG1MNiJQ6wyoE2ai+KnSZCeJoHH7cTAJ9OCHBgJwJ//FY4uLMDG6lLIJIFA0vLSRtSdUKPIUAst+1vi4Kq2bESNuwr6FYIjSvWQlAuQ+3gpGKUUEuJY2xt+hcZqKWZWkkCYTTPYhtqaNsgfNqB6qYyU7YH7vB0Wp9QfpHmON2LjNgvUD5N2sWmIozQ+W4mNW92oeiILbGmug7WoOShHUUU1Vx/SGDg/tGDgBrl46WYyYEgg2Wcjllch4QKjo2Y7ZLesgUIhxVKFEUdPuEjgKRPidytJl435sjjlEk5oxNbd3Ihaj9h+zUPpFj1UUlKHQSv2bKvBL4i8Kst5eY0PbBmVMCIb5ZUVvO5wZdShfQhIyuZCEXrBTkJUPk28b04Fqp9UQnKFBOi/NaDmaSfKqwqgjnCYMmjXbsYcBSF8e2eOQjRJ2+pIy9bpUZ1Jyh3xwL6vCpWkbemVemSlidfJqDj3V/x00E1C6aCwmvT3Ex/2IPWGpcjmfsiuip/AfUPD/svjnFfcKDt9CssjqVUcacPw9368RIJ3l8gukcm/jO8NnsMbH5/H+/gabvZ9cb4fu9iJgolTsXw6T0ja3j+BsuA7gAjza3OfxZ+sl/H2gsyYOtj1dzPMwxf9uwJcpE0biYwuDY2g6h+BtrquXMQv+3swY6pPdghMPASPsZFhvDTYhz/1XMLrmXP5IP6KA7v6+rAx6ODtsYvnUNw/OTTIR3LaREGRVIxY0PxMI06vEOwfsXeeC8RGWj1QpcZv09wkADe8YIfm0U2oXSjnbK7jUAOqqg0YKKtCfmYSJhyI3TQQu6l6qAK1yxT+Mqp/Z+EC4mTAspNwDPtyVFRVQMnK4ZIb9h4rPF+XJO6nM3JR8ewcbpK5//vRJ7fNL9fC8+B6bFlL2pXigauLtPWlKjSlV6MgM6gvnjEQ35lD8mPrJ6SrMcD5eHC66PC2Pw0PCagCfvJ1jDxLmvidfowceDfEf47UpWK46klMHrdh+ghX3iDBewIXFHh7mnGp43U+WOYmOSzwGovgSXkNE3O+Eqe+k2B6YxEbpwYp1Cl4z5IPfPo+2IHLv32en2jgpy2IPyCy+I8PMPyVV7iJjitvbYFXrNNLuQkpi2di5G0i585HgO9M9efr6XydC2gn/BPDB+/R6ie0d/ijRkwpuGnsgPfce7hcVwNvr+BkRj6Ct/Nxoq3luPznmoAM2c+P6OGZ+gom/SDDX5/hF0tw5cipIHmRdL3P40oFCdb/rQqps32TIBZcqnw8kB8rw44SeGyLI/vv/R0Yfu7FoE9YeRJZ/H9HMPxjIs+bqRmmoBALcVvop+hQWKLjgjwWkjQtcpfL4T5h8W8P9xzeBeMZBvnrcrgAjEsnlUORHjr/7PxqDsrvVwcF76wPOoBdXZOQVVLMB5zsb4mDK7xLDtteI6z+hEpkrcmBhg3euURyZH2bIQbgJCznfXk5MEDSMQtkwsSBBNLpKmgzFX6Hd+B1EyatKEXxUiFNqhK5hdmQ9+6BsYdP1d8/AMwmAbhQH3ZmX36jFup4osnUBWCIgbecEC7xuNQNS68UCxj2hLsC6ltksJuPCgGPjaRzk+BeHQhYRcslFKLrLqJfXW/vFPo1mwve+XRq5K3Lg8JK5JWM+0l62tBmlyO7MC+gO2wZD5LANVlb02PqBSFMRKb2mwpQ/n2evEJCAvTCfDDuThg7XAkXrby3DHmZQrkpEihXZUMzQvq7xxOXTkbFzFvw+k3fxJ8XLMfJxeRvwQLUcv15EUd9Vb5yCv/JBeQp+EG6Gn9exKd7/X8B74XLN5604UhfgIbFX8PD3D+monmxUCd29T1qBJ+B1VP4mf4/nQ0s7X/49wtcoJ0tU4Jblz97CluIn/9a6gwcuEXH53nLLWi4IQWXhp34XX/sPnh/eBi3+Npzy034t0m8jH75D0A/awGf5zdm4eGUMNkRsvnGWT54X/6lG2Hi5Hw7TLO+zE1o9LlJ0O6zPf1n8Eu2S1OmoPbrS/g8592IBwlJeT+8QkloEwVFUnHBiX63DHMzBfsHftVXs1gVsYoc26bZsOcVM6R3FaNgkZzPj6RT3FGKotsuo313G1zjrrALnW+a4F6Yz61KB8ooRm7SAgEXnOeIX563gA/eOdsshXKRJjCpkaCfjgXpbYUo9bWLSFq2NBfLp7vRbQk6lHfMCKNdjYLyXKF+bLoi5C90o3Nfe2wZ936ACQW/R2r925hS+wpSWHc4QgKqPxJR/rgVqS+Qz5/dignshomRNzDSlwyZfgWpT7+NiUJ8x65M3/AC+8evvo8J2xvEEL/C1feG+rcw6V+yuSDQ+99v8DtG4sDlP77MB8fpj2DiFr4OU2pbIfn5fQF9T1uOyc+2YnKtUEe2zOU3kS9IkGrlt8tPLn4bktzb+bbkGoW2CDsHokCSlc8Hs+++G9jQRgLzEQtxCNIfYqJ2ckj9JnynEZLn+fJTnxP6iPAyT8zO7YD30o8wSWib5Id8uegkwbuqChKhTZIcvu6wdvvr47U088H71PswcdNbmMLJ5veYuJAE+CPvYuS/jsIn7ssHd/DBuyJQVuqmzcBg+Or7BXj+iw3eb/frFpt28s/KMYHIc+SNDlyhVpiCIskBvEoVufqYQhjwoBNDvlnq4ySSUzGYnxojq1sWQBruInu64UiZzwW7ISRBpQTcfbCNdUxsxkwS8BLS4Bv56mxkK61oetKAprescIS/VyWcM5+fqQovjIR3bvQJham/kw3lX5rwpKEJbT2OuJ2DEKFgvlpOAlQL58Q9x8ywSDUkaBRkwRBZ9FrQzdbxvBUnB33B/fjkIrruIvq17wNr9H5NWwCGJRM9478v32Hrg1uqBqMM++JGFeYmS9Nj6QXpIQsJlJWZ6lD9TJ2DuTMIb+hNlLkQHVCFLVmk8PTAOTgQl05GxcdOvNdvRfGJDnyTvem8uxtl4W1zXkAX+/+TvoyHv65AKrvXcPJXcPM3ZuOxlHGkHTekuC1NRoL0Eexy+W6D+BAdFy5z3/1gJr+i0nfhAvmUfHPpHO460cnf6H7iBIo/YRV7BGa3iLvdg9szZRb++X9NErj4DH85+NJN+Ocp4RMaAzgxzE9IPDZ3DmQct5oM2cxvQv8lViCX8ScXX36f282t5N/2pQxkpwtaNG0OfjBdhq+FZZuUNlFQJBMyLbIXk+C6Wo+a1038lvREbZqD+LMLUqgzlRG/ZoiNxSkr7/fGhT5Ye4l7ypwfNsEgwdwbk3UpnAzauzQkSKmCfmsLTH91RdxsPy7+MhZXmqeO+GwysV+uvw8FvJaF+GflfKiloe2fk0Ha32tFTK81Ix+TvjUTKcSUTUjNwMSlQjCnKcTkm6dyBHGC7FakZF4nOsoGuLkZXH2RMpkEnz9ECrvjw00C4HPxZTXyF35P1YR/IW0Vdo1MSJ2KSTOmBiX6CFc6XobnqYf4G9VL7sTljr+Mrw3KuzGRXeg+1YGRQaGY/+ngV/m/lS1M2Axj5H2+ft4/FsHzI/5ZtUs/fojdFMkF5yN/jV3UhH++DxKhbZN0y4UVexJAr74dkwRON+n2b0es5F/pO8L//s4fYvLsydz3E1JnYvIjP+LTWo4IwT6pZx8fqE/4Xr6/rJTZt0PyvezQTC91Y4Rb0H8XI8/l4NKjfJuGf10DLzc58wEN4Cko4oCoLfTsjLNETLpp02Ju+5yWFpnCTYgvRkyoKzFF+UWQI2bPou1tRtthGxyD7iBHGpQmRYGcDVVgDu3Hzn11MLxGXDCzEmt955jdn5CQCDBtK8GYpc3KQcWvGXTu2wnjNgNaSMuY765FYY4asjgCGQVxwtJ9vBN3s5McmcXwu2W1BhppHcxHPNASV2sn32SrE5BLOMTWfZz9Gk4mxseT5Jh2VaeqYugF0QpW3PbdG1GyO8rvZycepEpviJFErE6G45M+PPfBh6iPNbnkucyvAE+WhgWSU/g7DEYSTJsMzErH6v/nwnMff4RjV27EIucAWkgZqVO+DI0gt39ciVGoV0SlItrD4zbJl8b+3d8v8rtRJk3G18IOWU5LEQQilO+rZ+aUsB6bPImbiPow6KOktImCIskTappHtmDzsQNo2dOEqjcbIZmlQ8Fj+dBOl8Rn04TgV54W5WMuKydcg0jK+ahonCKpUllUjC2/NOPAbiOa/r0NjRIFdA+W+s+3J+ynY0Aije2d3Z+wTsuIjSXGKN/OFBFMfj0qCZzwtVnX53lk2VfC6vUlIDWRjD6Ct58PZifMGT3Npcr7MWJP9vvtUzHx9mxcOdWGkUMfAaum4vIRdvs8gxStr88uwDvmHO6wCF88WtsyMCGGWo44jgr+OexYQqrgL0eGw+oZWdbEtLCD8oMx3p8dGQYFBUWyA3ixGBritmwl5E7TsqF/Jm+M59P4s9hGZKF4XRGY2VJ+plK4xCw0WJNBeUc+9OTPc9aEpt80Bs4xC8Qi+8kq5N0Yy1mwF9XooXvAA8fhJtS9XAPDYHngfLgYqBmoUzrRZzPD2UNM9OqgG+ZTGDCZQMMJCyyTSHA/Lx/zU+KVy1WsO0siWA0ZiN6vw1fIZ1+OFXaTwFjMSouLX/VP2mM6l4SL6sTqhSB3prAWpcskn8JQFKmTwRj4Ox+8T/oyXp8zFzen8SsHx3o6kO8O7UR2R+n7w27uYjV5EAm4NBLZ4aLTJgVz8L2pdjznuoC9Z9yY7HbhfaTgx2k3+nmZXMLfnpedtgC1qq9c22758hRu7HVcHsaHV9gL/YLM3YggkAm88nxpIh/Q2y6yS0EzAgkvj+B8WLafapsoKEa3+JAvykEx+WPvITnw2wY0buqHO+hsuyhMZHNywRktSOdm3uWQxcjP446w4NFpx2DCrCO6x3K7I6UyXYOcR8ifxwXrm9vR8NJG9Aefb0/UTycDTAFqS3WQXCcaNPLhkauX+blT4Myunyf9A0hoJ8dUTGCdm+MIH8hHIx6OQ/Cywbv0Pkz8ySOYNHsqt/Lvu5RuPJio+x4m/L4N3nfacflb6ez1EySuJuX4N6x8BRPYWN4xEyn/9/fs3XXXFCmKW3EFJIg/+xGgCfJPl/4hJJgcU44j7rCAfMYsYUaMyLK60H9Mh4KCIsFxmqyM5s4jrstmwckEjKkiYy6kg2aY7WMkcpjRRb7XrMrnz8CnBDv5MejILC2KHsuB/EIfbByvVmKu1AXzmIWFS0kCxdIilObI4e61Ia4dcWyQTiIiW1c7TrsZaBaHulnuyThbO9ptRA6Z80NoiCi5XM26s/MPNzPR+3WwG5bzUizwbftOk/HBXnh3DPbh5GCM/v//27sf6KbKPG/gX0tjlwwbhm1wA07smDITcAJL5VAco0NZDTMFpazF1+JY3tfyajtMe5xy3LgOHI0O1bGvh46nHabFt1WpDuVAPRYsnTXOUlaDEg6WhYyYV8gMZoSsptshw0YhUN/n3pt/Tf8lpa38+X7O4VTbm5t7n/vc+3t+9z7Pcw1iPwfqaujzYdihwJNFQ1AkQucSk8uPPfCkUi+QDUMW4DrUhVTn1kmfcJFNp5HUyT6tgWvxLc0kOckOnDqCHV8mZouTsEBOJP+C3/zJh7NSP7ULQRw//ile6r2IZQehJN5fous/wwH83NB31r913Tchdbbb8d8fY7/UhXyCBndNj91b/NY3lKfn9tMfY8epuNf0fBnAn0/9eRTG0g5VtlNxs9xWOYNffnwcgXMIl/N/oPqv8t0T/ECj3ObIVqvlfd/71xPY2x1OAr48iTc/C/QbA39R+3T6KNZ/sBe5R/4AdrSnMUvlpxiR/0iRPLbdfSLFD081YWZmEO6j/a9prqNukawYMTt8h27yN0XUu9D/GuE+NtzwrGwYZww8vOnUyeEiXSbk0/ZCvw7xOH5siLNPpYFxaSWK5sa+d+RxWnXRSUy21E3/Q/HdZ7+OCqIkcV/Z7TgfLsbzH76O3q5zqX1eVK7ecNth2BAjjc/f8bHyfb3nRCL9a6UbutqkjA1P2rVIy/6+fC3/O1sEeAAAIABJREFUqnULzkXaKKFzOO851fdlKxnTcI1OSd57P/0A5987OGhL+qvjblxQRkGhd6idybgZE74vMvTu93Hhdx/gK2nyujsW9nmiNsEoRcVT6G15Eec+Pad0M5cT4/9CyH0KY9lHK/173w8f2zqcPaF891dnT+Hci79WtsM0L7ytceX45usIRYYE9LgQevP1hDL6LtKkYSbBV3DhZVGOcXX2wmcnEPp06HoTeq0EX5SV4Mv/4JN6olFN4DULC5A3yYWWTXZ4IyfmWT883iSa16YCLDOehn1zE5zeWNd4aQZc90GP0pidkil34T3ldiMQvtoHjnag7o2EWdROONFxyBt76ivdMXe44J8kErTrlIS6oMCI0283oGl/+LVo8rZKM8t2wRPeXO/+DhGQg9Hx49LTCMdhP9QzDMpNxkAnataUwbp9uEaGCrO/Z0BQbLd3hinaaIn+1WSCQazb/bkGs2/SpV4uAxh221OJ0fNXoOB66bh2wB0eEymtr3VTK3zGZSiI3BnOmA2jSIC73mqLHn9luZ3wDlfLZknj031oa2zt+x2Nu+Eb7rNSQ1Dtx952JwLhAgqddKBuiwPBVOqF9AR8eR40rhbUtbvlVwGF7xDB/0cn3EO0B7VZN0ANN5wHlCMSCqV4CyDJOtnP3/6NnPji7GfIPbQXMw++h9yTAWR/I2GWiQlZWPG36XKr4rVuN/5BWvbQASwNpGFh4qxBqSw7SMP4e/Jy5/Hcn99TxnYfH6ZlO3kafig+c1Ykr6+JOjv3G1P7dneflo3n1VLr6UusP3lEWac8ZrwLd578T3jG9BL5TVim/508Yd2h//6zSJoj5fwXeWK7bLUOK6ZGtvPvYZ0gt7BQ+qcD4W38GL9JCx+n0dqnvwaxQ7SiAue+7NMtn+iiBFzofNcDf+QC1CvN6C6ufWkG+dqeGj3y781BUL6mhedhkdb3bh2a3k9H3nJL9Ga1YdZsqD/fi7b94fHl4eW2vB8crtUB8+JcqA82o+7dvt+xddh3i4u4LI3PP2xH24lQLCZsr8VOb9+E3rXHAc/ncfFXxBenNPZ+RvZFxWmp95HBAPgO7Yc3pGx7qnPtaBatCLe7RHzujn4zgp974Bzjd8yn33SX8h/Hno6O0Q796tfAdyzJ3Rv9dvi9Jv/2gDIe+qe/7v9G00S6eWL58JhwaTx6+3tyEnnND+9KuQdC+p2rcI103/uzF3HhMWX7v/jpHQj98nUlOb7OqEze1yO2KzIG/al/Fsf7oX7DC9Kzwg0hlxXnyqRtsyI0zJj89HlS+b2H3n1iH9LuQlpO3wA7Ie8hpOnF7z7bggtP3YEvH46Mgy/A+dcOjmkCjxn3YMI8cdIH7eitUr77y4r/gQuHT4ht/T7S/unmaPKQvuiflE5o3hqcD5fj2ccewVfT7kpY6SSofvyYWFYk++8/glBFuMylcfDrH8CFQ2eG2KD/Qq/7Y3lmfvz5DK/VRBjNLvRpRhTZrMh8bStqHm2Nvgdet6gcNv1w3ds0yHukCtP2bMWOFx5D0xklEKkm6aAXCWSZNFtpRi5K1nhR91odrHtC8pNl6R3dJetLYf+X+PFfp3HkjR3YvTn8HltpOYMZJY8XRbtJaxZWokpnx9bXa/DYS+GAK21rVi5WPBx+9czpI2hr3Y2GSFYov/u8BD+/z5hy0WiMRmhFkzw94Qm78sebkTujBZ6Ts2G6cQTlMpBR3HZ57Lh1AzJ3NKHZ1qYktuH1PXlfbtz+iAT4p+UIbG5BdWVH7N3A91WhZJ8Vu4eOyuI71mHiy42oW2ePew+8FYW7quAYJvktqixC8NUWrKtoEsdSedfwsop10G+uiutxMHy9wKwiVD1lQOsrzXiq3R9dTqM3Ysn9uRi09GYVonzxKdRtsaKsUWz7beWofSC1Pm9J1cl+ia8RT173Jc5F3m2edi1+ct0sPKj+FO//NdjnNM/+7my0x7/bXTUJz9/wD5j62Xt47RxGuOwgCa9+On72yUn8JqT0bpybPlzT6u9gmaxGhmgk/1k0xn4W6WoXV7fmzvoHtHvc+FXc++61Yn/vnvz3GPP5laTZ9a/5GC99+hkaz52Pew/89fhJ1g2xIZgTvoUff0ecHn86geovldfpLVRPR9V3J+JfDx+HfbT26W/VWPHZGbyl+psBx/UTjZT3nXrs3BYI30QMv7d9bXlq3efDpLHjtkeka1o11srXtMj6bLDET/hmKkLlyiC2bF+HipfC73KfswwVj+nR8OzQSahqTglsa6T3wFeh4tXYe+CtZZPxzKbgMMlvBcpP16NlYwU6InFtoYgB/9MBa0fcgp92or69BYFo/NXDlG9FefT1cCOM09LnHiyGe2MLqirEF6oMKHrCirypKba7qjbAIMXnp9uiN55VGj2MS1dFJ8wdC2m3/BTp3cCF372pvENeekd5wRO41nQQ556wD5/A55VjgvcMLrwnEthe6X3g05IYd/8DpK+z4Pymur7vgc8fwTAk8dkMWxPOvVwnksMPlN6D0jvMcxcqyWnad5Be/hhC0lPnnjOx/buzG+c6E9Z1UxHSC7pxfvfrynomTVOS/yFcY7IgLfNF9HafAsx3Rd87HyvgachYtx3ntortO/ie8i52kQRDJxLou24d5r33F+taXPtQPULZr+DC7jf7vgf+fxXh2uviT/TvI6Pqhdh75VWinJaIY3LnSZGkvxntOSDv8/V3iWWn41zjK+g9EVfmWXeJ+vR3Q7YR0ozfUSYq/NYkXqiJpPPpK4HFQERERESXHN+b+PKJ5/CV7jGonr5rlCdvIiK6/HAaCSIiIiIiIiIm8ERERERERETEBJ6IiIiIiIjoKsEx8ERERERERESXAT6BJyIiIiIiImICT0RERERERERM4ImIiIiIiIiYwBMRERERERERE3giIiIiIiIiYgJPRERERERExASeiIiIiIiIiJjAExERERERERETeCIiIiIiIiIm8ERERERERETEBJ6IiIiIiIiICTwRERERERERMYEnIiIiIiIiIibwREREREREREzgiYiIiIiIiIgJPBERERERERExgSciIiIiIiJiAk9ERERERERETOCJiIiIiIiIiAk8ERERERERERN4IiIiIiIiImICT0RERERERMQEnoiIiIiIiIiYwBMRERERERFR8tJZBGNr5sG9LAQiIhqxj+YtHPPv+OLh21nQREQ0YhM3v8NCGCd8Ak9ERERERER0GeAT+HEyHk9QiIjoyvF19ODiExQiIkoFe3CNPz6BJyIiIiIiImICT0RERERERERM4ImIiIiIiIiYwBMRERERERERE3giIiIiIiIiYgJPRERERERExASeiIiIiIiIiJjAExERERERERETeCIiIiIiIiIm8ERERERERETEBJ6IiIiIiIiICTwRERERERERMYEnIlIca4V1TRnWvuRCKInFPdutKCtbi6bDIZYdEdHVyNcBW1kZymwd8I1BnOnnUIOIO+L7Xuz6+mNRwIGaCrEtVUnuOxFd0dJZBERXqwDsz1rRekL855wS1K7JhSqVhk29aNToCmCz5UM3VJur3QbbLtHkmFeK+odyWOxERFdOVo0Omw1tclZpQFG1FXma/kuF9tehQiTSMsYCIiIm8EQ0Al479krJu9QP57AdnT25sEwZp++eUYjqTYVJL264txr19/KQERFdujxwHAgg747EDD4E5wHX+G9OinHmko5FGjMqa82sYkQkYxd6oqs1fz/QBT80yFskPQnxwvlB4OvdoGAXGh4tg619/DsIhg43y10trVtG2NWSiOhqNlUPvVpEEud+9IskPZ3oFPm7xmQasrfWSPnaq1BW1oCuK6EcT3agSsSihkPj/cU+2J+tQFlFFezso090yeMTeKKrUa8Lne/6AbUZOYUmnN7Tha5/s8N7RyH0/RJrDzqamrD7Q79IblXQ3lSI8gIdtOJP/sRlu51o3twC54kgQio19LeWoGLGNLlx0Let0AGbrQ2+cFfK4LEONGxug/uM+NsuG8p2SQvpUGCzIV8X64afU1aP0jkuND9aB0fQhOIXymHOiFtvpGt//JAAsf3217ai47AXQSk7z9DCtLgYq/KN0IRvYXZ7jyPQK/7D40U3xqaRSUR0xZpgQu7cbnj3ObG/x9KnN1fgAye8ImJYstSwJz6Ij8SCfsOxutAgJ+U5KK0vxYAd7nv9cL5ah+Z9UnzxiuXLlN9HuugnxJn4GJGzuh7FE1tQ87ID3jMisk3SI/e+UhTP1w5zsyAuFs2N/d5/oAVN7WI/fUH5JrBKo4epcDVKF4T3KOCGfdsOsf9eBM5KC4j4OCcfK39sgUEdWUcz6rY44BOxyFtfBmVvIvsfLo9IObmasbbOgaCpGLXl5j7D37peLEPDQcD0YC3KF6hi2/eGA55ueeugzspF0f8uQu7UyCdPwXMiJJejxyeHXyK6hPEJPNHV6EORsAcBzffNMKblwHyLaEF074fzj4kNJB86aqrR5hLJu5Tg9obgd7WgeosL5/ol+qKB8WwTHCeUBgxCQXj31qH2rVPDbo57j0jek+0AkCYaijdLLR4XHPviPxSCc5/yDMY0L0dp0PS60fxENVoPhpN3yVk/XLtqYPutO/pJnWGmnMxrDHpksnYQEaXoWsyenwO1SAAd++Jv2PrgeMcrLrJmmPWj3L/pswPYLb5rJGs9vr8ONZs65eRdjh5nxHY3PjOiyekCe6qxvrFTJL7B6LaEAl6cDqpjMW5ngxyH5OQ9Eh8PtqK6oTPcY8GHA+0ieU/26025yJHDoAOO+DB41glHVzhOzlX13b7u6NYheMKBpidr0NkT+WA2jEaxvEoPA5N3oksen8ATXXVEovvvDgSlJyK3GJS2wM2i4bVPNATecaHwRlNs0cNtaBNtL6hNKHq0FHnTVQj1uLFzUw3sCWv1iSS8S3qCrstD5SOFME4Ry550oGFjM7zDbFHOQ/WwTVeebOjuFj+XDt2CMC40Q/uuHZ739yOwyAJ5xOXZLjilpztqM/LmRxouO+AQ26RbVIm19xihUUntJg92V1ej4902dC4LT7g0qwjVm4pYNYiIRiLgx+lZIkmf4oBdxBLv0nBvLq+IKyKf199rhg6fjO536vJhq9cN/6R+oM11eZD9YDWsCzRQhQLo2lqNhn1+ONs7sWJOOKYko9eFtl0eKfDAsLwSlYv1UKWJBPnzbgQ1sbUY79uA6mXARI1avrkc6rGj7vFWuN1uHEee2G4d8m310IWfnic+4R8gCiLvNi0cb/WddyB0yAlXr9iaW/OQmxG3fXExXL4R/34TntnShZ3tbuQ9YBQLapBXWSu2hIiYwBPRpeesE87D4mdmDnIj/eVvykGOWjS0DnXB9YAJpnDfHM/Hx+Wf2kUrlMAvqKYYUXiPGY4XpJsAsZsCx/+oPHXJWVokknflt6rpZqxa6oB1m2d090FvwcIsO1pPxLprhg4qDRftbXnh7Q/hyFFv+OZCDax7ElfigedPQN4cVgkioosSDIp4YEDOzRrYf98Fp1ck8CK+SDdZ/SKVLxS/x4lLaHtnLMNKKXmXA5UGOfflw7SvGa4THkhRL+k58n3H4ZYC4dSFWPUjfbgruwrqqTqo44vH14Xd2+z4wOuLPYW/2DC4aCH0b7Uq8w7cId10iEwWqIV5UfhG/Ak3jsiB2oWWpyvQkrgSsb9+GKFlDSa6rLALPdFVJvBuJ+RhiN12VEnvuJX+rZHGlEutDAc6D8T68J3+i9I3T69PeCI+RZvwhKJbegADaeDcDQmD6DVTJo/BXmiwQO49EOmuKRouHygNl5z5+oRtGpw8LICIiEaF4ZYF4irsx/73pZu2bjjeEzHElIe8KZfYhk6e3DeGZaiTf41qvM98ylwwN9ww6LDx0OEmrK9qRuex0UvelTi8AOYZUhKu9HKQbs53SWEw/ub8aT+GHJ0mwv15Vluiyw6fwBNdVcLjEYfgOuBEaIEyKc7kb0pNnABOfSpaB3PjmidfBOOevksyoZFu4ft8+CRhApxQcGzmddfcmgfTdg9cUnfN2zPhkBouWQthid5A0CFT2g6fGubyjSg28egTEY0pfS5yMu2wf9AFz6ygPNeKaX5u6smxiCWnxnI7RUzrE6rOBkf2BpLJys3sQOL64mPqfqccL6WhXOV3G6BVS6URmaTvoqIgzLeb0HJMmg/GKw9fkMKg/h8tsclorwtPOJtViOrHUxgaQESXND6BJ7qahMcjSuPEK+vrUR//74USpeu5qzM6sY3hO9lKW0oaS34y3Lw560VHqyPhrr4K2TcqTZeu9la4e8ITA/V0oaU9uff/pk9Qmni+P4ZnhO8NDf2EPCMXefLke0fg/FcXpOc9pn/M69NAmWmUntIH4djWBOfJUNxNBT887rjJj4628DVyREQXn8Ejd55IGXscaNrahWDcZGoDmgAlufc5YD8cjipnfXC8bkdybzNTQSW3ZL1wHwvHnVASV3GfHTve9SkxJhSAc0ur0jNthhHZqexulgHZacr6tv7eG41Z0qR43pN9t2PyddOU5F18n7u9E+6B9ib8WM3r9oQngw0NGZNU8/NgFmHQf9gJ+x888uR1ltviouD0mTBKfflPdKCx3Y1AZGUivga9bniik9gF0FnD18gRXS74BJ7oKuLe65C7+0njxI0DJsQtcO1TuqVbpInk5lhgyeyCvduF5qcr0BxeVG0yiWaaq8/kdLpFFpjam+Hy2lHzeGyKO4PJCHW3O+GJfX/arBvkGYyDLumd7NI3xV4jN5jo5HtSN80BGoqahatQsM+GNq8TTU+Lf/F/jHttkc/zEV8jR0Q0Gin8rWbo3mqDrztuMrXBTDVhZmYbvN1+ODZZ4Yj8fpIRRp0b7mGTyRtgMADOY350Pl+BTulX8a+NGyzxna6B71UbKl6N/60auYvNqT2lTstBwTI9ut7wwr29ChXb40KMNCHrdB2yDXrgoPj7NivKtoX/mJmHvDludB5O2Jtvi53Z74F/TzUq5HlbhpmcT8S9nLlqEbPDs9FLs9P3KW8jClfloKu+C+5dNbDu6vtxebI8eXjDcbjdfI0c0eWCT+CJrha9Ljg/kNJoPRYu0g+cEC8yy93tfFK3dPkKYUDhOisKTOHJftJU0N1agp+vWYKZiWMa1WaU/6IE5vBkd9LEQKa7rSh/KBeGZLZvViHK7zbJM8XLH5+khUY9zGdMeTBnSvMnBaG+ZYCGYpoO+Y9vQMlCA3STIsm9CmqdAXlL50fbKHyNHBHRKJFeGZelJMQ5Nw83dkmPwrUibmSpYxPAZeWh/IlK5F2fzJdpkPdgXNwRMUqbOfy8K6FpS2Bdkwd9OC5I74E3r/45SuakPhJe9yMrNjxohl4T+6wq04QFNynRRLOoFCW36sI9BcL791gR7jT0j8OahSVxy0rr0WK4vVHidlDEQTXMP+g/XEE9txQbHi1ETpYmul5kaKCfVwjLdyNL8TVyRJeTa74SWAxjZ+bBvfLPj+YtZGEQEdElGT++ePh2+efEze+w4OnKdagBZfVdST2lJyLGj0sVn8ATERERERERMYEnIiIiIiIiIibwRERERERERFcJzkJPRERERFe+uaWor2cxENHljU/giYiIiIiIiJjAExERERERERETeCIiIiIiIiIm8ERERERERETEBJ6IKEW+dhvKbB3wXeXl4NpqhfWFTvivjr1Fy+NW1Ozx8wQgotH1eSdqxPWlxZXMwn50VJWhrM6BEEsuxeDdAVuZDR3JBO/PO1BVVoa6fZdHKfv31MD6eAtcPMo0jjgL/dXiUAPK6ruGXkZXAJstH9hlg23vTFQ+XwTjlV4uJ9tge3ovZlZuRNElu7NBeH7fjK3/6oI3EA5oGRro9DdjxcNFMGlYvS+yZYEOmw1twzQscsrqUTr30tji0JkAAj1f4Px4XStEfdObLFj5YwsM6nHfW5zuCeB08Dyr6tV2ZraLWLRrmBNzXinqHzKh68W1aDpdiCcfzYP2ii6V0KW9rym0NXSXwvZe+EK+vqiTurxoobtO+qmGirF77EzVKfVarUoyXqug1umRu7QERfPH/4w4Hzwt4rGaN3WICTyNgYRXp8gNowMLBg6id9tQf/dVUi7TRUOivuCS3kTP9mdQvT8TBaurYJ2lEaEqhODnXrgOn4aWDYBRoEO+rR750f/vQkNZA3AJJexfR5kUiEZSfvjiEOp2Y2d9Daqf8KGyuhhG9t2i8aiFS0UsWhr7/64Xy9AAKWHP6bdszkO1qL0qSkV1ae9rKm2Ny+SGiedgF3CDCfqpakzTiSQ+bZr8ezkOfyLq3jzDgAk9Y3cKznrQdRjQf08PrXoadCKJv1aqMKEg/H92wYsc5NwYV8rz4q4DYhnv/ibUNK7HJ2eqYV3EwiUm8ET0tXLD8Z4f2kXlyJ+liTbg1FMNyL2DpUPjlDJkGlH4YD66nu6AwyUS+DksEyK6GnTjyBtN6PhcuhCqoZ0oPVevw9rf+RGUHrlOzYdNJPA6xu6LLOYjaG3skIeFqSZpMbE3CNSuxe7uoPxkW7vUJhL4QW4BieOiv60cRa4yNO1zwL8o/wrvhUPEBJ4G0P+OufREshW6yhJca2/C7g/9CPVKjXoTljxYgjsznGh6dSdcJ6QLrQoa0xKUleT37Wrb64fz1Qa0HPDKQU/+7KpVyDcOcae0NwB3xxZs3eOG70xICX5TdDDdU4qSaDepIDztTWh6ywX/WenCr0fuvaUoWqCN3RGXxl7ZPkHBpkKEXq1D8/s+sf05KK0vRY78t/1YEPe0MZl1hj53ouX/7oDTG5DLQukWZ8bKigIYM0bzaEyG5htii3qksDbc84skyuKsD47Xt8B+0Bsr06xcFD1cjNzMVModCLg7sGXLbri6I+sxIf/eYlhmqPvWJe8SVN/qRf22TnikZdNU0BryULSmEKa4OhI42oGtb+yBK1qmWpgWl6BkqQEj67Ut1ds23NDn2F6syDqtMB5sQv3vXAiE4p9WJ18flzxrhrexBZ2eyPlkQN7KchTGF4o4o7x7m9D4ehd8ZyNlUgyzRpw3n45zOeimQS9tUW9qxyyVOoCQF50vN6K1yxe7xqwyY/IU4FTC5ijnYAucJ5QGnlR+5uUJXSgjZf2LHLijy0bqfBFmfrqzzzbpbilG+QO50LKHwWUn8el8pN5tmOdGwzYnvNK1TGrozy9C6cqZ8O2qR8tej3yeIkMH8wPlKE7sftvtRPPmcL2R6uxNS1C8Kh9Dha2kYkMS8VDan7bpNliNXWhqFNfZnhB0d4t9WqobuCdCEuuUr9lb7XD7wufMJLFts1agdHXu15LwyMfoZAHq7wmh+dfNcJwM9X2ymkT5S2XRqluHUs1ubNnlih3nOYVYvdoMXfy5HHChdfMWdB4LxK4D9+uH2Xdxff9FPQp6Qwj6HGh4vgX+kB5Fj/8cZp0aqjTGbvS40bFjB/a4vAhI51P4WJUktgOHMr0AG6TekGeD8O1rQPV2ERezirDucXEMJyU3YOGG67VSD/vY0LJkyizSvn28FJPf2oKdh8PnjzgGpuWrUXpb32MXONyK+q2iPHpi15NVeu2g7dfm8DFV6mR+v2FoSv2tREmaPXr8o3F0sQrOl+O2aYo4p1eXIH+Gmhd8YgJPyfKjo24rLGus2FiugSrkR2fDM2jZtB72dAMKf/YcSqerpMiAlo01qH45E7VrcsPBx4eOZ21oQz7WPb8O+owQAvubYKuxwf/IRhTPGvgbA3tqUbNHi5J1G5E7RRXtStU9URtNblwvrUfdH4wosdXKy4ROtKH6ufWoCSZ2o/Ki9clq6H64Fhsf0A0RdJNYZ68LLc824ZNF67DxMb28rtAZL1zuEAyDJe9yItE26ORrkYbZQI2Hm3O06Hh7CxoMa1Fy62DbnmRZiLIPYTYKHimHSa+OHsemjWpMqyqUE7Thy100Nw41wLbZi5yHn0TtHK3cNVAOuhtt6K6oRlH8MT3chHXdFpQ/uhFGaX1nvWh7vgp1mzJR/WgeIkdpYugcJt9ehifnG6DNkKpSCzbWVKNJW4vyBapL6FwQjYJfP4MP5hRj/cZyaFQYQX0UjfIn/Mr5JHWtFI1Db3s1qjbVIbPKirwp4W/6nfjdTsAiynSdtFxINAreqEXd3gBw3Tjv9gkvjoum7oLM2K+SPmZJ1QFxnaiuEtcJCyqr1snLhUTDcKcok87TCU3gkx2o3mCHurAczz1qgFolrilHd6K29ilR1lWoXJhQ1v8nhGJxjSqOu0Y1PdsFzRQzVoe3KfR5JxrEef2rSdOw4R49L/lXAlHvqnuLsbaqGLpo/WzCM4c1yFywGtbnjeL8DcG/pwHPNP4Kat0GFOpj1+yqp9uA/PB1/kJANKZtqHnaP/gwkqRiQ/Lx0Pd+HZ45lINi60aUT1ENeU0adp09dtTW2KF90IaNC+K6c/vVgyawQ89B0HeYzYj9qRXrn9Mh/2cblfMTqZe/v6MKtSbpOJfKxznU40RTlTj2v9WKeB+e3OasC01P18FlKMa6F8zKcidFQv6rZnnysZzhtjOtG3tfaoF3bjnK0YS6l/Zi5rqhhgVcPbEb6hDOTcpD2RO5MGQO1g5MUs9eNG4X21dWDrxch8Z3Z2Ldj5KpZCEcP+EXcTET0RCVRJlF27fP1cJ0/1o8t1o6TuHz56VqNGfGzsmQKA/bJhcMD6xDrXQ8w2W38beJNSiIrkYbGj7JQekTtciRykS6mdBYjWpbNyp/WZRQf+uwdVG5uB6Vx65H2+qwfk86DMvD2wQR+7dvRM3GJmTWlCM3g5f3qx2fM1DS1PMLUCiP45LuJmqRt9QMTTAoLjClMEcCr8aIJQsNgMsFd+SDh9rQ5jWiuLJANCzkD0OzoARFc4JwtHeKy9LATp3qBq43wRRpuEjd127MhTFyLfe9jR3705FXVqoEK2mRrAKsulMLz6622PeHL9CYU4by24ZK3pNc5xk/TgU1yJ6tp/7oAAAN+klEQVSlj65Luls72Dg4JZbnw1Zfj/pB/g2cvCv0y60ov10N16s2VFTaUPe6A97ACLZbWRvyVuYjR6+OHccfmIDuj+D6PMlyhwc7X+2C+s5SFM/VKmUgPb28rRwlt5xH5xv2vse0V49lawqVBoAcVPUoWCyC3TEXjpyNLaaaU4Ci25REUKlKd2KBiLCuD92X3u2sv89H5b3GuOQ91fooHdeK2Pkkyk+/1IKcXg9cRyNT4bhhf8sL7Z2r4s47DYz3rkTe5PHd39BJ0SBusuP8vELk60dwzJKpA0ftsHu1sKyKLaeaYkTh/aKh2Nvn1h46t7XBaypC+R2G8DxH4poyqxAVhTq429rg6k0o6x+u6nONKlws6vyZdCy4P+67pubBcrMa/qMucL77K4Sod5aVSrKmHPpCWMShD6oWYGX0/FVBu0ice2o/PvpD7Mh3iXPW+51iVN4dvs6Lcy93VRFMQQfa9g4StZKJDanEw26R2FbGnTeDSWadPh+6xfXfNDt8LYl05541RAoqzUEwaNwapZ5NItzk/KQ8dn6OpPz/xoxVZbHjrJqSi4KFWgT/4BLRKnzV2LcbzqAJRavjlptuRulyU3K3bdsbRRnrkX+3iI2LLdB529DYPvQEi1dL7EaGCQXiPJOT9/A19s5b9H3bgUmdrz50NIrjrs9HwRwTLHfo4N3ZiI6TwwUokdy216H1Q7F9y+NvGAxfZtH27S2r4tqH0vlTgIVTgzjiitYgON5yIjinSH4qHyu7UhTclLA9x3ai+aAaloeLleRdLiMdzGUlMJ/vxI49ifVX1NfC+OvREpinBBH8dkHcd4nYn58HQ68LLjcv7cQn8JQCw4yEadonqiHdu9d/u2/g1UwR2UVvKDojp1u62ugtMPbp9aPCDVkiquxy4zjyBrz7bfxHC/QbmvGYzYNl91mQZ+ybfAeOHoEvbSZWzEgImgYRON46Do+IrbHApYbRZBh2H5NbZy4s83aiYaMVp+5cgYJFOTBMGcMnxOLCbVppQ+1SL5zv7Mbut5pR9XabSOTWonKRbgRlkeC6adDhE+BCcuUOnxsfnRHlOav/U0rTLFFH9rlFcLfAHLlDPGUmsqckLKhSbqoEejBE78LwjL/nU5jbdYAZkLtsZWiL/M+8gSfASvlc+N7sft36UzsGGsw0JPTDTVPqkL+nWykUnwfHgwOVswEGqSp/Opbl4ENb/PJie3PuW4cNi/TDDGcY5JglUQd8nuMIqo0wJe7ujQZkI74L/XG4xSXFcN/MfjfMNLNM0G53wH1C1MUbBy9rlZz1Z0Of1ffzk6eI5Y4BnO/+CtGv3omkVbouZenRNxpMlicVO37hfPTmmeuoOHcXG/vW94wbkC3qd9ux48CiAc4fzfCxIaV4aDBhdhK9ZZNap9ECi96G5sds8CxfCcttxmgi+/U+GTDGnasYWfmLC2K/HhFponnb48fpyFXjmEjEDEWYmbDPKkO2uPwM/wIw3e0rUCg2RukddSdWLBefvVXH2D1YJNBp+7QDk2vriCR3RSEm9ipP9zXSOSS+0DzQ9xwUMe5g3GZl5aH0F0UwZQ7zHQllNmj7Vrh2gjg+fzkdizvHBoo7KmRLY/Nd8cX80cCxLM0E43cBhzjmoTvMsfX0q79q+Tqlzcru+12ayZDu3Yd6eWknJvCUAtWAr/RIx7XD9OMIfhEEvG1YX9Y2wF+nDf7B6flY90sTHO1b0bbJhlZxSTf9aDVW5RuhEd8ZDIr19jpRV+YcKNwmtqygnTL8Pia3TjVyHnoOGw69jdadzah+q0m+k1/8kyLkTh0kkR9xF/r4XZBek1KK3PwA3K21qNlWjWad0r0r6bII+eHc1QL7AQ98PcG44KpLutyHLM+BgnuGOqkx7AG3HTt2OfCR16eMo4smmylU0j4zII/FGPi4RG9EdScuQE9M5puSq7ejXw5x3WODDtQ92gz/WVX/mxbJHrMk6wA0Wky+iGOAtGvFFSkA/+nkylrFPmhXtsHq3YThbrgGIZ3O3jfWo+yNAf58/aDZ6LCxIaV4OHkykplPO6l1iuQo//FqmPbtxtb2Oti2Q56vZvUQY/rHpQv9gOd8iuWfkeRr3ZIsz4G30wjLoligM/0oP4XPXtmxW+oyb29tE4mpF75AfMqeM4JitiAvelxNyF86yIJxN6E929ejer8ox0kJyyRTZkO2b5OMOynEMtUE6cQKoDt+Kwapv+mMT8QEnr52pmLUlpuR8nNqEfjMK60w3xeC70Az6l6pga2nMjaubYoF1mcLYRjNbU1qnSpo5+ajVPyTxum+/XIDmp48hWDc+OW+cVjqQp8/OtuXpnSjtnxQjSPS7flIF8hht1saYyyNk8xD6ZoSmK4PT8AjP609lXy5T4A8Hss/0B14OUJqoUkx6YyOLbu3HNY10mtkVIi+7/VyquejXh8HKefxpDZjxbJO2HZuQeeCWP0ek2MWUJ6Y6YY596R66+8JyI3RPnrP4bzUQJ0MoosPW6tqUX5rqlEridgw0nh4sTFWxA79bUWwin/SsJjm3zQNOaY/8TV+l0f5D+H0aQxw1Rg/V2Dsjs0tUIjyfy6XX7Wnit78GZ9iNSwrQu7+OjRtN8fahqmUWSpVqGf4GpQu3SAcJJaFpCf/Wg0yQXSRlxMWAY21bKkr2Idd6Dp7MTVVBd2CEpTnaxE85pGfZOuysqHuEev1jt62jmSd0jjd/EeK5PHLUtfdcdEbRFCarXZCevLb7evCfvH3nKVFypiw8NkfCoZSKndMNWFmZhDuo/2/zHXUDWQZMTvFrpmu/U4EdRasuMMQTgQlyj5eLka9PuoMyFYHcdzj69eY8306zvu2WDQ6p3iwc5s4TmN0zHQGUX5Bpcto3931JcxAb4TJBHiOftSve2ZAGr+ung1jFq+7dFFRCwZRh1yHulLrApxEbBiVeDgKMVY1PRclP8mH9ow45z67Msu/zxpniPTY48bxxO7Hvk/gG89du8JiN4464Dyjg+UeCwxTY0+S5Z4F4yXDhKJ7TAi+uxVtJy+izIapk8YZogpJwzcSnDrZtwZpvzcT2qAbrsRi7nXB/f8A/azZUIGICTxd4jSLViBvkgstmzrg7o5cPKUZcD1wHh08dHr3d4igFoyO95GeZjgO+6GeEX7nqqkAy4ynYd/cBKc31j1KmvXXfdAz6OR4Q0pmnQEXOt/1wB8JBL3STKROuNMMo584SN/1eze8gbhtCXrhfKUFjrQcLPmBNvntnpIpvx7rlNuNQK9yDKTXgNW94Uqt3KFH/r05CL7dgKb9yuu+5DJ4tw5N76cjb7kl5Scc2kyxH4Hj+Ojz8Jaf9cH50hZ59vGRk14VOPrd5y+q7qTECMtivTx5UuvRgLI+abKe7Y3Y/dk4l4Oo28vuywUOtaDlcGhsjtksaYyuD22NrXD3hKJ1r7VxN3x9IpUKucsLoHe1oK5d1OVQpC63orbVB2NBAUyMbHRxUQuW5XnQhOuY/2z04gv/H8W13jfE9XqY2DDSeHjRMfaEEx2HvLEbbNK1xOGCf5JIlq+7Qsp/qDXeugS56i401zuUV3JCmYW+7rddY7MLV0nshogDWrGVx4/6lW2X1re/CVv+PTCuNUZ96woUiPjR8VKHcrMiyTJLpU6aF+dCfbAZde/2LbutiVVIn4/CeUHlmJ6MxUdHfRMc6XlYsUjDSyxdNHahp3G4TWREUdUGGHY0ofnptmgwVmn0MC5dhdxBXiOH00fQ1robDZExVRlaGG4pwc/vM0YvqHmPVGHanq3Y8cJjaDqjLKeapIN+/gqUzRvJxia3Tu879di5LQClnRZ+j+ra8oG7z18kr1MkbDsDsTHGGRroTRZUPhE/aVES252Ri5I1XtS9VgfrnlDsXa3rS2H/l7YUyl0Ey7mlsD1ix9bXq7H2pci7taUysMEyI/V91C8vR3F3PVqerEBLb/g9uPeVY911dbCdvFwq+ujXR92PrFg3sQmN9VbY494Dby1sQ9U747t3qjlFKDStRfOWFpilLrejfsx0yLeuw8SXG1G3zh73HngrCndVwRG/6PR8WJ/KROsrzVjX7g8va4D5wSdRNJ+NIxoFs4pQ9ZRBrmNPheuYdM3U6I1Ycn8ujINdr4eLDSONhxcdY0/jyBs7sHtzILovWoMZJY8XDfxKvMu0/AeVYULJE+Xye+CrHmmOvQf+n8sx+dk6jMXz4qshdkNfiPIH/Kjfvh4V2xB9N3r549NQ9/Qn41hhRPy43wLHc23YsscM66IkyyylGFgC2xrpPfBVqHg19h54a9lkPLMpvgapkbPahkrpmG5cqxzT8HvgrTYLDLzBTKPgmq8EFsPYmXlwr/zzo3kLWRhERHRJxo8vHr5d/jlx8zsseCIiYvy4hPE+EBERERERERETeCIiIiIiIiJiAk9ERERERETEBJ6IiIiIiIiImMATERERERERERN4IiIiIiIiIibwRERERERERMQEnoiIiIiIiIiYwBMRERERERExgSciIiIiIiIiJvBERERERERETOCJiIiIiIiI6NKUziIYHzMP7mUhEBHRJe2Lh29nIRAREV3C+ASeiIiIiIiI6DJwzVcCi4GIiIiIiIjo0sYn8ERERERERERM4ImIiIiIiIiICTwRERERERERE3giIiIiIiIiYgJPREREREREREzgiYiIiIiIiJjAExERERERERETeCIiIiIiIiJiAk9ERERERETEBJ6IiIiIiIiImMATERERERERMYEnIiIiIiIiIibwRERERERERMQEnoiIiIiIiOjK9f8BltA/2J5DJwwAAAAASUVORK5CYII=)"
      ],
      "metadata": {
        "id": "3lnYV-YZzye4"
      }
    },
    {
      "cell_type": "markdown",
      "source": [
        "### TREND"
      ],
      "metadata": {
        "id": "1xvOCNTih0fE"
      }
    },
    {
      "cell_type": "markdown",
      "source": [
        "**Mann Kendall Testi ile serinin trend içerip içermediğini test edelim.**\n",
        "\n",
        "---\n",
        "**Bir zaman serisinde trend görülürse durağanlık çok düşük bir ihtimaldir.**\n"
      ],
      "metadata": {
        "id": "mCEwvsp7hJtj"
      }
    },
    {
      "cell_type": "code",
      "source": [
        "pymannkendall.original_test(df)"
      ],
      "metadata": {
        "outputId": "676241bd-7c3e-43c7-8a41-dd7a7e40b9c3",
        "colab": {
          "base_uri": "https://localhost:8080/"
        },
        "id": "UI5nYCES3shu"
      },
      "execution_count": null,
      "outputs": [
        {
          "output_type": "execute_result",
          "data": {
            "text/plain": [
              "Mann_Kendall_Test(trend='increasing', h=True, p=0.0, z=18.09994605958111, Tau=0.5768913626056483, s=55970.0, var_s=9561819.333333334, slope=0.1663562498271236, intercept=6.531625038032807)"
            ]
          },
          "metadata": {},
          "execution_count": 155
        }
      ]
    },
    {
      "cell_type": "markdown",
      "source": [
        "**trend**: This tells the trend-increasing, decreasing, or no trend.\n",
        "\n",
        "**h**: True if the trend is present. False if no trend is present.\n",
        "\n",
        "**p**: The p-value of the test.\n",
        "\n",
        "**z**: The normalized test statistic.\n",
        "\n",
        "**Tau**: Kendall Tau.\n",
        "\n",
        "**s**: Mann-Kendal’s score\n",
        "\n",
        "**var_s**: Variance S\n",
        "\n",
        "**slope**: Theil-Sen estimator/slope\n",
        "\n",
        "**intercept**: Intercept of Kendall-Theil Robust Line\n",
        "\n",
        "---\n",
        "**Mann Kendall Testine göre zaman serimizde artan bir Trend var.**\n"
      ],
      "metadata": {
        "id": "m4rV8TYHvmrY"
      }
    },
    {
      "cell_type": "markdown",
      "source": [
        "## DURAĞANLAŞTIRMA METODLARI"
      ],
      "metadata": {
        "id": "4OO-sVeuNDhE"
      }
    },
    {
      "cell_type": "markdown",
      "source": [
        "**Tahmin başarısını artırmak için veriyi daha durağan hale getirmemiz gerekiyor. Bazı durağanlaştırma yöntemleri:**\n",
        "\n",
        "1. **Differencing:** Ardışık gözlemler arasındaki farklar hesaplanarak durağanlık sağlanır.\n",
        "\n",
        "2. **Detrending:** Zaman serisindeki eğilim bileşeni kaldırılarak durağanlık elde edilir.\n",
        "\n",
        "3. **Seasonal Differencing:** Mevsimsel dönemler arasındaki farklar hesaplanarak mevsimsellikten kurtulunur.\n",
        "\n",
        "4. **Transformation:** Logaritmik, karekök gibi dönüşümlerle varyansı sabitleyebilir veya dağılımı durağanlaştırabilirsiniz.\n",
        "\n",
        "5. **Moving Average Smoothing:** Ardışık dönemlerin ortalaması alınarak gürültü azaltılır ve durağanlık sağlanır."
      ],
      "metadata": {
        "id": "XaiD9owyMo5k"
      }
    },
    {
      "cell_type": "markdown",
      "source": [
        "### LOGARITMIK DONUSUM -  BAŞARISIZ"
      ],
      "metadata": {
        "id": "qgUXMW8xN59b"
      }
    },
    {
      "cell_type": "code",
      "source": [
        "df_log=pd.DataFrame(index=df.index,data=np.log(df))"
      ],
      "metadata": {
        "id": "jAQWa8NMMRYb"
      },
      "execution_count": null,
      "outputs": []
    },
    {
      "cell_type": "code",
      "source": [
        "px.line(df_log)"
      ],
      "metadata": {
        "colab": {
          "base_uri": "https://localhost:8080/"
        },
        "id": "bIpnkhApNgEk",
        "outputId": "206dcd97-0943-4487-e7cf-d078ee6cf920"
      },
      "execution_count": null,
      "outputs": [
        {
          "output_type": "display_data",
          "data": {
            "text/html": [
              "<html>\n",
              "<head><meta charset=\"utf-8\" /></head>\n",
              "<body>\n",
              "    <div>            <script src=\"https://cdnjs.cloudflare.com/ajax/libs/mathjax/2.7.5/MathJax.js?config=TeX-AMS-MML_SVG\"></script><script type=\"text/javascript\">if (window.MathJax && window.MathJax.Hub && window.MathJax.Hub.Config) {window.MathJax.Hub.Config({SVG: {font: \"STIX-Web\"}});}</script>                <script type=\"text/javascript\">window.PlotlyConfig = {MathJaxConfig: 'local'};</script>\n",
              "        <script charset=\"utf-8\" src=\"https://cdn.plot.ly/plotly-2.24.1.min.js\"></script>                <div id=\"7ed89acc-4c01-4a29-a947-d2cf03d7b6d1\" class=\"plotly-graph-div\" style=\"height:525px; width:100%;\"></div>            <script type=\"text/javascript\">                                    window.PLOTLYENV=window.PLOTLYENV || {};                                    if (document.getElementById(\"7ed89acc-4c01-4a29-a947-d2cf03d7b6d1\")) {                    Plotly.newPlot(                        \"7ed89acc-4c01-4a29-a947-d2cf03d7b6d1\",                        [{\"hovertemplate\":\"variable=oil_price\\u003cbr\\u003eTarih=%{x}\\u003cbr\\u003evalue=%{y}\\u003cextra\\u003e\\u003c\\u002fextra\\u003e\",\"legendgroup\":\"oil_price\",\"line\":{\"color\":\"#636efa\",\"dash\":\"solid\"},\"marker\":{\"symbol\":\"circle\"},\"mode\":\"lines\",\"name\":\"oil_price\",\"orientation\":\"v\",\"showlegend\":true,\"x\":[\"1987-06-01T00:00:00\",\"1987-07-01T00:00:00\",\"1987-08-01T00:00:00\",\"1987-09-01T00:00:00\",\"1987-10-01T00:00:00\",\"1987-11-01T00:00:00\",\"1987-12-01T00:00:00\",\"1988-01-01T00:00:00\",\"1988-02-01T00:00:00\",\"1988-03-01T00:00:00\",\"1988-04-01T00:00:00\",\"1988-05-01T00:00:00\",\"1988-06-01T00:00:00\",\"1988-07-01T00:00:00\",\"1988-08-01T00:00:00\",\"1988-09-01T00:00:00\",\"1988-10-01T00:00:00\",\"1988-11-01T00:00:00\",\"1988-12-01T00:00:00\",\"1989-01-01T00:00:00\",\"1989-02-01T00:00:00\",\"1989-03-01T00:00:00\",\"1989-04-01T00:00:00\",\"1989-05-01T00:00:00\",\"1989-06-01T00:00:00\",\"1989-07-01T00:00:00\",\"1989-08-01T00:00:00\",\"1989-09-01T00:00:00\",\"1989-10-01T00:00:00\",\"1989-11-01T00:00:00\",\"1989-12-01T00:00:00\",\"1990-01-01T00:00:00\",\"1990-02-01T00:00:00\",\"1990-03-01T00:00:00\",\"1990-04-01T00:00:00\",\"1990-05-01T00:00:00\",\"1990-06-01T00:00:00\",\"1990-07-01T00:00:00\",\"1990-08-01T00:00:00\",\"1990-09-01T00:00:00\",\"1990-10-01T00:00:00\",\"1990-11-01T00:00:00\",\"1990-12-01T00:00:00\",\"1991-01-01T00:00:00\",\"1991-02-01T00:00:00\",\"1991-03-01T00:00:00\",\"1991-04-01T00:00:00\",\"1991-05-01T00:00:00\",\"1991-06-01T00:00:00\",\"1991-07-01T00:00:00\",\"1991-08-01T00:00:00\",\"1991-09-01T00:00:00\",\"1991-10-01T00:00:00\",\"1991-11-01T00:00:00\",\"1991-12-01T00:00:00\",\"1992-01-01T00:00:00\",\"1992-02-01T00:00:00\",\"1992-03-01T00:00:00\",\"1992-04-01T00:00:00\",\"1992-05-01T00:00:00\",\"1992-06-01T00:00:00\",\"1992-07-01T00:00:00\",\"1992-08-01T00:00:00\",\"1992-09-01T00:00:00\",\"1992-10-01T00:00:00\",\"1992-11-01T00:00:00\",\"1992-12-01T00:00:00\",\"1993-01-01T00:00:00\",\"1993-02-01T00:00:00\",\"1993-03-01T00:00:00\",\"1993-04-01T00:00:00\",\"1993-05-01T00:00:00\",\"1993-06-01T00:00:00\",\"1993-07-01T00:00:00\",\"1993-08-01T00:00:00\",\"1993-09-01T00:00:00\",\"1993-10-01T00:00:00\",\"1993-11-01T00:00:00\",\"1993-12-01T00:00:00\",\"1994-01-01T00:00:00\",\"1994-02-01T00:00:00\",\"1994-03-01T00:00:00\",\"1994-04-01T00:00:00\",\"1994-05-01T00:00:00\",\"1994-06-01T00:00:00\",\"1994-07-01T00:00:00\",\"1994-08-01T00:00:00\",\"1994-09-01T00:00:00\",\"1994-10-01T00:00:00\",\"1994-11-01T00:00:00\",\"1994-12-01T00:00:00\",\"1995-01-01T00:00:00\",\"1995-02-01T00:00:00\",\"1995-03-01T00:00:00\",\"1995-04-01T00:00:00\",\"1995-05-01T00:00:00\",\"1995-06-01T00:00:00\",\"1995-07-01T00:00:00\",\"1995-08-01T00:00:00\",\"1995-09-01T00:00:00\",\"1995-10-01T00:00:00\",\"1995-11-01T00:00:00\",\"1995-12-01T00:00:00\",\"1996-01-01T00:00:00\",\"1996-02-01T00:00:00\",\"1996-03-01T00:00:00\",\"1996-04-01T00:00:00\",\"1996-05-01T00:00:00\",\"1996-06-01T00:00:00\",\"1996-07-01T00:00:00\",\"1996-08-01T00:00:00\",\"1996-09-01T00:00:00\",\"1996-10-01T00:00:00\",\"1996-11-01T00:00:00\",\"1996-12-01T00:00:00\",\"1997-01-01T00:00:00\",\"1997-02-01T00:00:00\",\"1997-03-01T00:00:00\",\"1997-04-01T00:00:00\",\"1997-05-01T00:00:00\",\"1997-06-01T00:00:00\",\"1997-07-01T00:00:00\",\"1997-08-01T00:00:00\",\"1997-09-01T00:00:00\",\"1997-10-01T00:00:00\",\"1997-11-01T00:00:00\",\"1997-12-01T00:00:00\",\"1998-01-01T00:00:00\",\"1998-02-01T00:00:00\",\"1998-03-01T00:00:00\",\"1998-04-01T00:00:00\",\"1998-05-01T00:00:00\",\"1998-06-01T00:00:00\",\"1998-07-01T00:00:00\",\"1998-08-01T00:00:00\",\"1998-09-01T00:00:00\",\"1998-10-01T00:00:00\",\"1998-11-01T00:00:00\",\"1998-12-01T00:00:00\",\"1999-01-01T00:00:00\",\"1999-02-01T00:00:00\",\"1999-03-01T00:00:00\",\"1999-04-01T00:00:00\",\"1999-05-01T00:00:00\",\"1999-06-01T00:00:00\",\"1999-07-01T00:00:00\",\"1999-08-01T00:00:00\",\"1999-09-01T00:00:00\",\"1999-10-01T00:00:00\",\"1999-11-01T00:00:00\",\"1999-12-01T00:00:00\",\"2000-01-01T00:00:00\",\"2000-02-01T00:00:00\",\"2000-03-01T00:00:00\",\"2000-04-01T00:00:00\",\"2000-05-01T00:00:00\",\"2000-06-01T00:00:00\",\"2000-07-01T00:00:00\",\"2000-08-01T00:00:00\",\"2000-09-01T00:00:00\",\"2000-10-01T00:00:00\",\"2000-11-01T00:00:00\",\"2000-12-01T00:00:00\",\"2001-01-01T00:00:00\",\"2001-02-01T00:00:00\",\"2001-03-01T00:00:00\",\"2001-04-01T00:00:00\",\"2001-05-01T00:00:00\",\"2001-06-01T00:00:00\",\"2001-07-01T00:00:00\",\"2001-08-01T00:00:00\",\"2001-09-01T00:00:00\",\"2001-10-01T00:00:00\",\"2001-11-01T00:00:00\",\"2001-12-01T00:00:00\",\"2002-01-01T00:00:00\",\"2002-02-01T00:00:00\",\"2002-03-01T00:00:00\",\"2002-04-01T00:00:00\",\"2002-05-01T00:00:00\",\"2002-06-01T00:00:00\",\"2002-07-01T00:00:00\",\"2002-08-01T00:00:00\",\"2002-09-01T00:00:00\",\"2002-10-01T00:00:00\",\"2002-11-01T00:00:00\",\"2002-12-01T00:00:00\",\"2003-01-01T00:00:00\",\"2003-02-01T00:00:00\",\"2003-03-01T00:00:00\",\"2003-04-01T00:00:00\",\"2003-05-01T00:00:00\",\"2003-06-01T00:00:00\",\"2003-07-01T00:00:00\",\"2003-08-01T00:00:00\",\"2003-09-01T00:00:00\",\"2003-10-01T00:00:00\",\"2003-11-01T00:00:00\",\"2003-12-01T00:00:00\",\"2004-01-01T00:00:00\",\"2004-02-01T00:00:00\",\"2004-03-01T00:00:00\",\"2004-04-01T00:00:00\",\"2004-05-01T00:00:00\",\"2004-06-01T00:00:00\",\"2004-07-01T00:00:00\",\"2004-08-01T00:00:00\",\"2004-09-01T00:00:00\",\"2004-10-01T00:00:00\",\"2004-11-01T00:00:00\",\"2004-12-01T00:00:00\",\"2005-01-01T00:00:00\",\"2005-02-01T00:00:00\",\"2005-03-01T00:00:00\",\"2005-04-01T00:00:00\",\"2005-05-01T00:00:00\",\"2005-06-01T00:00:00\",\"2005-07-01T00:00:00\",\"2005-08-01T00:00:00\",\"2005-09-01T00:00:00\",\"2005-10-01T00:00:00\",\"2005-11-01T00:00:00\",\"2005-12-01T00:00:00\",\"2006-01-01T00:00:00\",\"2006-02-01T00:00:00\",\"2006-03-01T00:00:00\",\"2006-04-01T00:00:00\",\"2006-05-01T00:00:00\",\"2006-06-01T00:00:00\",\"2006-07-01T00:00:00\",\"2006-08-01T00:00:00\",\"2006-09-01T00:00:00\",\"2006-10-01T00:00:00\",\"2006-11-01T00:00:00\",\"2006-12-01T00:00:00\",\"2007-01-01T00:00:00\",\"2007-02-01T00:00:00\",\"2007-03-01T00:00:00\",\"2007-04-01T00:00:00\",\"2007-05-01T00:00:00\",\"2007-06-01T00:00:00\",\"2007-07-01T00:00:00\",\"2007-08-01T00:00:00\",\"2007-09-01T00:00:00\",\"2007-10-01T00:00:00\",\"2007-11-01T00:00:00\",\"2007-12-01T00:00:00\",\"2008-01-01T00:00:00\",\"2008-02-01T00:00:00\",\"2008-03-01T00:00:00\",\"2008-04-01T00:00:00\",\"2008-05-01T00:00:00\",\"2008-06-01T00:00:00\",\"2008-07-01T00:00:00\",\"2008-08-01T00:00:00\",\"2008-09-01T00:00:00\",\"2008-10-01T00:00:00\",\"2008-11-01T00:00:00\",\"2008-12-01T00:00:00\",\"2009-01-01T00:00:00\",\"2009-02-01T00:00:00\",\"2009-03-01T00:00:00\",\"2009-04-01T00:00:00\",\"2009-05-01T00:00:00\",\"2009-06-01T00:00:00\",\"2009-07-01T00:00:00\",\"2009-08-01T00:00:00\",\"2009-09-01T00:00:00\",\"2009-10-01T00:00:00\",\"2009-11-01T00:00:00\",\"2009-12-01T00:00:00\",\"2010-01-01T00:00:00\",\"2010-02-01T00:00:00\",\"2010-03-01T00:00:00\",\"2010-04-01T00:00:00\",\"2010-05-01T00:00:00\",\"2010-06-01T00:00:00\",\"2010-07-01T00:00:00\",\"2010-08-01T00:00:00\",\"2010-09-01T00:00:00\",\"2010-10-01T00:00:00\",\"2010-11-01T00:00:00\",\"2010-12-01T00:00:00\",\"2011-01-01T00:00:00\",\"2011-02-01T00:00:00\",\"2011-03-01T00:00:00\",\"2011-04-01T00:00:00\",\"2011-05-01T00:00:00\",\"2011-06-01T00:00:00\",\"2011-07-01T00:00:00\",\"2011-08-01T00:00:00\",\"2011-09-01T00:00:00\",\"2011-10-01T00:00:00\",\"2011-11-01T00:00:00\",\"2011-12-01T00:00:00\",\"2012-01-01T00:00:00\",\"2012-02-01T00:00:00\",\"2012-03-01T00:00:00\",\"2012-04-01T00:00:00\",\"2012-05-01T00:00:00\",\"2012-06-01T00:00:00\",\"2012-07-01T00:00:00\",\"2012-08-01T00:00:00\",\"2012-09-01T00:00:00\",\"2012-10-01T00:00:00\",\"2012-11-01T00:00:00\",\"2012-12-01T00:00:00\",\"2013-01-01T00:00:00\",\"2013-02-01T00:00:00\",\"2013-03-01T00:00:00\",\"2013-04-01T00:00:00\",\"2013-05-01T00:00:00\",\"2013-06-01T00:00:00\",\"2013-07-01T00:00:00\",\"2013-08-01T00:00:00\",\"2013-09-01T00:00:00\",\"2013-10-01T00:00:00\",\"2013-11-01T00:00:00\",\"2013-12-01T00:00:00\",\"2014-01-01T00:00:00\",\"2014-02-01T00:00:00\",\"2014-03-01T00:00:00\",\"2014-04-01T00:00:00\",\"2014-05-01T00:00:00\",\"2014-06-01T00:00:00\",\"2014-07-01T00:00:00\",\"2014-08-01T00:00:00\",\"2014-09-01T00:00:00\",\"2014-10-01T00:00:00\",\"2014-11-01T00:00:00\",\"2014-12-01T00:00:00\",\"2015-01-01T00:00:00\",\"2015-02-01T00:00:00\",\"2015-03-01T00:00:00\",\"2015-04-01T00:00:00\",\"2015-05-01T00:00:00\",\"2015-06-01T00:00:00\",\"2015-07-01T00:00:00\",\"2015-08-01T00:00:00\",\"2015-09-01T00:00:00\",\"2015-10-01T00:00:00\",\"2015-11-01T00:00:00\",\"2015-12-01T00:00:00\",\"2016-01-01T00:00:00\",\"2016-02-01T00:00:00\",\"2016-03-01T00:00:00\",\"2016-04-01T00:00:00\",\"2016-05-01T00:00:00\",\"2016-06-01T00:00:00\",\"2016-07-01T00:00:00\",\"2016-08-01T00:00:00\",\"2016-09-01T00:00:00\",\"2016-10-01T00:00:00\",\"2016-11-01T00:00:00\",\"2016-12-01T00:00:00\",\"2017-01-01T00:00:00\",\"2017-02-01T00:00:00\",\"2017-03-01T00:00:00\",\"2017-04-01T00:00:00\",\"2017-05-01T00:00:00\",\"2017-06-01T00:00:00\",\"2017-07-01T00:00:00\",\"2017-08-01T00:00:00\",\"2017-09-01T00:00:00\",\"2017-10-01T00:00:00\",\"2017-11-01T00:00:00\",\"2017-12-01T00:00:00\",\"2018-01-01T00:00:00\",\"2018-02-01T00:00:00\",\"2018-03-01T00:00:00\",\"2018-04-01T00:00:00\",\"2018-05-01T00:00:00\",\"2018-06-01T00:00:00\",\"2018-07-01T00:00:00\",\"2018-08-01T00:00:00\",\"2018-09-01T00:00:00\",\"2018-10-01T00:00:00\",\"2018-11-01T00:00:00\",\"2018-12-01T00:00:00\",\"2019-01-01T00:00:00\",\"2019-02-01T00:00:00\",\"2019-03-01T00:00:00\",\"2019-04-01T00:00:00\",\"2019-05-01T00:00:00\",\"2019-06-01T00:00:00\",\"2019-07-01T00:00:00\",\"2019-08-01T00:00:00\",\"2019-09-01T00:00:00\",\"2019-10-01T00:00:00\",\"2019-11-01T00:00:00\",\"2019-12-01T00:00:00\",\"2020-01-01T00:00:00\",\"2020-02-01T00:00:00\",\"2020-03-01T00:00:00\",\"2020-04-01T00:00:00\",\"2020-05-01T00:00:00\",\"2020-06-01T00:00:00\",\"2020-07-01T00:00:00\",\"2020-08-01T00:00:00\",\"2020-09-01T00:00:00\",\"2020-10-01T00:00:00\",\"2020-11-01T00:00:00\",\"2020-12-01T00:00:00\",\"2021-01-01T00:00:00\",\"2021-02-01T00:00:00\",\"2021-03-01T00:00:00\",\"2021-04-01T00:00:00\",\"2021-05-01T00:00:00\",\"2021-06-01T00:00:00\",\"2021-07-01T00:00:00\",\"2021-08-01T00:00:00\",\"2021-09-01T00:00:00\",\"2021-10-01T00:00:00\",\"2021-11-01T00:00:00\",\"2021-12-01T00:00:00\",\"2022-01-01T00:00:00\",\"2022-02-01T00:00:00\",\"2022-03-01T00:00:00\",\"2022-04-01T00:00:00\",\"2022-05-01T00:00:00\",\"2022-06-01T00:00:00\",\"2022-07-01T00:00:00\",\"2022-08-01T00:00:00\",\"2022-09-01T00:00:00\",\"2022-10-01T00:00:00\",\"2022-11-01T00:00:00\",\"2022-12-01T00:00:00\",\"2023-01-01T00:00:00\",\"2023-02-01T00:00:00\",\"2023-03-01T00:00:00\",\"2023-04-01T00:00:00\",\"2023-05-01T00:00:00\",\"2023-06-01T00:00:00\",\"2023-07-01T00:00:00\",\"2023-08-01T00:00:00\",\"2023-09-01T00:00:00\",\"2023-10-01T00:00:00\",\"2023-11-01T00:00:00\",\"2023-12-01T00:00:00\",\"2024-01-01T00:00:00\",\"2024-02-01T00:00:00\"],\"xaxis\":\"x\",\"y\":[2.9486406660201405,2.997231149677727,2.924773184613497,2.916689066213538,2.9338568698359038,2.8735646395797834,2.8678989020441064,2.7899373605743945,2.689886230474539,2.750470916986162,2.8094026953624978,2.785011242238338,2.6518325211039815,2.7568403652716422,2.667228206581955,2.4790562361098245,2.533696813957432,2.66374994220563,2.7868613815264998,2.7960610784249234,2.8466520505398383,3.017982882488811,3.0032042883926917,2.9041650800285006,2.905807566026004,2.791165107812717,2.8449093838194073,2.9030685886905716,2.9407479652212314,2.916689066213538,3.0469005601283903,3.0204248861443626,2.954910279033736,2.8875901149342877,2.7942278973432626,2.72785282839839,2.7555697170701863,2.9564715596006885,3.3250360206965914,3.713572066704308,3.535145354171894,3.4404180948154366,3.3446270301737613,3.0301337002713233,2.970414465569701,2.8903717578961645,2.9806186357439426,2.9444389791664403,2.916689066213538,2.9780773383152703,3.0218872310308424,3.064791809485486,3.091042453358316,2.9997242948235283,2.8763855159214247,2.8986705607108596,2.859339648648436,2.949164637737656,2.9780773383152703,3.0301337002713233,3.0252910757955354,3.0145540277945786,2.9780773383152703,3.004692014925463,2.9512577834521614,2.9575110607337933,2.8820035082256483,2.916689066213538,2.935451342669061,2.928523523860541,2.93651291389402,2.9139797716817317,2.8581928595319295,2.8243506567983707,2.8172035149987327,2.8466520505398383,2.7363136663750693,2.655352412101761,2.578700529074361,2.696652156149841,2.6093342281630525,2.583997552432231,2.731115474033206,2.7837759116303458,2.859339648648436,2.916689066213538,2.7744619666214616,2.8172035149987327,2.8437459165561094,2.830267833826459,2.7868613815264998,2.8213788864092133,2.8466520505398383,2.8892600290434745,2.9433857931817817,2.866761892257031,2.8081971497071487,2.7587433154177283,2.785011242238338,2.8081971497071487,2.8081971497071487,2.8408313123360287,2.9258461460898246,2.811208293204836,2.9338568698359038,3.012097627640255,2.970414465569701,2.89591193827178,2.9590682891823996,2.9444389791664403,3.043569602968151,3.184284380098582,3.126760535960395,3.142858338444285,3.173878458937465,3.147594622863237,2.967332799032293,2.9193910402972683,2.9041650800285006,2.9439125248241944,2.9025198918318122,2.9412760877579323,2.8892600290434745,2.993730270883318,2.966303462863179,2.942331496826876,2.7638002162067017,2.7466296830696852,2.604909442182697,2.6297282343267403,2.6239436918052106,2.6411978941143697,2.4714836294558595,2.5360749363624,2.4898941912990393,2.688527534613346,2.4849066497880004,2.2935443483418965,2.355177543113216,2.428336298299606,2.3589654264301534,2.7093826463359885,2.800325477211381,2.691243082785829,2.831447079246135,2.994231147427724,3.0483247236731614,3.1346242724206097,3.0497468618602293,3.2268439945173775,3.2160718975354663,3.298795448044074,3.367640598133313,3.177220149599368,3.1692653243148663,3.389124800427886,3.452524008827496,3.2308043957334744,3.5576311675039825,3.3470931226689546,3.4061849231731944,3.48216274048526,3.1170645587215158,3.2805352052549286,3.22525543183224,3.1570004211501135,3.303584552795155,3.351656936102019,3.266141017335315,3.192531849528599,3.288401887516811,3.0851158346886765,2.9770590082883697,2.9402195636237325,2.962692419475791,2.9481164196123277,3.0315819264476884,3.232384174892993,3.2950958507796098,3.1726224403507386,3.231989464013584,3.26880819361641,3.3163654461454577,3.371081757757532,3.23907053215372,3.2480462021679806,3.405189402931693,3.4522073025699003,3.5263605246161616,3.3339886319687055,3.1612467120315646,3.2801590532850993,3.3631493140246254,3.3562000157314196,3.4137844971676268,3.335413641116152,3.327909585892323,3.3655702040190043,3.4111477125153233,3.3854066957558313,3.494687724749494,3.4747575847701837,3.561897992353146,3.6109179126442243,3.503152104185149,3.7249702742582897,3.6838669122903918,3.8661884690843467,3.8745288010005656,3.789403291880235,3.6983346128846915,3.795713883027763,3.914619631275412,3.9744342655495433,3.9241491852259864,3.8979240810486444,4.0138573113094145,4.0905038628361625,4.2017030805426,4.122283930911342,4.068513802187579,3.9749978045895347,4.066287964439575,4.146146060785364,4.090671156855792,4.190563419962643,4.27874728521988,4.213164097564083,4.293195420967266,4.314149212270796,4.214495163352562,4.079061705357583,4.027670428954108,4.1644923221241825,4.076859247881081,4.034594557816327,4.0841258620277685,4.226395693132972,4.208119576480946,4.222151266709757,4.279717015849312,4.343935283551159,4.280685807012206,4.394078715698023,4.498364181670282,4.485372622532496,4.539884719289462,4.5172129072289495,4.6141299273595635,4.628202885098664,4.7106106984460885,4.850857701737196,4.93014804318357,4.821087692210561,4.731714727313047,4.538175317163813,4.0943445622221,3.8653505972297153,3.578506396632566,3.7880458256084353,3.7934646693040106,3.8314634975697293,3.9180050771056933,4.174079530240954,4.221124045253227,4.249637446628136,4.234396317669857,4.186923743515194,4.316287392959792,4.353755752706852,4.355554314342767,4.26549281841793,4.335458998857547,4.386640972224627,4.456554161659308,4.290459441148391,4.316687793365541,4.350277936359301,4.324265097815334,4.391605609454205,4.4124345908452645,4.45457982735559,4.535069558308602,4.5948167739086,4.720906684470688,4.761660982747524,4.840953517648737,4.7637112141166424,4.715906227582757,4.75298656068231,4.757719584448376,4.6579523714270605,4.68610480348409,4.711510221759418,4.682964213428112,4.702841213161538,4.805904515789171,4.815512145465092,4.776262260830497,4.6430438384161725,4.545101659521972,4.662778498608405,4.735584224710024,4.71276819658611,4.699479865458833,4.7080877199947775,4.707726774313183,4.74970333672039,4.720282993088596,4.686381441412914,4.6203543213131315,4.609460967405248,4.6297652328434715,4.681112189563248,4.753331536968612,4.680741372835166,4.677769878402435,4.7101606331790284,4.70002571700077,4.683611612294654,4.691164379154952,4.662967284714308,4.68794761244566,4.693272634209637,4.709800435066175,4.653388758258566,4.6163079303985475,4.5503971601407995,4.432838563223485,4.27513717299578,4.012230265845171,3.8611506750543896,4.12535861575127,3.983226764434478,4.157319361383489,4.145671189387441,4.099497927462895,3.975748696308691,3.8705758155139725,3.8562988566557843,3.871201010907891,3.778034365424829,3.600321427132145,3.500741011998417,3.581294243433999,3.6041382256588457,3.8207845249938748,3.897112392692392,3.8722421354163012,3.707701208354524,3.869950229006238,3.87618855241893,3.832979798087693,3.8701588013294472,4.006605647914094,4.0118683403978626,3.977061401607368,3.955082494888593,3.9011642620932703,3.899950424193877,3.851848282392076,3.9510513923956245,3.9644256842211942,4.043402083484526,4.116595171156921,4.1515122352784415,4.200654626915515,4.2162671661789055,4.190866129212723,4.234396317669857,4.3296801543016725,4.336636932375072,4.349503442968322,4.306224921257599,4.343025897324149,4.415461410760119,4.315352501405889,4.055430468722875,3.9233585150918917,4.134526351854933,4.174848701881061,4.218477763203211,4.279301532151069,4.201403634515509,4.212423850287702,4.15997623565093,4.111529386976201,4.110709916308365,4.08260930600368,4.1666652238017265,4.216119619148022,4.056469609793174,3.9378856649538734,2.6979998652487085,2.896464271895322,3.530762586016799,3.7290612437467683,3.764218810659752,3.811539466849824,3.696351468952637,3.5926438462331105,3.8467375387295166,3.9361300807713793,4.0118683403978626,4.187531276948218,4.1513548169388805,4.215529213226812,4.239310332472287,4.343025897324149,4.353112624509239,4.296604902619887,4.354269957628839,4.420044701861403,4.260706099437326,4.346917457560314,4.5255857066452485,4.635505385784164,4.675535448648655,4.685459017216894,4.832544773830117,4.785656726836316,4.7141142729772705,4.570061008874523,4.487512142519859,4.535820107853298,4.449802098754394,4.416669578117421,4.423888088768799,4.421367532912338,4.371850028222321,4.398391988760146,4.276388302650885,4.310933344565636,4.445236148071766,4.469235908747258,4.562888793731485,4.4638370098714475,4.403298769949421,4.3527265489623295,4.418599614904722,4.437579593794131],\"yaxis\":\"y\",\"type\":\"scatter\"}],                        {\"template\":{\"data\":{\"histogram2dcontour\":[{\"type\":\"histogram2dcontour\",\"colorbar\":{\"outlinewidth\":0,\"ticks\":\"\"},\"colorscale\":[[0.0,\"#0d0887\"],[0.1111111111111111,\"#46039f\"],[0.2222222222222222,\"#7201a8\"],[0.3333333333333333,\"#9c179e\"],[0.4444444444444444,\"#bd3786\"],[0.5555555555555556,\"#d8576b\"],[0.6666666666666666,\"#ed7953\"],[0.7777777777777778,\"#fb9f3a\"],[0.8888888888888888,\"#fdca26\"],[1.0,\"#f0f921\"]]}],\"choropleth\":[{\"type\":\"choropleth\",\"colorbar\":{\"outlinewidth\":0,\"ticks\":\"\"}}],\"histogram2d\":[{\"type\":\"histogram2d\",\"colorbar\":{\"outlinewidth\":0,\"ticks\":\"\"},\"colorscale\":[[0.0,\"#0d0887\"],[0.1111111111111111,\"#46039f\"],[0.2222222222222222,\"#7201a8\"],[0.3333333333333333,\"#9c179e\"],[0.4444444444444444,\"#bd3786\"],[0.5555555555555556,\"#d8576b\"],[0.6666666666666666,\"#ed7953\"],[0.7777777777777778,\"#fb9f3a\"],[0.8888888888888888,\"#fdca26\"],[1.0,\"#f0f921\"]]}],\"heatmap\":[{\"type\":\"heatmap\",\"colorbar\":{\"outlinewidth\":0,\"ticks\":\"\"},\"colorscale\":[[0.0,\"#0d0887\"],[0.1111111111111111,\"#46039f\"],[0.2222222222222222,\"#7201a8\"],[0.3333333333333333,\"#9c179e\"],[0.4444444444444444,\"#bd3786\"],[0.5555555555555556,\"#d8576b\"],[0.6666666666666666,\"#ed7953\"],[0.7777777777777778,\"#fb9f3a\"],[0.8888888888888888,\"#fdca26\"],[1.0,\"#f0f921\"]]}],\"heatmapgl\":[{\"type\":\"heatmapgl\",\"colorbar\":{\"outlinewidth\":0,\"ticks\":\"\"},\"colorscale\":[[0.0,\"#0d0887\"],[0.1111111111111111,\"#46039f\"],[0.2222222222222222,\"#7201a8\"],[0.3333333333333333,\"#9c179e\"],[0.4444444444444444,\"#bd3786\"],[0.5555555555555556,\"#d8576b\"],[0.6666666666666666,\"#ed7953\"],[0.7777777777777778,\"#fb9f3a\"],[0.8888888888888888,\"#fdca26\"],[1.0,\"#f0f921\"]]}],\"contourcarpet\":[{\"type\":\"contourcarpet\",\"colorbar\":{\"outlinewidth\":0,\"ticks\":\"\"}}],\"contour\":[{\"type\":\"contour\",\"colorbar\":{\"outlinewidth\":0,\"ticks\":\"\"},\"colorscale\":[[0.0,\"#0d0887\"],[0.1111111111111111,\"#46039f\"],[0.2222222222222222,\"#7201a8\"],[0.3333333333333333,\"#9c179e\"],[0.4444444444444444,\"#bd3786\"],[0.5555555555555556,\"#d8576b\"],[0.6666666666666666,\"#ed7953\"],[0.7777777777777778,\"#fb9f3a\"],[0.8888888888888888,\"#fdca26\"],[1.0,\"#f0f921\"]]}],\"surface\":[{\"type\":\"surface\",\"colorbar\":{\"outlinewidth\":0,\"ticks\":\"\"},\"colorscale\":[[0.0,\"#0d0887\"],[0.1111111111111111,\"#46039f\"],[0.2222222222222222,\"#7201a8\"],[0.3333333333333333,\"#9c179e\"],[0.4444444444444444,\"#bd3786\"],[0.5555555555555556,\"#d8576b\"],[0.6666666666666666,\"#ed7953\"],[0.7777777777777778,\"#fb9f3a\"],[0.8888888888888888,\"#fdca26\"],[1.0,\"#f0f921\"]]}],\"mesh3d\":[{\"type\":\"mesh3d\",\"colorbar\":{\"outlinewidth\":0,\"ticks\":\"\"}}],\"scatter\":[{\"fillpattern\":{\"fillmode\":\"overlay\",\"size\":10,\"solidity\":0.2},\"type\":\"scatter\"}],\"parcoords\":[{\"type\":\"parcoords\",\"line\":{\"colorbar\":{\"outlinewidth\":0,\"ticks\":\"\"}}}],\"scatterpolargl\":[{\"type\":\"scatterpolargl\",\"marker\":{\"colorbar\":{\"outlinewidth\":0,\"ticks\":\"\"}}}],\"bar\":[{\"error_x\":{\"color\":\"#2a3f5f\"},\"error_y\":{\"color\":\"#2a3f5f\"},\"marker\":{\"line\":{\"color\":\"#E5ECF6\",\"width\":0.5},\"pattern\":{\"fillmode\":\"overlay\",\"size\":10,\"solidity\":0.2}},\"type\":\"bar\"}],\"scattergeo\":[{\"type\":\"scattergeo\",\"marker\":{\"colorbar\":{\"outlinewidth\":0,\"ticks\":\"\"}}}],\"scatterpolar\":[{\"type\":\"scatterpolar\",\"marker\":{\"colorbar\":{\"outlinewidth\":0,\"ticks\":\"\"}}}],\"histogram\":[{\"marker\":{\"pattern\":{\"fillmode\":\"overlay\",\"size\":10,\"solidity\":0.2}},\"type\":\"histogram\"}],\"scattergl\":[{\"type\":\"scattergl\",\"marker\":{\"colorbar\":{\"outlinewidth\":0,\"ticks\":\"\"}}}],\"scatter3d\":[{\"type\":\"scatter3d\",\"line\":{\"colorbar\":{\"outlinewidth\":0,\"ticks\":\"\"}},\"marker\":{\"colorbar\":{\"outlinewidth\":0,\"ticks\":\"\"}}}],\"scattermapbox\":[{\"type\":\"scattermapbox\",\"marker\":{\"colorbar\":{\"outlinewidth\":0,\"ticks\":\"\"}}}],\"scatterternary\":[{\"type\":\"scatterternary\",\"marker\":{\"colorbar\":{\"outlinewidth\":0,\"ticks\":\"\"}}}],\"scattercarpet\":[{\"type\":\"scattercarpet\",\"marker\":{\"colorbar\":{\"outlinewidth\":0,\"ticks\":\"\"}}}],\"carpet\":[{\"aaxis\":{\"endlinecolor\":\"#2a3f5f\",\"gridcolor\":\"white\",\"linecolor\":\"white\",\"minorgridcolor\":\"white\",\"startlinecolor\":\"#2a3f5f\"},\"baxis\":{\"endlinecolor\":\"#2a3f5f\",\"gridcolor\":\"white\",\"linecolor\":\"white\",\"minorgridcolor\":\"white\",\"startlinecolor\":\"#2a3f5f\"},\"type\":\"carpet\"}],\"table\":[{\"cells\":{\"fill\":{\"color\":\"#EBF0F8\"},\"line\":{\"color\":\"white\"}},\"header\":{\"fill\":{\"color\":\"#C8D4E3\"},\"line\":{\"color\":\"white\"}},\"type\":\"table\"}],\"barpolar\":[{\"marker\":{\"line\":{\"color\":\"#E5ECF6\",\"width\":0.5},\"pattern\":{\"fillmode\":\"overlay\",\"size\":10,\"solidity\":0.2}},\"type\":\"barpolar\"}],\"pie\":[{\"automargin\":true,\"type\":\"pie\"}]},\"layout\":{\"autotypenumbers\":\"strict\",\"colorway\":[\"#636efa\",\"#EF553B\",\"#00cc96\",\"#ab63fa\",\"#FFA15A\",\"#19d3f3\",\"#FF6692\",\"#B6E880\",\"#FF97FF\",\"#FECB52\"],\"font\":{\"color\":\"#2a3f5f\"},\"hovermode\":\"closest\",\"hoverlabel\":{\"align\":\"left\"},\"paper_bgcolor\":\"white\",\"plot_bgcolor\":\"#E5ECF6\",\"polar\":{\"bgcolor\":\"#E5ECF6\",\"angularaxis\":{\"gridcolor\":\"white\",\"linecolor\":\"white\",\"ticks\":\"\"},\"radialaxis\":{\"gridcolor\":\"white\",\"linecolor\":\"white\",\"ticks\":\"\"}},\"ternary\":{\"bgcolor\":\"#E5ECF6\",\"aaxis\":{\"gridcolor\":\"white\",\"linecolor\":\"white\",\"ticks\":\"\"},\"baxis\":{\"gridcolor\":\"white\",\"linecolor\":\"white\",\"ticks\":\"\"},\"caxis\":{\"gridcolor\":\"white\",\"linecolor\":\"white\",\"ticks\":\"\"}},\"coloraxis\":{\"colorbar\":{\"outlinewidth\":0,\"ticks\":\"\"}},\"colorscale\":{\"sequential\":[[0.0,\"#0d0887\"],[0.1111111111111111,\"#46039f\"],[0.2222222222222222,\"#7201a8\"],[0.3333333333333333,\"#9c179e\"],[0.4444444444444444,\"#bd3786\"],[0.5555555555555556,\"#d8576b\"],[0.6666666666666666,\"#ed7953\"],[0.7777777777777778,\"#fb9f3a\"],[0.8888888888888888,\"#fdca26\"],[1.0,\"#f0f921\"]],\"sequentialminus\":[[0.0,\"#0d0887\"],[0.1111111111111111,\"#46039f\"],[0.2222222222222222,\"#7201a8\"],[0.3333333333333333,\"#9c179e\"],[0.4444444444444444,\"#bd3786\"],[0.5555555555555556,\"#d8576b\"],[0.6666666666666666,\"#ed7953\"],[0.7777777777777778,\"#fb9f3a\"],[0.8888888888888888,\"#fdca26\"],[1.0,\"#f0f921\"]],\"diverging\":[[0,\"#8e0152\"],[0.1,\"#c51b7d\"],[0.2,\"#de77ae\"],[0.3,\"#f1b6da\"],[0.4,\"#fde0ef\"],[0.5,\"#f7f7f7\"],[0.6,\"#e6f5d0\"],[0.7,\"#b8e186\"],[0.8,\"#7fbc41\"],[0.9,\"#4d9221\"],[1,\"#276419\"]]},\"xaxis\":{\"gridcolor\":\"white\",\"linecolor\":\"white\",\"ticks\":\"\",\"title\":{\"standoff\":15},\"zerolinecolor\":\"white\",\"automargin\":true,\"zerolinewidth\":2},\"yaxis\":{\"gridcolor\":\"white\",\"linecolor\":\"white\",\"ticks\":\"\",\"title\":{\"standoff\":15},\"zerolinecolor\":\"white\",\"automargin\":true,\"zerolinewidth\":2},\"scene\":{\"xaxis\":{\"backgroundcolor\":\"#E5ECF6\",\"gridcolor\":\"white\",\"linecolor\":\"white\",\"showbackground\":true,\"ticks\":\"\",\"zerolinecolor\":\"white\",\"gridwidth\":2},\"yaxis\":{\"backgroundcolor\":\"#E5ECF6\",\"gridcolor\":\"white\",\"linecolor\":\"white\",\"showbackground\":true,\"ticks\":\"\",\"zerolinecolor\":\"white\",\"gridwidth\":2},\"zaxis\":{\"backgroundcolor\":\"#E5ECF6\",\"gridcolor\":\"white\",\"linecolor\":\"white\",\"showbackground\":true,\"ticks\":\"\",\"zerolinecolor\":\"white\",\"gridwidth\":2}},\"shapedefaults\":{\"line\":{\"color\":\"#2a3f5f\"}},\"annotationdefaults\":{\"arrowcolor\":\"#2a3f5f\",\"arrowhead\":0,\"arrowwidth\":1},\"geo\":{\"bgcolor\":\"white\",\"landcolor\":\"#E5ECF6\",\"subunitcolor\":\"white\",\"showland\":true,\"showlakes\":true,\"lakecolor\":\"white\"},\"title\":{\"x\":0.05},\"mapbox\":{\"style\":\"light\"}}},\"xaxis\":{\"anchor\":\"y\",\"domain\":[0.0,1.0],\"title\":{\"text\":\"Tarih\"}},\"yaxis\":{\"anchor\":\"x\",\"domain\":[0.0,1.0],\"title\":{\"text\":\"value\"}},\"legend\":{\"title\":{\"text\":\"variable\"},\"tracegroupgap\":0},\"margin\":{\"t\":60}},                        {\"responsive\": true}                    ).then(function(){\n",
              "                            \n",
              "var gd = document.getElementById('7ed89acc-4c01-4a29-a947-d2cf03d7b6d1');\n",
              "var x = new MutationObserver(function (mutations, observer) {{\n",
              "        var display = window.getComputedStyle(gd).display;\n",
              "        if (!display || display === 'none') {{\n",
              "            console.log([gd, 'removed!']);\n",
              "            Plotly.purge(gd);\n",
              "            observer.disconnect();\n",
              "        }}\n",
              "}});\n",
              "\n",
              "// Listen for the removal of the full notebook cells\n",
              "var notebookContainer = gd.closest('#notebook-container');\n",
              "if (notebookContainer) {{\n",
              "    x.observe(notebookContainer, {childList: true});\n",
              "}}\n",
              "\n",
              "// Listen for the clearing of the current output cell\n",
              "var outputEl = gd.closest('.output');\n",
              "if (outputEl) {{\n",
              "    x.observe(outputEl, {childList: true});\n",
              "}}\n",
              "\n",
              "                        })                };                            </script>        </div>\n",
              "</body>\n",
              "</html>"
            ]
          },
          "metadata": {}
        }
      ]
    },
    {
      "cell_type": "code",
      "source": [
        "# ADF testi ile verinin durağan olup olmadığını inceleyelim.\n",
        "adf_result = adfuller(df_log)\n",
        "\n",
        "# extract and print the test statistic and p-value\n",
        "test_statistic, p_value, _, _, _, _ = adf_result\n",
        "\n",
        "print(\"ADF Test:\")\n",
        "print(f'Test Statistic: {test_statistic}')\n",
        "print(f'P-value: {p_value}')\n",
        "\n",
        "# interpret the results\n",
        "if p_value <= 0.05:\n",
        "\tprint('Reject the null hypothesis: The time series is stationary.')\n",
        "else:\n",
        "\tprint('Fail to reject the null hypothesis: The time series is non-stationary.')"
      ],
      "metadata": {
        "colab": {
          "base_uri": "https://localhost:8080/"
        },
        "id": "JgfnJQLsNJWt",
        "outputId": "0c7715c7-5633-4c90-da44-6d628564b349"
      },
      "execution_count": null,
      "outputs": [
        {
          "output_type": "stream",
          "name": "stdout",
          "text": [
            "ADF Test:\n",
            "Test Statistic: -1.5378249839454994\n",
            "P-value: 0.5147238439118887\n",
            "Fail to reject the null hypothesis: The time series is non-stationary.\n"
          ]
        }
      ]
    },
    {
      "cell_type": "code",
      "source": [
        "# (KPSS) testi ile 2. kez verinin durağan olup olmama durumunu inceleyelim.\n",
        "kpss_result = kpss(df_log)\n",
        "\n",
        "print(\"KPSS Test:\")\n",
        "print(f'Test Statistic: {kpss_result[0]}')\n",
        "print(f'P-value: {kpss_result[1]}')\n",
        "\n",
        "if kpss_result[1] > 0.05:\n",
        "\tprint('Fail to reject the null hypothesis: The time series is stationary.')\n",
        "else:\n",
        "\tprint('Reject the null hypothesis: The time series is non-stationary.')"
      ],
      "metadata": {
        "colab": {
          "base_uri": "https://localhost:8080/"
        },
        "id": "H4McMRUNNJT9",
        "outputId": "66a90eb9-1080-4cc9-8e2d-74e6b9fbce3c"
      },
      "execution_count": null,
      "outputs": [
        {
          "output_type": "stream",
          "name": "stdout",
          "text": [
            "KPSS Test:\n",
            "Test Statistic: 2.668234665273097\n",
            "P-value: 0.01\n",
            "Reject the null hypothesis: The time series is non-stationary.\n"
          ]
        }
      ]
    },
    {
      "cell_type": "markdown",
      "source": [
        "**Logaritmik dönüşüm yöntemi ile seriyi durağan hale getiremedik. Bu sebeple Logaritmik dönüşüm yöntemini kullanmayacağız.**"
      ],
      "metadata": {
        "id": "Bjp590AbVgEX"
      }
    },
    {
      "cell_type": "markdown",
      "source": [
        "### FARK ALMA - BAŞARILI"
      ],
      "metadata": {
        "id": "EQNdz6otOANb"
      }
    },
    {
      "cell_type": "code",
      "source": [
        "df_diff = df.diff().dropna()"
      ],
      "metadata": {
        "id": "yRO-adcDN_4k"
      },
      "execution_count": null,
      "outputs": []
    },
    {
      "cell_type": "code",
      "source": [
        "px.line(df_diff)"
      ],
      "metadata": {
        "colab": {
          "base_uri": "https://localhost:8080/"
        },
        "id": "V4HijdyCN_2k",
        "outputId": "64cd428a-437c-45d0-f6e3-94cc43996352"
      },
      "execution_count": null,
      "outputs": [
        {
          "output_type": "display_data",
          "data": {
            "text/html": [
              "<html>\n",
              "<head><meta charset=\"utf-8\" /></head>\n",
              "<body>\n",
              "    <div>            <script src=\"https://cdnjs.cloudflare.com/ajax/libs/mathjax/2.7.5/MathJax.js?config=TeX-AMS-MML_SVG\"></script><script type=\"text/javascript\">if (window.MathJax && window.MathJax.Hub && window.MathJax.Hub.Config) {window.MathJax.Hub.Config({SVG: {font: \"STIX-Web\"}});}</script>                <script type=\"text/javascript\">window.PlotlyConfig = {MathJaxConfig: 'local'};</script>\n",
              "        <script charset=\"utf-8\" src=\"https://cdn.plot.ly/plotly-2.24.1.min.js\"></script>                <div id=\"524119b5-ebb4-4062-a81a-2cc22fddf190\" class=\"plotly-graph-div\" style=\"height:525px; width:100%;\"></div>            <script type=\"text/javascript\">                                    window.PLOTLYENV=window.PLOTLYENV || {};                                    if (document.getElementById(\"524119b5-ebb4-4062-a81a-2cc22fddf190\")) {                    Plotly.newPlot(                        \"524119b5-ebb4-4062-a81a-2cc22fddf190\",                        [{\"hovertemplate\":\"variable=oil_price\\u003cbr\\u003eTarih=%{x}\\u003cbr\\u003evalue=%{y}\\u003cextra\\u003e\\u003c\\u002fextra\\u003e\",\"legendgroup\":\"oil_price\",\"line\":{\"color\":\"#636efa\",\"dash\":\"solid\"},\"marker\":{\"symbol\":\"circle\"},\"mode\":\"lines\",\"name\":\"oil_price\",\"orientation\":\"v\",\"showlegend\":true,\"x\":[\"1987-07-01T00:00:00\",\"1987-08-01T00:00:00\",\"1987-09-01T00:00:00\",\"1987-10-01T00:00:00\",\"1987-11-01T00:00:00\",\"1987-12-01T00:00:00\",\"1988-01-01T00:00:00\",\"1988-02-01T00:00:00\",\"1988-03-01T00:00:00\",\"1988-04-01T00:00:00\",\"1988-05-01T00:00:00\",\"1988-06-01T00:00:00\",\"1988-07-01T00:00:00\",\"1988-08-01T00:00:00\",\"1988-09-01T00:00:00\",\"1988-10-01T00:00:00\",\"1988-11-01T00:00:00\",\"1988-12-01T00:00:00\",\"1989-01-01T00:00:00\",\"1989-02-01T00:00:00\",\"1989-03-01T00:00:00\",\"1989-04-01T00:00:00\",\"1989-05-01T00:00:00\",\"1989-06-01T00:00:00\",\"1989-07-01T00:00:00\",\"1989-08-01T00:00:00\",\"1989-09-01T00:00:00\",\"1989-10-01T00:00:00\",\"1989-11-01T00:00:00\",\"1989-12-01T00:00:00\",\"1990-01-01T00:00:00\",\"1990-02-01T00:00:00\",\"1990-03-01T00:00:00\",\"1990-04-01T00:00:00\",\"1990-05-01T00:00:00\",\"1990-06-01T00:00:00\",\"1990-07-01T00:00:00\",\"1990-08-01T00:00:00\",\"1990-09-01T00:00:00\",\"1990-10-01T00:00:00\",\"1990-11-01T00:00:00\",\"1990-12-01T00:00:00\",\"1991-01-01T00:00:00\",\"1991-02-01T00:00:00\",\"1991-03-01T00:00:00\",\"1991-04-01T00:00:00\",\"1991-05-01T00:00:00\",\"1991-06-01T00:00:00\",\"1991-07-01T00:00:00\",\"1991-08-01T00:00:00\",\"1991-09-01T00:00:00\",\"1991-10-01T00:00:00\",\"1991-11-01T00:00:00\",\"1991-12-01T00:00:00\",\"1992-01-01T00:00:00\",\"1992-02-01T00:00:00\",\"1992-03-01T00:00:00\",\"1992-04-01T00:00:00\",\"1992-05-01T00:00:00\",\"1992-06-01T00:00:00\",\"1992-07-01T00:00:00\",\"1992-08-01T00:00:00\",\"1992-09-01T00:00:00\",\"1992-10-01T00:00:00\",\"1992-11-01T00:00:00\",\"1992-12-01T00:00:00\",\"1993-01-01T00:00:00\",\"1993-02-01T00:00:00\",\"1993-03-01T00:00:00\",\"1993-04-01T00:00:00\",\"1993-05-01T00:00:00\",\"1993-06-01T00:00:00\",\"1993-07-01T00:00:00\",\"1993-08-01T00:00:00\",\"1993-09-01T00:00:00\",\"1993-10-01T00:00:00\",\"1993-11-01T00:00:00\",\"1993-12-01T00:00:00\",\"1994-01-01T00:00:00\",\"1994-02-01T00:00:00\",\"1994-03-01T00:00:00\",\"1994-04-01T00:00:00\",\"1994-05-01T00:00:00\",\"1994-06-01T00:00:00\",\"1994-07-01T00:00:00\",\"1994-08-01T00:00:00\",\"1994-09-01T00:00:00\",\"1994-10-01T00:00:00\",\"1994-11-01T00:00:00\",\"1994-12-01T00:00:00\",\"1995-01-01T00:00:00\",\"1995-02-01T00:00:00\",\"1995-03-01T00:00:00\",\"1995-04-01T00:00:00\",\"1995-05-01T00:00:00\",\"1995-06-01T00:00:00\",\"1995-07-01T00:00:00\",\"1995-08-01T00:00:00\",\"1995-09-01T00:00:00\",\"1995-10-01T00:00:00\",\"1995-11-01T00:00:00\",\"1995-12-01T00:00:00\",\"1996-01-01T00:00:00\",\"1996-02-01T00:00:00\",\"1996-03-01T00:00:00\",\"1996-04-01T00:00:00\",\"1996-05-01T00:00:00\",\"1996-06-01T00:00:00\",\"1996-07-01T00:00:00\",\"1996-08-01T00:00:00\",\"1996-09-01T00:00:00\",\"1996-10-01T00:00:00\",\"1996-11-01T00:00:00\",\"1996-12-01T00:00:00\",\"1997-01-01T00:00:00\",\"1997-02-01T00:00:00\",\"1997-03-01T00:00:00\",\"1997-04-01T00:00:00\",\"1997-05-01T00:00:00\",\"1997-06-01T00:00:00\",\"1997-07-01T00:00:00\",\"1997-08-01T00:00:00\",\"1997-09-01T00:00:00\",\"1997-10-01T00:00:00\",\"1997-11-01T00:00:00\",\"1997-12-01T00:00:00\",\"1998-01-01T00:00:00\",\"1998-02-01T00:00:00\",\"1998-03-01T00:00:00\",\"1998-04-01T00:00:00\",\"1998-05-01T00:00:00\",\"1998-06-01T00:00:00\",\"1998-07-01T00:00:00\",\"1998-08-01T00:00:00\",\"1998-09-01T00:00:00\",\"1998-10-01T00:00:00\",\"1998-11-01T00:00:00\",\"1998-12-01T00:00:00\",\"1999-01-01T00:00:00\",\"1999-02-01T00:00:00\",\"1999-03-01T00:00:00\",\"1999-04-01T00:00:00\",\"1999-05-01T00:00:00\",\"1999-06-01T00:00:00\",\"1999-07-01T00:00:00\",\"1999-08-01T00:00:00\",\"1999-09-01T00:00:00\",\"1999-10-01T00:00:00\",\"1999-11-01T00:00:00\",\"1999-12-01T00:00:00\",\"2000-01-01T00:00:00\",\"2000-02-01T00:00:00\",\"2000-03-01T00:00:00\",\"2000-04-01T00:00:00\",\"2000-05-01T00:00:00\",\"2000-06-01T00:00:00\",\"2000-07-01T00:00:00\",\"2000-08-01T00:00:00\",\"2000-09-01T00:00:00\",\"2000-10-01T00:00:00\",\"2000-11-01T00:00:00\",\"2000-12-01T00:00:00\",\"2001-01-01T00:00:00\",\"2001-02-01T00:00:00\",\"2001-03-01T00:00:00\",\"2001-04-01T00:00:00\",\"2001-05-01T00:00:00\",\"2001-06-01T00:00:00\",\"2001-07-01T00:00:00\",\"2001-08-01T00:00:00\",\"2001-09-01T00:00:00\",\"2001-10-01T00:00:00\",\"2001-11-01T00:00:00\",\"2001-12-01T00:00:00\",\"2002-01-01T00:00:00\",\"2002-02-01T00:00:00\",\"2002-03-01T00:00:00\",\"2002-04-01T00:00:00\",\"2002-05-01T00:00:00\",\"2002-06-01T00:00:00\",\"2002-07-01T00:00:00\",\"2002-08-01T00:00:00\",\"2002-09-01T00:00:00\",\"2002-10-01T00:00:00\",\"2002-11-01T00:00:00\",\"2002-12-01T00:00:00\",\"2003-01-01T00:00:00\",\"2003-02-01T00:00:00\",\"2003-03-01T00:00:00\",\"2003-04-01T00:00:00\",\"2003-05-01T00:00:00\",\"2003-06-01T00:00:00\",\"2003-07-01T00:00:00\",\"2003-08-01T00:00:00\",\"2003-09-01T00:00:00\",\"2003-10-01T00:00:00\",\"2003-11-01T00:00:00\",\"2003-12-01T00:00:00\",\"2004-01-01T00:00:00\",\"2004-02-01T00:00:00\",\"2004-03-01T00:00:00\",\"2004-04-01T00:00:00\",\"2004-05-01T00:00:00\",\"2004-06-01T00:00:00\",\"2004-07-01T00:00:00\",\"2004-08-01T00:00:00\",\"2004-09-01T00:00:00\",\"2004-10-01T00:00:00\",\"2004-11-01T00:00:00\",\"2004-12-01T00:00:00\",\"2005-01-01T00:00:00\",\"2005-02-01T00:00:00\",\"2005-03-01T00:00:00\",\"2005-04-01T00:00:00\",\"2005-05-01T00:00:00\",\"2005-06-01T00:00:00\",\"2005-07-01T00:00:00\",\"2005-08-01T00:00:00\",\"2005-09-01T00:00:00\",\"2005-10-01T00:00:00\",\"2005-11-01T00:00:00\",\"2005-12-01T00:00:00\",\"2006-01-01T00:00:00\",\"2006-02-01T00:00:00\",\"2006-03-01T00:00:00\",\"2006-04-01T00:00:00\",\"2006-05-01T00:00:00\",\"2006-06-01T00:00:00\",\"2006-07-01T00:00:00\",\"2006-08-01T00:00:00\",\"2006-09-01T00:00:00\",\"2006-10-01T00:00:00\",\"2006-11-01T00:00:00\",\"2006-12-01T00:00:00\",\"2007-01-01T00:00:00\",\"2007-02-01T00:00:00\",\"2007-03-01T00:00:00\",\"2007-04-01T00:00:00\",\"2007-05-01T00:00:00\",\"2007-06-01T00:00:00\",\"2007-07-01T00:00:00\",\"2007-08-01T00:00:00\",\"2007-09-01T00:00:00\",\"2007-10-01T00:00:00\",\"2007-11-01T00:00:00\",\"2007-12-01T00:00:00\",\"2008-01-01T00:00:00\",\"2008-02-01T00:00:00\",\"2008-03-01T00:00:00\",\"2008-04-01T00:00:00\",\"2008-05-01T00:00:00\",\"2008-06-01T00:00:00\",\"2008-07-01T00:00:00\",\"2008-08-01T00:00:00\",\"2008-09-01T00:00:00\",\"2008-10-01T00:00:00\",\"2008-11-01T00:00:00\",\"2008-12-01T00:00:00\",\"2009-01-01T00:00:00\",\"2009-02-01T00:00:00\",\"2009-03-01T00:00:00\",\"2009-04-01T00:00:00\",\"2009-05-01T00:00:00\",\"2009-06-01T00:00:00\",\"2009-07-01T00:00:00\",\"2009-08-01T00:00:00\",\"2009-09-01T00:00:00\",\"2009-10-01T00:00:00\",\"2009-11-01T00:00:00\",\"2009-12-01T00:00:00\",\"2010-01-01T00:00:00\",\"2010-02-01T00:00:00\",\"2010-03-01T00:00:00\",\"2010-04-01T00:00:00\",\"2010-05-01T00:00:00\",\"2010-06-01T00:00:00\",\"2010-07-01T00:00:00\",\"2010-08-01T00:00:00\",\"2010-09-01T00:00:00\",\"2010-10-01T00:00:00\",\"2010-11-01T00:00:00\",\"2010-12-01T00:00:00\",\"2011-01-01T00:00:00\",\"2011-02-01T00:00:00\",\"2011-03-01T00:00:00\",\"2011-04-01T00:00:00\",\"2011-05-01T00:00:00\",\"2011-06-01T00:00:00\",\"2011-07-01T00:00:00\",\"2011-08-01T00:00:00\",\"2011-09-01T00:00:00\",\"2011-10-01T00:00:00\",\"2011-11-01T00:00:00\",\"2011-12-01T00:00:00\",\"2012-01-01T00:00:00\",\"2012-02-01T00:00:00\",\"2012-03-01T00:00:00\",\"2012-04-01T00:00:00\",\"2012-05-01T00:00:00\",\"2012-06-01T00:00:00\",\"2012-07-01T00:00:00\",\"2012-08-01T00:00:00\",\"2012-09-01T00:00:00\",\"2012-10-01T00:00:00\",\"2012-11-01T00:00:00\",\"2012-12-01T00:00:00\",\"2013-01-01T00:00:00\",\"2013-02-01T00:00:00\",\"2013-03-01T00:00:00\",\"2013-04-01T00:00:00\",\"2013-05-01T00:00:00\",\"2013-06-01T00:00:00\",\"2013-07-01T00:00:00\",\"2013-08-01T00:00:00\",\"2013-09-01T00:00:00\",\"2013-10-01T00:00:00\",\"2013-11-01T00:00:00\",\"2013-12-01T00:00:00\",\"2014-01-01T00:00:00\",\"2014-02-01T00:00:00\",\"2014-03-01T00:00:00\",\"2014-04-01T00:00:00\",\"2014-05-01T00:00:00\",\"2014-06-01T00:00:00\",\"2014-07-01T00:00:00\",\"2014-08-01T00:00:00\",\"2014-09-01T00:00:00\",\"2014-10-01T00:00:00\",\"2014-11-01T00:00:00\",\"2014-12-01T00:00:00\",\"2015-01-01T00:00:00\",\"2015-02-01T00:00:00\",\"2015-03-01T00:00:00\",\"2015-04-01T00:00:00\",\"2015-05-01T00:00:00\",\"2015-06-01T00:00:00\",\"2015-07-01T00:00:00\",\"2015-08-01T00:00:00\",\"2015-09-01T00:00:00\",\"2015-10-01T00:00:00\",\"2015-11-01T00:00:00\",\"2015-12-01T00:00:00\",\"2016-01-01T00:00:00\",\"2016-02-01T00:00:00\",\"2016-03-01T00:00:00\",\"2016-04-01T00:00:00\",\"2016-05-01T00:00:00\",\"2016-06-01T00:00:00\",\"2016-07-01T00:00:00\",\"2016-08-01T00:00:00\",\"2016-09-01T00:00:00\",\"2016-10-01T00:00:00\",\"2016-11-01T00:00:00\",\"2016-12-01T00:00:00\",\"2017-01-01T00:00:00\",\"2017-02-01T00:00:00\",\"2017-03-01T00:00:00\",\"2017-04-01T00:00:00\",\"2017-05-01T00:00:00\",\"2017-06-01T00:00:00\",\"2017-07-01T00:00:00\",\"2017-08-01T00:00:00\",\"2017-09-01T00:00:00\",\"2017-10-01T00:00:00\",\"2017-11-01T00:00:00\",\"2017-12-01T00:00:00\",\"2018-01-01T00:00:00\",\"2018-02-01T00:00:00\",\"2018-03-01T00:00:00\",\"2018-04-01T00:00:00\",\"2018-05-01T00:00:00\",\"2018-06-01T00:00:00\",\"2018-07-01T00:00:00\",\"2018-08-01T00:00:00\",\"2018-09-01T00:00:00\",\"2018-10-01T00:00:00\",\"2018-11-01T00:00:00\",\"2018-12-01T00:00:00\",\"2019-01-01T00:00:00\",\"2019-02-01T00:00:00\",\"2019-03-01T00:00:00\",\"2019-04-01T00:00:00\",\"2019-05-01T00:00:00\",\"2019-06-01T00:00:00\",\"2019-07-01T00:00:00\",\"2019-08-01T00:00:00\",\"2019-09-01T00:00:00\",\"2019-10-01T00:00:00\",\"2019-11-01T00:00:00\",\"2019-12-01T00:00:00\",\"2020-01-01T00:00:00\",\"2020-02-01T00:00:00\",\"2020-03-01T00:00:00\",\"2020-04-01T00:00:00\",\"2020-05-01T00:00:00\",\"2020-06-01T00:00:00\",\"2020-07-01T00:00:00\",\"2020-08-01T00:00:00\",\"2020-09-01T00:00:00\",\"2020-10-01T00:00:00\",\"2020-11-01T00:00:00\",\"2020-12-01T00:00:00\",\"2021-01-01T00:00:00\",\"2021-02-01T00:00:00\",\"2021-03-01T00:00:00\",\"2021-04-01T00:00:00\",\"2021-05-01T00:00:00\",\"2021-06-01T00:00:00\",\"2021-07-01T00:00:00\",\"2021-08-01T00:00:00\",\"2021-09-01T00:00:00\",\"2021-10-01T00:00:00\",\"2021-11-01T00:00:00\",\"2021-12-01T00:00:00\",\"2022-01-01T00:00:00\",\"2022-02-01T00:00:00\",\"2022-03-01T00:00:00\",\"2022-04-01T00:00:00\",\"2022-05-01T00:00:00\",\"2022-06-01T00:00:00\",\"2022-07-01T00:00:00\",\"2022-08-01T00:00:00\",\"2022-09-01T00:00:00\",\"2022-10-01T00:00:00\",\"2022-11-01T00:00:00\",\"2022-12-01T00:00:00\",\"2023-01-01T00:00:00\",\"2023-02-01T00:00:00\",\"2023-03-01T00:00:00\",\"2023-04-01T00:00:00\",\"2023-05-01T00:00:00\",\"2023-06-01T00:00:00\",\"2023-07-01T00:00:00\",\"2023-08-01T00:00:00\",\"2023-09-01T00:00:00\",\"2023-10-01T00:00:00\",\"2023-11-01T00:00:00\",\"2023-12-01T00:00:00\",\"2024-01-01T00:00:00\",\"2024-02-01T00:00:00\"],\"xaxis\":\"x\",\"y\":[0.9500000000000028,-1.4000000000000021,-0.14999999999999858,0.3200000000000003,-1.1000000000000014,-0.09999999999999787,-1.3200000000000003,-1.5500000000000007,0.9199999999999999,0.9500000000000011,-0.40000000000000213,-2.0199999999999996,1.5700000000000003,-1.3499999999999996,-2.4700000000000006,0.6699999999999999,1.75,1.8800000000000008,0.14999999999999858,0.8500000000000014,3.219999999999999,-0.3000000000000007,-1.8999999999999986,0.030000000000001137,-1.9800000000000004,0.8999999999999986,1.0300000000000011,0.6999999999999993,-0.4499999999999993,2.5700000000000003,-0.5500000000000007,-1.3000000000000007,-1.25,-1.5999999999999979,-1.0500000000000007,0.4299999999999997,3.5,8.57,13.2,-6.700000000000003,-3.099999999999998,-2.849999999999998,-7.650000000000002,-1.1999999999999993,-1.5,1.6999999999999993,-0.6999999999999993,-0.5199999999999996,1.1699999999999982,0.8800000000000026,0.8999999999999986,0.5700000000000003,-1.9200000000000017,-2.3299999999999983,0.3999999999999986,-0.6999999999999993,1.6400000000000006,0.5599999999999987,1.0500000000000007,-0.09999999999999787,-0.22000000000000242,-0.7300000000000004,0.5300000000000011,-1.0500000000000007,0.120000000000001,-1.3999999999999986,0.629999999999999,0.34999999999999787,-0.129999999999999,0.15000000000000213,-0.4200000000000017,-1.0,-0.5799999999999983,-0.120000000000001,0.5,-1.8000000000000007,-1.1999999999999993,-1.0500000000000007,1.6500000000000004,-1.2400000000000002,-0.33999999999999986,2.0999999999999996,0.8300000000000001,1.2699999999999996,1.0300000000000011,-2.4499999999999993,0.6999999999999993,0.4499999999999993,-0.23000000000000043,-0.7199999999999989,0.5700000000000003,0.4299999999999997,0.75,1.0,-1.4000000000000021,-1.0,-0.7999999999999989,0.41999999999999993,0.379999999999999,0.0,0.5500000000000007,1.5199999999999996,-2.0199999999999996,2.1700000000000017,1.5299999999999976,-0.8299999999999983,-1.3999999999999986,1.1799999999999997,-0.28000000000000114,1.9800000000000004,3.169999999999998,-1.3499999999999979,0.370000000000001,0.7299999999999969,-0.6199999999999974,-3.84,-0.9100000000000001,-0.28000000000000114,0.7399999999999984,-0.7699999999999996,0.7200000000000024,-0.9600000000000009,1.9800000000000004,-0.5399999999999991,-0.46000000000000085,-3.1000000000000014,-0.2699999999999996,-2.0600000000000005,0.33999999999999986,-0.08000000000000007,0.2400000000000002,-2.1899999999999995,0.7900000000000009,-0.5700000000000003,2.6500000000000004,-2.710000000000001,-2.09,0.629999999999999,0.8000000000000007,-0.7599999999999998,4.4399999999999995,1.4299999999999997,-1.6999999999999993,2.219999999999999,3.0,1.1099999999999994,1.9000000000000021,-1.870000000000001,4.09,-0.2699999999999996,2.1499999999999986,1.9300000000000033,-5.030000000000001,-0.19000000000000128,5.850000000000001,1.9399999999999977,-6.279999999999998,9.779999999999998,-6.659999999999997,1.7299999999999969,2.3800000000000026,-9.950000000000003,4.010000000000002,-1.4299999999999997,-1.6600000000000001,3.710000000000001,1.3399999999999999,-2.34,-1.8599999999999994,2.4499999999999993,-4.93,-2.240000000000002,-0.7099999999999973,0.4299999999999997,-0.28000000000000114,1.6600000000000001,4.609999999999999,1.6400000000000006,-3.1099999999999994,1.4599999999999973,0.9500000000000028,1.2799999999999976,1.5500000000000007,-3.599999999999998,0.22999999999999687,4.380000000000003,1.4499999999999993,2.4299999999999997,-5.949999999999999,-4.449999999999999,2.979999999999997,2.3000000000000007,-0.1999999999999993,1.6999999999999993,-2.289999999999999,-0.21000000000000085,1.0700000000000003,1.3500000000000014,-0.7699999999999996,3.4099999999999966,-0.6499999999999986,2.9399999999999977,1.7700000000000031,-3.780000000000001,8.25,-1.6700000000000017,7.960000000000001,0.3999999999999986,-3.9299999999999997,-3.8499999999999943,4.1299999999999955,5.6200000000000045,3.0899999999999963,-2.6099999999999994,-1.3100000000000023,6.060000000000002,4.410000000000004,7.029999999999994,-5.099999999999994,-3.230000000000004,-5.219999999999999,5.090000000000003,4.849999999999994,-3.4099999999999966,6.280000000000001,6.090000000000003,-4.5800000000000125,5.63000000000001,1.5499999999999972,-7.090000000000003,-8.569999999999993,-2.960000000000001,8.229999999999997,-5.399999999999999,-2.4399999999999977,2.8699999999999974,9.079999999999998,-1.2399999999999949,0.9500000000000028,4.039999999999992,4.790000000000006,-4.719999999999999,8.679999999999993,8.900000000000006,-1.1600000000000108,4.970000000000013,-2.1000000000000085,9.320000000000007,1.4299999999999926,8.790000000000006,16.72999999999999,10.550000000000011,-14.300000000000011,-10.61,-19.97,-33.519999999999996,-12.280000000000001,-11.899999999999999,8.350000000000001,0.23999999999999488,1.720000000000006,4.169999999999995,14.680000000000007,3.1299999999999955,1.9699999999999989,-1.0600000000000023,-3.200000000000003,9.090000000000003,2.8599999999999994,0.14000000000000057,-6.709999999999994,5.159999999999997,4.010000000000005,5.819999999999993,-13.189999999999998,1.9399999999999977,2.5600000000000023,-1.9899999999999949,5.259999999999991,1.7000000000000028,3.549999999999997,7.210000000000008,5.739999999999995,13.299999999999997,4.670000000000002,9.650000000000006,-9.409999999999997,-5.470000000000013,4.220000000000013,0.5499999999999972,-11.060000000000002,3.010000000000005,2.789999999999992,-3.1299999999999955,2.1700000000000017,11.969999999999999,1.1799999999999926,-4.75,-14.799999999999997,-9.689999999999998,11.760000000000005,8.0,-2.5700000000000074,-1.4699999999999989,0.9500000000000028,-0.04000000000000625,4.75,-3.3499999999999943,-3.740000000000009,-6.929999999999993,-1.0999999999999943,2.059999999999988,5.400000000000006,8.079999999999998,-8.120000000000005,-0.3199999999999932,3.539999999999992,-1.1199999999999903,-1.7900000000000063,0.8200000000000074,-3.030000000000001,2.6799999999999926,0.5799999999999983,1.8200000000000074,-6.090000000000003,-3.819999999999993,-6.450000000000003,-10.5,-12.280000000000001,-16.619999999999997,-7.75,14.369999999999997,-8.200000000000003,10.21,-0.740000000000002,-2.8499999999999943,-7.020000000000003,-5.32,-0.6799999999999997,0.7100000000000009,-4.270000000000003,-7.119999999999997,-3.469999999999999,2.780000000000001,0.8299999999999983,8.89,3.6199999999999974,-1.2100000000000009,-7.289999999999999,7.18,0.30000000000000426,-2.039999999999999,1.75,7.009999999999998,0.28999999999999915,-1.8900000000000006,-1.1599999999999966,-2.740000000000002,-0.060000000000002274,-2.3200000000000003,4.910000000000004,0.6999999999999957,4.330000000000005,4.329999999999998,2.1799999999999997,3.200000000000003,1.0499999999999972,-1.7000000000000028,2.9399999999999977,6.900000000000006,0.5300000000000011,0.9899999999999949,-3.280000000000001,2.780000000000001,5.780000000000001,-7.8799999999999955,-17.130000000000003,-7.140000000000001,11.89,2.5700000000000003,2.9000000000000057,4.259999999999991,-5.409999999999997,0.7399999999999949,-3.450000000000003,-3.029999999999994,-0.04999999999999716,-1.6900000000000048,5.200000000000003,3.269999999999996,-9.999999999999993,-6.460000000000001,-36.46,3.26,16.04,7.490000000000002,1.490000000000002,2.0899999999999963,-4.920000000000002,-3.969999999999999,10.510000000000005,4.3799999999999955,4.030000000000001,10.61,-2.3399999999999963,4.210000000000001,1.6299999999999955,7.579999999999998,0.7800000000000011,-4.269999999999996,4.359999999999999,5.289999999999992,-12.239999999999995,6.3799999999999955,15.11,10.730000000000004,4.210000000000008,1.0699999999999932,17.17,-5.75,-8.269999999999996,-14.960000000000008,-7.6499999999999915,4.3999999999999915,-7.689999999999998,-2.7900000000000063,0.6000000000000085,-0.21000000000000796,-4.019999999999996,2.1299999999999955,-9.33999999999999,2.530000000000001,10.709999999999994,2.0700000000000074,8.569999999999993,-9.040000000000006,-5.099999999999994,-4.030000000000001,5.290000000000006,1.5899999999999892],\"yaxis\":\"y\",\"type\":\"scatter\"}],                        {\"template\":{\"data\":{\"histogram2dcontour\":[{\"type\":\"histogram2dcontour\",\"colorbar\":{\"outlinewidth\":0,\"ticks\":\"\"},\"colorscale\":[[0.0,\"#0d0887\"],[0.1111111111111111,\"#46039f\"],[0.2222222222222222,\"#7201a8\"],[0.3333333333333333,\"#9c179e\"],[0.4444444444444444,\"#bd3786\"],[0.5555555555555556,\"#d8576b\"],[0.6666666666666666,\"#ed7953\"],[0.7777777777777778,\"#fb9f3a\"],[0.8888888888888888,\"#fdca26\"],[1.0,\"#f0f921\"]]}],\"choropleth\":[{\"type\":\"choropleth\",\"colorbar\":{\"outlinewidth\":0,\"ticks\":\"\"}}],\"histogram2d\":[{\"type\":\"histogram2d\",\"colorbar\":{\"outlinewidth\":0,\"ticks\":\"\"},\"colorscale\":[[0.0,\"#0d0887\"],[0.1111111111111111,\"#46039f\"],[0.2222222222222222,\"#7201a8\"],[0.3333333333333333,\"#9c179e\"],[0.4444444444444444,\"#bd3786\"],[0.5555555555555556,\"#d8576b\"],[0.6666666666666666,\"#ed7953\"],[0.7777777777777778,\"#fb9f3a\"],[0.8888888888888888,\"#fdca26\"],[1.0,\"#f0f921\"]]}],\"heatmap\":[{\"type\":\"heatmap\",\"colorbar\":{\"outlinewidth\":0,\"ticks\":\"\"},\"colorscale\":[[0.0,\"#0d0887\"],[0.1111111111111111,\"#46039f\"],[0.2222222222222222,\"#7201a8\"],[0.3333333333333333,\"#9c179e\"],[0.4444444444444444,\"#bd3786\"],[0.5555555555555556,\"#d8576b\"],[0.6666666666666666,\"#ed7953\"],[0.7777777777777778,\"#fb9f3a\"],[0.8888888888888888,\"#fdca26\"],[1.0,\"#f0f921\"]]}],\"heatmapgl\":[{\"type\":\"heatmapgl\",\"colorbar\":{\"outlinewidth\":0,\"ticks\":\"\"},\"colorscale\":[[0.0,\"#0d0887\"],[0.1111111111111111,\"#46039f\"],[0.2222222222222222,\"#7201a8\"],[0.3333333333333333,\"#9c179e\"],[0.4444444444444444,\"#bd3786\"],[0.5555555555555556,\"#d8576b\"],[0.6666666666666666,\"#ed7953\"],[0.7777777777777778,\"#fb9f3a\"],[0.8888888888888888,\"#fdca26\"],[1.0,\"#f0f921\"]]}],\"contourcarpet\":[{\"type\":\"contourcarpet\",\"colorbar\":{\"outlinewidth\":0,\"ticks\":\"\"}}],\"contour\":[{\"type\":\"contour\",\"colorbar\":{\"outlinewidth\":0,\"ticks\":\"\"},\"colorscale\":[[0.0,\"#0d0887\"],[0.1111111111111111,\"#46039f\"],[0.2222222222222222,\"#7201a8\"],[0.3333333333333333,\"#9c179e\"],[0.4444444444444444,\"#bd3786\"],[0.5555555555555556,\"#d8576b\"],[0.6666666666666666,\"#ed7953\"],[0.7777777777777778,\"#fb9f3a\"],[0.8888888888888888,\"#fdca26\"],[1.0,\"#f0f921\"]]}],\"surface\":[{\"type\":\"surface\",\"colorbar\":{\"outlinewidth\":0,\"ticks\":\"\"},\"colorscale\":[[0.0,\"#0d0887\"],[0.1111111111111111,\"#46039f\"],[0.2222222222222222,\"#7201a8\"],[0.3333333333333333,\"#9c179e\"],[0.4444444444444444,\"#bd3786\"],[0.5555555555555556,\"#d8576b\"],[0.6666666666666666,\"#ed7953\"],[0.7777777777777778,\"#fb9f3a\"],[0.8888888888888888,\"#fdca26\"],[1.0,\"#f0f921\"]]}],\"mesh3d\":[{\"type\":\"mesh3d\",\"colorbar\":{\"outlinewidth\":0,\"ticks\":\"\"}}],\"scatter\":[{\"fillpattern\":{\"fillmode\":\"overlay\",\"size\":10,\"solidity\":0.2},\"type\":\"scatter\"}],\"parcoords\":[{\"type\":\"parcoords\",\"line\":{\"colorbar\":{\"outlinewidth\":0,\"ticks\":\"\"}}}],\"scatterpolargl\":[{\"type\":\"scatterpolargl\",\"marker\":{\"colorbar\":{\"outlinewidth\":0,\"ticks\":\"\"}}}],\"bar\":[{\"error_x\":{\"color\":\"#2a3f5f\"},\"error_y\":{\"color\":\"#2a3f5f\"},\"marker\":{\"line\":{\"color\":\"#E5ECF6\",\"width\":0.5},\"pattern\":{\"fillmode\":\"overlay\",\"size\":10,\"solidity\":0.2}},\"type\":\"bar\"}],\"scattergeo\":[{\"type\":\"scattergeo\",\"marker\":{\"colorbar\":{\"outlinewidth\":0,\"ticks\":\"\"}}}],\"scatterpolar\":[{\"type\":\"scatterpolar\",\"marker\":{\"colorbar\":{\"outlinewidth\":0,\"ticks\":\"\"}}}],\"histogram\":[{\"marker\":{\"pattern\":{\"fillmode\":\"overlay\",\"size\":10,\"solidity\":0.2}},\"type\":\"histogram\"}],\"scattergl\":[{\"type\":\"scattergl\",\"marker\":{\"colorbar\":{\"outlinewidth\":0,\"ticks\":\"\"}}}],\"scatter3d\":[{\"type\":\"scatter3d\",\"line\":{\"colorbar\":{\"outlinewidth\":0,\"ticks\":\"\"}},\"marker\":{\"colorbar\":{\"outlinewidth\":0,\"ticks\":\"\"}}}],\"scattermapbox\":[{\"type\":\"scattermapbox\",\"marker\":{\"colorbar\":{\"outlinewidth\":0,\"ticks\":\"\"}}}],\"scatterternary\":[{\"type\":\"scatterternary\",\"marker\":{\"colorbar\":{\"outlinewidth\":0,\"ticks\":\"\"}}}],\"scattercarpet\":[{\"type\":\"scattercarpet\",\"marker\":{\"colorbar\":{\"outlinewidth\":0,\"ticks\":\"\"}}}],\"carpet\":[{\"aaxis\":{\"endlinecolor\":\"#2a3f5f\",\"gridcolor\":\"white\",\"linecolor\":\"white\",\"minorgridcolor\":\"white\",\"startlinecolor\":\"#2a3f5f\"},\"baxis\":{\"endlinecolor\":\"#2a3f5f\",\"gridcolor\":\"white\",\"linecolor\":\"white\",\"minorgridcolor\":\"white\",\"startlinecolor\":\"#2a3f5f\"},\"type\":\"carpet\"}],\"table\":[{\"cells\":{\"fill\":{\"color\":\"#EBF0F8\"},\"line\":{\"color\":\"white\"}},\"header\":{\"fill\":{\"color\":\"#C8D4E3\"},\"line\":{\"color\":\"white\"}},\"type\":\"table\"}],\"barpolar\":[{\"marker\":{\"line\":{\"color\":\"#E5ECF6\",\"width\":0.5},\"pattern\":{\"fillmode\":\"overlay\",\"size\":10,\"solidity\":0.2}},\"type\":\"barpolar\"}],\"pie\":[{\"automargin\":true,\"type\":\"pie\"}]},\"layout\":{\"autotypenumbers\":\"strict\",\"colorway\":[\"#636efa\",\"#EF553B\",\"#00cc96\",\"#ab63fa\",\"#FFA15A\",\"#19d3f3\",\"#FF6692\",\"#B6E880\",\"#FF97FF\",\"#FECB52\"],\"font\":{\"color\":\"#2a3f5f\"},\"hovermode\":\"closest\",\"hoverlabel\":{\"align\":\"left\"},\"paper_bgcolor\":\"white\",\"plot_bgcolor\":\"#E5ECF6\",\"polar\":{\"bgcolor\":\"#E5ECF6\",\"angularaxis\":{\"gridcolor\":\"white\",\"linecolor\":\"white\",\"ticks\":\"\"},\"radialaxis\":{\"gridcolor\":\"white\",\"linecolor\":\"white\",\"ticks\":\"\"}},\"ternary\":{\"bgcolor\":\"#E5ECF6\",\"aaxis\":{\"gridcolor\":\"white\",\"linecolor\":\"white\",\"ticks\":\"\"},\"baxis\":{\"gridcolor\":\"white\",\"linecolor\":\"white\",\"ticks\":\"\"},\"caxis\":{\"gridcolor\":\"white\",\"linecolor\":\"white\",\"ticks\":\"\"}},\"coloraxis\":{\"colorbar\":{\"outlinewidth\":0,\"ticks\":\"\"}},\"colorscale\":{\"sequential\":[[0.0,\"#0d0887\"],[0.1111111111111111,\"#46039f\"],[0.2222222222222222,\"#7201a8\"],[0.3333333333333333,\"#9c179e\"],[0.4444444444444444,\"#bd3786\"],[0.5555555555555556,\"#d8576b\"],[0.6666666666666666,\"#ed7953\"],[0.7777777777777778,\"#fb9f3a\"],[0.8888888888888888,\"#fdca26\"],[1.0,\"#f0f921\"]],\"sequentialminus\":[[0.0,\"#0d0887\"],[0.1111111111111111,\"#46039f\"],[0.2222222222222222,\"#7201a8\"],[0.3333333333333333,\"#9c179e\"],[0.4444444444444444,\"#bd3786\"],[0.5555555555555556,\"#d8576b\"],[0.6666666666666666,\"#ed7953\"],[0.7777777777777778,\"#fb9f3a\"],[0.8888888888888888,\"#fdca26\"],[1.0,\"#f0f921\"]],\"diverging\":[[0,\"#8e0152\"],[0.1,\"#c51b7d\"],[0.2,\"#de77ae\"],[0.3,\"#f1b6da\"],[0.4,\"#fde0ef\"],[0.5,\"#f7f7f7\"],[0.6,\"#e6f5d0\"],[0.7,\"#b8e186\"],[0.8,\"#7fbc41\"],[0.9,\"#4d9221\"],[1,\"#276419\"]]},\"xaxis\":{\"gridcolor\":\"white\",\"linecolor\":\"white\",\"ticks\":\"\",\"title\":{\"standoff\":15},\"zerolinecolor\":\"white\",\"automargin\":true,\"zerolinewidth\":2},\"yaxis\":{\"gridcolor\":\"white\",\"linecolor\":\"white\",\"ticks\":\"\",\"title\":{\"standoff\":15},\"zerolinecolor\":\"white\",\"automargin\":true,\"zerolinewidth\":2},\"scene\":{\"xaxis\":{\"backgroundcolor\":\"#E5ECF6\",\"gridcolor\":\"white\",\"linecolor\":\"white\",\"showbackground\":true,\"ticks\":\"\",\"zerolinecolor\":\"white\",\"gridwidth\":2},\"yaxis\":{\"backgroundcolor\":\"#E5ECF6\",\"gridcolor\":\"white\",\"linecolor\":\"white\",\"showbackground\":true,\"ticks\":\"\",\"zerolinecolor\":\"white\",\"gridwidth\":2},\"zaxis\":{\"backgroundcolor\":\"#E5ECF6\",\"gridcolor\":\"white\",\"linecolor\":\"white\",\"showbackground\":true,\"ticks\":\"\",\"zerolinecolor\":\"white\",\"gridwidth\":2}},\"shapedefaults\":{\"line\":{\"color\":\"#2a3f5f\"}},\"annotationdefaults\":{\"arrowcolor\":\"#2a3f5f\",\"arrowhead\":0,\"arrowwidth\":1},\"geo\":{\"bgcolor\":\"white\",\"landcolor\":\"#E5ECF6\",\"subunitcolor\":\"white\",\"showland\":true,\"showlakes\":true,\"lakecolor\":\"white\"},\"title\":{\"x\":0.05},\"mapbox\":{\"style\":\"light\"}}},\"xaxis\":{\"anchor\":\"y\",\"domain\":[0.0,1.0],\"title\":{\"text\":\"Tarih\"}},\"yaxis\":{\"anchor\":\"x\",\"domain\":[0.0,1.0],\"title\":{\"text\":\"value\"}},\"legend\":{\"title\":{\"text\":\"variable\"},\"tracegroupgap\":0},\"margin\":{\"t\":60}},                        {\"responsive\": true}                    ).then(function(){\n",
              "                            \n",
              "var gd = document.getElementById('524119b5-ebb4-4062-a81a-2cc22fddf190');\n",
              "var x = new MutationObserver(function (mutations, observer) {{\n",
              "        var display = window.getComputedStyle(gd).display;\n",
              "        if (!display || display === 'none') {{\n",
              "            console.log([gd, 'removed!']);\n",
              "            Plotly.purge(gd);\n",
              "            observer.disconnect();\n",
              "        }}\n",
              "}});\n",
              "\n",
              "// Listen for the removal of the full notebook cells\n",
              "var notebookContainer = gd.closest('#notebook-container');\n",
              "if (notebookContainer) {{\n",
              "    x.observe(notebookContainer, {childList: true});\n",
              "}}\n",
              "\n",
              "// Listen for the clearing of the current output cell\n",
              "var outputEl = gd.closest('.output');\n",
              "if (outputEl) {{\n",
              "    x.observe(outputEl, {childList: true});\n",
              "}}\n",
              "\n",
              "                        })                };                            </script>        </div>\n",
              "</body>\n",
              "</html>"
            ]
          },
          "metadata": {}
        }
      ]
    },
    {
      "cell_type": "code",
      "source": [
        "# ADF testi ile verinin durağan olup olmadığını inceleyelim.\n",
        "adf_result = adfuller(df_diff)\n",
        "\n",
        "# extract and print the test statistic and p-value\n",
        "test_statistic, p_value, _, _, _, _ = adf_result\n",
        "\n",
        "print(\"ADF Test:\")\n",
        "print(f'Test Statistic: {test_statistic}')\n",
        "print(f'P-value: {p_value}')\n",
        "\n",
        "# interpret the results\n",
        "if p_value <= 0.05:\n",
        "\tprint('Reject the null hypothesis: The time series is stationary.')\n",
        "else:\n",
        "\tprint('Fail to reject the null hypothesis: The time series is non-stationary.')"
      ],
      "metadata": {
        "colab": {
          "base_uri": "https://localhost:8080/"
        },
        "id": "ZV3QXn7xUZF7",
        "outputId": "7414ea59-3863-4240-f71d-952e295c1674"
      },
      "execution_count": null,
      "outputs": [
        {
          "output_type": "stream",
          "name": "stdout",
          "text": [
            "ADF Test:\n",
            "Test Statistic: -16.467657342230385\n",
            "P-value: 2.2987703405916595e-29\n",
            "Reject the null hypothesis: The time series is stationary.\n"
          ]
        }
      ]
    },
    {
      "cell_type": "code",
      "source": [
        "# (KPSS) testi ile 2. kez verinin durağan olup olmama durumunu inceleyelim.\n",
        "kpss_result = kpss(df_diff)\n",
        "\n",
        "print(\"KPSS Test:\")\n",
        "print(f'Test Statistic: {kpss_result[0]}')\n",
        "print(f'P-value: {kpss_result[1]}')\n",
        "\n",
        "if kpss_result[1] > 0.05:\n",
        "\tprint('Fail to reject the null hypothesis: The time series is stationary.')\n",
        "else:\n",
        "\tprint('Reject the null hypothesis: The time series is non-stationary.')"
      ],
      "metadata": {
        "colab": {
          "base_uri": "https://localhost:8080/"
        },
        "id": "RsQJ1tmIN_0e",
        "outputId": "13339fee-9a86-45a4-b9d1-e9a7caae36cf"
      },
      "execution_count": null,
      "outputs": [
        {
          "output_type": "stream",
          "name": "stdout",
          "text": [
            "KPSS Test:\n",
            "Test Statistic: 0.028739731105155184\n",
            "P-value: 0.1\n",
            "Fail to reject the null hypothesis: The time series is stationary.\n"
          ]
        }
      ]
    },
    {
      "cell_type": "markdown",
      "source": [
        "**Fark alma yöntemi ile seriyi durağan hale getirdik. fark alma yöntemini kullanacağız.**"
      ],
      "metadata": {
        "id": "usprs0TvVRbA"
      }
    },
    {
      "cell_type": "code",
      "source": [
        "acf(df_diff)"
      ],
      "metadata": {
        "colab": {
          "base_uri": "https://localhost:8080/"
        },
        "id": "cukYtE5Imx4o",
        "outputId": "2fe61423-46d0-47be-b236-e38ccc76daed"
      },
      "execution_count": null,
      "outputs": [
        {
          "output_type": "execute_result",
          "data": {
            "text/plain": [
              "array([ 1.00000000e+00,  2.34057032e-01,  2.07184667e-02, -3.99918925e-02,\n",
              "       -8.10326439e-02, -6.31481195e-02, -7.80348533e-02, -5.99503860e-02,\n",
              "       -3.72189310e-02, -1.57831792e-02, -1.45967243e-02,  5.51576567e-02,\n",
              "       -1.80822577e-02, -5.63295288e-02, -6.14838773e-02,  2.47250492e-02,\n",
              "        4.08319863e-02, -2.77591826e-02, -2.31778161e-02, -3.60466916e-02,\n",
              "        8.33150195e-02,  1.09644610e-02,  3.17997685e-02, -7.02383539e-02,\n",
              "       -6.27393353e-02,  7.31380852e-04, -9.38230498e-02])"
            ]
          },
          "metadata": {},
          "execution_count": 164
        }
      ]
    },
    {
      "cell_type": "code",
      "source": [
        "pacf(df_diff)"
      ],
      "metadata": {
        "colab": {
          "base_uri": "https://localhost:8080/"
        },
        "id": "TBI30PxPm0NP",
        "outputId": "944e1bc5-de57-4a88-be61-47fe4fce1b93"
      },
      "execution_count": null,
      "outputs": [
        {
          "output_type": "execute_result",
          "data": {
            "text/plain": [
              "array([ 1.        ,  0.23459019, -0.03621234, -0.03902683, -0.06615074,\n",
              "       -0.03141398, -0.06267105, -0.03630575, -0.02599344, -0.01362547,\n",
              "       -0.02429955,  0.05535038, -0.06095906, -0.05471319, -0.04780669,\n",
              "        0.05295225,  0.01499781, -0.05663462, -0.01712554, -0.03563273,\n",
              "        0.10352819, -0.04189641,  0.03208577, -0.10172032, -0.01859131,\n",
              "        0.02711321, -0.12412988])"
            ]
          },
          "metadata": {},
          "execution_count": 165
        }
      ]
    },
    {
      "cell_type": "code",
      "source": [
        "acf_graph = plot_acf(df_diff)"
      ],
      "metadata": {
        "colab": {
          "base_uri": "https://localhost:8080/"
        },
        "id": "wqbYU4AkWmQP",
        "outputId": "605abd6b-af72-4e07-af43-7a3bbf7ac004"
      },
      "execution_count": null,
      "outputs": [
        {
          "output_type": "display_data",
          "data": {
            "text/plain": [
              "<Figure size 640x480 with 1 Axes>"
            ],
            "image/png": "[encoded data removed]"
          },
          "metadata": {}
        }
      ]
    },
    {
      "cell_type": "code",
      "source": [
        "pacf_graph = plot_pacf(df_diff)"
      ],
      "metadata": {
        "colab": {
          "base_uri": "https://localhost:8080/"
        },
        "id": "U75BeRx1WmN2",
        "outputId": "41fc4c17-6e64-4832-fb95-4081e9fdabea"
      },
      "execution_count": null,
      "outputs": [
        {
          "output_type": "display_data",
          "data": {
            "text/plain": [
              "<Figure size 640x480 with 1 Axes>"
            ],
            "image/png": "[encoded data removed]"
          },
          "metadata": {}
        }
      ]
    },
    {
      "cell_type": "code",
      "source": [
        "pymannkendall.original_test(df_diff) # mann kendall testi ile farkı alınmış serinin trend bileşenini analiz edelim."
      ],
      "metadata": {
        "colab": {
          "base_uri": "https://localhost:8080/"
        },
        "id": "5_Yyyb_wXJll",
        "outputId": "806e8fb6-6544-4fde-8803-1a0c125ee477"
      },
      "execution_count": null,
      "outputs": [
        {
          "output_type": "execute_result",
          "data": {
            "text/plain": [
              "Mann_Kendall_Test(trend='no trend', h=False, p=0.10297814698919217, z=1.6305839077607542, Tau=0.0520397597846345, s=5026.0, var_s=9496986.666666666, slope=0.002812500000000059, intercept=-0.2073437500000137)"
            ]
          },
          "metadata": {},
          "execution_count": 168
        }
      ]
    },
    {
      "cell_type": "markdown",
      "source": [
        "**ACF ve PACF grafiklerinden de anlaşıldığı gibi veri durağan hale geldi fakat mannkendall testi sonucuna göre verinin trend bileşeni ortadan kalktı.**"
      ],
      "metadata": {
        "id": "FXIEhvTPnzk2"
      }
    },
    {
      "cell_type": "markdown",
      "source": [
        "## TIME SERIES FORECASTING"
      ],
      "metadata": {
        "id": "5FOy48WdzeeS"
      }
    },
    {
      "cell_type": "markdown",
      "source": [
        "**Verisetimizi train ve test olmak üzere ikiye ayıralım.**"
      ],
      "metadata": {
        "id": "Z4ajLmd5DJh7"
      }
    },
    {
      "cell_type": "code",
      "source": [
        "train = df_diff[:'2020-10-01']\n",
        "print(\"Lenght of train\", len(train))\n",
        "\n",
        "test = df_diff['2020-11-01':]\n",
        "print(\"Lenght of test\", len(test))"
      ],
      "metadata": {
        "colab": {
          "base_uri": "https://localhost:8080/"
        },
        "id": "Wbk_Pr4oENFu",
        "outputId": "022ae438-17f3-49bf-a6a2-680f4c7ad5ee"
      },
      "execution_count": null,
      "outputs": [
        {
          "output_type": "stream",
          "name": "stdout",
          "text": [
            "Lenght of train 400\n",
            "Lenght of test 40\n"
          ]
        }
      ]
    },
    {
      "cell_type": "markdown",
      "source": [
        "**Tahmin başarısını daha iyi anlamak için veri görselleştirme fonksiyonu hazırladım.**"
      ],
      "metadata": {
        "id": "XsepISbyKUFL"
      }
    },
    {
      "cell_type": "code",
      "source": [
        "def plot_mape(train, test, y_pred, title):\n",
        "    mape = mean_absolute_percentage_error(y_true=test, y_pred=y_pred)\n",
        "    fig, ax = plt.subplots(figsize=(20, 6))\n",
        "    ax.plot(train.index, train.values, label='TRAIN', color='blue')\n",
        "    ax.plot(test.index, test.values, label='TEST', color='green')\n",
        "    ax.plot(y_pred.index, y_pred.values, label='PREDICTION', color='red')\n",
        "    ax.set_title(f\"{title}, MAPE: {round(mape, 2)}\")\n",
        "    ax.set_xlabel('date')\n",
        "    ax.set_ylabel('oil_price')\n",
        "    ax.legend()\n",
        "    plt.show()"
      ],
      "metadata": {
        "id": "ZH1yJqiWG3cE"
      },
      "execution_count": null,
      "outputs": []
    },
    {
      "cell_type": "markdown",
      "source": [
        "**Yaygın bilinen Zaman serisi modelleri:**\n",
        "\n",
        "1. **White-Noise:** Durağan serilerde kullanılabilir.\n",
        "\n",
        "2. **SES:** Durağan serilerde kullanılabilir.\n",
        "\n",
        "3. **DES:** Durağan ve trend içeren serilerde kullanılabilir.\n",
        "\n",
        "4. **TES:** Durağan, trend ve mevsimsellik içeren serilerde kullanılabilir.\n",
        "\n",
        "5. **AR:** Durağan serilerde kullanılabilir.\n",
        "\n",
        "6. **MA:** Durağan olmayan serilerde kullanılabilir.\n",
        "\n",
        "7. **ARMA:** Durağan serilerde kullanılabilir.\n",
        "\n",
        "8. **ARIMA :** Durağan(durağan olmayan serileri durağanlaştırabiliriz.) ve trend içeren serilerde kullanılabilir.\n",
        "\n",
        "9. **SARIMA :** Durağan(durağan olmayan serileri durağanlaştırabiliriz.), mevsimsellik ve trend içeren serilerde kullanılabilir.\n",
        "\n",
        "10. **ARCH:** Finans verilerinde Volalite tahmini için kullanılır.\n",
        "\n",
        "11. **GARCH:** Finans verilerinde Volalite tahmini için kullanılır.\n",
        "\n",
        "12. **VAR:** Aynı anda birden fazla zaman serisi tahmini yapabilen modeldir. Durağanlık gerektirmez ve finans verilerinin tahmininde kullanılır.\n",
        "\n",
        "---\n",
        "\n",
        "**Serimiz durağan halde ve mevsimsellik içeriyor fakat trend içermiyor. Bu sebeple SARIMA modeli kullanabiliriz.**"
      ],
      "metadata": {
        "id": "pyl5vOQGznyR"
      }
    },
    {
      "cell_type": "markdown",
      "source": [
        "**auto_arima modeli ile SARIMA modeli için 12 aylık periyorlara göre en iyi parametreleri bulalım.**"
      ],
      "metadata": {
        "id": "8bh_fgcU53L-"
      }
    },
    {
      "cell_type": "code",
      "source": [
        "model=pmd.auto_arima(train,start_p=1,start_q=1,test='adf',m=12,seasonal=True,trace=True) # hyperparametre tuning"
      ],
      "metadata": {
        "id": "HRExhN4yzdqu",
        "colab": {
          "base_uri": "https://localhost:8080/"
        },
        "outputId": "8780e3c9-06e8-4019-ace5-b3643a78990a"
      },
      "execution_count": null,
      "outputs": [
        {
          "output_type": "stream",
          "name": "stdout",
          "text": [
            "Performing stepwise search to minimize aic\n",
            " ARIMA(1,0,1)(1,0,1)[12] intercept   : AIC=2475.787, Time=4.07 sec\n",
            " ARIMA(0,0,0)(0,0,0)[12] intercept   : AIC=2493.819, Time=0.10 sec\n",
            " ARIMA(1,0,0)(1,0,0)[12] intercept   : AIC=2472.586, Time=0.98 sec\n",
            " ARIMA(0,0,1)(0,0,1)[12] intercept   : AIC=2472.633, Time=1.13 sec\n",
            " ARIMA(0,0,0)(0,0,0)[12]             : AIC=2491.844, Time=0.17 sec\n",
            " ARIMA(1,0,0)(0,0,0)[12] intercept   : AIC=2470.771, Time=0.34 sec\n",
            " ARIMA(1,0,0)(0,0,1)[12] intercept   : AIC=2472.563, Time=1.03 sec\n",
            " ARIMA(1,0,0)(1,0,1)[12] intercept   : AIC=2474.241, Time=3.36 sec\n",
            " ARIMA(2,0,0)(0,0,0)[12] intercept   : AIC=2472.209, Time=0.99 sec\n",
            " ARIMA(1,0,1)(0,0,0)[12] intercept   : AIC=2472.366, Time=1.17 sec\n",
            " ARIMA(0,0,1)(0,0,0)[12] intercept   : AIC=2470.954, Time=1.10 sec\n",
            " ARIMA(2,0,1)(0,0,0)[12] intercept   : AIC=2468.208, Time=2.22 sec\n",
            " ARIMA(2,0,1)(1,0,0)[12] intercept   : AIC=2470.132, Time=4.29 sec\n",
            " ARIMA(2,0,1)(0,0,1)[12] intercept   : AIC=2470.120, Time=3.56 sec\n",
            " ARIMA(2,0,1)(1,0,1)[12] intercept   : AIC=2471.796, Time=7.54 sec\n",
            " ARIMA(3,0,1)(0,0,0)[12] intercept   : AIC=2469.915, Time=1.59 sec\n",
            " ARIMA(2,0,2)(0,0,0)[12] intercept   : AIC=2469.862, Time=1.11 sec\n",
            " ARIMA(1,0,2)(0,0,0)[12] intercept   : AIC=2471.132, Time=1.35 sec\n",
            " ARIMA(3,0,0)(0,0,0)[12] intercept   : AIC=2473.031, Time=0.44 sec\n",
            " ARIMA(3,0,2)(0,0,0)[12] intercept   : AIC=inf, Time=5.43 sec\n",
            " ARIMA(2,0,1)(0,0,0)[12]             : AIC=2466.296, Time=0.70 sec\n",
            " ARIMA(2,0,1)(1,0,0)[12]             : AIC=2468.214, Time=1.94 sec\n",
            " ARIMA(2,0,1)(0,0,1)[12]             : AIC=2468.201, Time=0.89 sec\n",
            " ARIMA(2,0,1)(1,0,1)[12]             : AIC=2469.879, Time=1.16 sec\n",
            " ARIMA(1,0,1)(0,0,0)[12]             : AIC=2470.381, Time=0.33 sec\n",
            " ARIMA(2,0,0)(0,0,0)[12]             : AIC=2470.224, Time=0.08 sec\n",
            " ARIMA(3,0,1)(0,0,0)[12]             : AIC=2467.974, Time=0.33 sec\n",
            " ARIMA(2,0,2)(0,0,0)[12]             : AIC=2467.914, Time=0.24 sec\n",
            " ARIMA(1,0,0)(0,0,0)[12]             : AIC=2468.785, Time=0.07 sec\n",
            " ARIMA(1,0,2)(0,0,0)[12]             : AIC=2469.278, Time=0.24 sec\n",
            " ARIMA(3,0,0)(0,0,0)[12]             : AIC=2471.049, Time=0.12 sec\n",
            " ARIMA(3,0,2)(0,0,0)[12]             : AIC=inf, Time=0.78 sec\n",
            "\n",
            "Best model:  ARIMA(2,0,1)(0,0,0)[12]          \n",
            "Total fit time: 49.128 seconds\n"
          ]
        }
      ]
    },
    {
      "cell_type": "markdown",
      "source": [
        "**Best model:  ARIMA(2,0,1)(0,0,0)[12] parametreleri ile SARIMA modeli hazırlayalım.**"
      ],
      "metadata": {
        "id": "5UUNSaHJ6FZ6"
      }
    },
    {
      "cell_type": "code",
      "source": [
        "sarima=SARIMAX(train,order=(2,0,1),seasonal_order=(0,0,0,12)) # modeli hazırlayalım."
      ],
      "metadata": {
        "id": "ITZLwA2qzkJl"
      },
      "execution_count": null,
      "outputs": []
    },
    {
      "cell_type": "code",
      "source": [
        "pred = sarima.fit().predict(start=len(train), end=len(train) + 39) # modeli eğitelim"
      ],
      "metadata": {
        "id": "dOqNbQ8TzkHb"
      },
      "execution_count": null,
      "outputs": []
    },
    {
      "cell_type": "code",
      "source": [
        "plot_mape(train,test,pred,\"SARIMA FORECASTING\") # tahmin sonuçlarını grafik üzerinde inceleyelim."
      ],
      "metadata": {
        "colab": {
          "base_uri": "https://localhost:8080/",
          "height": 564
        },
        "id": "Lqsy7dwJ692r",
        "outputId": "a23ed569-bf27-4ab7-c893-bd42275ac9ab"
      },
      "execution_count": null,
      "outputs": [
        {
          "output_type": "display_data",
          "data": {
            "text/plain": [
              "<Figure size 2000x600 with 1 Axes>"
            ],
            "image/png": "[encoded data removed]"
          },
          "metadata": {}
        }
      ]
    },
    {
      "cell_type": "markdown",
      "source": [
        "**SARIMA Modelin başarı oranı çok düşük çıktı. Zaman serisi modelleri gerçek Dünya verilerini tahminleme konusunda genel olarak zayıf kalır. Bunun yerine zaman serisi analizini yaptıktan sonra modelleme aşamasında Yapay sinir ağları kullanmak daha mantıklıdır.**"
      ],
      "metadata": {
        "id": "IsRUdVhe8zEr"
      }
    }
  ]
}